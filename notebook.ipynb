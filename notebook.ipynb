{
 "cells": [
  {
   "attachments": {},
   "cell_type": "markdown",
   "metadata": {},
   "source": [
    "# <b> Twitter Sentiment Analysis </b>"
   ]
  },
  {
   "attachments": {},
   "cell_type": "markdown",
   "metadata": {},
   "source": [
    "## <b> Problem Statement </b>\n",
    "In the era of social media, it is crucial for businesses to understand the sentiments expressed by customers towards their brands or products.\n",
    "This sentiment analysis project aims to analyze Twitter data and extract valuable insights regarding the sentiments associated with Apple and Google products mentioned in tweets. By uncovering the public's opinions and emotions, businesses can make data-driven decisions to improve their market positioning and enhance customer satisfaction\n",
    "\n",
    "## <b> Objectives </b>\n",
    "\n",
    "Our main objective is to create a model that when given a tweet or series of tweets and a product would determine how the user felt about that product.\n",
    "\n",
    "This is trivial for a human to accomplish, our model can do this for thousands or even millions of tweets in a short time.\n",
    "\n",
    "1. To build a text classifier to accurately distinguish between positive, neutral, and negative sentiments.\n",
    "\n",
    "2. Competitive Analysis – Compare the sentiment towards Apple and Google products to identify any significant differences in public perception. \n",
    "\n",
    "\n",
    "3. Give insights as to where the company can increase customer satisfaction."
   ]
  },
  {
   "cell_type": "code",
   "execution_count": null,
   "metadata": {},
   "outputs": [],
   "source": []
  },
  {
   "attachments": {},
   "cell_type": "markdown",
   "metadata": {},
   "source": [
    "# Data Understanding"
   ]
  },
  {
   "cell_type": "code",

   "execution_count": 114,

   "execution_count": 1,

   "metadata": {},
   "outputs": [],
   "source": [
    "#Import libraries\n",
    "import pandas as pd\n",
    "import numpy as np\n",
    "import seaborn as sns\n",
    "import matplotlib.pyplot as plt\n",
    "import string\n",
    "import re\n",
    "import nltk\n",
    "import itertools\n",
    "import imblearn.pipeline \n",
    "import warnings\n",
    "warnings.filterwarnings('ignore')\n",
    "\n",
    "\n",
    "from nltk.tokenize import RegexpTokenizer\n",
    "from nltk.corpus import stopwords\n",
    "from nltk.stem import PorterStemmer\n",
    "from nltk.tokenize import RegexpTokenizer\n",
    "from nltk.corpus import stopwords\n",
    "from nltk.stem import PorterStemmer\n",
    "from nltk import TweetTokenizer\n",
    "from nltk.collocations import BigramAssocMeasures, BigramCollocationFinder\n",
    "\n",
    "from imblearn.over_sampling import RandomOverSampler\n",
    "\n",
    "from sklearn.metrics import f1_score\n",
    "from sklearn.metrics import classification_report\n",
    "from sklearn.metrics import plot_confusion_matrix\n",
    "from sklearn.metrics import roc_curve\n",
    "from sklearn.metrics import recall_score, precision_score, accuracy_score\n",
    "\n",
    "from sklearn.naive_bayes import MultinomialNB\n",
    "from sklearn.feature_extraction.text import TfidfVectorizer\n",
    "from sklearn.dummy import DummyClassifier\n",
    "from sklearn.pipeline import Pipeline\n",
    "from sklearn.feature_extraction.text import TfidfVectorizer\n",
    "from sklearn.linear_model import LogisticRegressionCV\n",
    "from sklearn.pipeline import Pipeline\n",
    "from sklearn.model_selection import GridSearchCV\n",
    "from sklearn.ensemble import RandomForestClassifier"
   ]
  },
  {
   "cell_type": "code",
   "execution_count": 115,
   "metadata": {},
   "outputs": [
    {
     "data": {
      "text/html": [
       "<div>\n",
       "<style scoped>\n",
       "    .dataframe tbody tr th:only-of-type {\n",
       "        vertical-align: middle;\n",
       "    }\n",
       "\n",
       "    .dataframe tbody tr th {\n",
       "        vertical-align: top;\n",
       "    }\n",
       "\n",
       "    .dataframe thead th {\n",
       "        text-align: right;\n",
       "    }\n",
       "</style>\n",
       "<table border=\"1\" class=\"dataframe\">\n",
       "  <thead>\n",
       "    <tr style=\"text-align: right;\">\n",
       "      <th></th>\n",
       "      <th>tweet_text</th>\n",
       "      <th>emotion_in_tweet_is_directed_at</th>\n",
       "      <th>is_there_an_emotion_directed_at_a_brand_or_product</th>\n",
       "    </tr>\n",
       "  </thead>\n",
       "  <tbody>\n",
       "    <tr>\n",
       "      <th>0</th>\n",
       "      <td>.@wesley83 I have a 3G iPhone. After 3 hrs tweeting at #RISE_Austin, it was dead!  I need to upgrade. Plugin stations at #SXSW.</td>\n",
       "      <td>iPhone</td>\n",
       "      <td>Negative emotion</td>\n",
       "    </tr>\n",
       "    <tr>\n",
       "      <th>1</th>\n",
       "      <td>@jessedee Know about @fludapp ? Awesome iPad/iPhone app that you'll likely appreciate for its design. Also, they're giving free Ts at #SXSW</td>\n",
       "      <td>iPad or iPhone App</td>\n",
       "      <td>Positive emotion</td>\n",
       "    </tr>\n",
       "    <tr>\n",
       "      <th>2</th>\n",
       "      <td>@swonderlin Can not wait for #iPad 2 also. They should sale them down at #SXSW.</td>\n",
       "      <td>iPad</td>\n",
       "      <td>Positive emotion</td>\n",
       "    </tr>\n",
       "    <tr>\n",
       "      <th>3</th>\n",
       "      <td>@sxsw I hope this year's festival isn't as crashy as this year's iPhone app. #sxsw</td>\n",
       "      <td>iPad or iPhone App</td>\n",
       "      <td>Negative emotion</td>\n",
       "    </tr>\n",
       "    <tr>\n",
       "      <th>4</th>\n",
       "      <td>@sxtxstate great stuff on Fri #SXSW: Marissa Mayer (Google), Tim O'Reilly (tech books/conferences) &amp;amp; Matt Mullenweg (Wordpress)</td>\n",
       "      <td>Google</td>\n",
       "      <td>Positive emotion</td>\n",
       "    </tr>\n",
       "  </tbody>\n",
       "</table>\n",
       "</div>"
      ],
      "text/plain": [
       "                                                                                                                                    tweet_text  \\\n",
       "0              .@wesley83 I have a 3G iPhone. After 3 hrs tweeting at #RISE_Austin, it was dead!  I need to upgrade. Plugin stations at #SXSW.   \n",
       "1  @jessedee Know about @fludapp ? Awesome iPad/iPhone app that you'll likely appreciate for its design. Also, they're giving free Ts at #SXSW   \n",
       "2                                                              @swonderlin Can not wait for #iPad 2 also. They should sale them down at #SXSW.   \n",
       "3                                                           @sxsw I hope this year's festival isn't as crashy as this year's iPhone app. #sxsw   \n",
       "4          @sxtxstate great stuff on Fri #SXSW: Marissa Mayer (Google), Tim O'Reilly (tech books/conferences) &amp; Matt Mullenweg (Wordpress)   \n",
       "\n",
       "  emotion_in_tweet_is_directed_at  \\\n",
       "0                          iPhone   \n",
       "1              iPad or iPhone App   \n",
       "2                            iPad   \n",
       "3              iPad or iPhone App   \n",
       "4                          Google   \n",
       "\n",
       "  is_there_an_emotion_directed_at_a_brand_or_product  \n",
       "0                                   Negative emotion  \n",
       "1                                   Positive emotion  \n",
       "2                                   Positive emotion  \n",
       "3                                   Negative emotion  \n",
       "4                                   Positive emotion  "
      ]
     },
     "execution_count": 115,
     "metadata": {},
     "output_type": "execute_result"
    }
   ],
   "source": [
    "data = pd.read_csv('Data/crowdflower_tweet_data.csv', encoding = 'latin1')\n",
    "data.head()"
   ]
  },
  {
   "cell_type": "code",
   "execution_count": 116,
   "metadata": {},
   "outputs": [
    {
     "data": {
      "text/plain": [
       "(9093, 3)"
      ]
     },
     "execution_count": 116,
     "metadata": {},
     "output_type": "execute_result"
    }
   ],
   "source": [
    "data.shape"
   ]
  },
  {
   "cell_type": "code",
   "execution_count": 117,
   "metadata": {},
   "outputs": [
    {
     "data": {
      "text/plain": [
       "Index(['tweet_text', 'emotion_in_tweet_is_directed_at',\n",
       "       'is_there_an_emotion_directed_at_a_brand_or_product'],\n",
       "      dtype='object')"
      ]
     },
     "execution_count": 117,
     "metadata": {},
     "output_type": "execute_result"
    }
   ],
   "source": [
    "data.columns"
   ]
  },
  {
   "cell_type": "code",
   "execution_count": 118,
   "metadata": {},
   "outputs": [
    {
     "data": {
      "text/plain": [
       "iPad                               0.287451\n",
       "Apple                              0.200851\n",
       "iPad or iPhone App                 0.142814\n",
       "Google                             0.130659\n",
       "iPhone                             0.090246\n",
       "Other Google product or service    0.089031\n",
       "Android App                        0.024613\n",
       "Android                            0.023701\n",
       "Other Apple product or service     0.010635\n",
       "Name: emotion_in_tweet_is_directed_at, dtype: float64"
      ]
     },
     "execution_count": 118,
     "metadata": {},
     "output_type": "execute_result"
    }
   ],
   "source": [
    "data['emotion_in_tweet_is_directed_at'].value_counts(normalize=True)"
   ]
  },
  {
   "cell_type": "code",
   "execution_count": 119,
   "metadata": {},
   "outputs": [
    {
     "data": {
      "text/plain": [
       "No emotion toward brand or product    0.592654\n",
       "Positive emotion                      0.327505\n",
       "Negative emotion                      0.062686\n",
       "I can't tell                          0.017156\n",
       "Name: is_there_an_emotion_directed_at_a_brand_or_product, dtype: float64"
      ]
     },
     "execution_count": 119,
     "metadata": {},
     "output_type": "execute_result"
    }
   ],
   "source": [
    "data['is_there_an_emotion_directed_at_a_brand_or_product'].value_counts(normalize=True)"
   ]
  },
  {
   "cell_type": "code",
   "execution_count": 120,
   "metadata": {},
   "outputs": [
    {
     "name": "stdout",
     "output_type": "stream",
     "text": [
      "<class 'pandas.core.frame.DataFrame'>\n",
      "RangeIndex: 9093 entries, 0 to 9092\n",
      "Data columns (total 3 columns):\n",
      " #   Column                                              Non-Null Count  Dtype \n",
      "---  ------                                              --------------  ----- \n",
      " 0   tweet_text                                          9092 non-null   object\n",
      " 1   emotion_in_tweet_is_directed_at                     3291 non-null   object\n",
      " 2   is_there_an_emotion_directed_at_a_brand_or_product  9093 non-null   object\n",
      "dtypes: object(3)\n",
      "memory usage: 213.2+ KB\n"
     ]
    }
   ],
   "source": [
    "data.info()"
   ]
  },
  {
   "cell_type": "code",
   "execution_count": 121,
   "metadata": {},
   "outputs": [
    {
     "data": {
      "text/plain": [
       "tweet_text                                               1\n",
       "emotion_in_tweet_is_directed_at                       5802\n",
       "is_there_an_emotion_directed_at_a_brand_or_product       0\n",
       "dtype: int64"
      ]
     },
     "execution_count": 121,
     "metadata": {},
     "output_type": "execute_result"
    }
   ],
   "source": [
    "data.isna().sum()"
   ]
  },
  {
   "cell_type": "code",
   "execution_count": 122,
   "metadata": {},
   "outputs": [
    {
     "data": {
      "text/plain": [
       "22"
      ]
     },
     "execution_count": 122,
     "metadata": {},
     "output_type": "execute_result"
    }
   ],
   "source": [
    "data.duplicated().sum()"
   ]
  },
  {
   "cell_type": "code",
   "execution_count": 123,
   "metadata": {},
   "outputs": [
    {
     "data": {
      "text/html": [
       "<div>\n",
       "<style scoped>\n",
       "    .dataframe tbody tr th:only-of-type {\n",
       "        vertical-align: middle;\n",
       "    }\n",
       "\n",
       "    .dataframe tbody tr th {\n",
       "        vertical-align: top;\n",
       "    }\n",
       "\n",
       "    .dataframe thead th {\n",
       "        text-align: right;\n",
       "    }\n",
       "</style>\n",
       "<table border=\"1\" class=\"dataframe\">\n",
       "  <thead>\n",
       "    <tr style=\"text-align: right;\">\n",
       "      <th></th>\n",
       "      <th>tweet_text</th>\n",
       "      <th>emotion_in_tweet_is_directed_at</th>\n",
       "      <th>is_there_an_emotion_directed_at_a_brand_or_product</th>\n",
       "    </tr>\n",
       "  </thead>\n",
       "  <tbody>\n",
       "    <tr>\n",
       "      <th>468</th>\n",
       "      <td>Before It Even Begins, Apple Wins #SXSW {link}</td>\n",
       "      <td>Apple</td>\n",
       "      <td>Positive emotion</td>\n",
       "    </tr>\n",
       "    <tr>\n",
       "      <th>776</th>\n",
       "      <td>Google to Launch Major New Social Network Called Circles, Possibly Today {link} #sxsw</td>\n",
       "      <td>NaN</td>\n",
       "      <td>No emotion toward brand or product</td>\n",
       "    </tr>\n",
       "    <tr>\n",
       "      <th>2232</th>\n",
       "      <td>Marissa Mayer: Google Will Connect the Digital &amp;amp; Physical Worlds Through Mobile - {link} #sxsw</td>\n",
       "      <td>NaN</td>\n",
       "      <td>No emotion toward brand or product</td>\n",
       "    </tr>\n",
       "    <tr>\n",
       "      <th>2559</th>\n",
       "      <td>Counting down the days to #sxsw plus strong Canadian dollar means stock up on Apple gear</td>\n",
       "      <td>Apple</td>\n",
       "      <td>Positive emotion</td>\n",
       "    </tr>\n",
       "    <tr>\n",
       "      <th>3950</th>\n",
       "      <td>Really enjoying the changes in Gowalla 3.0 for Android! Looking forward to seeing what else they &amp;amp; Foursquare have up their sleeves at #SXSW</td>\n",
       "      <td>Android App</td>\n",
       "      <td>Positive emotion</td>\n",
       "    </tr>\n",
       "  </tbody>\n",
       "</table>\n",
       "</div>"
      ],
      "text/plain": [
       "                                                                                                                                            tweet_text  \\\n",
       "468                                                                                                     Before It Even Begins, Apple Wins #SXSW {link}   \n",
       "776                                                              Google to Launch Major New Social Network Called Circles, Possibly Today {link} #sxsw   \n",
       "2232                                                Marissa Mayer: Google Will Connect the Digital &amp; Physical Worlds Through Mobile - {link} #sxsw   \n",
       "2559                                                          Counting down the days to #sxsw plus strong Canadian dollar means stock up on Apple gear   \n",
       "3950  Really enjoying the changes in Gowalla 3.0 for Android! Looking forward to seeing what else they &amp; Foursquare have up their sleeves at #SXSW   \n",
       "\n",
       "     emotion_in_tweet_is_directed_at  \\\n",
       "468                            Apple   \n",
       "776                              NaN   \n",
       "2232                             NaN   \n",
       "2559                           Apple   \n",
       "3950                     Android App   \n",
       "\n",
       "     is_there_an_emotion_directed_at_a_brand_or_product  \n",
       "468                                    Positive emotion  \n",
       "776                  No emotion toward brand or product  \n",
       "2232                 No emotion toward brand or product  \n",
       "2559                                   Positive emotion  \n",
       "3950                                   Positive emotion  "
      ]
     },
     "execution_count": 123,
     "metadata": {},
     "output_type": "execute_result"
    }
   ],
   "source": [
    "data[data.duplicated()].head()"
   ]
  },
  {
   "attachments": {},
   "cell_type": "markdown",
   "metadata": {},
   "source": [
    "# Data Cleaning\n"
   ]
  },
  {
   "cell_type": "code",
   "execution_count": 124,
   "metadata": {},
   "outputs": [
    {
     "data": {
      "text/html": [
       "<div>\n",
       "<style scoped>\n",
       "    .dataframe tbody tr th:only-of-type {\n",
       "        vertical-align: middle;\n",
       "    }\n",
       "\n",
       "    .dataframe tbody tr th {\n",
       "        vertical-align: top;\n",
       "    }\n",
       "\n",
       "    .dataframe thead th {\n",
       "        text-align: right;\n",
       "    }\n",
       "</style>\n",
       "<table border=\"1\" class=\"dataframe\">\n",
       "  <thead>\n",
       "    <tr style=\"text-align: right;\">\n",
       "      <th></th>\n",
       "      <th>Tweet</th>\n",
       "      <th>Product/Brand</th>\n",
       "      <th>Emotion</th>\n",
       "    </tr>\n",
       "  </thead>\n",
       "  <tbody>\n",
       "    <tr>\n",
       "      <th>0</th>\n",
       "      <td>.@wesley83 I have a 3G iPhone. After 3 hrs tweeting at #RISE_Austin, it was dead!  I need to upgrade. Plugin stations at #SXSW.</td>\n",
       "      <td>iPhone</td>\n",
       "      <td>Negative emotion</td>\n",
       "    </tr>\n",
       "    <tr>\n",
       "      <th>1</th>\n",
       "      <td>@jessedee Know about @fludapp ? Awesome iPad/iPhone app that you'll likely appreciate for its design. Also, they're giving free Ts at #SXSW</td>\n",
       "      <td>iPad or iPhone App</td>\n",
       "      <td>Positive emotion</td>\n",
       "    </tr>\n",
       "    <tr>\n",
       "      <th>2</th>\n",
       "      <td>@swonderlin Can not wait for #iPad 2 also. They should sale them down at #SXSW.</td>\n",
       "      <td>iPad</td>\n",
       "      <td>Positive emotion</td>\n",
       "    </tr>\n",
       "    <tr>\n",
       "      <th>3</th>\n",
       "      <td>@sxsw I hope this year's festival isn't as crashy as this year's iPhone app. #sxsw</td>\n",
       "      <td>iPad or iPhone App</td>\n",
       "      <td>Negative emotion</td>\n",
       "    </tr>\n",
       "    <tr>\n",
       "      <th>4</th>\n",
       "      <td>@sxtxstate great stuff on Fri #SXSW: Marissa Mayer (Google), Tim O'Reilly (tech books/conferences) &amp;amp; Matt Mullenweg (Wordpress)</td>\n",
       "      <td>Google</td>\n",
       "      <td>Positive emotion</td>\n",
       "    </tr>\n",
       "    <tr>\n",
       "      <th>...</th>\n",
       "      <td>...</td>\n",
       "      <td>...</td>\n",
       "      <td>...</td>\n",
       "    </tr>\n",
       "    <tr>\n",
       "      <th>9088</th>\n",
       "      <td>Ipad everywhere. #SXSW {link}</td>\n",
       "      <td>iPad</td>\n",
       "      <td>Positive emotion</td>\n",
       "    </tr>\n",
       "    <tr>\n",
       "      <th>9089</th>\n",
       "      <td>Wave, buzz... RT @mention We interrupt your regularly scheduled #sxsw geek programming with big news {link}  #google #circles</td>\n",
       "      <td>NaN</td>\n",
       "      <td>No emotion toward brand or product</td>\n",
       "    </tr>\n",
       "    <tr>\n",
       "      <th>9090</th>\n",
       "      <td>Google's Zeiger, a physician never reported potential AE. Yet FDA relies on physicians. &amp;quot;We're operating w/out data.&amp;quot; #sxsw #health2dev</td>\n",
       "      <td>NaN</td>\n",
       "      <td>No emotion toward brand or product</td>\n",
       "    </tr>\n",
       "    <tr>\n",
       "      <th>9091</th>\n",
       "      <td>Some Verizon iPhone customers complained their time fell back an hour this weekend.  Of course they were the New Yorkers who attended #SXSW.</td>\n",
       "      <td>NaN</td>\n",
       "      <td>No emotion toward brand or product</td>\n",
       "    </tr>\n",
       "    <tr>\n",
       "      <th>9092</th>\n",
       "      <td>Ï¡Ïàü_ÊÎÒ£Áââ_£â_ÛâRT @mention Google Tests ÛÏCheck-in OffersÛ At #SXSW {link}</td>\n",
       "      <td>NaN</td>\n",
       "      <td>No emotion toward brand or product</td>\n",
       "    </tr>\n",
       "  </tbody>\n",
       "</table>\n",
       "<p>9093 rows × 3 columns</p>\n",
       "</div>"
      ],
      "text/plain": [
       "                                                                                                                                                  Tweet  \\\n",
       "0                       .@wesley83 I have a 3G iPhone. After 3 hrs tweeting at #RISE_Austin, it was dead!  I need to upgrade. Plugin stations at #SXSW.   \n",
       "1           @jessedee Know about @fludapp ? Awesome iPad/iPhone app that you'll likely appreciate for its design. Also, they're giving free Ts at #SXSW   \n",
       "2                                                                       @swonderlin Can not wait for #iPad 2 also. They should sale them down at #SXSW.   \n",
       "3                                                                    @sxsw I hope this year's festival isn't as crashy as this year's iPhone app. #sxsw   \n",
       "4                   @sxtxstate great stuff on Fri #SXSW: Marissa Mayer (Google), Tim O'Reilly (tech books/conferences) &amp; Matt Mullenweg (Wordpress)   \n",
       "...                                                                                                                                                 ...   \n",
       "9088                                                                                                                      Ipad everywhere. #SXSW {link}   \n",
       "9089                      Wave, buzz... RT @mention We interrupt your regularly scheduled #sxsw geek programming with big news {link}  #google #circles   \n",
       "9090  Google's Zeiger, a physician never reported potential AE. Yet FDA relies on physicians. &quot;We're operating w/out data.&quot; #sxsw #health2dev   \n",
       "9091       Some Verizon iPhone customers complained their time fell back an hour this weekend.  Of course they were the New Yorkers who attended #SXSW.   \n",
       "9092                                           Ï¡Ïàü_ÊÎÒ£Áââ_£â_ÛâRT @mention Google Tests ÛÏCheck-in OffersÛ At #SXSW {link}   \n",
       "\n",
       "           Product/Brand                             Emotion  \n",
       "0                 iPhone                    Negative emotion  \n",
       "1     iPad or iPhone App                    Positive emotion  \n",
       "2                   iPad                    Positive emotion  \n",
       "3     iPad or iPhone App                    Negative emotion  \n",
       "4                 Google                    Positive emotion  \n",
       "...                  ...                                 ...  \n",
       "9088                iPad                    Positive emotion  \n",
       "9089                 NaN  No emotion toward brand or product  \n",
       "9090                 NaN  No emotion toward brand or product  \n",
       "9091                 NaN  No emotion toward brand or product  \n",
       "9092                 NaN  No emotion toward brand or product  \n",
       "\n",
       "[9093 rows x 3 columns]"
      ]
     },
     "execution_count": 124,
     "metadata": {},
     "output_type": "execute_result"
    }
   ],
   "source": [
    "# Renaming columns\n",
    "data.columns = ['Tweet', 'Product/Brand', 'Emotion']\n",
    "data"
   ]
  },
  {
   "cell_type": "code",
   "execution_count": 125,
   "metadata": {},
   "outputs": [],
   "source": [
    "data = data.dropna(subset=['Tweet'])"
   ]
  },
  {
   "cell_type": "code",
   "execution_count": 126,
   "metadata": {},
   "outputs": [
    {
     "data": {
      "text/plain": [
       "Tweet            0\n",
       "Product/Brand    0\n",
       "Emotion          0\n",
       "dtype: int64"
      ]
     },
     "execution_count": 126,
     "metadata": {},
     "output_type": "execute_result"
    }
   ],
   "source": [
    "data['Product/Brand'].fillna(\"Unknown Product\", inplace = True)\n",
    "data.isna().sum()"
   ]
  },
  {
   "cell_type": "code",
   "execution_count": 127,
   "metadata": {},
   "outputs": [],
   "source": [
    "data.drop_duplicates(keep='first', inplace=True)"
   ]
  },
  {
   "cell_type": "code",
   "execution_count": 128,
   "metadata": {},
   "outputs": [
    {
     "data": {
      "text/html": [
       "<div>\n",
       "<style scoped>\n",
       "    .dataframe tbody tr th:only-of-type {\n",
       "        vertical-align: middle;\n",
       "    }\n",
       "\n",
       "    .dataframe tbody tr th {\n",
       "        vertical-align: top;\n",
       "    }\n",
       "\n",
       "    .dataframe thead th {\n",
       "        text-align: right;\n",
       "    }\n",
       "</style>\n",
       "<table border=\"1\" class=\"dataframe\">\n",
       "  <thead>\n",
       "    <tr style=\"text-align: right;\">\n",
       "      <th></th>\n",
       "      <th>Tweet</th>\n",
       "      <th>Product/Brand</th>\n",
       "      <th>Emotion</th>\n",
       "    </tr>\n",
       "  </thead>\n",
       "  <tbody>\n",
       "    <tr>\n",
       "      <th>0</th>\n",
       "      <td>.@wesley83 I have a 3G iPhone. After 3 hrs tweeting at #RISE_Austin, it was dead!  I need to upgrade. Plugin stations at #SXSW.</td>\n",
       "      <td>iPhone</td>\n",
       "      <td>Negative</td>\n",
       "    </tr>\n",
       "    <tr>\n",
       "      <th>1</th>\n",
       "      <td>@jessedee Know about @fludapp ? Awesome iPad/iPhone app that you'll likely appreciate for its design. Also, they're giving free Ts at #SXSW</td>\n",
       "      <td>iPad or iPhone App</td>\n",
       "      <td>Positive</td>\n",
       "    </tr>\n",
       "    <tr>\n",
       "      <th>2</th>\n",
       "      <td>@swonderlin Can not wait for #iPad 2 also. They should sale them down at #SXSW.</td>\n",
       "      <td>iPad</td>\n",
       "      <td>Positive</td>\n",
       "    </tr>\n",
       "    <tr>\n",
       "      <th>3</th>\n",
       "      <td>@sxsw I hope this year's festival isn't as crashy as this year's iPhone app. #sxsw</td>\n",
       "      <td>iPad or iPhone App</td>\n",
       "      <td>Negative</td>\n",
       "    </tr>\n",
       "    <tr>\n",
       "      <th>4</th>\n",
       "      <td>@sxtxstate great stuff on Fri #SXSW: Marissa Mayer (Google), Tim O'Reilly (tech books/conferences) &amp;amp; Matt Mullenweg (Wordpress)</td>\n",
       "      <td>Google</td>\n",
       "      <td>Positive</td>\n",
       "    </tr>\n",
       "  </tbody>\n",
       "</table>\n",
       "</div>"
      ],
      "text/plain": [
       "                                                                                                                                         Tweet  \\\n",
       "0              .@wesley83 I have a 3G iPhone. After 3 hrs tweeting at #RISE_Austin, it was dead!  I need to upgrade. Plugin stations at #SXSW.   \n",
       "1  @jessedee Know about @fludapp ? Awesome iPad/iPhone app that you'll likely appreciate for its design. Also, they're giving free Ts at #SXSW   \n",
       "2                                                              @swonderlin Can not wait for #iPad 2 also. They should sale them down at #SXSW.   \n",
       "3                                                           @sxsw I hope this year's festival isn't as crashy as this year's iPhone app. #sxsw   \n",
       "4          @sxtxstate great stuff on Fri #SXSW: Marissa Mayer (Google), Tim O'Reilly (tech books/conferences) &amp; Matt Mullenweg (Wordpress)   \n",
       "\n",
       "        Product/Brand   Emotion  \n",
       "0              iPhone  Negative  \n",
       "1  iPad or iPhone App  Positive  \n",
       "2                iPad  Positive  \n",
       "3  iPad or iPhone App  Negative  \n",
       "4              Google  Positive  "
      ]
     },
     "execution_count": 128,
     "metadata": {},
     "output_type": "execute_result"
    }
   ],
   "source": [
    "emotion = {'Positive emotion': 'Positive', 'Negative emotion': 'Negative', \n",
    "                'No emotion toward brand or product': 'Neutral', \n",
    "                \"I can't tell\": 'Unknown'}\n",
    "data['Emotion'] = data['Emotion'].map(emotion)\n",
    "data.head()"
   ]
  },
  {
   "cell_type": "code",
   "execution_count": 129,
   "metadata": {},
   "outputs": [
    {
     "data": {
      "text/plain": [
       "Neutral     5375\n",
       "Positive    2970\n",
       "Negative     569\n",
       "Unknown      156\n",
       "Name: Emotion, dtype: int64"
      ]
     },
     "execution_count": 129,
     "metadata": {},
     "output_type": "execute_result"
    }
   ],
   "source": [
    "data['Emotion'].value_counts()"
   ]
  },
  {
   "cell_type": "code",
   "execution_count": 130,
   "metadata": {},
   "outputs": [
    {
     "data": {
      "text/html": [
       "<div>\n",
       "<style scoped>\n",
       "    .dataframe tbody tr th:only-of-type {\n",
       "        vertical-align: middle;\n",
       "    }\n",
       "\n",
       "    .dataframe tbody tr th {\n",
       "        vertical-align: top;\n",
       "    }\n",
       "\n",
       "    .dataframe thead th {\n",
       "        text-align: right;\n",
       "    }\n",
       "</style>\n",
       "<table border=\"1\" class=\"dataframe\">\n",
       "  <thead>\n",
       "    <tr style=\"text-align: right;\">\n",
       "      <th></th>\n",
       "      <th>Tweet</th>\n",
       "      <th>Product/Brand</th>\n",
       "      <th>Emotion</th>\n",
       "    </tr>\n",
       "  </thead>\n",
       "  <tbody>\n",
       "    <tr>\n",
       "      <th>90</th>\n",
       "      <td>Thanks to @mention for publishing the news of @mention new medical Apps at the #sxswi conf. blog {link} #sxsw #sxswh</td>\n",
       "      <td>Unknown Product</td>\n",
       "      <td>Unknown</td>\n",
       "    </tr>\n",
       "    <tr>\n",
       "      <th>102</th>\n",
       "      <td>ÛÏ@mention &amp;quot;Apple has opened a pop-up store in Austin so the nerds in town for #SXSW can get their new iPads. {link} #wow</td>\n",
       "      <td>Unknown Product</td>\n",
       "      <td>Unknown</td>\n",
       "    </tr>\n",
       "    <tr>\n",
       "      <th>237</th>\n",
       "      <td>Just what America needs. RT @mention Google to Launch Major New Social Network Called Circles, Possibly Today {link} #sxsw</td>\n",
       "      <td>Unknown Product</td>\n",
       "      <td>Unknown</td>\n",
       "    </tr>\n",
       "    <tr>\n",
       "      <th>341</th>\n",
       "      <td>The queue at the Apple Store in Austin is FOUR blocks long. Crazy stuff! #sxsw</td>\n",
       "      <td>Unknown Product</td>\n",
       "      <td>Unknown</td>\n",
       "    </tr>\n",
       "    <tr>\n",
       "      <th>368</th>\n",
       "      <td>Hope it's better than wave RT @mention Buzz is: Google's previewing a social networking platform at #SXSW: {link}</td>\n",
       "      <td>Unknown Product</td>\n",
       "      <td>Unknown</td>\n",
       "    </tr>\n",
       "    <tr>\n",
       "      <th>...</th>\n",
       "      <td>...</td>\n",
       "      <td>...</td>\n",
       "      <td>...</td>\n",
       "    </tr>\n",
       "    <tr>\n",
       "      <th>9020</th>\n",
       "      <td>It's funny watching a room full of people hold their iPad in the air to take a photo. Like a room full of tablets staring you down. #SXSW</td>\n",
       "      <td>Unknown Product</td>\n",
       "      <td>Unknown</td>\n",
       "    </tr>\n",
       "    <tr>\n",
       "      <th>9032</th>\n",
       "      <td>@mention yeah, we have @mention , Google has nothing on us :) #SXSW</td>\n",
       "      <td>Unknown Product</td>\n",
       "      <td>Unknown</td>\n",
       "    </tr>\n",
       "    <tr>\n",
       "      <th>9037</th>\n",
       "      <td>@mention Yes, the Google presentation was not exactly what I was expecting. #sxsw</td>\n",
       "      <td>Unknown Product</td>\n",
       "      <td>Unknown</td>\n",
       "    </tr>\n",
       "    <tr>\n",
       "      <th>9058</th>\n",
       "      <td>&amp;quot;Do you know what Apple is really good at? Making you feel bad about your Xmas present!&amp;quot; - Seth Meyers on iPad2 #sxsw #doyoureallyneedthat?</td>\n",
       "      <td>Unknown Product</td>\n",
       "      <td>Unknown</td>\n",
       "    </tr>\n",
       "    <tr>\n",
       "      <th>9066</th>\n",
       "      <td>How much you want to bet Apple is disproportionately stocking the #SXSW pop-up store with iPad 2? The influencer/hipsters thank you</td>\n",
       "      <td>Apple</td>\n",
       "      <td>Unknown</td>\n",
       "    </tr>\n",
       "  </tbody>\n",
       "</table>\n",
       "<p>156 rows × 3 columns</p>\n",
       "</div>"
      ],
      "text/plain": [
       "                                                                                                                                                      Tweet  \\\n",
       "90                                     Thanks to @mention for publishing the news of @mention new medical Apps at the #sxswi conf. blog {link} #sxsw #sxswh   \n",
       "102                         ÛÏ@mention &quot;Apple has opened a pop-up store in Austin so the nerds in town for #SXSW can get their new iPads. {link} #wow   \n",
       "237                              Just what America needs. RT @mention Google to Launch Major New Social Network Called Circles, Possibly Today {link} #sxsw   \n",
       "341                                                                          The queue at the Apple Store in Austin is FOUR blocks long. Crazy stuff! #sxsw   \n",
       "368                                       Hope it's better than wave RT @mention Buzz is: Google's previewing a social networking platform at #SXSW: {link}   \n",
       "...                                                                                                                                                     ...   \n",
       "9020              It's funny watching a room full of people hold their iPad in the air to take a photo. Like a room full of tablets staring you down. #SXSW   \n",
       "9032                                                                                    @mention yeah, we have @mention , Google has nothing on us :) #SXSW   \n",
       "9037                                                                      @mention Yes, the Google presentation was not exactly what I was expecting. #sxsw   \n",
       "9058  &quot;Do you know what Apple is really good at? Making you feel bad about your Xmas present!&quot; - Seth Meyers on iPad2 #sxsw #doyoureallyneedthat?   \n",
       "9066                    How much you want to bet Apple is disproportionately stocking the #SXSW pop-up store with iPad 2? The influencer/hipsters thank you   \n",
       "\n",
       "        Product/Brand  Emotion  \n",
       "90    Unknown Product  Unknown  \n",
       "102   Unknown Product  Unknown  \n",
       "237   Unknown Product  Unknown  \n",
       "341   Unknown Product  Unknown  \n",
       "368   Unknown Product  Unknown  \n",
       "...               ...      ...  \n",
       "9020  Unknown Product  Unknown  \n",
       "9032  Unknown Product  Unknown  \n",
       "9037  Unknown Product  Unknown  \n",
       "9058  Unknown Product  Unknown  \n",
       "9066            Apple  Unknown  \n",
       "\n",
       "[156 rows x 3 columns]"
      ]
     },
     "execution_count": 130,
     "metadata": {},
     "output_type": "execute_result"
    }
   ],
   "source": [
    "pd.set_option(\"display.max_colwidth\", 300)\n",
    "data[data['Emotion']=='Unknown']\n"
   ]
  },
  {
   "cell_type": "code",
   "execution_count": 131,
   "metadata": {},
   "outputs": [
    {
     "data": {
      "text/plain": [
       "Neutral     5375\n",
       "Positive    2970\n",
       "Negative     569\n",
       "Name: Emotion, dtype: int64"
      ]
     },
     "execution_count": 131,
     "metadata": {},
     "output_type": "execute_result"
    }
   ],
   "source": [
    "data = data[data['Emotion']!='Unknown']\n",
    "data['Emotion'].value_counts()"
   ]
  },
  {
   "cell_type": "code",
   "execution_count": 132,
   "metadata": {},
   "outputs": [],
   "source": [
    "# Create an instance of Regexptoenizer\n",
    "tokenizer = TweetTokenizer(\"(?u)\\w{3,}\",\n",
    "                          strip_handles=True)\n",
    "\n",
    "\n",
    "#Create a list of stop words\n",
    "stopwords_list = stopwords.words('english')\n",
    "\n",
    "#Create an instance of the PorterStemmer\n",
    "stemmer =PorterStemmer()\n"
   ]
  },
  {
   "cell_type": "code",
   "execution_count": 133,
   "metadata": {},
   "outputs": [],
   "source": [
    "def preprocess_text(text, tokenizer, stopwords_list, stemmer):\n",
    "    text = text.lower()\n",
    "    token = tokenizer.tokenize(text)\n",
    "    stop_words = [word for word in token if word not in stopwords_list]\n",
    "    punctuation_removed = [word for word in stop_words if word not in string.punctuation]\n",
    "    stemmed_stopwords = [stemmer.stem(word) for word in punctuation_removed]\n",
    "    return stemmed_stopwords"
   ]
  },
  {
   "cell_type": "code",
   "execution_count": 134,
   "metadata": {},
   "outputs": [
    {
     "data": {
      "text/html": [
       "<div>\n",
       "<style scoped>\n",
       "    .dataframe tbody tr th:only-of-type {\n",
       "        vertical-align: middle;\n",
       "    }\n",
       "\n",
       "    .dataframe tbody tr th {\n",
       "        vertical-align: top;\n",
       "    }\n",
       "\n",
       "    .dataframe thead th {\n",
       "        text-align: right;\n",
       "    }\n",
       "</style>\n",
       "<table border=\"1\" class=\"dataframe\">\n",
       "  <thead>\n",
       "    <tr style=\"text-align: right;\">\n",
       "      <th></th>\n",
       "      <th>Tweet</th>\n",
       "      <th>Product/Brand</th>\n",
       "      <th>Emotion</th>\n",
       "      <th>preprocessed_text</th>\n",
       "    </tr>\n",
       "  </thead>\n",
       "  <tbody>\n",
       "    <tr>\n",
       "      <th>0</th>\n",
       "      <td>.@wesley83 I have a 3G iPhone. After 3 hrs tweeting at #RISE_Austin, it was dead!  I need to upgrade. Plugin stations at #SXSW.</td>\n",
       "      <td>iPhone</td>\n",
       "      <td>Negative</td>\n",
       "      <td>[3g, iphon, 3, hr, tweet, #rise_austin, dead, need, upgrad, plugin, station, #sxsw]</td>\n",
       "    </tr>\n",
       "    <tr>\n",
       "      <th>1</th>\n",
       "      <td>@jessedee Know about @fludapp ? Awesome iPad/iPhone app that you'll likely appreciate for its design. Also, they're giving free Ts at #SXSW</td>\n",
       "      <td>iPad or iPhone App</td>\n",
       "      <td>Positive</td>\n",
       "      <td>[know, awesom, ipad, iphon, app, like, appreci, design, also, they'r, give, free, ts, #sxsw]</td>\n",
       "    </tr>\n",
       "    <tr>\n",
       "      <th>2</th>\n",
       "      <td>@swonderlin Can not wait for #iPad 2 also. They should sale them down at #SXSW.</td>\n",
       "      <td>iPad</td>\n",
       "      <td>Positive</td>\n",
       "      <td>[wait, #ipad, 2, also, sale, #sxsw]</td>\n",
       "    </tr>\n",
       "    <tr>\n",
       "      <th>3</th>\n",
       "      <td>@sxsw I hope this year's festival isn't as crashy as this year's iPhone app. #sxsw</td>\n",
       "      <td>iPad or iPhone App</td>\n",
       "      <td>Negative</td>\n",
       "      <td>[hope, year', festiv, crashi, year', iphon, app, #sxsw]</td>\n",
       "    </tr>\n",
       "    <tr>\n",
       "      <th>4</th>\n",
       "      <td>@sxtxstate great stuff on Fri #SXSW: Marissa Mayer (Google), Tim O'Reilly (tech books/conferences) &amp;amp; Matt Mullenweg (Wordpress)</td>\n",
       "      <td>Google</td>\n",
       "      <td>Positive</td>\n",
       "      <td>[great, stuff, fri, #sxsw, marissa, mayer, googl, tim, o'reilli, tech, book, confer, matt, mullenweg, wordpress]</td>\n",
       "    </tr>\n",
       "    <tr>\n",
       "      <th>...</th>\n",
       "      <td>...</td>\n",
       "      <td>...</td>\n",
       "      <td>...</td>\n",
       "      <td>...</td>\n",
       "    </tr>\n",
       "    <tr>\n",
       "      <th>9088</th>\n",
       "      <td>Ipad everywhere. #SXSW {link}</td>\n",
       "      <td>iPad</td>\n",
       "      <td>Positive</td>\n",
       "      <td>[ipad, everywher, #sxsw, link]</td>\n",
       "    </tr>\n",
       "    <tr>\n",
       "      <th>9089</th>\n",
       "      <td>Wave, buzz... RT @mention We interrupt your regularly scheduled #sxsw geek programming with big news {link}  #google #circles</td>\n",
       "      <td>Unknown Product</td>\n",
       "      <td>Neutral</td>\n",
       "      <td>[wave, buzz, ..., rt, interrupt, regularli, schedul, #sxsw, geek, program, big, news, link, #googl, #circl]</td>\n",
       "    </tr>\n",
       "    <tr>\n",
       "      <th>9090</th>\n",
       "      <td>Google's Zeiger, a physician never reported potential AE. Yet FDA relies on physicians. &amp;quot;We're operating w/out data.&amp;quot; #sxsw #health2dev</td>\n",
       "      <td>Unknown Product</td>\n",
       "      <td>Neutral</td>\n",
       "      <td>[google', zeiger, physician, never, report, potenti, ae, yet, fda, reli, physician, we'r, oper, w, data, #sxsw, #health2dev]</td>\n",
       "    </tr>\n",
       "    <tr>\n",
       "      <th>9091</th>\n",
       "      <td>Some Verizon iPhone customers complained their time fell back an hour this weekend.  Of course they were the New Yorkers who attended #SXSW.</td>\n",
       "      <td>Unknown Product</td>\n",
       "      <td>Neutral</td>\n",
       "      <td>[verizon, iphon, custom, complain, time, fell, back, hour, weekend, cours, new, yorker, attend, #sxsw]</td>\n",
       "    </tr>\n",
       "    <tr>\n",
       "      <th>9092</th>\n",
       "      <td>Ï¡Ïàü_ÊÎÒ£Áââ_£â_ÛâRT @mention Google Tests ÛÏCheck-in OffersÛ At #SXSW {link}</td>\n",
       "      <td>Unknown Product</td>\n",
       "      <td>Neutral</td>\n",
       "      <td>[, ï, ¡, , ïà, , ü_, , , ê, , , î, , , ò, , , £, , , á, , ââ, , , , , £, , , , , â_, , ûârt, googl, test, , ûïcheck-in, offer, , û, , #sxsw, link]</td>\n",
       "    </tr>\n",
       "  </tbody>\n",
       "</table>\n",
       "<p>8914 rows × 4 columns</p>\n",
       "</div>"
      ],
      "text/plain": [
       "                                                                                                                                                  Tweet  \\\n",
       "0                       .@wesley83 I have a 3G iPhone. After 3 hrs tweeting at #RISE_Austin, it was dead!  I need to upgrade. Plugin stations at #SXSW.   \n",
       "1           @jessedee Know about @fludapp ? Awesome iPad/iPhone app that you'll likely appreciate for its design. Also, they're giving free Ts at #SXSW   \n",
       "2                                                                       @swonderlin Can not wait for #iPad 2 also. They should sale them down at #SXSW.   \n",
       "3                                                                    @sxsw I hope this year's festival isn't as crashy as this year's iPhone app. #sxsw   \n",
       "4                   @sxtxstate great stuff on Fri #SXSW: Marissa Mayer (Google), Tim O'Reilly (tech books/conferences) &amp; Matt Mullenweg (Wordpress)   \n",
       "...                                                                                                                                                 ...   \n",
       "9088                                                                                                                      Ipad everywhere. #SXSW {link}   \n",
       "9089                      Wave, buzz... RT @mention We interrupt your regularly scheduled #sxsw geek programming with big news {link}  #google #circles   \n",
       "9090  Google's Zeiger, a physician never reported potential AE. Yet FDA relies on physicians. &quot;We're operating w/out data.&quot; #sxsw #health2dev   \n",
       "9091       Some Verizon iPhone customers complained their time fell back an hour this weekend.  Of course they were the New Yorkers who attended #SXSW.   \n",
       "9092                                           Ï¡Ïàü_ÊÎÒ£Áââ_£â_ÛâRT @mention Google Tests ÛÏCheck-in OffersÛ At #SXSW {link}   \n",
       "\n",
       "           Product/Brand   Emotion  \\\n",
       "0                 iPhone  Negative   \n",
       "1     iPad or iPhone App  Positive   \n",
       "2                   iPad  Positive   \n",
       "3     iPad or iPhone App  Negative   \n",
       "4                 Google  Positive   \n",
       "...                  ...       ...   \n",
       "9088                iPad  Positive   \n",
       "9089     Unknown Product   Neutral   \n",
       "9090     Unknown Product   Neutral   \n",
       "9091     Unknown Product   Neutral   \n",
       "9092     Unknown Product   Neutral   \n",
       "\n",
       "                                                                                                                                                                 preprocessed_text  \n",
       "0                                                                                              [3g, iphon, 3, hr, tweet, #rise_austin, dead, need, upgrad, plugin, station, #sxsw]  \n",
       "1                                                                                     [know, awesom, ipad, iphon, app, like, appreci, design, also, they'r, give, free, ts, #sxsw]  \n",
       "2                                                                                                                                              [wait, #ipad, 2, also, sale, #sxsw]  \n",
       "3                                                                                                                          [hope, year', festiv, crashi, year', iphon, app, #sxsw]  \n",
       "4                                                                 [great, stuff, fri, #sxsw, marissa, mayer, googl, tim, o'reilli, tech, book, confer, matt, mullenweg, wordpress]  \n",
       "...                                                                                                                                                                            ...  \n",
       "9088                                                                                                                                                [ipad, everywher, #sxsw, link]  \n",
       "9089                                                                   [wave, buzz, ..., rt, interrupt, regularli, schedul, #sxsw, geek, program, big, news, link, #googl, #circl]  \n",
       "9090                                                  [google', zeiger, physician, never, report, potenti, ae, yet, fda, reli, physician, we'r, oper, w, data, #sxsw, #health2dev]  \n",
       "9091                                                                        [verizon, iphon, custom, complain, time, fell, back, hour, weekend, cours, new, yorker, attend, #sxsw]  \n",
       "9092  [, ï, ¡, , ïà, , ü_, , , ê, , , î, , , ò, , , £, , , á, , ââ, , , , , £, , , , , â_, , ûârt, googl, test, , ûïcheck-in, offer, , û, , #sxsw, link]  \n",
       "\n",
       "[8914 rows x 4 columns]"
      ]
     },
     "execution_count": 134,
     "metadata": {},
     "output_type": "execute_result"
    }
   ],
   "source": [
    "text_data = data.Tweet.apply(lambda x: preprocess_text(x, tokenizer,stopwords_list,stemmer))\n",
    "text_data\n",
    "\n",
    "data[\"preprocessed_text\"] = text_data\n",
    "data"
   ]
  },
  {
   "attachments": {},
   "cell_type": "markdown",
   "metadata": {},
   "source": [
    "# Exploratory Data Analysis\n",
    "---"
   ]
  },
  {
   "cell_type": "code",

   "execution_count": 135,

   "execution_count": 22,

   "metadata": {},
   "outputs": [
    {
     "data": {
      "text/plain": [
       "Positive    2970\n",
       "Name: Emotion, dtype: int64"
      ]
     },

     "execution_count": 135,

     "execution_count": 22,

     "metadata": {},
     "output_type": "execute_result"
    }
   ],
   "source": [
    "# Sentiments -plot\n",
    "\n",
    "pos_sentiments = data[data['Emotion']=='Positive']\n",
    "#verifying that neutral and negative tweets have been removed\n",
    "pos_sentiments['Emotion'].value_counts()"
   ]
  },
  {
   "cell_type": "code",

   "execution_count": 136,

   "execution_count": 23,

   "metadata": {},
   "outputs": [
    {
     "data": {
      "text/plain": [
       "[]"
      ]
     },

     "execution_count": 136,

     "execution_count": 23,

     "metadata": {},
     "output_type": "execute_result"
    }
   ],
   "source": [
    "from nltk import FreqDist\n",
    "pos_tweets = pos_sentiments['preprocessed_text'].to_list()\n",
    "pos_tweets = FreqDist()\n",
    "pos_tweets.most_common(10)"
   ]
  },
  {
   "cell_type": "code",

   "execution_count": 137,

   "execution_count": 24,

   "metadata": {},
   "outputs": [
    {
     "data": {
      "text/plain": [
       "<AxesSubplot:xlabel='Emotion', ylabel='count'>"
      ]
     },

     "execution_count": 137,

     "execution_count": 24,

     "metadata": {},
     "output_type": "execute_result"
    },
    {
     "data": {
      "image/png": "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",
      "text/plain": [
       "<Figure size 864x432 with 1 Axes>"
      ]
     },
     "metadata": {
      "needs_background": "light"
     },
     "output_type": "display_data"
    }
   ],
   "source": [
    "plt.figure(figsize=(12,6))\n",
    "sns.countplot(x='Emotion',data=data)"
   ]
  },
  {
   "cell_type": "code",

   "execution_count": 138,

   "execution_count": 25,

   "metadata": {},
   "outputs": [],
   "source": [
    "# Filter the dataframe for positive, negative, and neutral emotions\n",
    "positive_tweets = data[data['Emotion'] == 'Positive']['preprocessed_text']\n",
    "negative_tweets = data[data['Emotion'] == 'Negative']['preprocessed_text']\n",
    "neutral_tweets = data[data['Emotion'] == 'Neutral']['preprocessed_text']\n",
    "\n",
    "# Concatenate all positive, negative, and neutral tweets into separate lists\n",
    "all_positive_tokens = [token for sublist in positive_tweets for token in sublist]\n",
    "all_negative_tokens = [token for sublist in negative_tweets for token in sublist]\n",
    "all_neutral_tokens = [token for sublist in neutral_tweets for token in sublist]\n",
    "\n",
    "# Create frequency distributions for positive, negative, and neutral tokens\n",
    "positive_freq_dist = FreqDist(all_positive_tokens)\n",
    "negative_freq_dist = FreqDist(all_negative_tokens)\n",
    "neutral_freq_dist = FreqDist(all_neutral_tokens)\n",
    "\n",
    "# Get the top 10 most common positive, negative, and neutral tokens and their frequencies\n",
    "top_positive_tokens = positive_freq_dist.most_common(10)\n",
    "top_negative_tokens = negative_freq_dist.most_common(10)\n",
    "top_neutral_tokens = neutral_freq_dist.most_common(10)\n",
    "\n",
    "tokens_positive, frequencies_positive = zip(*top_positive_tokens)\n",
    "tokens_negative, frequencies_negative = zip(*top_negative_tokens)\n",
    "tokens_neutral, frequencies_neutral = zip(*top_neutral_tokens)"
   ]
  },
  {
   "cell_type": "code",

   "execution_count": 139,

   "execution_count": 26,

   "metadata": {},
   "outputs": [
    {
     "data": {
      "image/png": "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",
      "text/plain": [
       "<Figure size 720x432 with 1 Axes>"
      ]
     },
     "metadata": {
      "needs_background": "light"
     },
     "output_type": "display_data"
    }
   ],
   "source": [
    "# Plot the frequency distribution of the most common tokens for positive emotion\n",
    "plt.figure(figsize=(10, 6))\n",
    "plt.bar(tokens_positive, frequencies_positive)\n",
    "plt.xlabel('Tokens')\n",
    "plt.ylabel('Frequency')\n",
    "plt.title('Frequency Distribution of Top 10 Tokens for Positive Emotion')\n",
    "plt.xticks(rotation=90)\n",
    "plt.show()"
   ]
  },
  {
   "cell_type": "code",

   "execution_count": 140,

   "execution_count": 27,

   "metadata": {},
   "outputs": [
    {
     "data": {
      "image/png": "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",
      "text/plain": [
       "<Figure size 720x432 with 1 Axes>"
      ]
     },
     "metadata": {
      "needs_background": "light"
     },
     "output_type": "display_data"
    }
   ],
   "source": [
    "# Plot the frequency distribution of the most common tokens for negative emotion\n",
    "plt.figure(figsize=(10, 6))\n",
    "plt.bar(tokens_negative, frequencies_negative)\n",
    "plt.xlabel('Tokens')\n",
    "plt.ylabel('Frequency')\n",
    "plt.title('Frequency Distribution of Top 10 Tokens for Negative Emotion')\n",
    "plt.xticks(rotation=90)\n",
    "plt.show()\n"
   ]
  },
  {
   "cell_type": "code",

   "execution_count": 141,

   "execution_count": 28,

   "metadata": {},
   "outputs": [
    {
     "data": {
      "image/png": "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",
      "text/plain": [
       "<Figure size 720x432 with 1 Axes>"
      ]
     },
     "metadata": {
      "needs_background": "light"
     },
     "output_type": "display_data"
    }
   ],
   "source": [
    "# Plot the frequency distribution of the most common tokens for neutral emotion\n",
    "plt.figure(figsize=(10, 6))\n",
    "plt.bar(tokens_neutral, frequencies_neutral)\n",
    "plt.xlabel('Tokens')\n",
    "plt.ylabel('Frequency')\n",
    "plt.title('Frequency Distribution of Top 10 Tokens for Neutral Emotion')\n",
    "plt.xticks(rotation=90)\n",
    "plt.show()"
   ]
  },
  {
   "cell_type": "code",

   "execution_count": 142,

   "execution_count": 29,

   "metadata": {
    "scrolled": true
   },
   "outputs": [
    {
     "data": {
      "image/png": "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",
      "text/plain": [
       "<Figure size 720x432 with 1 Axes>"
      ]
     },
     "metadata": {
      "needs_background": "light"
     },
     "output_type": "display_data"
    }
   ],
   "source": [
    "# Concatenate all preprocessed_text into a single list\n",
    "all_tokens = [token for sublist in data[\"preprocessed_text\"] for token in sublist]\n",
    "\n",
    "# Create a frequency distribution of tokens\n",
    "freq_dist = FreqDist(all_tokens)\n",
    "\n",
    "# Get the top 10 most common tokens and their frequencies\n",
    "top_tokens = freq_dist.most_common(10)\n",
    "tokens, frequencies = zip(*top_tokens)\n",
    "# Plot the frequency distribution in a bar graph\n",
    "plt.figure(figsize=(10, 6))\n",
    "plt.bar(tokens, frequencies)\n",
    "plt.xlabel('Tokens')\n",
    "plt.ylabel('Frequency')\n",
    "plt.title('Frequency Distribution of Top 10 Tokens in the entire dataset')\n",
    "plt.xticks(rotation=90)\n",
    "plt.show()"
   ]
  },
  {
   "attachments": {},
   "cell_type": "markdown",
   "metadata": {},
   "source": [
    "## <b> Feature Engineering </b>\n",
    "\n",
    "Groups Apple and Google products together. "
   ]
  },
  {
   "cell_type": "code",

   "execution_count": 143,

   "execution_count": 30,

   "metadata": {},
   "outputs": [
    {
     "data": {
      "text/html": [
       "<div>\n",
       "<style scoped>\n",
       "    .dataframe tbody tr th:only-of-type {\n",
       "        vertical-align: middle;\n",
       "    }\n",
       "\n",
       "    .dataframe tbody tr th {\n",
       "        vertical-align: top;\n",
       "    }\n",
       "\n",
       "    .dataframe thead th {\n",
       "        text-align: right;\n",
       "    }\n",
       "</style>\n",
       "<table border=\"1\" class=\"dataframe\">\n",
       "  <thead>\n",
       "    <tr style=\"text-align: right;\">\n",
       "      <th></th>\n",
       "      <th>Tweet</th>\n",
       "      <th>Product/Brand</th>\n",
       "      <th>Emotion</th>\n",
       "      <th>preprocessed_text</th>\n",
       "      <th>Brand</th>\n",
       "    </tr>\n",
       "  </thead>\n",
       "  <tbody>\n",
       "    <tr>\n",
       "      <th>0</th>\n",
       "      <td>.@wesley83 I have a 3G iPhone. After 3 hrs tweeting at #RISE_Austin, it was dead!  I need to upgrade. Plugin stations at #SXSW.</td>\n",
       "      <td>iPhone</td>\n",
       "      <td>Negative</td>\n",
       "      <td>[3g, iphon, 3, hr, tweet, #rise_austin, dead, need, upgrad, plugin, station, #sxsw]</td>\n",
       "      <td>Apple</td>\n",
       "    </tr>\n",
       "    <tr>\n",
       "      <th>1</th>\n",
       "      <td>@jessedee Know about @fludapp ? Awesome iPad/iPhone app that you'll likely appreciate for its design. Also, they're giving free Ts at #SXSW</td>\n",
       "      <td>iPad or iPhone App</td>\n",
       "      <td>Positive</td>\n",
       "      <td>[know, awesom, ipad, iphon, app, like, appreci, design, also, they'r, give, free, ts, #sxsw]</td>\n",
       "      <td>Apple</td>\n",
       "    </tr>\n",
       "    <tr>\n",
       "      <th>2</th>\n",
       "      <td>@swonderlin Can not wait for #iPad 2 also. They should sale them down at #SXSW.</td>\n",
       "      <td>iPad</td>\n",
       "      <td>Positive</td>\n",
       "      <td>[wait, #ipad, 2, also, sale, #sxsw]</td>\n",
       "      <td>Apple</td>\n",
       "    </tr>\n",
       "    <tr>\n",
       "      <th>3</th>\n",
       "      <td>@sxsw I hope this year's festival isn't as crashy as this year's iPhone app. #sxsw</td>\n",
       "      <td>iPad or iPhone App</td>\n",
       "      <td>Negative</td>\n",
       "      <td>[hope, year', festiv, crashi, year', iphon, app, #sxsw]</td>\n",
       "      <td>Apple</td>\n",
       "    </tr>\n",
       "    <tr>\n",
       "      <th>4</th>\n",
       "      <td>@sxtxstate great stuff on Fri #SXSW: Marissa Mayer (Google), Tim O'Reilly (tech books/conferences) &amp;amp; Matt Mullenweg (Wordpress)</td>\n",
       "      <td>Google</td>\n",
       "      <td>Positive</td>\n",
       "      <td>[great, stuff, fri, #sxsw, marissa, mayer, googl, tim, o'reilli, tech, book, confer, matt, mullenweg, wordpress]</td>\n",
       "      <td>Google</td>\n",
       "    </tr>\n",
       "  </tbody>\n",
       "</table>\n",
       "</div>"
      ],
      "text/plain": [
       "                                                                                                                                         Tweet  \\\n",
       "0              .@wesley83 I have a 3G iPhone. After 3 hrs tweeting at #RISE_Austin, it was dead!  I need to upgrade. Plugin stations at #SXSW.   \n",
       "1  @jessedee Know about @fludapp ? Awesome iPad/iPhone app that you'll likely appreciate for its design. Also, they're giving free Ts at #SXSW   \n",
       "2                                                              @swonderlin Can not wait for #iPad 2 also. They should sale them down at #SXSW.   \n",
       "3                                                           @sxsw I hope this year's festival isn't as crashy as this year's iPhone app. #sxsw   \n",
       "4          @sxtxstate great stuff on Fri #SXSW: Marissa Mayer (Google), Tim O'Reilly (tech books/conferences) &amp; Matt Mullenweg (Wordpress)   \n",
       "\n",
       "        Product/Brand   Emotion  \\\n",
       "0              iPhone  Negative   \n",
       "1  iPad or iPhone App  Positive   \n",
       "2                iPad  Positive   \n",
       "3  iPad or iPhone App  Negative   \n",
       "4              Google  Positive   \n",
       "\n",
       "                                                                                                  preprocessed_text  \\\n",
       "0                               [3g, iphon, 3, hr, tweet, #rise_austin, dead, need, upgrad, plugin, station, #sxsw]   \n",
       "1                      [know, awesom, ipad, iphon, app, like, appreci, design, also, they'r, give, free, ts, #sxsw]   \n",
       "2                                                                               [wait, #ipad, 2, also, sale, #sxsw]   \n",
       "3                                                           [hope, year', festiv, crashi, year', iphon, app, #sxsw]   \n",
       "4  [great, stuff, fri, #sxsw, marissa, mayer, googl, tim, o'reilli, tech, book, confer, matt, mullenweg, wordpress]   \n",
       "\n",
       "    Brand  \n",
       "0   Apple  \n",
       "1   Apple  \n",
       "2   Apple  \n",
       "3   Apple  \n",
       "4  Google  "
      ]
     },

     "execution_count": 143,

     "execution_count": 30,

     "metadata": {},
     "output_type": "execute_result"
    }
   ],
   "source": [
    "#mapping products to brands\n",
    "brand_dict={'iPhone': 'Apple', 'iPad or iPhone App': 'Apple', 'iPad': 'Apple', \n",
    "            'Google': 'Google', 'Unknown': 'Unknown',\n",
    "            'Android': 'Google', 'Apple': 'Apple', 'Android App': 'Google',\n",
    "            'Other Google product or service': 'Google',\n",
    "            'Other Apple product or service': 'Apple'}\n",
    "data['Brand'] = data['Product/Brand'].map(brand_dict)\n",
    "data['Brand'].unique()\n",
    "data.head()"
   ]
  },
  {
   "cell_type": "code",

   "execution_count": 144,

   "execution_count": 31,

   "metadata": {},
   "outputs": [
    {
     "data": {
      "image/png": "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",
      "text/plain": [
       "<Figure size 576x432 with 1 Axes>"
      ]
     },
     "metadata": {
      "needs_background": "light"
     },
     "output_type": "display_data"
    }
   ],
   "source": [
    "# Counts the number of Apple and Google brands\n",
    "apple_count = data[data['Brand'] == 'Apple'].shape[0]\n",
    "google_count = data[data['Brand'] == 'Google'].shape[0]\n",
    "\n",
    "# Creates a bar graph of the brand counts\n",
    "brands = ['Apple', 'Google']\n",
    "counts = [apple_count, google_count]\n",
    "\n",
    "plt.figure(figsize=(8, 6))\n",
    "plt.bar(brands, counts)\n",
    "plt.xlabel('Brand')\n",
    "plt.ylabel('Count')\n",
    "plt.title('Number of Apple and Google Brands')\n",
    "plt.show()"
   ]
  },
  {
   "cell_type": "code",

   "execution_count": 145,

   "execution_count": 32,

   "metadata": {},
   "outputs": [
    {
     "data": {
      "text/plain": [
       "<AxesSubplot:xlabel='Brand', ylabel='count'>"
      ]
     },

     "execution_count": 145,

     "execution_count": 32,

     "metadata": {},
     "output_type": "execute_result"
    },
    {
     "data": {
      "image/png": "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",
      "text/plain": [
       "<Figure size 432x288 with 1 Axes>"
      ]
     },
     "metadata": {
      "needs_background": "light"
     },
     "output_type": "display_data"
    }
   ],
   "source": [
    "sns.countplot(data=data, x=\"Brand\", hue=\"Emotion\")"
   ]
  },
  {
   "cell_type": "code",

   "execution_count": 146,

   "execution_count": 33,

   "metadata": {},
   "outputs": [
    {
     "data": {
      "text/plain": [
       "[(('ipad', '2'), 0.010138056191625415),\n",
       " (('link', '#sxsw'), 0.008104744078216005),\n",
       " (('#sxsw', 'link'), 0.007629671154522219),\n",
       " (('#sxsw', 'rt'), 0.006175948008019231),\n",
       " (('appl', 'store'), 0.005140289034366775),\n",
       " (('link', 'rt'), 0.0050832802835235205),\n",
       " (('social', 'network'), 0.004266154854770207),\n",
       " (('new', 'social'), 0.003829087764971923),\n",
       " (('googl', 'launch'), 0.003259000256539379),\n",
       " (('network', 'call'), 0.002964455043849231),\n",
       " (('call', 'circl'), 0.0028694404591104736),\n",
       " (('rt', 'googl'), 0.0027649244158978402),\n",
       " (('appl', 'open'), 0.002736420040476213),\n",
       " (('major', 'new'), 0.0027174171235284615),\n",
       " (('#sxsw', 'appl'), 0.002641405455737456),\n",
       " (('launch', 'major'), 0.002641405455737456),\n",
       " (('store', '#sxsw'), 0.00256539378794645),\n",
       " (('pop-up', 'store'), 0.002441874827786065),\n",
       " (('austin', '#sxsw'), 0.0024133704523644378),\n",
       " (('link', 'via'), 0.002375364618468935),\n",
       " (('today', 'link'), 0.002365863159995059),\n",
       " (('#sxsw', 'ipad'), 0.0022233412828869233),\n",
       " (('iphon', 'app'), 0.0022138398244130474),\n",
       " (('possibl', 'today'), 0.002194836907465296),\n",
       " (('#sxsw', 'googl'), 0.0021663325320436687),\n",
       " (('circl', 'possibl'), 0.0020998223227265385),\n",
       " (('rt', 'rt'), 0.0018527844024057692),\n",
       " (('temporari', 'store'), 0.001824280026984142),\n",
       " (('#sxsw', '#sxswi'), 0.001748268359193136),\n",
       " (('store', 'austin'), 0.0017292654422453846),\n",
       " (('downtown', 'austin'), 0.0017007610668237575),\n",
       " (('googl', 'map'), 0.0016912596083498816),\n",
       " (('store', 'downtown'), 0.001643752315980503),\n",
       " (('\\x89', 'ûï'), 0.0016342508575066272),\n",
       " (('\\x89', 'û'), 0.0015772421066633728),\n",
       " (('rt', '#sxsw'), 0.0015487377312417457),\n",
       " (('marissa', 'mayer'), 0.0015202333558201183),\n",
       " (('googl', 'circl'), 0.0014727260634507396),\n",
       " (('open', 'temporari'), 0.001463224604976864),\n",
       " (('2', 'launch'), 0.0014347202295552368),\n",
       " (('ipad', 'app'), 0.0014157173126074852),\n",
       " (('rt', 'appl'), 0.0014062158541336095),\n",
       " (('û', '\\x9d'), 0.0014062158541336095),\n",
       " (('2', '#sxsw'), 0.001282696893973225),\n",
       " (('sxsw', 'link'), 0.0012256881431299705),\n",
       " (('open', 'pop-up'), 0.0012066852261822189),\n",
       " (('new', 'ipad'), 0.0011876823092344675),\n",
       " (('...', 'link'), 0.0011781808507605918),\n",
       " (('#sxsw', '\\x89'), 0.0010736648075479586),\n",
       " (('launch', 'link'), 0.0010736648075479586)]"
      ]
     },

     "execution_count": 146,

     "execution_count": 33,

     "metadata": {},
     "output_type": "execute_result"
    }
   ],
   "source": [
    "bigram_measures = BigramAssocMeasures()\n",
    "\n",
    "# Flatten the list of lists into a single list\n",
    "word_list = list(itertools.chain.from_iterable(data['preprocessed_text']))\n",
    "\n",
    "tweet_finder = BigramCollocationFinder.from_words(word_list)\n",
    "tweet_scored = tweet_finder.score_ngrams(bigram_measures.raw_freq)\n",
    "tweet_scored[:50]\n"
   ]
  },
  {
   "attachments": {},
   "cell_type": "markdown",
   "metadata": {},
   "source": [
    "### Reviewing user sentiments on specific products and brands"
   ]
  },
  {
   "attachments": {},
   "cell_type": "markdown",
   "metadata": {},
   "source": [
    "A function that takes in a specific Product and analyzes sentiments"
   ]
  },
  {
   "cell_type": "code",

   "execution_count": 147,

   "execution_count": 34,

   "metadata": {},
   "outputs": [],
   "source": [
    "\n",
    "def analyze_sentiments_product(data, brand, emotion, top_n):\n",
    "    # Filter the dataset for the specified brand and emotion\n",
    "    brand_data = data[(data['Product/Brand'] == brand) & (data['Emotion'] == emotion)]\n",
    "\n",
    "    # Concatenate all preprocessed text into a single list\n",
    "    brand_tokens = [token for sublist in brand_data['preprocessed_text'] for token in sublist]\n",
    "\n",
    "    # Create a frequency distribution of tokens\n",
    "    brand_freq_dist = FreqDist(brand_tokens)\n",
    "\n",
    "    # Get the most common tokens\n",
    "    top_tokens = brand_freq_dist.most_common(top_n)\n",
    "\n",
    "    # Extract the tokens and frequencies\n",
    "    tokens, frequencies = zip(*top_tokens)\n",
    "\n",
    "    # Plot the frequency distribution\n",
    "    plt.figure(figsize=(10, 6))\n",
    "    plt.bar(tokens, frequencies)\n",
    "    plt.xlabel('Tokens')\n",
    "    plt.ylabel('Frequency')\n",
    "    plt.title(f'Top {top_n} {emotion.capitalize()} {brand} {\"\" if top_n == 1 else \"s\"}')\n",
    "    plt.xticks(rotation=90)\n",
    "    plt.show()\n"
   ]
  },
  {
   "attachments": {},
   "cell_type": "markdown",
   "metadata": {},
   "source": [
    "A function that takes the Brand as an argument and analyzes the sentiments"
   ]
  },
  {
   "cell_type": "code",
   "execution_count": 148,
   "metadata": {},
   "outputs": [],
   "source": [
    "\n",
    "def analyze_sentiments(data, brand, emotion, top_n):\n",
    "    # Filter the dataset for the specified brand and emotion\n",
    "    brand_data = data[(data['Brand'] == brand) & (data['Emotion'] == emotion)]\n",
    "\n",
    "    # Concatenate all preprocessed text into a single list\n",
    "    brand_tokens = [token for sublist in brand_data['preprocessed_text'] for token in sublist]\n",
    "\n",
    "    # Create a frequency distribution of tokens\n",
    "    brand_freq_dist = FreqDist(brand_tokens)\n",
    "\n",
    "    # Get the most common tokens\n",
    "    top_tokens = brand_freq_dist.most_common(top_n)\n",
    "\n",
    "    # Extract the tokens and frequencies\n",
    "    tokens, frequencies = zip(*top_tokens)\n",
    "\n",
    "    # Plot the frequency distribution\n",
    "    plt.figure(figsize=(10, 6))\n",
    "    plt.bar(tokens, frequencies)\n",
    "    plt.xlabel('Tokens')\n",
    "    plt.ylabel('Frequency')\n",
    "    plt.title(f'Top {top_n} {emotion.capitalize()} {brand} {\"\" if top_n == 1 else \"s\"}')\n",
    "    plt.xticks(rotation=90)\n",
    "    plt.show()"
   ]
  },
  {
   "attachments": {},
   "cell_type": "markdown",
   "metadata": {},
   "source": [
    "Sentiments on the Apple Brand"
   ]
  },
  {
   "attachments": {},
   "cell_type": "markdown",
   "metadata": {},
   "source": [
    "Complaints"
   ]
  },
  {
   "cell_type": "code",

   "execution_count": 149,

   "execution_count": 35,

   "metadata": {},
   "outputs": [
    {
     "data": {

      "image/png": "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",
      "text/plain": [
       "<Figure size 720x432 with 1 Axes>"
      ]
     },
     "metadata": {
      "needs_background": "light"
     },
     "output_type": "display_data"
    }
   ],
   "source": [
    "analyze_sentiments(data, \"Apple\", \"Negative\", 20)"
   ]
  },
  {
   "attachments": {},
   "cell_type": "markdown",
   "metadata": {},
   "source": [
    "Noteworthy words used in apple product complaints are:\n",
    "* iPhone\n",
    "* design\n"
   ]
  },
  {
   "attachments": {},
   "cell_type": "markdown",
   "metadata": {},
   "source": [
    "Praises"
   ]
  },
  {
   "cell_type": "code",
   "execution_count": 150,
   "metadata": {},
   "outputs": [
    {
     "data": {
      "image/png": "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",
      "text/plain": [
       "<Figure size 720x432 with 1 Axes>"
      ]
     },
     "metadata": {
      "needs_background": "light"
     },
     "output_type": "display_data"
    }
   ],
   "source": [
    "analyze_sentiments(data, \"Apple\", \"Positive\", 25)"
   ]
  },
  {
   "attachments": {},
   "cell_type": "markdown",
   "metadata": {},
   "source": [
    "Noteworthy words used in apple product praises are:\n",
    "\n",
    "* ipad\n",
    "* ipad 2"
   ]
  },
  {
   "attachments": {},
   "cell_type": "markdown",
   "metadata": {},
   "source": [
    "Because from this analysis, the iphone and ipad are the most popular products, the sentiments on apple products were analyzed, focussing on these products. The following charts show iphone praises and complaints respectively:"
   ]
  },
  {
   "cell_type": "code",
   "execution_count": 151,
   "metadata": {},
   "outputs": [
    {
     "data": {
      "image/png": "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",
      "text/plain": [
       "<Figure size 720x432 with 1 Axes>"
      ]
     },
     "metadata": {
      "needs_background": "light"
     },
     "output_type": "display_data"
    }
   ],
   "source": [
    "analyze_sentiments_product(data, 'iPhone', 'Negative', 20)"
   ]
  },
  {
   "attachments": {},
   "cell_type": "markdown",
   "metadata": {},
   "source": [
    "Noteworthy words used in iphone complaints are:\n",
    "* Battery\n",
    "* app\n",
    "* charge"
   ]
  },
  {
   "cell_type": "code",
   "execution_count": 152,
   "metadata": {},
   "outputs": [
    {
     "data": {
      "image/png": "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",
      "text/plain": [
       "<Figure size 720x432 with 1 Axes>"
      ]
     },
     "metadata": {
      "needs_background": "light"
     },
     "output_type": "display_data"
    }
   ],
   "source": [
    "analyze_sentiments_product(data, 'iPhone', 'Positive', 30)"
   ]
  },
  {
   "attachments": {},
   "cell_type": "markdown",
   "metadata": {},
   "source": [
    "Noteworthy words used to praise the iphone are:\n",
    "* pop-up\n",
    "* Case \n",
    "* Charger"
   ]
  },
  {
   "attachments": {},
   "cell_type": "markdown",
   "metadata": {},
   "source": [
    "Sentiments on the Google Brand"
   ]
  },
  {
   "attachments": {},
   "cell_type": "markdown",
   "metadata": {},
   "source": [
    "Complaints"
   ]
  },
  {
   "cell_type": "code",
   "execution_count": 153,
   "metadata": {},
   "outputs": [
    {
     "data": {
      "image/png": "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",
      "text/plain": [
       "<Figure size 720x432 with 1 Axes>"
      ]
     },
     "metadata": {
      "needs_background": "light"
     },
     "output_type": "display_data"
    }
   ],
   "source": [
    "analyze_sentiments(data, \"Google\", \"Negative\", 30)"
   ]
  },
  {
   "attachments": {},
   "cell_type": "markdown",
   "metadata": {},
   "source": [
    "Noteworthy words used in google product complaints are:\n",
    "\n",
    "* 'android'\n",
    "* 'service'"
   ]
  },
  {
   "attachments": {},
   "cell_type": "markdown",
   "metadata": {},
   "source": [
    "Praises"
   ]
  },
  {
   "cell_type": "code",
   "execution_count": 154,
   "metadata": {},
   "outputs": [
    {
     "data": {
      "image/png": "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",
      "text/plain": [
       "<Figure size 720x432 with 1 Axes>"
      ]
     },
     "metadata": {
      "needs_background": "light"
     },
     "output_type": "display_data"
    }
   ],
   "source": [
    "analyze_sentiments(data, \"Google\", \"Positive\", 20)"
   ]
  },
  {
   "attachments": {},
   "cell_type": "markdown",
   "metadata": {},
   "source": [
    "Noteworthy words used in Google product praises are:\n",
    "\n",
    "* Circle\n",
    "* map"
   ]
  },
  {
   "attachments": {},
   "cell_type": "markdown",
   "metadata": {},
   "source": [
    "A function that takes in noteworthy words and produces a sample of tweets that contain that word for review"
   ]
  },
  {
   "cell_type": "code",
   "execution_count": 155,
   "metadata": {},
   "outputs": [],
   "source": [
    "def get_tweets_with_word(data, word, sample_size=10):\n",
    "    # Filter the dataset to include only tweets containing the specified word\n",
    "    filtered_tweets = data[data['preprocessed_text'].apply(lambda x: word in x)]\n",
    "    \n",
    "    # Randomly sample tweets from the filtered dataset\n",
    "    sampled_tweets = filtered_tweets.sample(n=sample_size)\n",
    "    \n",
    "    # Return the sampled tweets\n",
    "    return sampled_tweets['Tweet']"
   ]
  },
  {
   "cell_type": "code",
   "execution_count": 156,
   "metadata": {},
   "outputs": [
    {
     "name": "stdout",
     "output_type": "stream",
     "text": [
      "RT @mention Google quash Circles rumours RT @mention We're not launching any products at #SXSW but we're doing plenty else ht\n",
      "---\n",
      "New circle game? RT @mention  @mention Google (tries again) to launch new social network called Circles: {link} #sxsw\n",
      "---\n",
      "Anonymity: Zuckerberg &quot;wrong&quot; says 4chan's Moot #SXSW {link} VIA @mention Google circles opportunity with profiles?\n",
      "---\n",
      "#Google to Launch Major New Social Network Called Circles, Possibly Today {link} #socailmedia #facebook #networks #sxsw #tech\n",
      "---\n",
      "Google Circles will not launch at #SXSW - {link}\n",
      "---\n",
      "RT @mention RT @mention Google 2 Launch Major New Social Network Called Circles, Possibly Today {link} #sxsw\n",
      "---\n",
      "Google and ACLU are buddies?ÛÏ@mention Google to Launch Major New Social Network Called Circles, Possibly Today {link} #sxswÛ\n",
      "---\n",
      "Sounds intriguing... RT @mention Lots of chatter around Google's new social network, Circles #SXSW -KEK\n",
      "---\n",
      "Google to Launch Major New Social Network Called Circles, Possibly Today by @mention {link} via @mention #SXSW\n",
      "---\n",
      "RT @mention Google (tries again) to launch a new social network called Circles: {link} #sxsw\n",
      "---\n",
      "RT @mention OOOOrkut? RT @mention RT @mention Google to Launch Major New Social Network Called Circles, Possibly Today {link} #sxsw\n",
      "---\n",
      "B_social! RT @mention Google to Launch Major New Social Network Called Circles, Possibly Today {link} #sxsw #in\n",
      "---\n",
      "ÛÏ@mention Google to Launch Major New Social Network Called Circles, Possibly Today {link} #sxswÛ te dije wey @mention\n",
      "---\n",
      "If u read d article,google say it's a rumor ÛÏ@mention to Launch Major New Social Network Called Circles,{link} #sxswÛ\n",
      "---\n",
      "Trend Google Circles: Google Circles, a new social site in the works. Will not debut @mention #sxsw #sxswi, but @mention does not deny the ex...\n",
      "---\n"
     ]
    }
   ],
   "source": [
    "word = 'circl'  # The word you want to search for\n",
    "sample_size = 15  # Number of tweets to retrieve\n",
    "\n",
    "sampled_tweets = get_tweets_with_word(data, word, sample_size)\n",
    "\n",
    "# Print the sampled tweets\n",
    "for tweet in sampled_tweets:\n",
    "    print(tweet)\n",
    "    print('---')"
   ]
  },
  {
   "cell_type": "code",
   "execution_count": 157,
   "metadata": {},
   "outputs": [
    {
     "name": "stdout",
     "output_type": "stream",
     "text": [
      "I believe it - I almost always use Google Maps on my iPhone RT @mention 40% of Google Maps use is Mobile says @mention #sxsw\n",
      "---\n",
      "RT @mention 'Route around traffic' google maps feature is saving their users 2 years in time. Every day. #SXSW #holytrafficjams\n",
      "---\n",
      "RT @mention Interesting Google Mobile Stats at #SXSW - 40% of all Google Maps users (150 million) come from #mobile {link}\n",
      "---\n",
      "150 mm usar of Google maps ate mobile. #sxsw\n",
      "---\n",
      "Users drive 12B+ miles a year with Google Maps Navigation ^JR #sxsw\n",
      "---\n",
      "Google's Marissa Mayer extolling coolness of Google Mobile Maps v 5.2 &quot;Mobile surpassed desktop usage 4 1st time this year.&quot; #sxsw #sxswi\n",
      "---\n",
      "There is a great festival #app for #sxsw featured on the app store works with google maps and plan schedule, and it's #free\n",
      "---\n",
      "Now there are 150 million mobile google maps users @mention #sxsw\n",
      "---\n",
      "RT @mention #SXSW - Google Maps on Mobile devices from the VP - {link}\n",
      "---\n",
      "RT @mention A free heat map app of 4sq check-ins at #SXSW see @mention Hot Spots @mention SXSW. Now on WP7 &amp; iPhone #wedig\n",
      "---\n",
      "RT @mention I'm live-tweeting #SXSW now at @mention RT @mention Users drive 12B+ miles a year with Google Maps Navigation ^JR\n",
      "---\n",
      "Google Hotpot activity map for this week in Austin, TX before #SxSW #SUxSW {link}\n",
      "---\n",
      "Marissa Mayer: &quot;Our focus is on location based services.&quot; Demoed Hotpot, Google Maps, vector maps, augmented reality. #sxsw #webvisions\n",
      "---\n",
      "Who's gonna leave #SXSW tomorrow at 5pm to go purchase #iPad2? Map to Store: {link}\n",
      "---\n",
      "Getting ready to hear about the @mention road map from VP Product Marissa Mayer.  Pls tell me you're going to focus on search.... #SXSW\n",
      "---\n"
     ]
    }
   ],
   "source": [
    "word = 'map'  # The word you want to search for\n",
    "sample_size = 15  # Number of tweets to retrieve\n",
    "\n",
    "sampled_tweets = get_tweets_with_word(data, word, sample_size)\n",
    "\n",
    "# Print the sampled tweets\n",
    "for tweet in sampled_tweets:\n",
    "    print(tweet)\n",
    "    print('---')"
   ]
  },
  {
   "attachments": {},
   "cell_type": "markdown",
   "metadata": {},
   "source": [
    "### Summary of customer sentiments for Google and apple products:"
   ]
  },
  {
   "attachments": {},
   "cell_type": "markdown",
   "metadata": {},
   "source": [
    "**Praises** of Apple Products:\n",
    "\n",
    "* The ipad 2 was launched and customers seemed to enjoy the improvement in     design made over the ipad.\n",
    "* The new iphone cases released during the SXSW Conference recieved a lot of attention on the tweets and the comments were generally very positive.\n",
    "* There was a tweet thread of 'iphone vs android' and iphone was the more popular choice among users.\n",
    "* The pop-up store in Austin created a lot of attention on the tweets and users in that area generally enjoyed the experience there.\n",
    "\n",
    "**Complaints** of Apple Products:\n",
    "\n",
    "* The battery life of the iphone was a major source of complaint. Users complained that it does not last a whole day.\n",
    "* The apple music app was described by some users as \"one of the worst apps I have had to use in a long time\"\n",
    "* The increase in size of the new ipad 2 was disapproved by some users as 'too big'\n",
    "\n",
    "**Praises** of Google Products:\n",
    "\n",
    "* The PacMan app on Android Opertaing system was praised.\n",
    "* Users were very interested in Google maps and it proved to be the most popular Maps application with Marrissa Mayer stating that, \"Usage of google maps surpused online use in the past couple of months\" and that there were 150 million google map users.\n",
    "* Google chrome browser had positive reviews when compared to Windows explorer with one user explaining that, \"The switch is done immediately they buy a new laptop\"\n",
    "* A new Circle social media app the was roumoured to be launched created a lot of excitement among twitter users ahead of the launch event\n",
    "\n",
    "**Complaints** of Google Products:\n",
    "\n",
    "* The Android operating system was the biggest pain point for most users who tweeted with bugs being the major source of concern, one user describing the experience as 'Painful'\n",
    "* Samsung products have been mentioned with the Android discussion and users stated that its implementation of android was better than that in google devices. \n",
    "* Customer service at google was an issue with users complaining of a lack of refunds when returning faulty devices e.g the Nexus smartphone"
   ]
  },
  {
   "attachments": {},
   "cell_type": "markdown",
   "metadata": {},
   "source": [
    "# Modelling"
   ]
  },
  {
   "cell_type": "code",
   "execution_count": 89,
   "metadata": {},
   "outputs": [
    {
     "data": {
      "text/html": [
       "<div>\n",
       "<style scoped>\n",
       "    .dataframe tbody tr th:only-of-type {\n",
       "        vertical-align: middle;\n",
       "    }\n",
       "\n",
       "    .dataframe tbody tr th {\n",
       "        vertical-align: top;\n",
       "    }\n",
       "\n",
       "    .dataframe thead th {\n",
       "        text-align: right;\n",
       "    }\n",
       "</style>\n",
       "<table border=\"1\" class=\"dataframe\">\n",
       "  <thead>\n",
       "    <tr style=\"text-align: right;\">\n",
       "      <th></th>\n",
       "      <th>Tweet</th>\n",
       "      <th>Product/Brand</th>\n",
       "      <th>Emotion</th>\n",
       "      <th>preprocessed_text</th>\n",
       "      <th>Brand</th>\n",
       "    </tr>\n",
       "  </thead>\n",
       "  <tbody>\n",
       "    <tr>\n",
       "      <th>0</th>\n",
       "      <td>.@wesley83 I have a 3G iPhone. After 3 hrs tweeting at #RISE_Austin, it was dead!  I need to upgrade. Plugin stations at #SXSW.</td>\n",
       "      <td>iPhone</td>\n",
       "      <td>Negative</td>\n",
       "      <td>[3g, iphon, 3, hr, tweet, #rise_austin, dead, need, upgrad, plugin, station, #sxsw]</td>\n",
       "      <td>Apple</td>\n",
       "    </tr>\n",
       "    <tr>\n",
       "      <th>1</th>\n",
       "      <td>@jessedee Know about @fludapp ? Awesome iPad/iPhone app that you'll likely appreciate for its design. Also, they're giving free Ts at #SXSW</td>\n",
       "      <td>iPad or iPhone App</td>\n",
       "      <td>Positive</td>\n",
       "      <td>[know, awesom, ipad, iphon, app, like, appreci, design, also, they'r, give, free, ts, #sxsw]</td>\n",
       "      <td>Apple</td>\n",
       "    </tr>\n",
       "    <tr>\n",
       "      <th>2</th>\n",
       "      <td>@swonderlin Can not wait for #iPad 2 also. They should sale them down at #SXSW.</td>\n",
       "      <td>iPad</td>\n",
       "      <td>Positive</td>\n",
       "      <td>[wait, #ipad, 2, also, sale, #sxsw]</td>\n",
       "      <td>Apple</td>\n",
       "    </tr>\n",
       "    <tr>\n",
       "      <th>3</th>\n",
       "      <td>@sxsw I hope this year's festival isn't as crashy as this year's iPhone app. #sxsw</td>\n",
       "      <td>iPad or iPhone App</td>\n",
       "      <td>Negative</td>\n",
       "      <td>[hope, year', festiv, crashi, year', iphon, app, #sxsw]</td>\n",
       "      <td>Apple</td>\n",
       "    </tr>\n",
       "    <tr>\n",
       "      <th>4</th>\n",
       "      <td>@sxtxstate great stuff on Fri #SXSW: Marissa Mayer (Google), Tim O'Reilly (tech books/conferences) &amp;amp; Matt Mullenweg (Wordpress)</td>\n",
       "      <td>Google</td>\n",
       "      <td>Positive</td>\n",
       "      <td>[great, stuff, fri, #sxsw, marissa, mayer, googl, tim, o'reilli, tech, book, confer, matt, mullenweg, wordpress]</td>\n",
       "      <td>Google</td>\n",
       "    </tr>\n",
       "    <tr>\n",
       "      <th>...</th>\n",
       "      <td>...</td>\n",
       "      <td>...</td>\n",
       "      <td>...</td>\n",
       "      <td>...</td>\n",
       "      <td>...</td>\n",
       "    </tr>\n",
       "    <tr>\n",
       "      <th>9077</th>\n",
       "      <td>@mention your PR guy just convinced me to switch back to iPhone. Great #sxsw coverage. #princess</td>\n",
       "      <td>iPhone</td>\n",
       "      <td>Positive</td>\n",
       "      <td>[pr, guy, convinc, switch, back, iphon, great, #sxsw, coverag, #princess]</td>\n",
       "      <td>Apple</td>\n",
       "    </tr>\n",
       "    <tr>\n",
       "      <th>9079</th>\n",
       "      <td>&amp;quot;papyrus...sort of like the ipad&amp;quot; - nice! Lol! #SXSW Lavelle</td>\n",
       "      <td>iPad</td>\n",
       "      <td>Positive</td>\n",
       "      <td>[papyru, ..., sort, like, ipad, nice, lol, #sxsw, lavel]</td>\n",
       "      <td>Apple</td>\n",
       "    </tr>\n",
       "    <tr>\n",
       "      <th>9080</th>\n",
       "      <td>Diller says Google TV &amp;quot;might be run over by the PlayStation and the Xbox, which are essentially ready today.&amp;quot; #sxsw #diller</td>\n",
       "      <td>Other Google product or service</td>\n",
       "      <td>Negative</td>\n",
       "      <td>[diller, say, googl, tv, might, run, playstat, xbox, essenti, readi, today, #sxsw, #diller]</td>\n",
       "      <td>Google</td>\n",
       "    </tr>\n",
       "    <tr>\n",
       "      <th>9085</th>\n",
       "      <td>I've always used Camera+ for my iPhone b/c it has an image stabilizer mode. Suggestions for an iPad cam app w/ same feature? #SXSW #SXSWi</td>\n",
       "      <td>iPad or iPhone App</td>\n",
       "      <td>Positive</td>\n",
       "      <td>[i'v, alway, use, camera, iphon, b, c, imag, stabil, mode, suggest, ipad, cam, app, w, featur, #sxsw, #sxswi]</td>\n",
       "      <td>Apple</td>\n",
       "    </tr>\n",
       "    <tr>\n",
       "      <th>9088</th>\n",
       "      <td>Ipad everywhere. #SXSW {link}</td>\n",
       "      <td>iPad</td>\n",
       "      <td>Positive</td>\n",
       "      <td>[ipad, everywher, #sxsw, link]</td>\n",
       "      <td>Apple</td>\n",
       "    </tr>\n",
       "  </tbody>\n",
       "</table>\n",
       "<p>3539 rows × 5 columns</p>\n",
       "</div>"
      ],
      "text/plain": [
       "                                                                                                                                            Tweet  \\\n",
       "0                 .@wesley83 I have a 3G iPhone. After 3 hrs tweeting at #RISE_Austin, it was dead!  I need to upgrade. Plugin stations at #SXSW.   \n",
       "1     @jessedee Know about @fludapp ? Awesome iPad/iPhone app that you'll likely appreciate for its design. Also, they're giving free Ts at #SXSW   \n",
       "2                                                                 @swonderlin Can not wait for #iPad 2 also. They should sale them down at #SXSW.   \n",
       "3                                                              @sxsw I hope this year's festival isn't as crashy as this year's iPhone app. #sxsw   \n",
       "4             @sxtxstate great stuff on Fri #SXSW: Marissa Mayer (Google), Tim O'Reilly (tech books/conferences) &amp; Matt Mullenweg (Wordpress)   \n",
       "...                                                                                                                                           ...   \n",
       "9077                                             @mention your PR guy just convinced me to switch back to iPhone. Great #sxsw coverage. #princess   \n",
       "9079                                                                       &quot;papyrus...sort of like the ipad&quot; - nice! Lol! #SXSW Lavelle   \n",
       "9080        Diller says Google TV &quot;might be run over by the PlayStation and the Xbox, which are essentially ready today.&quot; #sxsw #diller   \n",
       "9085    I've always used Camera+ for my iPhone b/c it has an image stabilizer mode. Suggestions for an iPad cam app w/ same feature? #SXSW #SXSWi   \n",
       "9088                                                                                                                Ipad everywhere. #SXSW {link}   \n",
       "\n",
       "                        Product/Brand   Emotion  \\\n",
       "0                              iPhone  Negative   \n",
       "1                  iPad or iPhone App  Positive   \n",
       "2                                iPad  Positive   \n",
       "3                  iPad or iPhone App  Negative   \n",
       "4                              Google  Positive   \n",
       "...                               ...       ...   \n",
       "9077                           iPhone  Positive   \n",
       "9079                             iPad  Positive   \n",
       "9080  Other Google product or service  Negative   \n",
       "9085               iPad or iPhone App  Positive   \n",
       "9088                             iPad  Positive   \n",
       "\n",
       "                                                                                                     preprocessed_text  \\\n",
       "0                                  [3g, iphon, 3, hr, tweet, #rise_austin, dead, need, upgrad, plugin, station, #sxsw]   \n",
       "1                         [know, awesom, ipad, iphon, app, like, appreci, design, also, they'r, give, free, ts, #sxsw]   \n",
       "2                                                                                  [wait, #ipad, 2, also, sale, #sxsw]   \n",
       "3                                                              [hope, year', festiv, crashi, year', iphon, app, #sxsw]   \n",
       "4     [great, stuff, fri, #sxsw, marissa, mayer, googl, tim, o'reilli, tech, book, confer, matt, mullenweg, wordpress]   \n",
       "...                                                                                                                ...   \n",
       "9077                                         [pr, guy, convinc, switch, back, iphon, great, #sxsw, coverag, #princess]   \n",
       "9079                                                          [papyru, ..., sort, like, ipad, nice, lol, #sxsw, lavel]   \n",
       "9080                       [diller, say, googl, tv, might, run, playstat, xbox, essenti, readi, today, #sxsw, #diller]   \n",
       "9085     [i'v, alway, use, camera, iphon, b, c, imag, stabil, mode, suggest, ipad, cam, app, w, featur, #sxsw, #sxswi]   \n",
       "9088                                                                                    [ipad, everywher, #sxsw, link]   \n",
       "\n",
       "       Brand  \n",
       "0      Apple  \n",
       "1      Apple  \n",
       "2      Apple  \n",
       "3      Apple  \n",
       "4     Google  \n",
       "...      ...  \n",
       "9077   Apple  \n",
       "9079   Apple  \n",
       "9080  Google  \n",
       "9085   Apple  \n",
       "9088   Apple  \n",
       "\n",
       "[3539 rows x 5 columns]"
      ]
     },
     "execution_count": 89,
     "metadata": {},
     "output_type": "execute_result"
    }
   ],
   "source": [

      "text/html": [
       "<div>\n",
       "<style scoped>\n",
       "    .dataframe tbody tr th:only-of-type {\n",
       "        vertical-align: middle;\n",
       "    }\n",
       "\n",
       "    .dataframe tbody tr th {\n",
       "        vertical-align: top;\n",
       "    }\n",
       "\n",
       "    .dataframe thead th {\n",
       "        text-align: right;\n",
       "    }\n",
       "</style>\n",
       "<table border=\"1\" class=\"dataframe\">\n",
       "  <thead>\n",
       "    <tr style=\"text-align: right;\">\n",
       "      <th></th>\n",
       "      <th>Tweet</th>\n",
       "      <th>Product/Brand</th>\n",
       "      <th>Emotion</th>\n",
       "      <th>preprocessed_text</th>\n",
       "      <th>Brand</th>\n",
       "    </tr>\n",
       "  </thead>\n",
       "  <tbody>\n",
       "    <tr>\n",
       "      <th>0</th>\n",
       "      <td>.@wesley83 I have a 3G iPhone. After 3 hrs tweeting at #RISE_Austin, it was dead!  I need to upgrade. Plugin stations at #SXSW.</td>\n",
       "      <td>iPhone</td>\n",
       "      <td>Negative</td>\n",
       "      <td>[3g, iphon, 3, hr, tweet, #rise_austin, dead, need, upgrad, plugin, station, #sxsw]</td>\n",
       "      <td>Apple</td>\n",
       "    </tr>\n",
       "    <tr>\n",
       "      <th>1</th>\n",
       "      <td>@jessedee Know about @fludapp ? Awesome iPad/iPhone app that you'll likely appreciate for its design. Also, they're giving free Ts at #SXSW</td>\n",
       "      <td>iPad or iPhone App</td>\n",
       "      <td>Positive</td>\n",
       "      <td>[know, awesom, ipad, iphon, app, like, appreci, design, also, they'r, give, free, ts, #sxsw]</td>\n",
       "      <td>Apple</td>\n",
       "    </tr>\n",
       "    <tr>\n",
       "      <th>2</th>\n",
       "      <td>@swonderlin Can not wait for #iPad 2 also. They should sale them down at #SXSW.</td>\n",
       "      <td>iPad</td>\n",
       "      <td>Positive</td>\n",
       "      <td>[wait, #ipad, 2, also, sale, #sxsw]</td>\n",
       "      <td>Apple</td>\n",
       "    </tr>\n",
       "    <tr>\n",
       "      <th>3</th>\n",
       "      <td>@sxsw I hope this year's festival isn't as crashy as this year's iPhone app. #sxsw</td>\n",
       "      <td>iPad or iPhone App</td>\n",
       "      <td>Negative</td>\n",
       "      <td>[hope, year', festiv, crashi, year', iphon, app, #sxsw]</td>\n",
       "      <td>Apple</td>\n",
       "    </tr>\n",
       "    <tr>\n",
       "      <th>4</th>\n",
       "      <td>@sxtxstate great stuff on Fri #SXSW: Marissa Mayer (Google), Tim O'Reilly (tech books/conferences) &amp;amp; Matt Mullenweg (Wordpress)</td>\n",
       "      <td>Google</td>\n",
       "      <td>Positive</td>\n",
       "      <td>[great, stuff, fri, #sxsw, marissa, mayer, googl, tim, o'reilli, tech, book, confer, matt, mullenweg, wordpress]</td>\n",
       "      <td>Google</td>\n",
       "    </tr>\n",
       "    <tr>\n",
       "      <th>...</th>\n",
       "      <td>...</td>\n",
       "      <td>...</td>\n",
       "      <td>...</td>\n",
       "      <td>...</td>\n",
       "      <td>...</td>\n",
       "    </tr>\n",
       "    <tr>\n",
       "      <th>9077</th>\n",
       "      <td>@mention your PR guy just convinced me to switch back to iPhone. Great #sxsw coverage. #princess</td>\n",
       "      <td>iPhone</td>\n",
       "      <td>Positive</td>\n",
       "      <td>[pr, guy, convinc, switch, back, iphon, great, #sxsw, coverag, #princess]</td>\n",
       "      <td>Apple</td>\n",
       "    </tr>\n",
       "    <tr>\n",
       "      <th>9079</th>\n",
       "      <td>&amp;quot;papyrus...sort of like the ipad&amp;quot; - nice! Lol! #SXSW Lavelle</td>\n",
       "      <td>iPad</td>\n",
       "      <td>Positive</td>\n",
       "      <td>[papyru, ..., sort, like, ipad, nice, lol, #sxsw, lavel]</td>\n",
       "      <td>Apple</td>\n",
       "    </tr>\n",
       "    <tr>\n",
       "      <th>9080</th>\n",
       "      <td>Diller says Google TV &amp;quot;might be run over by the PlayStation and the Xbox, which are essentially ready today.&amp;quot; #sxsw #diller</td>\n",
       "      <td>Other Google product or service</td>\n",
       "      <td>Negative</td>\n",
       "      <td>[diller, say, googl, tv, might, run, playstat, xbox, essenti, readi, today, #sxsw, #diller]</td>\n",
       "      <td>Google</td>\n",
       "    </tr>\n",
       "    <tr>\n",
       "      <th>9085</th>\n",
       "      <td>I've always used Camera+ for my iPhone b/c it has an image stabilizer mode. Suggestions for an iPad cam app w/ same feature? #SXSW #SXSWi</td>\n",
       "      <td>iPad or iPhone App</td>\n",
       "      <td>Positive</td>\n",
       "      <td>[i'v, alway, use, camera, iphon, b, c, imag, stabil, mode, suggest, ipad, cam, app, w, featur, #sxsw, #sxswi]</td>\n",
       "      <td>Apple</td>\n",
       "    </tr>\n",
       "    <tr>\n",
       "      <th>9088</th>\n",
       "      <td>Ipad everywhere. #SXSW {link}</td>\n",
       "      <td>iPad</td>\n",
       "      <td>Positive</td>\n",
       "      <td>[ipad, everywher, #sxsw, link]</td>\n",
       "      <td>Apple</td>\n",
       "    </tr>\n",
       "  </tbody>\n",
       "</table>\n",
       "<p>3539 rows × 5 columns</p>\n",
       "</div>"
      ],
      "text/plain": [
       "                                                                                                                                            Tweet  \\\n",
       "0                 .@wesley83 I have a 3G iPhone. After 3 hrs tweeting at #RISE_Austin, it was dead!  I need to upgrade. Plugin stations at #SXSW.   \n",
       "1     @jessedee Know about @fludapp ? Awesome iPad/iPhone app that you'll likely appreciate for its design. Also, they're giving free Ts at #SXSW   \n",
       "2                                                                 @swonderlin Can not wait for #iPad 2 also. They should sale them down at #SXSW.   \n",
       "3                                                              @sxsw I hope this year's festival isn't as crashy as this year's iPhone app. #sxsw   \n",
       "4             @sxtxstate great stuff on Fri #SXSW: Marissa Mayer (Google), Tim O'Reilly (tech books/conferences) &amp; Matt Mullenweg (Wordpress)   \n",
       "...                                                                                                                                           ...   \n",
       "9077                                             @mention your PR guy just convinced me to switch back to iPhone. Great #sxsw coverage. #princess   \n",
       "9079                                                                       &quot;papyrus...sort of like the ipad&quot; - nice! Lol! #SXSW Lavelle   \n",
       "9080        Diller says Google TV &quot;might be run over by the PlayStation and the Xbox, which are essentially ready today.&quot; #sxsw #diller   \n",
       "9085    I've always used Camera+ for my iPhone b/c it has an image stabilizer mode. Suggestions for an iPad cam app w/ same feature? #SXSW #SXSWi   \n",
       "9088                                                                                                                Ipad everywhere. #SXSW {link}   \n",
       "\n",
       "                        Product/Brand   Emotion  \\\n",
       "0                              iPhone  Negative   \n",
       "1                  iPad or iPhone App  Positive   \n",
       "2                                iPad  Positive   \n",
       "3                  iPad or iPhone App  Negative   \n",
       "4                              Google  Positive   \n",
       "...                               ...       ...   \n",
       "9077                           iPhone  Positive   \n",
       "9079                             iPad  Positive   \n",
       "9080  Other Google product or service  Negative   \n",
       "9085               iPad or iPhone App  Positive   \n",
       "9088                             iPad  Positive   \n",
       "\n",
       "                                                                                                     preprocessed_text  \\\n",
       "0                                  [3g, iphon, 3, hr, tweet, #rise_austin, dead, need, upgrad, plugin, station, #sxsw]   \n",
       "1                         [know, awesom, ipad, iphon, app, like, appreci, design, also, they'r, give, free, ts, #sxsw]   \n",
       "2                                                                                  [wait, #ipad, 2, also, sale, #sxsw]   \n",
       "3                                                              [hope, year', festiv, crashi, year', iphon, app, #sxsw]   \n",
       "4     [great, stuff, fri, #sxsw, marissa, mayer, googl, tim, o'reilli, tech, book, confer, matt, mullenweg, wordpress]   \n",
       "...                                                                                                                ...   \n",
       "9077                                         [pr, guy, convinc, switch, back, iphon, great, #sxsw, coverag, #princess]   \n",
       "9079                                                          [papyru, ..., sort, like, ipad, nice, lol, #sxsw, lavel]   \n",
       "9080                       [diller, say, googl, tv, might, run, playstat, xbox, essenti, readi, today, #sxsw, #diller]   \n",
       "9085     [i'v, alway, use, camera, iphon, b, c, imag, stabil, mode, suggest, ipad, cam, app, w, featur, #sxsw, #sxswi]   \n",
       "9088                                                                                    [ipad, everywher, #sxsw, link]   \n",
       "\n",
       "       Brand  \n",
       "0      Apple  \n",
       "1      Apple  \n",
       "2      Apple  \n",
       "3      Apple  \n",
       "4     Google  \n",
       "...      ...  \n",
       "9077   Apple  \n",
       "9079   Apple  \n",
       "9080  Google  \n",
       "9085   Apple  \n",
       "9088   Apple  \n",
       "\n",
       "[3539 rows x 5 columns]"
      ]
     },
     "execution_count": 35,
     "metadata": {},
     "output_type": "execute_result"
    }
   ],
   "source": [

    "# Binary dataframe\n",
    "data_binary = data.loc[(data['Emotion'] == 'Positive' ) | (data['Emotion'] == 'Negative' )]\n",
    "data_binary"
   ]
  },
  {
   "cell_type": "code",

   "execution_count": 90,

   "execution_count": 36,

   "metadata": {},
   "outputs": [
    {
     "data": {
      "text/html": [
       "<div>\n",
       "<style scoped>\n",
       "    .dataframe tbody tr th:only-of-type {\n",
       "        vertical-align: middle;\n",
       "    }\n",
       "\n",
       "    .dataframe tbody tr th {\n",
       "        vertical-align: top;\n",
       "    }\n",
       "\n",
       "    .dataframe thead th {\n",
       "        text-align: right;\n",
       "    }\n",
       "</style>\n",
       "<table border=\"1\" class=\"dataframe\">\n",
       "  <thead>\n",
       "    <tr style=\"text-align: right;\">\n",
       "      <th></th>\n",
       "      <th>Tweet</th>\n",
       "      <th>Product/Brand</th>\n",
       "      <th>Emotion</th>\n",
       "      <th>preprocessed_text</th>\n",
       "      <th>Brand</th>\n",
       "      <th>emotion_label</th>\n",
       "    </tr>\n",
       "  </thead>\n",
       "  <tbody>\n",
       "    <tr>\n",
       "      <th>0</th>\n",
       "      <td>.@wesley83 I have a 3G iPhone. After 3 hrs tweeting at #RISE_Austin, it was dead!  I need to upgrade. Plugin stations at #SXSW.</td>\n",
       "      <td>iPhone</td>\n",
       "      <td>Negative</td>\n",
       "      <td>[3g, iphon, 3, hr, tweet, #rise_austin, dead, need, upgrad, plugin, station, #sxsw]</td>\n",
       "      <td>Apple</td>\n",
       "      <td>1.0</td>\n",
       "    </tr>\n",
       "    <tr>\n",
       "      <th>1</th>\n",
       "      <td>@jessedee Know about @fludapp ? Awesome iPad/iPhone app that you'll likely appreciate for its design. Also, they're giving free Ts at #SXSW</td>\n",
       "      <td>iPad or iPhone App</td>\n",
       "      <td>Positive</td>\n",
       "      <td>[know, awesom, ipad, iphon, app, like, appreci, design, also, they'r, give, free, ts, #sxsw]</td>\n",
       "      <td>Apple</td>\n",
       "      <td>0.0</td>\n",
       "    </tr>\n",
       "    <tr>\n",
       "      <th>2</th>\n",
       "      <td>@swonderlin Can not wait for #iPad 2 also. They should sale them down at #SXSW.</td>\n",
       "      <td>iPad</td>\n",
       "      <td>Positive</td>\n",
       "      <td>[wait, #ipad, 2, also, sale, #sxsw]</td>\n",
       "      <td>Apple</td>\n",
       "      <td>0.0</td>\n",
       "    </tr>\n",
       "    <tr>\n",
       "      <th>3</th>\n",
       "      <td>@sxsw I hope this year's festival isn't as crashy as this year's iPhone app. #sxsw</td>\n",
       "      <td>iPad or iPhone App</td>\n",
       "      <td>Negative</td>\n",
       "      <td>[hope, year', festiv, crashi, year', iphon, app, #sxsw]</td>\n",
       "      <td>Apple</td>\n",
       "      <td>1.0</td>\n",
       "    </tr>\n",
       "    <tr>\n",
       "      <th>4</th>\n",
       "      <td>@sxtxstate great stuff on Fri #SXSW: Marissa Mayer (Google), Tim O'Reilly (tech books/conferences) &amp;amp; Matt Mullenweg (Wordpress)</td>\n",
       "      <td>Google</td>\n",
       "      <td>Positive</td>\n",
       "      <td>[great, stuff, fri, #sxsw, marissa, mayer, googl, tim, o'reilli, tech, book, confer, matt, mullenweg, wordpress]</td>\n",
       "      <td>Google</td>\n",
       "      <td>0.0</td>\n",
       "    </tr>\n",
       "    <tr>\n",
       "      <th>...</th>\n",
       "      <td>...</td>\n",
       "      <td>...</td>\n",
       "      <td>...</td>\n",
       "      <td>...</td>\n",
       "      <td>...</td>\n",
       "      <td>...</td>\n",
       "    </tr>\n",
       "    <tr>\n",
       "      <th>9077</th>\n",
       "      <td>@mention your PR guy just convinced me to switch back to iPhone. Great #sxsw coverage. #princess</td>\n",
       "      <td>iPhone</td>\n",
       "      <td>Positive</td>\n",
       "      <td>[pr, guy, convinc, switch, back, iphon, great, #sxsw, coverag, #princess]</td>\n",
       "      <td>Apple</td>\n",
       "      <td>0.0</td>\n",
       "    </tr>\n",
       "    <tr>\n",
       "      <th>9079</th>\n",
       "      <td>&amp;quot;papyrus...sort of like the ipad&amp;quot; - nice! Lol! #SXSW Lavelle</td>\n",
       "      <td>iPad</td>\n",
       "      <td>Positive</td>\n",
       "      <td>[papyru, ..., sort, like, ipad, nice, lol, #sxsw, lavel]</td>\n",
       "      <td>Apple</td>\n",
       "      <td>0.0</td>\n",
       "    </tr>\n",
       "    <tr>\n",
       "      <th>9080</th>\n",
       "      <td>Diller says Google TV &amp;quot;might be run over by the PlayStation and the Xbox, which are essentially ready today.&amp;quot; #sxsw #diller</td>\n",
       "      <td>Other Google product or service</td>\n",
       "      <td>Negative</td>\n",
       "      <td>[diller, say, googl, tv, might, run, playstat, xbox, essenti, readi, today, #sxsw, #diller]</td>\n",
       "      <td>Google</td>\n",
       "      <td>1.0</td>\n",
       "    </tr>\n",
       "    <tr>\n",
       "      <th>9085</th>\n",
       "      <td>I've always used Camera+ for my iPhone b/c it has an image stabilizer mode. Suggestions for an iPad cam app w/ same feature? #SXSW #SXSWi</td>\n",
       "      <td>iPad or iPhone App</td>\n",
       "      <td>Positive</td>\n",
       "      <td>[i'v, alway, use, camera, iphon, b, c, imag, stabil, mode, suggest, ipad, cam, app, w, featur, #sxsw, #sxswi]</td>\n",
       "      <td>Apple</td>\n",
       "      <td>0.0</td>\n",
       "    </tr>\n",
       "    <tr>\n",
       "      <th>9088</th>\n",
       "      <td>Ipad everywhere. #SXSW {link}</td>\n",
       "      <td>iPad</td>\n",
       "      <td>Positive</td>\n",
       "      <td>[ipad, everywher, #sxsw, link]</td>\n",
       "      <td>Apple</td>\n",
       "      <td>0.0</td>\n",
       "    </tr>\n",
       "  </tbody>\n",
       "</table>\n",
       "<p>3539 rows × 6 columns</p>\n",
       "</div>"
      ],
      "text/plain": [
       "                                                                                                                                            Tweet  \\\n",
       "0                 .@wesley83 I have a 3G iPhone. After 3 hrs tweeting at #RISE_Austin, it was dead!  I need to upgrade. Plugin stations at #SXSW.   \n",
       "1     @jessedee Know about @fludapp ? Awesome iPad/iPhone app that you'll likely appreciate for its design. Also, they're giving free Ts at #SXSW   \n",
       "2                                                                 @swonderlin Can not wait for #iPad 2 also. They should sale them down at #SXSW.   \n",
       "3                                                              @sxsw I hope this year's festival isn't as crashy as this year's iPhone app. #sxsw   \n",
       "4             @sxtxstate great stuff on Fri #SXSW: Marissa Mayer (Google), Tim O'Reilly (tech books/conferences) &amp; Matt Mullenweg (Wordpress)   \n",
       "...                                                                                                                                           ...   \n",
       "9077                                             @mention your PR guy just convinced me to switch back to iPhone. Great #sxsw coverage. #princess   \n",
       "9079                                                                       &quot;papyrus...sort of like the ipad&quot; - nice! Lol! #SXSW Lavelle   \n",
       "9080        Diller says Google TV &quot;might be run over by the PlayStation and the Xbox, which are essentially ready today.&quot; #sxsw #diller   \n",
       "9085    I've always used Camera+ for my iPhone b/c it has an image stabilizer mode. Suggestions for an iPad cam app w/ same feature? #SXSW #SXSWi   \n",
       "9088                                                                                                                Ipad everywhere. #SXSW {link}   \n",
       "\n",
       "                        Product/Brand   Emotion  \\\n",
       "0                              iPhone  Negative   \n",
       "1                  iPad or iPhone App  Positive   \n",
       "2                                iPad  Positive   \n",
       "3                  iPad or iPhone App  Negative   \n",
       "4                              Google  Positive   \n",
       "...                               ...       ...   \n",
       "9077                           iPhone  Positive   \n",
       "9079                             iPad  Positive   \n",
       "9080  Other Google product or service  Negative   \n",
       "9085               iPad or iPhone App  Positive   \n",
       "9088                             iPad  Positive   \n",
       "\n",
       "                                                                                                     preprocessed_text  \\\n",
       "0                                  [3g, iphon, 3, hr, tweet, #rise_austin, dead, need, upgrad, plugin, station, #sxsw]   \n",
       "1                         [know, awesom, ipad, iphon, app, like, appreci, design, also, they'r, give, free, ts, #sxsw]   \n",
       "2                                                                                  [wait, #ipad, 2, also, sale, #sxsw]   \n",
       "3                                                              [hope, year', festiv, crashi, year', iphon, app, #sxsw]   \n",
       "4     [great, stuff, fri, #sxsw, marissa, mayer, googl, tim, o'reilli, tech, book, confer, matt, mullenweg, wordpress]   \n",
       "...                                                                                                                ...   \n",
       "9077                                         [pr, guy, convinc, switch, back, iphon, great, #sxsw, coverag, #princess]   \n",
       "9079                                                          [papyru, ..., sort, like, ipad, nice, lol, #sxsw, lavel]   \n",
       "9080                       [diller, say, googl, tv, might, run, playstat, xbox, essenti, readi, today, #sxsw, #diller]   \n",
       "9085     [i'v, alway, use, camera, iphon, b, c, imag, stabil, mode, suggest, ipad, cam, app, w, featur, #sxsw, #sxswi]   \n",
       "9088                                                                                    [ipad, everywher, #sxsw, link]   \n",
       "\n",
       "       Brand  emotion_label  \n",
       "0      Apple            1.0  \n",
       "1      Apple            0.0  \n",
       "2      Apple            0.0  \n",
       "3      Apple            1.0  \n",
       "4     Google            0.0  \n",
       "...      ...            ...  \n",
       "9077   Apple            0.0  \n",
       "9079   Apple            0.0  \n",
       "9080  Google            1.0  \n",
       "9085   Apple            0.0  \n",
       "9088   Apple            0.0  \n",
       "\n",
       "[3539 rows x 6 columns]"
      ]
     },

     "execution_count": 90,

     "execution_count": 36,

     "metadata": {},
     "output_type": "execute_result"
    }
   ],
   "source": [
    "# Relabeling the content of the emotion column\n",
    "data_binary.loc[data_binary['Emotion'] == 'Positive' , 'emotion_label'] = 0\n",
    "data_binary.loc[data_binary['Emotion'] == 'Negative' , 'emotion_label'] = 1\n",
    "data_binary"
   ]
  },
  {
   "cell_type": "code",

   "execution_count": 91,

   "execution_count": 37,

   "metadata": {},
   "outputs": [
    {
     "data": {
      "text/plain": [
       "3397                    i10 march pig link code valid 12:00- 3:59 59p 03/12 11 #infektd #sxsw #zomb\n",
       "4321    lol rt i'll bet there' lot nerd #sxsw use #iphon light saber app barroom brawl instead fist\n",
       "4091                                    #appl ipad per capit #sxsw anywher els world except foxconn\n",
       "6378          rt umbrella list via  ÷ ¼ set  ÷ link  ÷ #edchat #musedchat #sxsw #sxswi #newtwitt\n",
       "5207           rt #appl head sxsw set temporari store #austin link #new #sxsw bastard bring temptat\n",
       "                                                   ...                                             \n",
       "6030                 rt hoot new blog post hootsuit mobil #sxsw updat iphon blackberri android link\n",
       "3994                                      hannukah miracl morn uncharg iphon still 55 batteri #sxsw\n",
       "7208           alarm go allow user gener content say google' richard salgado #privacybootcamp #sxsw\n",
       "7540                                         head ipad design headach 2 tablet call morn #sxsw link\n",
       "4454                                   sit floor behind guy who' fondl new ipad 2 disturb way #sxsw\n",
       "Name: joined_preprocessed_text, Length: 6239, dtype: object"
      ]
     },

     "execution_count": 91,

     "execution_count": 37,

     "metadata": {},
     "output_type": "execute_result"
    }
   ],
   "source": [
    "# Split the data -- Train and Test\n",
    "\n",
    "from sklearn.model_selection import train_test_split\n",
    "data['joined_preprocessed_text'] = data['preprocessed_text'].str.join(\" \")\n",
    "X_train, X_test, y_train, y_test = train_test_split(data['joined_preprocessed_text'], data.\n",
    "                                                   Emotion, test_size = 0.3, \n",
    "                                                    random_state=20)\n",
    "X_train"
   ]
  },
  {
   "cell_type": "code",

   "execution_count": 92,

   "execution_count": 38,

   "metadata": {},
   "outputs": [
    {
     "data": {
      "text/plain": [
       "5377    rt agre  ûó novelti #ipad news #app fade fast among digit deleg  ûó link #media #sxsw via\n",
       "6874                                                rt includ emot thing ipad #barrydil #sxsw #pnid\n",
       "8683                 pick mophi iphon charg case #sxsw tradeshow doubt i'll use time great long day\n",
       "6147                                                                rt ipad 2 queue epic #sxsw link\n",
       "6759                    rt new whrrl app live iphon app store android marketplac get hot time #sxsw\n",
       "                                                   ...                                             \n",
       "7601                                               dear lanyrd site awesom use #sxsw wish iphon app\n",
       "8436                           saw huge ipad 2 line popup appl store peopl realli realli want #sxsw\n",
       "626          wonder much revenu austin store gross account ipad 2 amid #sxsw ... strateg releas ...\n",
       "6349                               rt new #ubersoci #iphon app store includ uberguid #sxsw link got\n",
       "8800                                               protip avoid austin-area appl store friday #sxsw\n",
       "Name: joined_preprocessed_text, Length: 2477, dtype: object"
      ]
     },

     "execution_count": 92,

     "execution_count": 38,

     "metadata": {},
     "output_type": "execute_result"
    }
   ],
   "source": [
    "# Split the data -- Train and Test\n",
    "\n",
    "from sklearn.model_selection import train_test_split\n",
    "data_binary['joined_preprocessed_text'] = data_binary['preprocessed_text'].str.join(\" \")\n",
    "X_train, X_test, y_train, y_test = train_test_split(data_binary['joined_preprocessed_text'], data_binary.\n",
    "                                                   Emotion, test_size = 0.3, \n",
    "                                                    random_state=20)\n",
    "X_train"
   ]
  },
  {
   "cell_type": "code",

   "execution_count": 93,

   "execution_count": 39,

   "metadata": {},
   "outputs": [
    {
     "data": {
      "text/html": [
       "<div>\n",
       "<style scoped>\n",
       "    .dataframe tbody tr th:only-of-type {\n",
       "        vertical-align: middle;\n",
       "    }\n",
       "\n",
       "    .dataframe tbody tr th {\n",
       "        vertical-align: top;\n",
       "    }\n",
       "\n",
       "    .dataframe thead th {\n",
       "        text-align: right;\n",
       "    }\n",
       "</style>\n",
       "<table border=\"1\" class=\"dataframe\">\n",
       "  <thead>\n",
       "    <tr style=\"text-align: right;\">\n",
       "      <th></th>\n",
       "      <th>app</th>\n",
       "      <th>appl</th>\n",
       "      <th>googl</th>\n",
       "      <th>ipad</th>\n",
       "      <th>iphon</th>\n",
       "      <th>link</th>\n",
       "      <th>new</th>\n",
       "      <th>rt</th>\n",
       "      <th>store</th>\n",
       "      <th>sxsw</th>\n",
       "    </tr>\n",
       "  </thead>\n",
       "  <tbody>\n",
       "    <tr>\n",
       "      <th>0</th>\n",
       "      <td>0.609007</td>\n",
       "      <td>0.000000</td>\n",
       "      <td>0.0</td>\n",
       "      <td>0.429649</td>\n",
       "      <td>0.000000</td>\n",
       "      <td>0.421569</td>\n",
       "      <td>0.000000</td>\n",
       "      <td>0.472228</td>\n",
       "      <td>0.000000</td>\n",
       "      <td>0.209265</td>\n",
       "    </tr>\n",
       "    <tr>\n",
       "      <th>1</th>\n",
       "      <td>0.000000</td>\n",
       "      <td>0.000000</td>\n",
       "      <td>0.0</td>\n",
       "      <td>0.639496</td>\n",
       "      <td>0.000000</td>\n",
       "      <td>0.000000</td>\n",
       "      <td>0.000000</td>\n",
       "      <td>0.702872</td>\n",
       "      <td>0.000000</td>\n",
       "      <td>0.311473</td>\n",
       "    </tr>\n",
       "    <tr>\n",
       "      <th>2</th>\n",
       "      <td>0.000000</td>\n",
       "      <td>0.000000</td>\n",
       "      <td>0.0</td>\n",
       "      <td>0.000000</td>\n",
       "      <td>0.934017</td>\n",
       "      <td>0.000000</td>\n",
       "      <td>0.000000</td>\n",
       "      <td>0.000000</td>\n",
       "      <td>0.000000</td>\n",
       "      <td>0.357229</td>\n",
       "    </tr>\n",
       "    <tr>\n",
       "      <th>3</th>\n",
       "      <td>0.000000</td>\n",
       "      <td>0.000000</td>\n",
       "      <td>0.0</td>\n",
       "      <td>0.541689</td>\n",
       "      <td>0.000000</td>\n",
       "      <td>0.531503</td>\n",
       "      <td>0.000000</td>\n",
       "      <td>0.595372</td>\n",
       "      <td>0.000000</td>\n",
       "      <td>0.263835</td>\n",
       "    </tr>\n",
       "    <tr>\n",
       "      <th>4</th>\n",
       "      <td>0.723758</td>\n",
       "      <td>0.000000</td>\n",
       "      <td>0.0</td>\n",
       "      <td>0.000000</td>\n",
       "      <td>0.325121</td>\n",
       "      <td>0.000000</td>\n",
       "      <td>0.398759</td>\n",
       "      <td>0.280603</td>\n",
       "      <td>0.342435</td>\n",
       "      <td>0.124347</td>\n",
       "    </tr>\n",
       "    <tr>\n",
       "      <th>...</th>\n",
       "      <td>...</td>\n",
       "      <td>...</td>\n",
       "      <td>...</td>\n",
       "      <td>...</td>\n",
       "      <td>...</td>\n",
       "      <td>...</td>\n",
       "      <td>...</td>\n",
       "      <td>...</td>\n",
       "      <td>...</td>\n",
       "      <td>...</td>\n",
       "    </tr>\n",
       "    <tr>\n",
       "      <th>2472</th>\n",
       "      <td>0.720705</td>\n",
       "      <td>0.000000</td>\n",
       "      <td>0.0</td>\n",
       "      <td>0.000000</td>\n",
       "      <td>0.647499</td>\n",
       "      <td>0.000000</td>\n",
       "      <td>0.000000</td>\n",
       "      <td>0.000000</td>\n",
       "      <td>0.000000</td>\n",
       "      <td>0.247646</td>\n",
       "    </tr>\n",
       "    <tr>\n",
       "      <th>2473</th>\n",
       "      <td>0.000000</td>\n",
       "      <td>0.544773</td>\n",
       "      <td>0.0</td>\n",
       "      <td>0.481253</td>\n",
       "      <td>0.000000</td>\n",
       "      <td>0.000000</td>\n",
       "      <td>0.000000</td>\n",
       "      <td>0.000000</td>\n",
       "      <td>0.645503</td>\n",
       "      <td>0.234399</td>\n",
       "    </tr>\n",
       "    <tr>\n",
       "      <th>2474</th>\n",
       "      <td>0.000000</td>\n",
       "      <td>0.000000</td>\n",
       "      <td>0.0</td>\n",
       "      <td>0.573889</td>\n",
       "      <td>0.000000</td>\n",
       "      <td>0.000000</td>\n",
       "      <td>0.000000</td>\n",
       "      <td>0.000000</td>\n",
       "      <td>0.769754</td>\n",
       "      <td>0.279518</td>\n",
       "    </tr>\n",
       "    <tr>\n",
       "      <th>2475</th>\n",
       "      <td>0.442144</td>\n",
       "      <td>0.000000</td>\n",
       "      <td>0.0</td>\n",
       "      <td>0.000000</td>\n",
       "      <td>0.397233</td>\n",
       "      <td>0.306063</td>\n",
       "      <td>0.487205</td>\n",
       "      <td>0.342842</td>\n",
       "      <td>0.418388</td>\n",
       "      <td>0.151928</td>\n",
       "    </tr>\n",
       "    <tr>\n",
       "      <th>2476</th>\n",
       "      <td>0.000000</td>\n",
       "      <td>0.621475</td>\n",
       "      <td>0.0</td>\n",
       "      <td>0.000000</td>\n",
       "      <td>0.000000</td>\n",
       "      <td>0.000000</td>\n",
       "      <td>0.000000</td>\n",
       "      <td>0.000000</td>\n",
       "      <td>0.736387</td>\n",
       "      <td>0.267402</td>\n",
       "    </tr>\n",
       "  </tbody>\n",
       "</table>\n",
       "<p>2477 rows × 10 columns</p>\n",
       "</div>"
      ],
      "text/plain": [
       "           app      appl  googl      ipad     iphon      link       new  \\\n",
       "0     0.609007  0.000000    0.0  0.429649  0.000000  0.421569  0.000000   \n",
       "1     0.000000  0.000000    0.0  0.639496  0.000000  0.000000  0.000000   \n",
       "2     0.000000  0.000000    0.0  0.000000  0.934017  0.000000  0.000000   \n",
       "3     0.000000  0.000000    0.0  0.541689  0.000000  0.531503  0.000000   \n",
       "4     0.723758  0.000000    0.0  0.000000  0.325121  0.000000  0.398759   \n",
       "...        ...       ...    ...       ...       ...       ...       ...   \n",
       "2472  0.720705  0.000000    0.0  0.000000  0.647499  0.000000  0.000000   \n",
       "2473  0.000000  0.544773    0.0  0.481253  0.000000  0.000000  0.000000   \n",
       "2474  0.000000  0.000000    0.0  0.573889  0.000000  0.000000  0.000000   \n",
       "2475  0.442144  0.000000    0.0  0.000000  0.397233  0.306063  0.487205   \n",
       "2476  0.000000  0.621475    0.0  0.000000  0.000000  0.000000  0.000000   \n",
       "\n",
       "            rt     store      sxsw  \n",
       "0     0.472228  0.000000  0.209265  \n",
       "1     0.702872  0.000000  0.311473  \n",
       "2     0.000000  0.000000  0.357229  \n",
       "3     0.595372  0.000000  0.263835  \n",
       "4     0.280603  0.342435  0.124347  \n",
       "...        ...       ...       ...  \n",
       "2472  0.000000  0.000000  0.247646  \n",
       "2473  0.000000  0.645503  0.234399  \n",
       "2474  0.000000  0.769754  0.279518  \n",
       "2475  0.342842  0.418388  0.151928  \n",
       "2476  0.000000  0.736387  0.267402  \n",
       "\n",
       "[2477 rows x 10 columns]"
      ]
     },

     "execution_count": 93,

     "execution_count": 39,

     "metadata": {},
     "output_type": "execute_result"
    }
   ],
   "source": [
    "# Instantiate a vectorizer with max_features=10\n",
    "# (we are using the default token pattern)\n",
    "tfidf = TfidfVectorizer(max_features=10)\n",
    "\n",
    "# Fit the vectorizer on X_train and transform it\n",
    "X_train_vectorized = tfidf.fit_transform(X_train)\n",
    "\n",
    "# Get the feature names from the vectorizer\n",
    "feature_names = tfidf.get_feature_names()\n",
    "\n",
    "# Visually inspect the vectorized data\n",
    "pd.DataFrame.sparse.from_spmatrix(X_train_vectorized, columns=feature_names)"
   ]
  },
  {
   "attachments": {},
   "cell_type": "markdown",
   "metadata": {},
   "source": [
    "### Baseline Model"
   ]
  },
  {
   "cell_type": "code",

   "execution_count": 94,

   "execution_count": 40,

   "metadata": {},
   "outputs": [
    {
     "name": "stdout",
     "output_type": "stream",
     "text": [
      "0.8364957610012111\n"
     ]
    }
   ],
   "source": [
    "#instantiate\n",
    "baseline_model = MultinomialNB()\n",
    "\n",
    "baseline_model.fit(X_train_vectorized,y_train)\n",
    "baseline_train_score = baseline_model.score(X_train_vectorized,y_train)\n",
    "print(baseline_train_score)"
   ]
  },
  {
   "cell_type": "code",

   "execution_count": 95,

   "execution_count": 41,

   "metadata": {},
   "outputs": [
    {
     "data": {
      "text/plain": [
       "Positive    0.836496\n",
       "Negative    0.163504\n",
       "Name: Emotion, dtype: float64"
      ]
     },

     "execution_count": 95,

     "execution_count": 41,

     "metadata": {},
     "output_type": "execute_result"
    }
   ],
   "source": [
    "# imbalanced\n",
    "y_train.value_counts(normalize=True)"
   ]
  },
  {
   "cell_type": "code",

   "execution_count": 96,

   "execution_count": 42,

   "metadata": {},
   "outputs": [],
   "source": [
    "# Balancing the model\n",
    "ROS = RandomOverSampler(sampling_strategy=1)\n",
    "X_train_ros, y_train_ros = ROS.fit_resample(X_train_vectorized, y_train)"
   ]
  },
  {
   "cell_type": "code",

   "execution_count": 97,

   "execution_count": 43,

   "metadata": {},
   "outputs": [
    {
     "data": {
      "text/plain": [


       "Negative    0.5\n",
       "Positive    0.5\n",
       "Name: Emotion, dtype: float64"
      ]
     },
     "execution_count": 43,

     "metadata": {},
     "output_type": "execute_result"
    }
   ],
   "source": [
    "y_train_ros.value_counts(normalize=True)"
   ]
  },
  {
   "attachments": {},
   "cell_type": "markdown",
   "metadata": {},
   "source": [
    "### Model 2"
   ]
  },
  {
   "cell_type": "code",

   "execution_count": 98,

   "execution_count": 44,

   "metadata": {},
   "outputs": [],
   "source": [
    "\n",
    "# Balancing the model\n",
    "ROS = RandomOverSampler(sampling_strategy=1)\n",
    "X_train_ros, y_train_ros = ROS.fit_resample(X_train_vectorized, y_train)"
   ]
  },
  {
   "cell_type": "code",

   "execution_count": 99,

   "execution_count": 45,

   "metadata": {},
   "outputs": [
    {
     "data": {
      "text/plain": [

       "Negative    0.5\n",
       "Positive    0.5\n",
       "Name: Emotion, dtype: float64"
      ]
     },
     "execution_count": 45,

     "metadata": {},
     "output_type": "execute_result"
    }
   ],
   "source": [
    "y_train_ros.value_counts(normalize=True)"
   ]
  },
  {
   "cell_type": "code",

   "execution_count": 100,

   "execution_count": 46,

   "metadata": {},
   "outputs": [
    {
     "name": "stdout",
     "output_type": "stream",
     "text": [

      "0.590492277992278\n"

     ]
    }
   ],
   "source": [
    "model2 = MultinomialNB()\n",
    "\n",
    "model2.fit(X_train_ros, y_train_ros)\n",
    "train_score2 = model2.score(X_train_ros, y_train_ros)\n",
    "print(train_score2)"
   ]
  },
  {
   "cell_type": "code",

   "execution_count": 101,

   "execution_count": 47,

   "metadata": {},
   "outputs": [
    {
     "name": "stdout",
     "output_type": "stream",
     "text": [

      "0.5781754909271688\n"

     ]
    }
   ],
   "source": [
    "\n",
    "model2_train_predictions = model2.predict(X_train_ros)\n",
    "model2_f1 = f1_score(y_train_ros, model2_train_predictions, pos_label='Positive')\n",
    "\n",
    "print(model2_f1)"
   ]
  },
  {
   "cell_type": "code",
   "execution_count": null,
   "metadata": {},
   "outputs": [],
   "source": []
  },
  {
   "attachments": {},
   "cell_type": "markdown",
   "metadata": {},
   "source": [
    "### Multiclass Classification"
   ]
  },
  {
   "cell_type": "code",

   "execution_count": 102,

   "execution_count": 48,

   "metadata": {},
   "outputs": [
    {
     "data": {
      "text/plain": [
       "array(['Negative', 'Positive', 'Neutral'], dtype=object)"
      ]
     },

     "execution_count": 102,

     "execution_count": 48,

     "metadata": {},
     "output_type": "execute_result"
    }
   ],
   "source": [
    "# After running a Binary classification we will also look at Multiclass Classification \n",
    "# see how it performs on the data. \n",
    "# We will start with preparing data for multiclass\n",
    "# Che the data column of Emotion\n",
    "data['Emotion'].unique()\n",
    "\n"
   ]
  },
  {
   "cell_type": "code",

   "execution_count": 103,

   "execution_count": 49,

   "metadata": {},
   "outputs": [
    {
     "data": {
      "text/plain": [
       "1    5375\n",
       "2    2970\n",
       "0     569\n",
       "Name: Emotion, dtype: int64"
      ]
     },

     "execution_count": 103,

     "execution_count": 49,

     "metadata": {},
     "output_type": "execute_result"
    }
   ],
   "source": [
    "# We will assign numerical values to the sentiments,\n",
    "# Neutral = 1\n",
    "# Positive = 2\n",
    "# Negarive = 0\n",
    "#mapping emotion column to numerical values\n",
    "emotion_dict = {'Negative': 0, 'Neutral':1, 'Positive': 2}\n",
    "data['Emotion'] = data['Emotion'].map(emotion_dict)\n",
    "data['Emotion'].value_counts()\n"
   ]
  },
  {
   "cell_type": "code",

   "execution_count": 104,

   "execution_count": 50,

   "metadata": {},
   "outputs": [
    {
     "data": {
      "text/plain": [
       "1    0.602721\n",
       "2    0.333894\n",
       "0    0.063385\n",
       "Name: Emotion, dtype: float64"
      ]
     },

     "execution_count": 104,

     "execution_count": 50,

     "metadata": {},
     "output_type": "execute_result"
    }
   ],
   "source": [
    "# Define the X and y objects \n",
    "X = data['Tweet']\n",
    "y = data['Emotion']\n",
    "\n",
    "# split into train and test objects\n",
    "X_train, X_test, y_train, y_test = train_test_split(X, y, test_size=.2, random_state=42)\n",
    "\n",
    "# check the y_train values \n",
    "y_train.value_counts(normalize=True)"
   ]
  },
  {
   "cell_type": "code",

   "execution_count": 105,

   "execution_count": 51,

   "metadata": {},
   "outputs": [],
   "source": [
    "# Creating a multiclass classification that take in y_true as the vlues of y_test, y_pred, initial classifier, X_test and X_trai\n",
    "\n",
    "def multiclass_eval(y_true, y_pred, X_test, X_train, clf, n_class=3):\n",
    "    print(f\"Training score: {clf.score(X_train, y_train)}\\\n",
    "        Test Score:{clf.score(X_test, y_test)}\")\n",
    "    \n",
    "    # Print classication report\n",
    "    print('\\n')\n",
    "    print('Classifictaion Report')\n",
    "    print('_______________________________________')\n",
    "    print(classification_report(y_true=y_true, y_pred=y_pred))\n",
    "    \n",
    "    # Create a figure/axes for confusion matrix and ROC curve\n",
    "    fig, ax = plt.subplots(ncols=2, figsize=(12, 5))\n",
    "    \n",
    "    # Plot the normalized confusion matrix\n",
    "    plot_confusion_matrix(estimator=clf, X=X_test, y_true=y_true, cmap='BrBG_r', \n",
    "                          normalize='true', ax=ax[0], \n",
    "                          display_labels=['Negative', 'Neutral', 'Positive'])\n",
    "    \n",
    "    pred_prob = clf.predict_proba(X_test)\n",
    "    \n",
    "    # Plot the ROC curve\n",
    "    fpr={}\n",
    "    tpr={}\n",
    "    thresh={}\n",
    "    \n",
    "    for i in range(n_class):    \n",
    "        fpr[i], tpr[i], thresh[i] = roc_curve(y_true, pred_prob[:,i], pos_label=i)\n",
    "    \n",
    "    ax[1].plot(fpr[0], tpr[0], linestyle='--',color='red', label='Negative')\n",
    "    ax[1].plot(fpr[1], tpr[1], linestyle='--',color='black', label='Neutral')\n",
    "    ax[1].plot(fpr[2], tpr[2], linestyle='--',color='blue', label='Positive')\n",
    "    ax[1].set_title('Multiclass ROC curve')\n",
    "    ax[1].set_xlabel('False Positive Rate')\n",
    "    ax[1].set_ylabel('True Positive rate')\n",
    "    ax[1].legend(loc='best')\n",
    "    \n",
    "    \n",
    "    ax[1].plot([0,1], [0,1], ls='--', color='cyan')"
   ]
  },
  {
   "attachments": {},
   "cell_type": "markdown",
   "metadata": {},
   "source": [
    "#### <span style='color:cyan'>**Dummy Model**</SPAN>"
   ]
  },
  {
   "cell_type": "code",

   "execution_count": 106,

   "execution_count": 52,

   "metadata": {},
   "outputs": [
    {
     "name": "stdout",
     "output_type": "stream",
     "text": [
      "Training score: 0.48548590660496427        Test Score:0.4699943914750421\n",
      "\n",
      "\n",
      "Classifictaion Report\n",
      "_______________________________________\n",
      "              precision    recall  f1-score   support\n",
      "\n",
      "           0       0.08      0.09      0.08       117\n",
      "           1       0.59      0.60      0.60      1077\n",
      "           2       0.32      0.32      0.32       589\n",
      "\n",
      "    accuracy                           0.47      1783\n",
      "   macro avg       0.33      0.33      0.33      1783\n",
      "weighted avg       0.47      0.47      0.47      1783\n",
      "\n"
     ]
    },
    {
     "data": {
      "image/png": "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",
      "text/plain": [
       "<Figure size 864x360 with 3 Axes>"
      ]
     },
     "metadata": {
      "needs_background": "light"
     },
     "output_type": "display_data"
    }
   ],
   "source": [
    "# Create a Dummy model for Multiclass\n",
    "\n",
    "tokenizer = TweetTokenizer(preserve_case=False, strip_handles=True)\n",
    "\n",
    "clf_pipe = Pipeline([\n",
    "    ('vectorizer', TfidfVectorizer(tokenizer=tokenizer.tokenize, \n",
    "                                   stop_words=stopwords_list)), \n",
    "    ('clf', DummyClassifier(random_state=42))\n",
    "])\n",
    "\n",
    "clf_pipe.fit(X_train, y_train)\n",
    "y_pred = clf_pipe.predict(X_test)\n",
    "multiclass_eval(y_test, y_pred, X_test, X_train, clf_pipe)"
   ]
  },
  {
   "attachments": {},
   "cell_type": "markdown",
   "metadata": {},
   "source": [
    "The above outcome show class imbalance and that is why we have more neutrals comming out as the majority followed by positives and then negatives.\n",
    "\n",
    "This reflects back to the our classes on the value counts in the `Emotion` column. Class imbalance can affect our model by being biased towords the majority in the values. Meaning any time we run our model it has 60% chances of selecting a neutral sentiment, 33% chances of selecting a positive sentiment and 6% chances of selecting a negative sentiment. \n",
    "\n",
    "Class imbalance can be addressed by `Oversampling` method. In the next cell we will do random oversampling and then split the data and run a model to see how it will perform. "
   ]
  },
  {
   "cell_type": "code",

   "execution_count": 107,

   "execution_count": 53,

   "metadata": {},
   "outputs": [
    {
     "name": "stdout",
     "output_type": "stream",
     "text": [

      "Training score: 0.3274435563034637        Test Score:0.33426808749298936\n",

      "\n",
      "\n",
      "Classifictaion Report\n",
      "_______________________________________\n",
      "              precision    recall  f1-score   support\n",
      "\n",

      "           0       0.06      0.30      0.10       117\n",
      "           1       0.60      0.34      0.44      1077\n",
      "           2       0.33      0.32      0.32       589\n",
      "\n",
      "    accuracy                           0.33      1783\n",
      "   macro avg       0.33      0.32      0.29      1783\n",
      "weighted avg       0.48      0.33      0.38      1783\n",

      "\n"
     ]
    },
    {
     "data": {

      "image/png": "iVBORw0KGgoAAAANSUhEUgAAAu0AAAFNCAYAAAC0SlEUAAAAOXRFWHRTb2Z0d2FyZQBNYXRwbG90bGliIHZlcnNpb24zLjMuMSwgaHR0cHM6Ly9tYXRwbG90bGliLm9yZy/d3fzzAAAACXBIWXMAAAsTAAALEwEAmpwYAACA00lEQVR4nOzdd3wU5dbA8d9JgRB6FelIUQEh0kQFKSICKqAgWBEbKqjYxY54r+LVVxBEEQG7CKIoKk1QmoISihQBpQkRkN4Tkuye94+ZhE1IyG7YZFPO9372487MMzNn5obk7LNnnkdUFWOMMcYYY0zeFRbqAIwxxhhjjDGnZ0m7McYYY4wxeZwl7cYYY4wxxuRxlrQbY4wxxhiTx1nSbowxxhhjTB5nSbsxxhhjjDF5nCXtxhhjjAkZEVERqXua7WtFpN2ZHseY/M6SdmOMMcYETES2ikiiiFRIt36lm0DXysYxPxCR//iuU9WGqjrvzKINLhEZIiJJInJURA6KyC8icnG6NmVE5B0R2SUix0VktYjcnsGxbhKRWPdYO0Vkhoi0zr2rMfmFJe3GGGOMya4twI0pCyJyAVAsdOHkqkmqWgKoAPwEfJGyQUSKAHOAmsDFQGngcWCYiDzi0+4RYATwMnAWUAN4G+iek4GLSEROHt/kDEvajTHGGJNdHwN9fZZvAz7ybSAi80TkLp/lfiKyKP2BRKQ/cDPwhNvr/K27fquIdHTfh4vI0yKySUSOiMgyEamewbGuEpEVInJYRLaLyBCfbVEi8omI7HN7yZeKyFk+sW12j71FRG7O6gaoajLwKVBVRCq6q2/FScCvV9UtqpqkqjOBB4GhIlJKREoDQ4GBqvqVqh5z232rqo9ndC4RKSYi/ycif4vIIRFZ5K5rJyJx6dr63rchIjLFve7DwNMiEi8i5XzaXygie0Uk0l2+Q0TWicgBEZklIjWzuhcmZ1nSbowxxpjsWgKUEpHzRSQc6AN8kp0DqepYnOT3f6paQlWvyaDZIzg9+12BUsAdwPEM2h3D+TBRBrgKuE9EerjbbsPp+a4OlAfuBeJFpDgwEuiiqiWBS4CVWcXt9qr3BfYBB9zVVwAzVPVYuuZfAlE4ve8Xu++nZnUOH68DzdzYygFPAF4/9+0OTMG5J68Bi4GePttvAqaoapJ7r54GrgMqAguBiQHEaXKAJe3GGGOMORMpve1XAOuBf3LwXHcBz6rqBnX8rqr70jdS1XmqulpVvaq6CifhbOtuTsJJ1uuqqkdVl6nqYXebF2gkIsVUdaeqrj1NLL1F5CAQD9wN9HJ73cEpmdmZQVzJwF53e3lgr88+pyUiYTgfUgap6j9u7L+o6gl/9gcWq+rX7j2JBz7DLW0SEQFucNcB3AO8oqrr3PheBmKstz20LGk3xhhjzJn4GKeXth/pSmNyQHVgU1aNROQiEflJRPaIyCGc3vSUB2Y/BmYBn4vIDhH5n4hEur3ifdy2O0XkexE57zSnmayqZXBq0dfg9ICn2AucnUFcEW4ce3F65isEUF9eAadnPsvrz8T2dMtTgItFpApwGaA4Perg1OK/6ZYPHQT2AwJUzea5TRBY0m6MMcaYbFPVv3EeSO0KfJVBk2NAtM9y5dMdLovTbQfq+BHWZ8A0oLqqlgbG4CSduHXjL6pqA5wyk6tx6/JVdZaqXoGTcK8H3svqRKq6F6dneoiIpCTqc4AubsmNr57ACZyyosVAAtDDj+sBJ9FPIOPrT3OP3VKliunapLm3qnoQmA30xvnQNVFVU9psB+5R1TI+r2Kq+oufsZocYEm7McYYY87UnUCHDGq4wakLv05Eot1x1O88zXH+Bc45zfZxwEsiUk8cjUWkfAbtSgL7VTVBRFriJKUAiEh7EbnATWwP45TLeETkLBHp5ibaJ4CjgOc0saRS1fU4vfdPuKs+BuKAL0SklohEisiVODXzQ1T1kKoeAp4HRotID/f+RIpIFxH5Xwbn8AITgDdEpIr7UO7FIlIU+BOIch/AjQSeBYr6EfpnOB9YenKyNAacDzlPiUhD956VFpHr/bkXJudY0m6MMcaYM6Kqm1Q1NpPNw4FEnIT8Q5yHTTMzHmjglmV8ncH2N4DJOD3Eh932GQ0xOQBnlJYjOInxZJ9tlXFKQw4D64D5OA/PhgGPAjtwykHausfx12tAfxGp5NaZd8Tpsf7VPdcbwDOq+lrKDqr6Bs7Dtc8Ce9z29wMZXTvAY8BqYKkb46tAmPsBYADOh5p/cHre4zI5hq9pQD3gX1X93Seuqe6xP3dHm1kDdPHjeCYHyclvQowxxhhjjDF5kfW0G2OMMcYYk8dZ0m6MMcYYY0weZ0m7McYYY4wxeZwl7cYYY4wxxuRxlrQbY4wxxhiTx/k7C5cxxhR6lUuFaaJfE46fdCBeZ6lq55yJyGSkQoUKWqtWrVCHYYwx2bJs2bK9qpp+cixL2o0xxl+JyXD5uYH92pyyMqlC1q1MMNWqVYvY2MyGDDfGmLxNRP7OaL0l7cYYE4AwCXUExhhjCiNL2o0xxl8CYfYkkDHGmBCwpN0YY/wkQLhYV7sxxpjcZ0m7McYEwMpj8qekpCTi4uJISEgIdSj5UlRUFNWqVSMyMjLUoRhTaFnSbowxfhIsac+v4uLiKFmyJLVq1ULs25KAqCr79u0jLi6O2rVrhzocYwotq840xhh/uTXtgbxM3pCQkED58uUtYc8GEaF8+fL2LYUxIWY97cYY4yfrac/fLGHPPrt3xoSe9QMZY0wAwkUCepnMicgEEdktImsy2S4iMlJENorIKhFpmtsxBpOI8Oijj6Yuv/766wwZMiTo53n55ZfTLF9yySVBP4cxJvdZ0m6MMX4SK48Jtg+A080W2wWo5776A+/kQkw5pmjRonz11Vfs3bs3R8+TPmn/5ZdfcvR8xpjcYX9SjDEmAGES2MtkTlUXAPtP06Q78JE6lgBlROTs3Iku+CIiIujfvz/Dhw8/ZduePXvo2bMnLVq0oEWLFvz888+p66+44gqaNm3KPffcQ82aNVOT/h49etCsWTMaNmzI2LFjARg8eDDx8fHExMRw8803A1CiRAkA+vTpw/Tp01PP2a9fP7788ks8Hg+PP/44LVq0oHHjxrz77rs5eh+MKQw2/3ss6Me0pN0YYwJgSXuuqgps91mOc9edQkT6i0isiMTu2bMnV4LLjoEDB/Lpp59y6NChNOsHDRrEww8/zNKlS/nyyy+56667AHjxxRfp0KEDy5cv59prr2Xbtm2p+0yYMIFly5YRGxvLyJEj2bdvH8OGDaNYsWKsXLmSTz/9NM05brjhBiZNmgRAYmIic+fOpWvXrowfP57SpUuzdOlSli5dynvvvceWLVty+E4YUzB5Fc4btYY6x4oyb11wfxfZg6jGGOMnwUpecllGH3s0o4aqOhYYC9C8efMM26TRrt2p63r3hgED4Phx6Nr11O39+jmvvXuhV6+02+bNy/KUAKVKlaJv376MHDmSYsWKpa6fM2cOf/zxR+ry4cOHOXLkCIsWLWLq1KkAdO7cmbJly6a2GTlyZOq27du389dff1G+fPlMz92lSxcefPBBTpw4wcyZM7nssssoVqwYs2fPZtWqVUyZMgWAQ4cO8ddff9nwjsYEKCHRS7WP/2bfA42I/moHDTtm/u8xOyxp90Pp4hFauYxNKHEm9hw4EeoQ8r0D4VGhDqFgOBq/V1UrZmtfsRlRc1kcUN1nuRqwI0SxBM1DDz1E06ZNuf3221PXeb1eFi9enCaRB2eM9IzMmzePOXPmsHjxYqKjo2nXrl2WQzJGRUXRrl07Zs2axaRJk7jxxhtTzzFq1CiuvPLKM7wyYwqvf/YlUnfBYRLurM1Zb61g++3nElm8aFDPYUm7HyqXieTde+qGOox8bfTUDaEOId+bUuLcUIdQMCxa+Xd2d7UhH3PdNOB+EfkcuAg4pKo7g3Lk0/WMR0effnuFCn73rGekXLly9O7dm/Hjx3PHHXcA0KlTJ9566y0ef/xxAFauXElMTAytW7dm8uTJPPnkk8yePZsDBw4ATm942bJliY6OZv369SxZsiT1+JGRkSQlJWU4e+kNN9zAuHHjiI2N5YMPPgDgyiuv5J133qFDhw5ERkby559/UrVqVYoXL57tazSmsLlzxC8kvNSORs9PZ9VT7ZF0H8CDwb7oNcaYAFhNe/CIyERgMXCuiMSJyJ0icq+I3Os2mQ5sBjYC7wEDQhRq0D366KNpRpEZOXIksbGxNG7cmAYNGjBmzBgAXnjhBWbPnk3Tpk2ZMWMGZ599NiVLlqRz584kJyfTuHFjnnvuOVq1apV6rP79+9O4cePUB1F9derUiQULFtCxY0eKFCkCwF133UWDBg1o2rQpjRo14p577iE5OTmH74AxBcOxBC/s2cOMEd343/VPs/qZy3MkYQeQzL56MyedW7WYWk/7mbGe9jM3pUTDUIdQMCxauUxVm2dn17NLheltrQL7uvPVHxKyfT6TPc2bN9fY2Ng069atW8f5558fooiy78SJE4SHhxMREcHixYu57777WLlyZUhiya/30Jic8sq03Txdvyz/3b6NpysdhfPOg6JnXhIjIhn+3bDyGGOMMSaP2rZtG71798br9VKkSBHee++9UIdkjAHueH8n7/eoDAnJFNuZCE2a5Pg5LWk3xhh/WcmLyWX16tVjxYoVoQ7DGONShfZv7WL+3WcjW4/x1bMP0GPyuFw5t9W0G2OMnwRn9JhAXn4dV6SziGwQkY0iMjiD7d1FZJWIrHTHIm/ts62MiEwRkfUisk5ELg7eFRtjjPF107gdzB9YmfDlu4l96nZ6fPpOro0FbD3txhgTgGD/bhaRcGA0cAXOEIdLRWSaqv7h02wuME1VVUQaA5OB89xtbwIzVbWXiBQBooMboTHGmBRjjn7NyqcqMefPz6g66XNwH+jODdbTbowxAciB0WNaAhtVdbOqJgKfA919G6jqUT05akBx3AmGRKQUcBkw3m2XqKoHg3KhxhhjANi8Xan4/j4W/LWH0uHJrPvz01xP2MGSdmOM8ZsEmLD7mbRXBbb7LMe569KdW64VkfXA98Ad7upzgD3A+yKyQkTGiYgNrm2MMUEyf3kS9TYks/f28gz5bRM8+CB8+WWuJ+xgSbsxxgQkG0l7BbcOPeXVP90hM0rtTxmLV1Wnqup5QA/gJXd1BNAUeEdVLwSOAafUxJu8QUR49NFHU5dff/11hgwZkq1jHTx4kLfffjtb+9aqVSvNGPHGmIx9MDOedhqOt10E7e9+kbmN3T6RXKphT8+SdmOM8ZMghIcF9gL2qmpzn9fYdIeNA6r7LFcDdmQWg6ouAOqISAV33zhV/dXdPAUniTd5UNGiRfnqq6+CkjCfLmn3eDxnfHxjCrvXvjzM7fWj4Dzl9m59+fHAauS887LeMQdZ0m6MMQHIgfKYpUA9EantPkh6AzDNt4GI1BVxhqIRkaZAEWCfqu4CtovIuW7TywHfB1hNHhIREUH//v0ZPnz4Kdv27NlDz549adGiBS1atODnn38GYMiQIbz++uup7Ro1asTWrVsZPHgwmzZtIiYmhscff5x58+bRvn17brrpJi644AIAevToQbNmzWjYsCFjx6b/rGiMOZ1LG3qIiNvDS+07MqF4AkycCJGRIY3JRo8xxhg/if+JuN9UNVlE7gdmAeHABFVdKyL3utvHAD2BviKSBMQDfXweTH0A+NRN+DcDtwc3QhNMAwcOpHHjxjzxxBNp1g8aNIiHH36Y1q1bs23bNq688krWrVuX6XGGDRvGmjVrUmdHnTdvHr/99htr1qyhdu3aAEyYMIFy5coRHx9PixYt6NmzJ+XLl8+xazMmv0tMhDve38/IW4pzycafSbjmGsKvvx4+/TTkCTtY0m6MMQEJy4HZlVR1OjA93boxPu9fBV7NZN+VwCnTXZvTa9eu3SnrevfuzYABAzh+/Dhdu3Y9ZXu/fv3o168fe/fupVevXmm2zZs3z6/zlipVir59+zJy5EiKFSuWun7OnDn88cfJL0kOHz7MkSNH/LsYV8uWLVMTdoCRI0cydepUALZv385ff/1lSbsxmTh4EBqPPMb2p8vx25fL+LNnZ8JHjYJ774WIvJEu540ojDEmP5CcSdpN4fLQQw/RtGlTbr/95JciXq+XxYsXp0nkwSmp8Xq9qcsJCQmZHrd48ZMDB82bN485c+awePFioqOjadeu3Wn3NaYw2/o3NPkigcPPF6fonD+YVk+cRP3++0MdWhqWtBtjjJ8ES9oLitP1jEdHR592e4UKFfzuWc9IuXLl6N27N+PHj+eOO5zROzt16sRbb73F448/DsDKlSuJiYmhVq1afPfddwAsX76cLVu2AFCyZMnT9sQfOnSIsmXLEh0dzfr161myZEm24zWmIPttObT+PYmkx6IoPXkBG26+nLMeeQSa5r1n+u1BVGOM8ZsQFhYW0MuYjDz66KNpRpEZOXIksbGxNG7cmAYNGjBmjFMd1bNnT/bv309MTAzvvPMO9evXB6B8+fJceumlNGrUKDXR99W5c2eSk5Np3Lgxzz33HK1atcqdCzMmn/nj6AGSeoRR4+3J7OjTlrOuvx7++99Qh5Uh62k3xhg/OQ+iWk+7yZ6jR4+mvj/rrLM4fvx46nKFChWYNGnSKfsUK1aM2bNnZ3i8zz77LM2yb51+0aJFmTFjRob7bd26NYCojSmY5v7qoX3LMPpdVpZazzxP65dfIuKmm+DDD/NMDXt61g1kjDEBsJ52Y4zJv7xeuPu/SXQsHU6LKWvg+HHaffMVETffDB99lGcTdrCedmOMCYjVtBtjTP504gR0eTqRnx4rAlEnaLtmI0RfAAsWQOnSEB4e6hBPy7qBjDHGGGNMgbZ/PzR5NJGfXigCSQcZ8Z9neOOzjyEpCcqVy/MJO1jSbowxfhMRwsICexljjAm9yQtPsOG1SOTv7UwZ/iKD3vg/KFUK8lEZo5XHGGNMAKxO3Rhj8o/Dh53c/N7uRYmd9jO3z/uSS0eMgH79YNy4fNHDnsL++hhjjJ/EnVzJetqNMSbv+3oaVPjQw+1frgNg3NoFXDp8ONx+e75L2MGSdmOMCYgl7Sa7wsPDiYmJoVGjRlx//fVphnz0x44dO+jVqxfgTL40ffr01G3Tpk1j2LBhQY3XmPxsxBi4Nl5JeiCcOfHrUVXo0AEeeCBfJuxgSbsxxvhNbHIlcwaKFSvGypUrWbNmDUWKFEmdQMlfVapUYcqUKcCpSXu3bt0YPHhwUOM1Jj/yeuH+Z5WHzwP6COeO+4j1lUsiInDRRTByZL6qY/eVP6M2xphQsPIYEyRt2rRh48aN7N+/nx49etC4cWNatWrFqlWrAJg/fz4xMTHExMRw4YUXcuTIEbZu3UqjRo1ITEzk+eefZ9KkScTExDBp0iQ++OAD7r//fg4dOkStWrXwer0AHD9+nOrVq5OUlMSmTZvo3LkzzZo1o02bNqxfvz6Ut8CYHPHeZC+j+whc4uGyMWNZs3k9xa+4AmbNCnVoZ8ySdmOMCUCYhAX0Mia95ORkZsyYwQUXXMALL7zAhRdeyKpVq3j55Zfp27cvAK+//jqjR49m5cqVLFy4kGLFiqXuX6RIEYYOHUqfPn1YuXIlffr0Sd1WunRpmjRpwvz58wH49ttvufLKK4mMjKR///6MGjWKZcuW8frrrzNgwIDcvXBjcsGd1wu1Nqzgpo8/ZN62rUS88grcfTdccUWoQztjNnqMMcb4ySmPsd7zgqBdu1PX9e4NAwbA8ePQteup2/v1c15794JbWp5q3ryszxkfH09MTAzg9LTfeeedXHTRRXz55ZcAdOjQgX379nHo0CEuvfRSHnnkEW6++Wauu+46qlWr5ve19enTh0mTJtG+fXs+//xzBgwYwNGjR/nll1+4/vrrU9udOHHC72Mak5dt2gQ9Xk/msdv/5baWVdl8XRPkmckwbBj07w/vvJNvS2J8WdJujDH+EpsR1WRfSk27L1U9pZ2IMHjwYK666iqmT59Oq1atmDNnDlFRUX6dp1u3bjz11FPs37+fZcuW0aFDB44dO0aZMmVOOb8x+d2SJXDFOx6OvhvOPb/t5ebks4hYtsxJ2O+9F0aPLhAJO1jSbowxfhNsnPaC4nQ949HRp99eoYJ/Pev+uOyyy/j000957rnnmDdvHhUqVKBUqVJs2rSJCy64gAsuuIDFixezfv361F56gJIlS3LkyJEMj1miRAlatmzJoEGDuPrqqwkPD6dUqVLUrl2bL774guuvvx5VZdWqVTRp0iQ4F2JMCEydCr3neUl+P4ywpav5POwIERERzgOn8+dD69YFJmEHq2k3xhj/2YOoJsiGDBlCbGwsjRs3ZvDgwXz44YcAjBgxgkaNGtGkSROKFStGly5d0uzXvn17/vjjj9QHUdPr06cPn3zySZp6908//ZTx48fTpEkTGjZsyDfffJOzF2dMDvr6G7huvZL8ZhhFZv/Ez1FKj5kz4aefnAaXXVagEnawnnZjjAmAJeIm+44ePXrKunLlymWYPI8aNeqUdbVq1WLNmjWp+y1dujTN9n79+qW+79Wr1ymlN7Vr12bmzJnZCd2YPKd1B6Vo5T0U/XwByy5qRt233oI33oCEBGjfPtTh5YiC9RHEGGNyUEp5jI3Tbowxue/4cXj0BdhyMIkKJYVN9SP5q8Nl1B01yknY778fXnst1GHmGPuLYowx/rLyGGOMCYndu6FNL+WNa5QLNmwjPiGBqmXKUOmVV2D4cGem05EjQQru710rj8njftsrvLUhDI/CVVW93FQ77dedi3YL728KQ4BwgfvP9XBBWWfbDQvDiY5wPpmFC7zbypPr8ecFu8JLsLJoZRSonXSQ85L2ptm+I7wka4tUApQwoMmJXVTwHueIFGFJ1Mlh1o6FFaFh4m7qJe3P1fjzgrOSjxBzYhcCbIksw4YiFdNsr550kHPd++ohjOVFq3Ao3Bnpol7iXmolHwTgUFhRYotWxZtPxy8XxMZeN8aYXPbnn9DxPmX7WODsRFq9O42Ipvc705/u2wcPPggjRhTohB1yMGkXEQXeUNVH3eXHgBKqOiTI53laVV/2Wf5FVS8J5jlCxaPw5vowXmvqoWIU3PtrOJdU9FCrxMk2zcopl1b0IAKbjsCLq8L56NKTyfnwZh5KFwlB8HmEAiuKnk2b+K1EazJzi51DleQjlNKT4xNX8hzj7PhNCHAwrCi/RlXnyuMbKamJXBG/OfU430XXp0pyxqM1FGiqXHhiJwuL1eK4RHB5/GZ2RJTkSNjJ4eeOhxVhfrHaJEk4lZOP0OzEDn6MPocobxJ1k/YzK7ouXgnjooTtVE8+xN+RZUN4QWfGes/zL1V1pjI3ActoaEpjcsOvv0KnZ5XDnytwiFvf/4wPBw1CDh6EcuXg/fedB04Lwb/tnOwyOgFcJyIVcvAcAE/7LhSUhB1g/SGoEq1UiYbIMOhQ2cvPe9L+UBaLOPlzmuApFD+zAdkfVowS3kRKaBJhKNWTD7EjomSaNhF4Sbltnkz+SfwbXpwSmkRxTcrhiPOect54joYV4VhYEVTC2B5R+pQPL/vCo0mS8NT3xXzuk6CE40VUiVAvCRKZq/HnByLSWUQ2iMhGERmcwfbuIrJKRFaKSKyItPbZtlVEVqdsy93I84+oqCj27dtnyWc2qCr79u3ze5x4Y4KpXEU4NioRjsTx9PRpfDRgAPLww9CyJRw4AOHhhSb5ycnymGRgLPAw8IzvBhGpCIwBarirHlLVn931nwHlgaVAZ6CZqu4Vka+B6kAU8KaqjhWRYUAxEVkJrFXVm0XkqKqWEJFJwIeqOt095wfAt8DXwDCgHVAUGK2q7+bMLTgze08IlYqeXK5YFNYdFpx+35MW7hbe+yuMg4nwyoUne9kFeHy5k0hdU83LNdUK3x+reIlMk0AW0yT2hxU7pd0/4SVZU/QsEiSc1vHbTtkeF1Ga6smHcjTWvKqYJhHvk2jHSyTlvPGZtq+ddIBd4c7XQQlhkfwZWYGrjv2FB+HfiBL8G1Ei033zvByYXElEwoHRwBVAHLBURKap6h8+zeYC01RVRaQxMBk4z2d7e1VNW/dl0qhWrRpxcXHs2bMn1KHkS1FRUQHNymrMmVCF77+HLl2h3jnw9V/b2bHmD/r37QuDBsGoUfDII1CmTKhDzVU5XdM+GlglIv9Lt/5NYLiqLhKRGsAs4HzgBeBHVX1FRDoD/X32uUNV94tIMZw/al+q6mARuV9VYzI49+dAH2C6iBQBLgfuA+4EDqlqCxEpCvwsIrNVdUsQrzsoMkqxM0oX2lRS2lTy8PsBmLApjP9r5gVgVAsPFaLgQCI8tiycGsU9NMm/VQk5qqrnCFWPH2FPWDRri1TisoS/U7d5EXZElKTR8X9DGGH+UDH5GLWSDjAvujYAkeqhiucI04vXI4lwWiVsp0bSQbZFlgltoNmUQ5MrtQQ2qupmABH5HOgOpCbtquo7VmBxMv71YE4jMjKS2rVrhzoMY0wWPB4Y9BCMLgO1IzezsVNtrq5XF+rWcR42HT0aHn3UGSWmkPSwp8jRJ6pU9TDwEfBguk0dgbfcHvJpQCkRKQm0xkm2UdWZwAGffR4Ukd+BJTg97vWyOP0MoIObmHcBFqhqPNAJ6Oue+1ecXv1TjiUi/d2voWMPHQvNA5wViyq7T5Zes+cElC+a+d/qJmVhx3HhUKKzXMH9JrNsESexX3+ocP1wQ8a9xMU0OdP2Fb3HORpWhBOEp67bFV6CMp4EorRwPsib0bcV8XLq5/3SngSanfiHX4rVINHdXslzlGMSSaJEoCL8E1GK8p7juRZ70ElgI8f42StfFdjusxznrkt3arlWRNYD3wN3+GxSYLaILBOR/un3M8aY/OLYMejRC0Y3BF6CnYeW8c+uXc7G115zEvbHHy+UCTvkzugxI4DlwPs+68KAi90kOpVk8oSQiLTDSfQvVtXjIjIPp0wmU6qa4La7EqfHfWLK4YAHVHVWFvuPxSnv4dyqxULSq3VeKfjnuLAzHioUhR93hfHsBWkTx3+OQ5Vizs/un4chWaFUJMR7nK+XoiOc97H7hL7nFL7OubIp9dhusr49ojQtT8SlaXNUilBcExHgQFgUXoQinLzP2yJKU6OQlsYAHHCfC4j2JhIvEVRPPsRvRdN+TV7Mm8jFCdtZGlWNo2Ena7pSSmnC1YsHoZLnKAcyKE/KTyQ8POtGaVVIV2s+1v39knrIDPY55R+rqk4FporIZcBLOL8TAS5V1R0iUgn4QUTWq+qCQIM0xphQ2rULuvaCFU8odBPKvvMOS6+8kupnn+00uPNOiIpyetsLYcIOuZC0uyUtk3HKUia4q2cD9wOvAYhIjKquBBYBvYFXRaQTkFLMURo44Cbs5wGtfE6RJCKRqhk+Ifg5cBfQHOjnrpsF3CciP6pqkojUB/5R1WPBueLgCQ+DB8/18sTycLwKXap4qV0Cpm13fli7VVcW/CvM2hlGhEDRcHj+AmckmQMn4LnfneTCo9CxspeWFQpf0h4GxJzYycJiNVGEWkkHKO09waYI50erTvIB4iJKsS2itPvApNIqIS41i0pG2B1RnGYndoTsGkJNRVhZ9GzaxP+NoGyNLMvh8CjOcYe+3BxZjgaJeyiiyVx4YicAXuDH6DrsD4/mn/BSXH58EyrCwbAotuTjkWNEhLCwgJP2vara/DTb43C+PUxRDcj0B05VF4hIHRGpoKp7VXWHu363iEzFKbexpN0Yk69s+BN+H+qFdlD9f68R268flSpUgDFj4PbboXx5Z2jHQiy3xmn/P5wkPcWDwGgRWeXGsAC4F3gRmCgifYD5wE7gCDATuNdtvwGnRCbFWJy6+eWqenO6887GKc+Zpqpu0QjjgFrAcrdnfw/QI0jXGXStKiqtKqbtXe9W/WTyfWNt5cbap5ZtVImG8RcXznKO9M72HOXs4xvTrKuTfLLy6rykvaeM3Z4iAqXbsQ05Gl9+sCuiJLvSjbqzObJc6vtlUVVZdmpFBwB/FK3EH0Ur5Wh8uSkbPe1ZWQrUE5HawD/ADcBNac4pUhfY5D6I2hQoAuwTkeJAmKoecd93AoYGO8Cc5D6/9CYQDoxT1WHptpcGPsEZuCACeF1V3z/lQMaYfGnHDqhSBdpeBo/OX8acV2azYNAgSkRHw333wdixEB0NffuGOtSQy7GkXVVL+Lz/F4j2Wd6LU7KS3iHgSlVNFpGLcUZESKnq7pLJeZ4EnszkvEk4Neu+7b04w0SmGSrSGGOyJIKEBffXpvv77n6cbwHDgQmqulZE7nW3jwF64jyLkwTEA33cBP4snJIZcH6ff+Y+D5Qv+DlyzkDgD1W9xh1hbIOIfOrTEWOMyacmToTbhis9nt/J5Kur8L+2LdDLmiOqcM89MG4cPPUU3HprqEPNE/LajKg1gMkiEgYkAneHOB5jjPEhOdHTjjs07fR068b4vH8VeDWD/TYDTYIeUO7JcuQcnPr+ku43oyWA/ThDChtj8ilVePVVeOoHkLlevtiXzLI//qBZgwZpE/ZnnoGXXiq0Nezp5amkXVX/Ai4MdRzGGJMREbJT024yl9HIORela/MWzihjO4CSON8yeHMnPGNMsCUnw8CBMPYIMMOLbljHs7/8TLN77nEa/P03TJkCzz4LQ4dawu4jTyXtxhiTt+VMT3sh5s/IOVcCK4EOQB2cEXIWukMKnzyQM9xlf4AaNWpgjMmbpk+HsSWAd4H5C3n333/pf889Tve7CNSuDWvWOIXulrCnkaPjtBtjTIEigoSFB/Qyp+XPyDm3A1+pYyOwhbSzwQLOML2q2lxVm1esWDHHAjbGZI/HHRujWze4tMMqwr/6im+Tkujfu7ez8Y474L//dRpVrWoJewYsaTfGmABIeHhAL3NaqSPnuDNX34BTCuNrG86M1rgP3p4LbM7VKI0xZ2TtWmjUDD793Rmde0HXC/irWTOu7tjRSdjvvBM++MCpnTGZsvIYY4zxUzbHaTeZ8HPknJeAD0RkNU45zZPuCGTGmHzgxx/h2n5w/FMPt9ZI4JwNm7n43HOpXbPmyR72jz6CF1+E558Pdbh5miXtxhjjN0HC7ddmMPkxcs4OnPHnjTH5zCefwO3PAjM9JNfzUnPIMGo/8ICzURXuustJ2IcOheeeC2ms+YH99THGGH9JjkyuZIwxBc706XDryxDxSzLJJeOJeeYl5j/7LKVKlXIaiECbNlC3rjO0o8mSJe3GGOM3sYdLjTHGD1dcAXXe2s0m8XDlyyP55qWXKFq0qFMSs3o1xMQ4pTHGb/YgqjHGGGOMOWOHDzsVL9v/hchIWHZJKYbOmsX0//7XSdiTk6FvX2jVCrZsCXW4+Y71tBtjjJ9EhDArjzHGmFP88w907Qqr2yiT4g+w8oBQp2xZnuvXz2mQkrBPnAgvv+yMx24CYj3txhgTABun3Rhj0lq1Ci5qBetuUfQt4eiaX1i5ZMnJBsnJcOutTsI+bBg89VTogs3HrKfdGGP8JTYjqjHG+Fq8GDpdBcnveEnqE0b4hAl8XaUKV3fufLLRBx/A55/Dq6/CE0+ELNb8zpJ2Y4wJgPWeG2PMSfXrQ9mxCWzvFUX0sGH82KEDF7VsmbbRHXdAtWrgm8ibgFl5jDHG+Cmlpj2QlzHGFDSq8P77cOIElC8P37Q+yPn//S8rrrvuZMKelASDBsHWrRAWZgl7EFhPuzHG+E2QMPu1aYwpvBIT4e674aOfYeS5B1jcsiQXVq7MH75jrSclwY03wpdfQqNGzg7mjFlPuzHG+MudXCmQlzHGFBQHD0KXLvDROigSm8jK+h6Gfvxx2ka+Cfsbb1jCHkTWZWSMMf6yB1GNMYXUtm3OkI7rainh33tI3PkPnUeM4IX//e9ko6QkuOEG+OorGD4cHnooZPEWRJa0G2OMnwQhzB5ENcYUQkeOwK7LFX1D8f6+itunTOG9N94g3Lcj4/hx2L4dRoxw6tlNUFnSbowx/nLLY4wxprBYuxYaNICGDWHEgM30m/4Hz2zYwJD//hcRcRolJoLHA6VLw6JFUKRIaIMuoKym3Rhj/CY2uZIxptB47z1ofCEMmJkEwC3n1mFbs2a8+NhjaRP266+Ha68Fr9cS9hxkSbsxxvjLHkQ1xhQCqvDMM9D/QSg7N5kxXSJ58uuvAahSpcrJhidOQK9eMG0aXHONM7SjyTFWHmOMMX4St6fdGGMKqhMn4M474dMZUG5FEvvqhxM9eDA9unc/tWGvXvDddzB6NAwYEJqACxFL2o0xxm+CiCXtxpiCa8kSmPgLlF6dyP5yXioMfJAFDz7I+eefn7Zh//5Owv7223DffaEJtpCx7zGMMcZfQo7UtItIZxHZICIbRWRwBtu7i8gqEVkpIrEi0jrd9nARWSEi3wXpSo0xhUxCgvPftm3h2e/2cyjqKLXvvZeVzz57asIO8MgjMH68Jey5yJJ2Y4zxm9PTHsgryyM6jUYDXYAGwI0i0iBds7lAE1WNAe4AxqXbPghYd6ZXZ4wpnGJjoV49+GKus/xig3K8++OPLB8xgqpVq55smJAAH3/sFL03aQJ33BGagAspS9qNMSYAEhYW0MsPLYGNqrpZVROBz4E0xaOqelRV1V0sDqS8R0SqAVdxaiJvjDFZ+u47p3c9oYdy8yUneGvFCgD69+pFmTJlTjZMSIDrroO+fWHZstAEW8hZ0m6MMaFVFdjusxznrktDRK4VkfXA9zi97SlGAE8A3hyM0RhTAL3zDnTvDmVf8rJ3lJD02xL+dEeJSSMhwRnSccYMZxzI5s1zPVZjSbsxxvhNslceU8GtQ0959T/lsKfSU1aoTlXV84AewEsAInI1sFtVrdvLGBOQuXNhwECoMcXLP4+EwRdf8NzPP/PmkCFpGyYkQI8eMGsWjBsHd90VinANNnqMMcb4z30QNUB7VfV03VJxQHWf5WrAjswaq+oCEakjIhWAS4FuItIViAJKicgnqnpLoEEaYwqXDh3grh9PMK5dURg1ijHFinHP00+f2nDRIifDHzfOathDzHrajTHGb8F/EBVYCtQTkdoiUgS4AZiW5qwidcWdflBEmgJFgH2q+pSqVlPVWu5+P1rCbozJzL59TjnMhg0gAu9cFkmHN99kao0a3JO+Bz3lMZqOHeHPPy1hzwOsp90YYwLg58OlflPVZBG5H5gFhAMTVHWtiNzrbh8D9AT6ikgSEA/08Xkw1RhjsrR5M3TpAlsT4a+ixxn7zwFaV63K3EGDTm18/Dj07u0M53jVVVC7du4HbE5hPe3GGOMvyZGedlR1uqrWV9U6qvpfd90YN2FHVV9V1YaqGqOqF6vqogyOMU9Vrw7q9RpjCoRff4VWreDfclD890TWlfcw6I03Mm58/Dh06wbTpztd8ybPsKTdGGP8JhAWHtjLGGNCaMkSaN8eItpC0k+JHDi+n1r9+vH1Qw+d2vj4cbjmGvjxR/jgA2d4R5NnWNJujDF+EsiRnvb8Thy3iMjz7nINEWkZ6riMMRATA1f+B/Z8lszxbVtp+sADLHvvPapXr562YUKCk7D/9BN8+KEl7HmQ1bT7oWipCtTt0i/UYeRrHz5iD7CcqfcPxoY6hAKhZPVO2d9ZJOg17QXE2zjjxHcAhgJHgC+BFqEMypjCyuuF11+H/v2hTBkYd38i5377Hc2+/JKpH35IdHT0qTsVLQoNGsDtt8Mt9jx7XmRJuzHGBKCw9J4H6CJVbSoiKwBU9YA7Eo4xJpfFxzs591dfwbKWXt666AQVixXjz3btKNWtGxER6VK/Y8dgzx6oVQtGjQpJzMY/1mVkjDF+EyQsPKBXIZEkzqcZBRCRitgMrcbkuj174PLL4atvodkqD5PbhdH+ww/xer2UK1fu1IT96FHo2tUpek9ICE3Qxm/W026MMX4T62nP2EhgKlBJRP4L9AKeC21IxhQumzZB586w/QBcsDmZZdUi4MUXGVCpEmEZlfWlJOw//wyffgpRUbkftAmIJe3GGOMnkeCP014QqOqnIrIMuBzned0eqrouxGEZU6hERUFUDaj2WxKrS4URMWAAkzp25Lrrrju18ZEjTsK+eDF89hn06ZP7AZuA2V8fY4zxW86M057ficjHqrpeVUer6luquk5EPg51XMYUBgsXgscDVavC1B+U7cf+Jfrmm5nTp0/GCTvAM89Ywp4PWdJujDEBsJr2DDX0XXDr25uFKBZjCgVVGD4c2raF5z50HiipGybM372bJc88Q9u2bTPf+T//cSZP6t071+I1Z86SdmOM8VcOzYiaX4nIUyJyBGgsIodF5Ii7vBv4JsThGVNgeTwwaBA88ghc8hK8cWsyV8yZA0Crpk254IILTt3p8GF49FFnAqVSpaDTGQx/a0LCknZjjAlEWFhgrwJMVV9R1ZLAa6paSlVLuq/yqvpUqOMzpiA6fhx69nRGZ7xyIix+ysuJNavZP3w4CZmNAHP4sPOU6siRzhSpJl+yB1GNMcacEVV9SkTKAvWAKJ/1C0IXlTEF04YNMGcuXPWL8v3FAj/M5Yp332Xq5MlEZTQCTErCvnQpTJoEHTrkftAmKCxpN8YYP4kN+ZghEbkLGARUA1YCrYDFODOkGmOCYN8+KF8eLrwQZv8NbUp54JPPuXXePMZPnEhkZOSpOx065CTssbEweTJce23uB26CpmB/d2uMMcEk9iBqJgYBLYC/VbU9cCGwJ7QhGVNwLFwI9evD+x86y5eUg6GzZzN43To+fO+9jBN2gH//hbg4+OILS9gLAOtpN8YYv1lPeyYSVDVBRBCRoqq6XkTO9WdHEekMvAmEA+NUdVgGbdoBI4BIYK+qnmZYDGMKlkmToG9fqBEDo3om89eqP3i5cWOe6drVGWs9I8ePQ7FiTqb/55/Oe5PvWU+7McYEQMLCAnoVEnEiUgb4GvhBRL4BdmS1kzs05GigC9AAuFFEGqRrUwZ4G+imqg2B64MauTF5lCq8+irccAM0vhq885NYWcTL8NdeY//+/ZnvePAgtGsHzz7rLFvCXmAUmr8oxhhz5mzIx4yo6rWqelBVhwDPAeOBHn7s2hLYqKqbVTUR+Bzonq7NTcBXqrrNPdfuoAVuTB72668weDBc+Tj8PTGJLSeOE9W9O9PvuINy5cplvNOBA3DFFbByJbRqlavxmpxn5THGGOMvAcT6OnyJSBiwSlUbAajq/AB2rwps91mOAy5K16Y+ECki84CSwJuq+lH2IzYmb1MFESfnnrgA7ro4meO791DuppuYM2IEMTExGe+YkrCvXg1ffQVXX52rcZucZ399jDHGb4LzazOQV8Gmql7gdxGpkY3dJaNDpluOwJld9SrgSuA5Eal/yoFE+otIrIjE7tljz8Ca/GnnTmjTBn7+2Vm+oQ1cPHMmNW+4gaXvv595wu71QpculrAXcNbTbowxgbCe9oycDawVkd+AYykrVbVbFvvFAdV9lqtxai18HM7Dp8eAYyKyAGgC/OnbSFXHAmMBmjdvnj7xNybP++MPJ+/euxc+LgPJR47QtmRJZnXtyuHWrSlTpkzmO4eFObOdFi+e+cOpJt/LNGkXkVGc2uORSlUfzJGIjDEmz0rpaTfpvJjN/ZYC9USkNvAPcANODbuvb4C3RCQCKIJTPjM8u4EakxfNmwc9ekBUNPTYpLxbWfjow6/Y0KED1atXzzxh378fli1zymKut2e0C7rT9bTH5loUxhiTX1hP+ykCrGP33S9ZRO4HZuEM+ThBVdeKyL3u9jGquk5EZgKrAC/OsJBrghW7MaEWGwudOsE550P9n718ViIMRo3iuthYKt+U/jOsj337oGNH2LgRtm51Zl4yBVqmSbuqfui7LCLF3a8njTGmELOkPZhUdTowPd26MemWXwNey824jMktTZvCk/+BeYM8fFs0HJ58kseBVz/4AJGMHvvAqaHp2BHWr4dvvrGEvZDI8q+PiFwsIn8A69zlJiLydo5HZowxeY44Pe2BvPw5qkhnEdkgIhtFZHAG27uLyCoRWek+bNnaXR8lIr+JyO8islZEslumYozJRUlJ8OSTsG2bU47+/BPw76YNcOutDD/7bP736qunT9gvvxw2bIBp0+DKK3M3eBMy/jyIOgLnif1pAKr6u4hclpNBGWNM3hXcnnafCYauwHnocqmITFPVP3yazQWmqaqKSGNgMnAecALooKpHRSQSWCQiM1R1SVCD9IOIFANqqOqG3D63MfnJkSNO+fmsWVCkMdx/M5wFLKtRgwU33MBVV111+gN8+KEzy+m0aU4tuyk0/Prro6rb063y5EAsxhiTx+VIT3uWEwyp6lFVTRkYoDjuIAHqOOquj3RfuT5yiohcA6wEZrrLMSIyLbfjMCav27EDLrsM5syBJ7+BUTd4iFm2jKNHj1KyRImsE3aARx6BFSssYS+E/PmLsl1ELgFURIqIyGO4pTLGGFP4BDxOe4WU8cPdV/90B8xogqGq6c8qIteKyHrge+AOn/XhIrIS2A38oKq/BuMqAzQE58PHQQBVXQnUCkEcxuRZf/7pTJi0cSM8+xsMv9rLka1bSbrvPrZt23b6nXfvdp5WXb/emXnpvPNyJ2iTp/hTHnMv8CbOH5F/cJ7yH5iTQRljTJ6UvRlR96pq8yyOmt4pveWqOhWY6pYnvgR0dNd7gBgRKeNubxSC0VWSVfVQpjW4xhgqV4ZGjaDpu/BSNUVjl1Fz4EDmTJxInTp1Mt9x927o0AE2b3ZmX7KEvdDKMmlX1b3AzbkQizHGFEb+TDCUSlUXiEgdEang/n5OWX9QROYBnYHcTtrXiMhNQLiI1AMeBH7J5RiMyZOmTXMGeilVCr6cDnUPH8Y7fSFNXn6ZWd9+y1lnnZX5zr4J+3ffQfv2uRe4yXP8GT3mHBH5VkT2iMhuEflGRM7JjeCMMSZvSZlcKaDymKykTjAkIkVwJhhKUw8uInXF7cYWkaY4kwztE5GKbg97yoOgHYH1Z3aN2fIA0BDnwdjPgEPAQyGIw5g8QxWGDoXu3eF/wyERKAZ8deAAN06axMKZM7NO2Nu3dxL27793kndTqPlTHvMZzsgG17rLNwATcWalM8aYQkWDXALizwRDQE+gr4gkAfFAH3ckmbOBD90RaMKAyar6XVAD9M+5qvoM8EwIzm1MnpOYCPfcAx98ADf3h18HK+22bGVhzZpcVLMmn330UdYHiY6GGjVg9Gho1y6nQzb5gD9Ju6jqxz7Ln7h/YIwxphAK/uRKWU0wpKqvAq9msN8q4MKgBxS4N9wPEF8An6vq2lAHZEyoHDoEvXo5I8Q8/hr8+IiX5YC+8gozunXj6quvPv0B/v3XSdhLloTp050HT43hNH99RKSciJQDfhKRwSJSS0RqisgTOKMXGGNMIZMzkyvld6raHmgH7AHGishqEXk2tFEZExr79sEff8D/voQvH/awIjER7dGD1889N+uEfedOp1e9d29n2RJ24+N0Pe3LcEYwSPmJucdnm+KMXmCMMYVM4UjEA6Wqu4CRIvIT8ATwPPCf0EZlTO7ZsgVq1YJzzoF1f0HTIsn8ffgI0q0bH99zD7fccsvpD7Bzp1PDHhcHY8fmSswmf8n0r4+q1lbVc9z/pn/Zg6jGmELIetozIiLni8gQEVkDvIUzcky1EIdlTK6ZNQsaN4bXX3eWS0XDoDVrKNG5M98/+2zWCfuOHU4Pe1wczJgBbdrkeMwm//Gnph0RaQQ0AKJS1qmqH09RGGNMQVM4EvEAvY8zQEEnVc10uEpjCqLx452HThs1giJ3wotHj/JCiRI8EBPDbT/8QKlSpbI+yC23OIn7zJnQunXOB23ypSyTdhF5AadWsQHOg1JdgEWAJe3GmMIle5MrFXiq2irUMRiT21Th+efhP/+BTldCq6/hoSgIn/sr5x88SO+ePf1L2AHGjIG9e+GSS3I0ZpO/+fPXpxdwObBLVW8HmgBFczQqY4zJk3JknPZ8S0Qmu/9dLSKrfF6rRWRVqOMzJietXg3DhsHtd8E538PQKJCJE2k4eDCXXXpp1geIi4OXX3ay//r1LWE3WfKnPCZeVb0ikiwipYDdgNW055Kf1u1gyNdL8XiVG1vVZeDljdJsn7VmO6/P+J0wEcLDhCE9mtPynEqp2z1eL1cNn0Hl0tF8cFfhnEltduxvPDHmLTxeL7d17spjvW9Ks/27xT8z9KP3CQsTIsLD+V//gVzS6AISEhPp9PggTiQl4fF46NG6Lc/e2i80FxFiP6zcwBMffYPXq/Rt35JHu6f9Wfoudi3/mTzLuYdhYQzr241LzqtNQmISnYeO4URSMskeLz0uuoBnru8UoqsIEutp9zXI/W8WQ2IYU3AkJUFkpFPDvjQW/tNY+VIE/vc/2s2ezddz52bdw759u/PQ6e7dcMMNztOrxmTBn6Q91p1x7z2cEWWOAr+d6YlFRIE3VPVRd/kxoISqDsnGscoAN6nq29nYdyvQ3Hc68LzC4/Xy7Fe/8dm9l3N26WiuHj6DKxpWo37lMqltWterTKeG1RAR1u04wH0fLWTe4G6p28cvWE/dSqU5eiIpBFcQeh6Ph0dGv8m3L79G1QoVaTPoPq666BLOr1krtU27mKZc1eoSRITVWzbR9+WhrHjvQ4pGRjJ92BuUKFaMpORkOj72IJ2at6Tl+Q1Cd0Eh4PF6efT9qXzz9N1ULV+ats+M4qpmDTiv2smZ/No1qstVzRogIqz5eyd9R37C8v97nKKREXz3bH9KRBUlKdlDpyFvc0XMubSsVzOEV3QmUnraDYCq7nTfDlDVJ323icirwJOn7mVM/vX333D11fDCC85Y7DFNoMbGTfDWW/TZtYsPv/+eokWzKEbYvt156HTvXpg92xJ247cs//qo6gBVPehO9HEFcJtbJnOmTgDXiUiFIByrDDAgow3uTIH50spt+6hVoSQ1y5ekSEQ43S6sxew1cWnaFC8aiTu7OccTk/Ed0XXnwWP8uG4HN7aqm4tR5y2xf67nnCpVqX12FYpERtKrbQe+W/JLmjYlihU7eQ8TElLfiwglihUDICk5maTk5NRthUnsxu2cU7kCtc8qT5GICHpe3ITvYtPOnVMiqmjqvTl2IhHB5x5GOX/Akjwekjye/H8PbfSYjFyRwbouuR6FMTlo+XJo1crJuT1V4Cd3/Rt16/Jtx4589tlnWSfs27alTdhb2eMgxn+Z9rSLSNPTbVPV5Wd47mRgLPAw6aa+FpGKwBighrvqIVX9WUSGAEdV9XW33Rqcr2WHAXVEZCXwA87kTy8AO4EYoIGIfA1UxxkB501VzfODoO46dJwqZaJTl88uE82Kv0/9QmDGqm28On0le48k8OHdJ8sWhny9jKevvpBjhbSXHWDH3r1Uq3iyXKhqhQrEblh3SrtpPy/khQ/GsefgQb4c+nLqeo/Hw6UP3svmHf/Q/+oetDjv/FyJOy/ZeeAQVcuXTl2uWr40sRu3n9Ju2tI1DPl8BnsPHeWLJ+5IXe/xemnz9Jts3rWPuztdQou6NU7ZN/+wnnZfInIfTofJOelq2EsCP4cmKmOCb/p0Z76j8uXh7YVw/zle9u87wNy//+aSpk2znjQpxdq1cPiwk7BfdFHOBm0KnNOVx/zfabYp0CEI5x8NrBKR/6Vb/yYwXFUXiUgNYBZwumxpMNBIVWMARKQd0NJdt8Vtc4eq7heRYsBSEflSVfcF4RpyjOqp6zLqpezSuAZdGtdgyaZ/eX3G70y8ryNz1sZRvkQUjauXZ/HGXbkQbd6knHoThVPvYbdL29Dt0jYsWv07Qz96n+9fcQbbDQ8PZ8no9zh49Cg3vvQ8a7duoWGt2jked16S4c9hBu26tWhEtxaNWLRuM//5YhbfPtMfgPCwMH4Z9jAHj8Vz0xsf8sf2XTSoXjlng85Jhaf33B+fATOAV3B+D6c4oqr7QxOSMcG1Zg1ccw3ExMDTs+G2sl4S9uzBc+WVbH3iCS5pmmkf50mJiVCkCHTpAps3Q8mSOR63KXgyTdrdaalzlKoeFpGPgAeBeJ9NHXF6x1OWS4lIoD/hv/kk7AAPisi17vvqQD0g06RdRPoD/QGqVi4b4KmD4+wy0ew4eDx1eefB45xVqlim7VvVOYtH9v3C/qMJxG7Zww9r4/hp3T+cSPZwJCGJBz9ZxMhbCtf4r1UrVCRuz+7U5X/27qVy+cwrslpf0IQtO19l76FDVCh9sne5TIkStGnchB9ifyt0SXuVcqX5Z9+h1OV/9h2ictnMH7Jqff453PvvPvYePkaFUsVT15cpXow259fhh9835OukXTP8yFJoqapuFZGB6TeISDlL3E1B0KiRM0FpxM1wY1GFjZsIv+oqvh4xgq5du2Z9gL//ho4dnZFirr/eEnaTbXmhy2gEcCdQ3GddGHCxqsa4r6qqegSnpMY35igydyzljdvz3tE9ZhNgRRb7oqpjVbW5qjYvV6b46ZrmmCbVy7N1zxG27TtKYrKHaSu2ckWjtJMMbtlzBHW7QlfH7SMx2UvZ4kUZfPWFLH3hOhY/dy2jb23NpfUqF7qEHaBZ/fPYtOMftu7aSWJSElPm/8hVrS5O02bTjn9S7+GKjX+SmJxE+VKl2HPwIAePHgUg/sQJflqxnHOr5+fSjuxpVqcam3btZevu/SQmJ/Pl4t+5qlnah3E37dqbeg9XbokjMdlD+ZLR7Dl8lIPHnM/j8YlJ/LTmL+pXqZjr1xBMXtWAXgXcZ+5/lwGx7n+X+Swbky+dOAF33QUrVzrLd94JM08cgl9/pUSXLsz7+GP/EvatW0/WsNcuXB0+Jvj8mhE1J7klK5NxEvcJ7urZwP3AawAiEqOqK4GtuEOLuTX3Kf8CjuDUUGamNHBAVY+LyHlAvnjyIyI8jJeua8EtY+fi8Sp9Wtbh3Mpl+PiXPwG49ZL6zFi1jS9jNxMRHkZUZDhv922T/x/0C6KI8HD+774H6P7sk3g8Hvp26kKDmrUZ9/00AO66qhtfL1rAxLmziYiIoFiRonw0+HlEhF0H9tH/9VfxeL141UvPNu3octHFWZyx4IkID+f1ft3p8co4vF4vt7ZrwfnVKzP+h8UA3HnFxXzz22omLlhOZEQYUUUi+eDBmxER/j1whHvemeTeQ+W6Vo3p0rRwjb5TkKnq1e5/LRsxBcb+/dCjByxcCDFNoXIMVAYmREdT/JNPePz77zn33HOzPlBKwn74MMyZA82a5WjcpuATDVFPkIgcVdUS7vuzgC3A/1R1iDuizGicOvYIYIGq3uvWo38DVAKWAq2BLu7Xs58BjXHqK78HHkv5gyIiRYGvgarABqAiMERV5/kz5GPj86vr9I8eCvYtKFTKnX9H1o3MaXkPWsdlMJSs3mmZqjbPzr4XNm2q8xYuCGifMiVKZvt8+YWIXAqsVNVjInIL0BQYoarbQhFP8+bNNTbW/r2YwG3eDF27wpYtMP5jmNEb5hw7xqJjx6hXqVLWB0ixfz80bXoyYfen7t0Yl4hk+Hcjy552cbptbwbOUdWh7oOhlVX1jMZqT0nY3ff/AtE+y3uBPhnsEw9kODOLqt6UbtU8n20nyGT4MVWtFUDYxphCruBXvGTLO0ATEWkCPAGMBz4G2oY0KmMC8Ndf0Lq1M3nSNz/B65fAXICXXmLE0aOMfust/w9WtqxTU3PVVZawm6DxpzzmbcCLM1rMUJxSlC+BFjkYlzHG5DkKeDMYkciQrKoqIt1xhtQdLyK3hTooYwJRq5YzSkzfJ+HBuspqjxduv52ex4/zf5984t9BNm2ChARo2BCeey5H4zWFjz8Pol6kqgOBBABVPQAUydGojDEmj/IG+CokjojIU8CtwPfupHaRIY7JGL988AHs2QORkTBuHLxdx8vaEyfwXnUVA0qWZNKkSURFnXbsCsemTU4N+/XXg8eT02GbQsifpD3J/QWskDrxUSH6W2SMMSkCGzmmEIwek6IPzizXd6jqLpznh14LbUjGnJ7XC489BrffDiNGkPod2n8PHaLaTTfxnzZteOuttwgP92Ni9Y0bnYQ9Ph4mTgR/9jEmQP6Ux4wEpgKVROS/QC/g2RyNyhhj8iArj8mYqu4SkU+BFiJyNc48GR+FOi5jMhMfD337wpQp8MAD0GIoXJmYyBRV6pQty9pPPiE6OjrrA4FTDN++vVMWM3cuNGmSs8GbQivLnnZV/RTnwaJXgJ1AD1X9IqcDM8aYPEedB1EDeRUGItIb+A24HugN/CoivUIblTEZ27sXLr/cSdj/7/+gwZvQM0xZsG4d9z76KID/CTvA0KHOwO4//mgJu8lR/oweUwM4Dnzruy5UQ3kZY0woWU97hp4BWqjqbkgto5wDTAlpVMZkQBWOHIHJX8DqXvAoUGTOXIr168f9kycHfsB334Xt28GfsduNOQP+1LR/D3zn/ncusBlnLHRjjClUlJyZEVVEOovIBhHZKCKDM9jeXURWichKEYkVkdbu+uoi8pOIrBORtSIyKLhX7LewlITdtY+8MeO2MalWrYLERKhYEVasgBW94CUg8qOPqHT33fzyww9ccskl/h1swwa47jo4dAiioy1hN7kiy552Vb3Ad9mdifSeHIvIGGPysGA/he8+6D8auAKIA5aKyDRV/cOn2VxgmjusYmNgMnAekAw8qqrLRaQksExEfki3b26YKSKzgInuch9gei7HYEympk6Fm26Chx6CV16BiAi49vhxRo4cSc1PPmHWwoVUq1bNv4Nt2ODUsHs8sGsXlC6do7EbkyLgnhBVXY6N0W6MKYQUxRvgyw8tgY2qullVE4HPge5pzqt6VE9OX10cd6ALVd3p/k5GVY8A63BGbslVqvo48C7OrNRNgLGq+mRux2FMRkaMgJ49ISYG+j4Kw3H+AbWIjuanyy9nUSAJ+/r1zigxHg/89JP1sJtc5U9N+yM+i2E401PvybGIjDEmD8uBh0urAtt9luOAi9I3EpFrcQYEqARclcH2WsCFwK9BjzATIlIPeB2oA6wGHlPVf3Lr/MacjscDjzwCI0c6lSwvfQrdiypbkpLZ+cEH/O/uu2nRIoA+yPXrnR52VSdhb9Ag54I3JgP+9LSX9HkVxalt737aPYwxpoDKRk97BbcOPeXVP90hJYPTnPLRQFWnqup5QA+cUtyTBxApgTNT9UOqejgoF+qfCTjPPPUElgGjcvHcxpzW1q3w/vvw8MPw5GRoX1TZduwYyW3bcmT5cjTQT+CRkVC9uiXsJmRO29Pu1lqWcL/6NMaYQi3lQdQA7VXV5qfZHgdU91muBuzINAbVBSJSR0QqqOpeEYnESdg/VdWvAg3uDJVU1ffc9xtEZHkun9+YUxw5AiVLQp06sGYNrK8BHVTx7t7NibZtGXLjjTz//POIZPR5OQNxcVClinPAX38Ff/czJsgy7WkXkQhV9eCUwxhjjMF5EDWQlx+WAvVEpLaIFAFuAKb5NhCRuuJmGO5gAEWAfe668cA6VX3jTK8tG6JE5EIRaerGVSzdsjG5asMGp3b9zTed5Ro14JjHAxs2kNCsGWMefpgXXnjB/4R97Vpo1gyedeeUtITdhNDpetp/w0nYV4rINOAL4FjKxhD06BhjTGhptnraT39I1WQRuR+YBYQDE1R1rYjc624fg1N+0ldEkoB4oI87kkxr4FZgtYisdA/5tKrm1sgtOwHfDwu7fJYV6JBLcRjDokXQvTuEh8NFreB3nKeirw0P5/WFC6n81lv06NHD/wOuXevUsIeHO9OnGhNiWT6ICpTDGXO3A84vYXH/a0m7McYEgZtkT0+3bozP+1eBVzPYbxEZ18TnClVtH6pzG+Priy/g1luhZk34djqMrANjVHnz118Z2KoV9959d2AHXLMGOnRwxoa0UWJMHnG6pL2SO3LMGk4m6ylsSkBjTKGjOMM+GmPyjo0b4cYb4eKL4fOvYVB55yGPIqNGMfKdd7hn9WoiIvzpo3QlJECXLs6Dpz/9BPXr51ToxgTkdD/F4UAJ/BzZwBhjCoNgT65U2IlIZ+BNnL8541R1WCbtWgBLcEqDpuRiiCaPq1sXvvkGml4OfaJgIRD+2GPUmT6dmbNmBZawA0RFwbhxcM45UK9ejsRsTHac7id5p6oOzbVIjDEmz9Og17QXZn7OBpvS7lWcun9jOHbMKTO/5x7o1AmuugreBhZ7PHDzzbTcto3vFi2iXLly/h901Sqnjv3GG+HKK3MsdmOy63TjtNsj0sYY40PJkdFj8j1x3CIiz7vLNUSkpR+7ZjkbrOsBnIqH3UEL2uRbu3Y5k5J+/TX8/Tcku+vvVeXaF1/kmuPHmTNnTmAJ+++/OzXsTz0F8fE5ELUxZ+50Pe2X51oUxhiTT1hPe4bexvmM0gEYChzBSbKzmm4yy9lgRaQqcK177ACmrzQF0bp1Trn5nj1O0l7qGjhXlfH//ku7ypX57PnnAQIriVm5Ei6/HIoXh7lzoVixHIndmDOVaU+7qu7PzUCMMSY/0AD/V0hcpKoDgQQAVT2AM5Z8Vvx5ZmoE8KQ7b0jmBxLpnzLr7J49e/w4tclvtmyBSy5xnhOdPx8SroFOquyOi+OW667j6NGjREREBJawr1hxMmGfN8+ZQMmYPOp05THGGGN8ODOiBvYqJJLcunMFEJGK+Fcd5M9ssM2Bz0VkK9ALeFtEeqQ/kKqOVdXmqtq8YsWKgV+ByfNq1YIHHoAlS+CX5tBHlaKrVnE0Joanb7mFEiVKBH7Q2bOhRAknYT/nnGCHbExQWdJujDEB8KIBvQqJkcBUnKGC/wssAl72Y78sZ4NV1dqqWktVawFTgAGq+nUwgzd5lyq88Qb89ZczGenQofBzLRgElJgzh4TLLmPK2LEMGDAgsAMnu5XwTz7plMdYwm7yAUvajTHGTwp4VAN6FQaq+inwBPAKziypPVT1Cz/2SwZSZoNdB0xOmQ02ZUZYU3glJzujwzz6qDMCY4qeQJMPPoDevflh2jR69uwZ2IFjY+H8853RYgDKlg1WyMbkqAAHLzXGmEJMFY8WljFh/CciNYDjwLe+61R1W1b7ZjUbbLr1/c4sUpNfHDkCffrAjBnw9NPw+EswAPivKmVF+LFbN3Y0b06jRo0CO3BsLFxxBZQpA6VK5UToxuQYS9qNMcZPTk174eg9D9D3nJw5OwqoDWwAGoYyKJM/7d4NnTs7HeHvvgvd+kN7YJXXy29DhrDo6acpV65cYEM6Aixd6iTsZcs6New1a+ZE+MbkGEvajTEmAB6v9bSnp6oX+C6LSFPgnhCFY/K5EiWgfHn49ls4pwtcDOxMSkK7dydi/36OP/QQUVFRgR107VonYS9XDn76yRJ2ky9ZTbsxxvhJCayevbDUtKenqsuxMdVNgBYtgkOHIDraGdSlYhe4VJXdx45x4uKL6SLC3LlzA+9hB2cox969rYfd5GvW026MMX5SpdAm4qcjIo/4LIYBTQEbLN347aOP4K67nNfbbzsjxZwNlNyyhX1XXEG/yy5j7NixREZGBnbg5cudsSLLlYOxY3MidGNyjfW0G2NMALzqDehVSJT0eRXFqXHvHtKITL6g6gzjeNtt0KYNvPwyzAQ8ONPlfp+QwIu33caECRMCT9iXLIH27Z0haIwpAKyn3Rhj/JQy5KM5yZ1UqYSqPh7qWEz+kpTk5NPvvw99+8LY9+CVIvAicP28eUxq25YGDRrw/PPPB37wxYvhyiuhUiUYPjzosRsTCtbTbowxfnOGfAzkVZCJSISqenDKYYwJyN69Tu3688/DuA9goJuwl5k6la+vuop169Zl78C//OIk7GedBfPnQ7VqwQzbmJCxnnZjjDHZ9RtOwr5SRKYBXwDHUjaq6lehCszkXbt3O6PDnH02rFkDkWXgWpyaqlJvvknyc88x89tvadCgQeAH93phwACoXNkZJaZq1SBHb0zoWNJujDF+svKYTJUD9gEdODleuwKWtJs0fv8drroKbrkFhg1z5jhaAfzo8RD9+ONET5zIjAULiImJyd4JwsLgm28gMhKqVAli5MaEniXtxhjjL7Vx2tOp5I4cs4aTyXoK+3Rj0pg9G3r1ciYivekmOAiUAS4E3v3hB16eMYPpv/xC7dq1Az/4okXw+ecwcqQN6WgKLKtpN8YYPymKVwN7FXDhQAn3VdLnfcrLGAA+/dTpYa9d2xnUJbkxnAf8Z8cOAG7t3JlVq1ZlL2FfuNCZQnXOHDhwILiBG5OHWE+7H0RAxD7fnIkVx45l3cicVplfPw91CAYrj0lnp6oODXUQJm/btQvuvtsZ0vHrr2FJKeipStjBg7zQqRNXjB/PRRddFPiQjgALFkDXrlC9Ovz4o1Msb0wBZUm7Mcb4yalpt/IYH5J1E1PYVa4Mc+fChRfCF1FwhyrFt23j0MUXM/C662jevHn2DuybsP/0k3MiYwow6z42xhg/pcyIGsjLHyLSWUQ2iMhGERmcwfbuIrJKRFaKSKyItPbZNkFEdovImiBeqr8uD8E5TT6gCk88AR984CxffDFsioLbVCm+YgWHGjfmtUceYdSoUYSHh2fvJImJcO65lrCbQsOSdmOM8Vvwx2l3JycaDXQBGgA3ikj6se7mAk1UNQa4Axjns+0DoHMQLi5gqro/FOc1eZvHA/37w2uvwYoVJ9c3BPrPnMnxtm35fOxYHnvsMUSy8WXN7t3Ofzt2hKVLLWE3hYYl7cYY4yeFnHgQtSWwUVU3q2oi8DnQPc15VY+qph6sOD4js6jqAsCSZ5MnJCY6I8OMGwfPPgvDRsAtwI+JiQC807kzq2Nj6dOnT/ZO8OOPcM458MUXznKYpTGm8LCfdmOMCUAOlMdUBbb7LMe569IQkWtFZD3OHDR3BOVijAmi5GTo0QMmT4bXX4dHXoIrBT4Feg4Zwvr16xERzj333OydYO5cuPpqZwiatm2DGbox+YIl7cYY4ydVxeP1BvQCKrh16Cmv/ukOm1F9wCnZvqpOVdXzgB7AS0G/OGPOUESEU7v+3nvQ+1FoDSz2eJAbb6TO7NmUKVMm+wefM8dJ2OvUcXrbK1UKVtjG5Bs2eowxxvgpmzOi7lXV0w2PEQdU91muBuzINAbVBSJSR0QqqOreQIMxJtj27IG4OGd0mOeec36gW6my98QJkrt0oWt0NJPmzaNEiWwO3f/333DNNVCvntPbXrFiUOM3Jr+wnnZjjAmAV70BvfywFKgnIrVFpAhwAzDNt4GI1BX3iT0RaQoUAfYF+dKMCdj27c746926wYkTzroqQN3Vqzlx0UX0r1+fb775JvsJOzgznI4a5fSwW8JuCjHraTfGGD9ls6f99MdUTRaR+4FZODOMTlDVtSJyr7t9DNAT6CsiSUA80CflwVQRmQi0wynDiQNeUNXxQQ3SmAz89ZczgMvBg/D99zCjKDTD+dpoZv36TH70UW699dbsjRAD8MMPULYsNG8Od90VxMiNyZ8saTfGGL/5P/Z6QEdVnQ5MT7dujM/7V4FXM9n3xqAHZEwWfv8dOnVyxmP/6Sf4uSkMUqXGTz+x4sILKVu2LH379s3+CWbNgu7dnSL5H390piY3ppCz8hhjjPGTM7lScMdpNyY/euMNKFIE5i+ESU3hQaDIjBkcuOkm/vrrrzM7+MyZTsJ+/vkwZYol7Ma4rKfdGGMCkBM97cbkFx4PhIfDu+/Cjr3wQjX4BIgcO5aKL7/MzLlzadiwYfZPMHOmM25kgwZOeUz58sEK3Zh8z3rajTHGGJOlKVPgootg/36IioKK1eDngweRZ5+lwTvv8Osvv5xZwg4wYQI0bOgM8WgJuzFpWE+7Mcb4SVG8Xit5MYXPhAlw993QqhXsDYcooCQw9/hxXtqxgzcXLKBkyZLZP4HX68xu+vHHEB8PZzKmuzEFlPW0G2OMv5TsTK5kTL42fDjceaczUsxbP0CnUkqbDRtITk6mdpUqTJgw4cwS9u++cz8N7IWiRS1hNyYTlrQbY4yfFEvaTeEyejQ88gj07AnPfAsdo7zsOHiQ5bfcwg8//HBmB1eF99+H665z3kfYl//GnI79CzHGGD8paom4KVR69HBmO231H7hSvHjj4vB26sQHTz1Fly5dsn/gPXvgnntg6lRo2xa+/tp62I3JgvW0G2OMvxQ8Hm9AL2Pym+RkeOcdZ6SYqlXhuVfgLm8SnlWriGzXjplvvcVtt912ZicZONCZkem112DuXEvYjfGDJe3GGOOnlJ52K48xBdWJE3D99TBgAEyf4ZSERQMj16+nRr9+/PL113Ts2DF7Bz92zKlbBydZX7oUHnvMGUPSGJMlK48xxhh/uQ+iGlMQHT0K117rjLb4xkiYdjVM27WL9ypX5sYLLuD62Fgislt3/uuvcMstcO65zoOnNWsGN3hjCgHraTfGGD/Zg6imoNq/H664An78EcZ+Aj/er4wDxo0bxzfTpgFkL2FPSoLnn4dLL4XERHj88eAGbkwhYj3txhjjJ1V7ENUUTJs2wYYNMGEavN3Fy1IFBgzgtvh4ujzxRPYOunWrU2sTGwu33QZvvgmlSwczbGMKFUvajTEmAJa0m4LkyBEoWRJatIA/t8BlJTxsSEpG+/Th+SZNGDJkCCKSvYOXKuX0rk+Z4owZaYw5I1YeY4wxfrIHUU1Bsm4dnH8+jBvnLFcoDV2WL0c6dWJ8t268+OKLgSfs//wDDz/slMWUKwcrVljCbkyQWNJujDH+shlRTQGxbBm0aeMM6+i5HCaeOAHA/7VowcYPP+SOO+4I/KCTJ8MFF8DYsU6yDhBmaYYxwWL/mowxxk/2IKopCBYsgPbtnbKYx1bAwJpe+q5dy4JFiwCoVatWYAc8eNAZGaZPH6hXz0nYW7YMetzGFHaWtBtjjJ9UFY8nsJcxeUlcHHTuDFWrwU0r4bHK4J0/n3oDB1I7u8Mw3nADfP45vPgi/Pwz1K8f1JiNMQ57ENUYYwJgvecmP6tWDd4ZAz/3Ul6OFpg4kcs++ICvZ8ygTCCzkiYkOLU1xYvDq686D5y2aJFjcRtjrKfdGGP8plbTHnQi0llENojIRhEZnMH2m0Vklfv6RUSahCLO/O6998CtfuG2vrAz7i/4v//j5hkzmP3tt4El7CtWQPPm8NBDznKTJpawG5MLLGk3xhgTEiISDowGugANgBtFpEG6ZluAtqraGHgJGJu7UeZ/r74K/fvDiA9hnbvu67p1+axKFT7+8EOKFCni34E8Hhg2DC66yJmNqVevHIvZGHMqK48xxhg/pQz5aIKmJbBRVTcDiMjnQHfgj5QGqvqLT/slQLVcjTAfU4Wnn3by7G4DYPXwJJr9u5/fExKoV7MmN954o/8H27rVedj055+dCZPeeQfKl8+x2I0xp7KedmOMCYDX6w3oZU6rKrDdZznOXZeZO4EZORpRAeH1woABTsJ+/Yvw6/Ak/kqIR++4g+2bNgV+QFX4+2/45BOYNMkSdmNCwHrajTHGT6rW0x5kGc3ck+GQOyLSHidpb53J9v5Af4AaNWoEK758SxUOHICbxsC0O5I4tncv5W65hdmvvUbTpk39O8ju3TB+PAweDLVrw6ZN4G8pjTEm6Kyn3RhjApATD6L68TBmd/dBzJUiEisirf3dN4+LA6r7LFcDdqRvJCKNgXFAd1Xdl9GBVHWsqjZX1eYVK1bMkWDzg/h42LkTwsPh009hy3V7OLppE3VuvZXY8eP9T9i//daZKGnIEFizxllnCbsxIWU97XncT+v+4YWpS/GocuNFdbm/4wVpts9avY3XZqwkTISIsDCGXNuclueclbrd4/XS9Y3vqVw6mg/vvjy3w88TtsbOZ/47Q/F6vTTq3JsWfe5Ls33T4h9Y/OEbEBZGWHg4be95jqqNWnBkzw5mvfYYxw7sQSSMC7rewIU9bg/RVYTWoq2HGDY/Do8XejYqz10tKqfZ/uOmg4xavIMwhPAwYXDbajStWiJ1u8er9Jm4nkolInm7e93cDj9ocqKn3edhzCtwktilIjJNVf/waTYXmKaq6iawk4Hz/Nw3L1sK1BOR2sA/wA3ATb4NRKQG8BVwq6r+mfsh5h+HD0O3brBnDyxeAaWKwJSoKJ4ZN443vviCsmXLZn2Qo0fhkUec4WaaNIG5c6FRo5wP3hiTpZAk7SLiAVa7518H3KaqxwPYvwowUlV7iUgMUEVVp7vbugENVHVY8CPPXR6vl2e//JXP7r2Cs8tEc9Xw6XRqVJ36lcuktmld/2w6NaqOiPDHjgPc9+F85j/VI3X7+AXrqXtWaY4mJOX+BeQBXo+Hn0a/wHUvf0SJCpWZ+GAPzmnVkfI166W2qR5zCee06oiIsGfzOqa//AC3jZtDWFgEl939NJXqNSLx+FE+e6AbNS5snWbfwsDjVf7z03beu64elUtE0mfiBtqfU5o65YultmlVvSTtzzkfEWHDnuM8Nn0L397WMHX7Jyt3c065KI4mekJxCUHl8QS9PMafhzGP+rQvzskSkiz3zctUNVlE7gdmAeHABFVdKyL3utvHAM8D5YG3RQQgWVWbhyrmvGrvXujSBVashC4rvDTau4tlpUtTpWRJ3n/9df8OogpduzpjQw4e7PSyFy2ak2EbYwIQqvKYeFWNUdVGQCJwbyA7q+oOVU0ZayoG6OqzbVpBSNgBVm7bR60KJalZoSRFIsLpfmEtZq/ZnqZN8aKRuH/IiE9MRnxKRHccPMbcP+K4qVXhSjJ97drwO6XPrknps2sQHlmE+m2vZtPiH9K0KVKseOo9TEqIB/d98fKVqFTP6WEqEl2CctXrcnTfrty9gDxg9a5j1ChdlOqlixIZHkaX+mX5cdOhNG2ii4Sf/DlMSpvU7jqSyIIth+nZqEKuxZxTcmicdr8exhSRa0VkPfA9cEcg++ZlqjpdVeurah1V/a+7boybsKOqd6lqWfdvRowl7Kf65x9o2xZWb4BLN3r4rlEY27/5hulTp/p3gMRESE52fvcNGQLz58Mrr1jCbkwekxfKYxYCjUWkHDABOAc4DvRX1VUi0hZ4022rwGU4vS7fAU2BoUAxt8bzFaAY0Bx4BvgdOEdVvSISDWxwj18D5yvliu657lbV9blxsYHYefA4Z5cpnrpcuXQ0K7btPaXdjFXbGPb9cvYeTeAjnxKYIVOX8sw1zTh6onD2sgMc27eLkhXPTl0uWeFsdm1YeUq7jT/P4uf3X+P4wX10Hzr+lO2HdsWxZ9NaKp8bk4PR5k27jyVRueTJWtazSkayetepX4zN2XiQN3/+h33Hk3m7e53U9a/Oj+OR1lU5VgB62bM55GMFEYn1WR6rqr5jjfv1MKaqTgWmishlOOOVd/R3X1OwDRwI2w7A+X8lseCsSOTZZxlVpQq33XJL1juvW+cM5di9Ozz/PHTokPMBG2OyJaQPoopIBM6kGquBF4EV7gQaTwMfuc0eAwaqagzQBohP2V9VE3G+Op3k9sBM8tl2CCdpb+uuugaYpapJOJNzPKCqzdzjv51jF3lGTv3bm9Ff6C6NazD/qR6Mv6M9r01fAcCctXFUKBlF4+qFe1guzSh9kVPvYt1Lr+S2cXO45oV3WfzRG2m2JcYf4/v/DKDtPc9RtHjJHIo078roHmb0c9ixbhm+va0hI685h7cW7wRg3uZDlIuOoOFZ0TkbZG7JXk/73pQHJN1X+smB/HoYMzUE1QVAHRGpEOi+pmB6911o/NsxVpYXitxzD99cdBEDBww4/U5eL4wcCU2bwrZt0Lhx7gRrjMm2UCXtxURkJRALbAPG4wzj9TGAqv4IlBeR0sDPwBsi8iBQRlWTAzjPJKCP+/4GYJKIlAAuAb5wY3gXODv9jiLS3x2lIXbfgWPZuMQzd3aZ4uw8ePLcuw4dp3LpzJOfVnXO4u99R9l/NIGlW3Yze00crYZ+ycCPFvDzX7t44JOFuRF2nlKiQmWO7NmZunxk706Kl6uUaftqF7Tk0M5txB/aD4AnOYnvXhrAee27Ubd15xyPNy86q0Qku44kpi7/eySJisUjM23fvFpJth86wYH4ZFbsOMq8zYfoNH4Nj8/Ywm/bj/DkzC25EXaOSOlpD3J5TOrDmCJSBOd31TTfBiJSV9z6IxFpChQB9vmzrymYliyB226DpCQ46yx4ybOXmvffz6K77uKaa645/c5xcXDllTBoEHTsCKtXQ48euRK3MSb7QlUeE+/2nKdK+YOUjqrqMBH5HqdufYmIdAQS/DzPNOAVt/SmGfAjzkNcB9OfP4MTj8WdLrtJg+oh+bq5SfXybNlzhG37jlC5dDTfrNjKW7e0SdNmy57D1KpQEhFh9fZ9JHo8lC1elKeubspTVztDe/2ycRfv/rSWUen2LQwqn9uYgzu2cmjXdkqUP4s/539HlydHpGlzcMdWSp9dExFh919r8CQnEVWqLKrKnOGDKVejDk173hWaC8gDGlUuzraDJ4g7dIKzSkQy488D/K9LrTRtth1MoHrpos4D0buPk+RRykSF83Drqjzc2imx/m37ET5Y/i+vdq4dgqsInmBPmOTnw5g9gb4ikoTzbWMfVVUgw32DGqDJc+bMcXLs0p2g5/Z/+bp2JTrUrMnmt98mLMyPvrhduyA2FsaOhbvuyvDbR2NM3pMXatpTLABuBl4SkXY4XykfFpE6qroaWC0iFwPnASt99jsCZFizoKpHReQ3nJr471TVAxwWkS0icr2qfuF+WGisqr/n2JVlU0R4GC/1bMnN787B61X6XFSXc88uw8c/bwDg1kvPZfqqbXy5dBMR4WFERYbzTt/LyPjzT+EUFh5B+wFDmPrMbajXS8NO11O+Vn1Wff8pAI2vupm/Fs1k3ZyphEVEEFEkiq5PjURE+GfNUtbNnUqFWufyyYCrALi032PUbtk+lJeU6yLChKfbV+eeqRvxqHJtw/LULV+MSav2ANCncUV++Osg09btJyJMiIoI4/WutQvkz6Fq8JN257g6HZiebt0Yn/evAq/6u68puL7+Gvr0gcp3KTuGJ/Pt9qP830czefy2206fsB844Ox8++3QvLkzu2mpUrkVtjEmCEQzLPrN4ZOKHFXVEunWlQPeB2qT9kHUUUB7wIMzjFk/nHKW71S1kbvfLCASnwdRVfV+97i9gC+Adqo6311XG3jHPU4k8LmqDs0s3iYNquv0jx4J1uUXSlurXx/qEPK9MoteCHUIBUKjXhOWZXcEkuga1bT+Yw8GtM/vg57M9vlM9jRv3lxjY2OzbpjPTJwIt94K1V9U/h7sRZcv55qxY5k8ahRRUVGZ7zhnDvTrB//+Cxs2wDnn5FrMxpjAiUiGfzdC0tOePmF31+3HGV84/foHMjjEVqCRz34t0m3/wGf/KaR7bk5VtwCFs0DZGJN9OdTTbow/6tWD+u95WHd7OMyYzQMLFzLi3Xcz72GPj3fGWx85Es47D775xhJ2Y/KxvFQeY4wxeZqilrSbXKUKCxY447A3bw73FlvPwxN+5f/i43no5Zcz39HrhXbt4Lff4IEHYNgwiC4gozgZU0hZ0m6MMQGwpN3kFlV47DF44x14cs4Jhl1SlAcbNqRnmTJUrZrJHFoeD4SFOa+HH4Zy5aBTp9wN3BiTI0I6TrsxxhhjTuXxOAO7vPEhlFuRyKstw3l75kyAzBP2TZugTRuYMMFZvuEGS9iNKUAsaTfGGD+pglc1oJcxgTpxwsm3J8yFEqtOsL+ml8oPPkinunUz3kEV3nsPmjRxZjgtWfgmgTOmMLDyGGOM8ZvVtJucN38+TNkERZef4CjHaDDoKeb95z9UrFjx1Mb//ut0yX/3HVx+Obz/PlSvfmo7Y0y+Z0m7McYEwJJ2k1NUnXmOOnWCvmX+5qOjwuWvv863I0ZQrFixjHdatswZ0nHECOeBU38mVzLG5Ev2r9sYY/yUMrlSIC9j/LF7N1x8MUxZ4Cx/2LImn65ezazhw09N2I8ccXrWAbp2hS1bYNAgS9iNKeDsX7gxxvhNLWk3QbdtG7RuA8suV/o0TeDLdesAuOmqqwgPD0/beNEip3a9Vy/YtctZV7lyLkdsjAkFS9qNMcZP1tNugm3DBri0DWx9yEvyfwWmT0M3bjy1YWIiPPUUXHaZU0Mzd64l68YUMlbTbowxflM8loibINm2DVp3hEOjvCT1CKPo22/zQ5MmtLn00rQNk5OhdWtYutQdB/INGyHGmELIknZjjPGTYg+imuCpVg1qvHaY5T1KUe7ll1ncqxf169c/2SDlydSICLjpJnj2WejWLXQBG2NCyspjjDHGX1YeY4Jgzhzn2dGwMFjYsxi93n2XdXfdlTZh374drrgCZsxwlh96yBJ2Ywo5S9qNMcZv9iCqOTNTpkCXx5QL9hxj7Z49REdG8sU991CpUiWngSp89hlccAEsWQIHD4Y0XmNM3mFJuzHG+MkeRDVnYsIE6D1K8czzcqz6ET5M6UVPsX+/MxXqzTdDw4bw++9w442hCdYYk+dYTbsxxvjNZkQ12fPGG/Doz8Asha0beWrBfP57991pG33zDXz1Fbz8MjzxBKQf7tEYU6hZ0m6MMX6yB1FNdiQmwsidSfBFBPLrb4zdtZO7+vd3Nh4/7vSoX3wx9OsHl14KvrXtxhjjsvIYY4zxl4JXNaCXKby8XkhIgCJFYMrAI5z1xRRmeT3cde21ToPYWGjaFDp3hgMHnJFiLGE3xmTCetqNMcZvVh5j/JOcDP3uhgVNjrOqfwTNa5VjZ81eiIiz8eWX4aWXnAmSvvwSypYNdcjGmDzOetqNMcZPKeUx9iCqOZ2EBOh+C3x6A2x/KJp7p30F4CTs8fHQpg288AL07g2rVkHHjiGO2BiTH1jSbowxxgTJkSNwxS3K9MeAyz00fvNNxl199ckGxYo5s5tOnAiffmo97MYYv1nSbowx/rIhH00Wuj/mYdGrwPkn6DLmHZYNHEiJo0ehRw9Yvtxp9NprztCOxhgTAEvajTHGT5pDkyuJSGcR2SAiG0VkcAbbbxaRVe7rFxFp4rNtkIisEZG1IvJQ8K7WZEePG3chuosBUz7n+4EDiZg2DRo1glmzYMOGUIdnjMnHLGk3xhh/5UBPu4iEA6OBLkAD4EYRaZCu2Ragrao2Bl4Cxrr7NgLuBloCTYCrRaRe0K7X+GXLFhg4Oh6vV3mwXVXiSoUz+tprkTvugJ49oVYtWLHCJkoyxpwRS9qNMcZvinq9Ab380BLYqKqbVTUR+Bzonuasqr+o6gF3cQlQzX1/PrBEVY+rajIwH7g2KJdq/PLHH9D4zWTevieKXtMWAFClUiUYOxY++gieew4WL4bzzgtxpMaY/M6SdmOMCYR6A3tlrSqw3Wc5zl2XmTuBGe77NcBlIlJeRKKBrkD1bFyVyYbflkLTr5I5OiKCIgtiGVy7DKxb52wcNAiWLoWhQyEyMqRxGmMKBhun3Rhj/OWM+RjoXhVEJNZneayqjvVZlkzOdAoRaY+TtLcGUNV1IvIq8ANwFPgdSA40QBO4ufOh058evM9GUPrrufxeSqjZ92HYuxf++guio52Jk4wxJkgsaTfGGL8peAOe5XSvqjY/zfY40vaOVwN2pG8kIo2BcUAXVd2XGpHqeGC82+Zl93gmh329azfeOytS4+OvWb1tLaWGDnWGbxw3zknYjTEmyCxpN8aYQPhX8hKIpUA9EakN/APcANzk20BEagBfAbeq6p/ptlVS1d1um+uAi4MdoDlp63alVnVhVJ9KNPjhJ+4aN5zIBQucIR3HjoWKFUMdojGmgLKadmOM8VdKeUwgr6wO6TxAej8wC1gHTFbVtSJyr4jc6zZ7HigPvC0iK9OV23wpIn8A3wIDfR5YNUH27LgEah9U7v5yPQD3dWxHZJUq8P778NVXlrAbY3KU9bQbY4zfNDs17VkfVXU6MD3dujE+7+8C7spk3zZBD8icot+II3zYpyREJVLhnTHQ/GGoWdOZ2dQYY3KBJe3GGBOI4JfHmDxMFbq8foBZ95SFg8d499or6b/8N7islZO0G2NMLrGk3Rhj/KXZehDV5GPPTt7DrEEVkT/3M7NzEzqVKQ2//QYxMaEOzRhTyFhNuzHGBCLINe0mbxt6fQUuHPE9q1qfQ6c+vSE21hJ2Y0xIWE+7McYEwspjCrwjx5T6E3fzn0r/cme3xiy/7zJoNQ0uuyzUoRljCjHraTfGGH+pWk97kIlIZxHZICIbRWRwBttFREa621eJSI7OWLRjXxIVfzjMrrvO4vUVWyApCUqWtITdGBNylrQbY0wgLGkPGhEJB0YDXYAGwI0i0iBdsy5APffVH3gnp+JZueUwNdYkcqJHaS54ciJrz0uAyMicOp0xxgTEymP8sGpd3N5qLR75O9RxZKECsDfUQWTukVAH4I88fg/zhfxwD89oyA9VexA1iFoCG1V1M4CIfA50B/7wadMd+EidG79ERMqIyNmqujOYgfy4ZAsdo6ugFxeh84MTmDG4M1SpEsxTGGPMGbGk3Q+qmudnzBCR2CymSjdZsHt45uwemgBVBbb7LMcBF/nRpiqQJmkXkf44PfHUqFEj4EDq1ixPxO9HuOPLeYx583YQCfgYxhiTkyxpN8YYf2nOTK5UiGWUGaf/KsOfNqjqWGAsQPPmzQP+OqTG2aVIqOQhrHOvQHc1xphcYUm7McYEwpL2YIoDqvssVwN2ZKNNUISFh+fEYY0xJijsQdSCY2yoAygA7B6euQJ+D9UZ8jGQlzmdpUA9EaktIkWAG4Bp6dpMA/q6o8i0Ag4Fu57dGGPyA+tpLyDcr4bNGbB7eOYK/D1UrKc9iFQ1WUTuB2YB4cAEVV0rIve628cA04GuwEbgOHB7qOI1xphQsqTdGGMCYaPHBJWqTsdJzH3XjfF5r8DA3I7LGGPyGiuPyWUioiLyfz7Lj4nIkBw4z9Ppln8J9jnyimDeU3c4uQHZ3HeriFTIzr6hJiIeEVkpImtE5AsRiQ5w/yoiMsV9HyMiXX22dcto0pz8ySZXMsYYExqWtOe+E8B1uZDcpUnaVfWSHD5fKAXznpYBMkza3YlgCqp4VY1R1UZAInBvIDur6g5VTRl2IwannCFl2zRVHRa0SEMppTzGknZjjDG5zJL23JeM87Dew+k3iEhFEflSRJa6r0t91v8gIstF5F0R+TslQRWRr0VkmYisdccpRkSGAcXcntNP3XVH3f9OStcL+oGI9BSRcBF5zT3vKhG5J8fvRPBk554OEZHHfNqtEZFawDCgjnvvXhORdiLyk4h8Bqx2255yzwuYhUBdESnnXusqEVkiIo0BRKSte39WisgKESkpIrXce1gEGAr0cbf3EZF+IvKWiJR2v40Ic48TLSLbRSRSROqIyEz3vi4UkfNCeP2nZw+iGmOMCQFL2kNjNHCziJROt/5NYLiqtgB6AuPc9S8AP6pqU2Aq4DtzyB2q2gxoDjwoIuVVdTAne05vTneOz4E+AG6CdTlOPemdOKMytABaAHeLSO0gXW9uCPSeZmYwsMm9d4+761oCz6hqyvTqp9zz4FxC6IlIBM608auBF4EVqtoY55ubj9xmjwEDVTUGaAPEp+yvqonA88Ak9x5O8tl2CPgdaOuuugaYpapJOB+6HnDv62PA2zl2kWfEymOMMcaEhj2IGgKqelhEPgIexCfhAToCDeTkTHylRKQk0Bq41t13pogc8NnnQRG51n1fHagH7DvN6WcAI0WkKNAZWKCq8SLSCWgsIiklDqXdY23J7nXmpmzc00D8pqq+9yHQe54fFBORle77hcB44FecDzqo6o8iUt79UPQz8Ib7Lc5Xqhon/s8eOQnnQ+NPOMP7vS0iJYBLgC98jlP0zC8pByjgtQdRjTHG5D5L2kNnBLAceN9nXRhwsar6Jp1IJhmRiLTDSUovVtXjIjIPiDrdSVU1wW13JU7yNDHlcDg9nbMCvI68ZAT+39Nk0n7TdLr7dsxnv3YEeM/ziXi35zxVJj93qqrDROR7nLr1JSLSEUjw8zzTgFdEpBzQDPgRKA4cTH/+PMtKXowxxoSAlceEiKruBybjlKWkmA3cn7IgIjHu20VAb3ddJ6Csu740cMBNHs8DWvkcK0lEIjM5/ec4Yx23wRkfGfe/96XsIyL1RaR49q4uNAK8p1uBpu66pkBKKdAR4HQ98ae75wXNAuBmSP2wstf9RqOOqq5W1VeBWCB9/Xmm91BVjwK/4ZQtfaeqHlU9DGwRkevdc4mINMmJCzpzVh5jjDEmNKynPbT+D5+EEqe0Y7SIrML5/2YBzigeLwITRaQPMB/YiZMYzQTuddtvAJb4HGsssEpElmdQ1z4bpz55mluDDE6tdy1gudvDugfoEaTrzE3+3tMvcWZZXIkzK+OfAKq6T0R+FpE1OKVE36c7/unueUEzBHjfvdbjwG3u+odEpD3gAf7AuU9n++z3EzDYvbevZHDcScAXQDufdTcD74jIs0AkzgfL34N1IUFzNH4Wi1YGOkrR3hyJxWRq2bJle0Xk72zsWoGC+/9XQb42KNjXV5CvDQr29WX32mpmtFLUJgrJ89z6c487e+DFwDv5ppTAGGPyCRGJVdXmoY4jJxTka4OCfX0F+dqgYF9fsK/NetrzhxrAZHeovETg7hDHY4wxxhhjcpEl7fmAqv4FXBjqOIwxxhhjTGjYg6jGGGOMY2yoA8hBBfnaoGBfX0G+NijY1xfUa7OadmOMMcYYY/I462k3xhhjjDEmj7Ok3YSMiHhEZKWIrBGRL0Qk+gyO9UHKbK4iMk5EGpymbTsRuSQb59gqIqcM95fZ+nRtjgZ4riEi8ligMRpjsiYinUVkg4hsFJHBGWwXERnpbl/lzuWQL/hxbTe717RKRH7Ju3MinCqra/Np18L9+9IrszZ5kT/X5/79Wikia0Vkfm7HmF1+/FyWFpFvReR399puD0Wc2SEiE0RktztUdEbbg/b7xJJ2E0rxqhqjqo1wRsW513ejiIRn56Cqepeq/nGaJu2AgJN2Y0z+5/5eGQ10ARoAN2bwIb8LUM999QfeydUgs8nPa9sCtFXVxsBL5JN6Yj+vLaXdq5ycODBf8Of6RKQM8DbQTVUbAtfndpzZ4ef/dwOBP1S1Cc7f6P8TkSK5Gmj2fQB0Ps32oP0+saTd5BULgbpuL8JPIvIZsFpEwkXkNRFZ6n5CvQdSP7m+JSJ/iMj3QKWUA4nIPBFp7r7vLCLL3U/vc0WkFs6Hg4fd3oo2IlJRRL50z7FURC519y0vIrNFZIWIvAtIVhchIl+LyDK3p6B/um3/58YyV0QquuvqiMhMd5+F4syyaozJOS2Bjaq62Z1c7nOge7o23YGP1LEEKCMiZ6c/UB6U5bWp6i+qesBdXAJUy+UYs8uf/98AHsCZPG93bgYXBP5c303AV6q6DUBV88s1+nNtCpQUEQFKAPuB5NwNM3tUdQFOvJkJ2u8TS9pNyIlIBM4n0dXuqpbAM6raALgTOKSqLYAWwN0iUhu4FjgXuABn3PpTes7dxPg9oKf76f16Vd0KjAGGu738C4E33eUWQE+c2WEBXgAWqeqFwDSc8fKzcoeqNgOaAw+KSHl3fXFguao2xZnV9gV3/VjgAXefx3B6UYwxOacqsN1nOc5dF2ibvCjQuO/EmdE4P8jy2kSkKs7fhjG5GFew+PP/XX2grNsxtUxE+uZadGfGn2t7Czgf2IGTCwxSVW/uhJfjgvb7xMZpN6FUTJyp7sHpaR+Pk3z/pqpb3PWdgMY+tYmlcb5iugyYqKoeYIeI/JjB8VsBC1KOpaqZfRLuCDRwPuADUEpESrrnuM7d93sROZDJ/r4eFJFr3ffV3Vj3AV5gkrv+E+ArESnhXu8XPucu6sc5jDHZl9E3ZumHUfOnTV7kd9wi0h4naW+doxEFjz/XNgJ4UlU9Pr9T8wt/ri8CaAZcDhQDFovIElX9M6eDO0P+XNuVwEqgA1AH+EFEFqrq4RyOLTcE7feJJe0mlOJVNcZ3hfuL9pjvKpye6Fnp2nUl6x968aMNON84Xayq8RnE4vc/LBFph/MB4GJVPS4i84CoTJqre96D6e+BMSZHxeF8oE5RDad3L9A2eZFfcYtIY5xvFLuo6r5ciu1M+XNtzYHP3d/dFYCuIpKsql/nSoRnxt+fy72qegw4JiILgCZAXk/a/bm224Fh6oxDvlFEtgDnAb/lTog5Kmi/T6w8xuR1s4D7RCQSQETqi0hxYAFwg1vzfjbQPoN9FwNt3XIaRKScu/4IUNKn3Wzg/pQFEYlx3y4AbnbXdQHKZhFraeCAm7Cfh9PTnyIMSPm24CacspvDwBYRud49h0g+GsnBmHxqKVBPRGq7D7rdgFP+5msa0Nf9N9kKp0RvZ24Hmg1ZXpuI1AC+Am7NBz20vrK8NlWtraq1VLUWMAUYkE8SdvDv5/IboI2IRIgz2tpFwLpcjjM7/Lm2bTjfICAiZ+GUv27O1ShzTtB+n1hPu8nrxgG1gOXuAyp7gB7AVJyv0Vbj9DKcMvSVqu5xHwb9SkTCcB5MugL4FpgiIt1xHlp6EBgtIqtw/k0swHlY9UVgoogsd4+/LYtYZwL3usfZgPOQV4pjQEMRWQYcAvq4628G3vn/9u4txKoqjuP494dM5SUmyIgKUiIthMRyKiK0QrFQimQKrV6kHkoaI8QwSnzInC76kg/RZZKREo2koswctbQR7+WM45QmgT1URAZReYm0/j2sdeI0nZk5k8Lsid8HhnP23uu298Dhf/5n7b0kLQBqSDfo7KvqyphZn0XEKUkNpITAIGB5RHwu6aF8/CVgHTAV+Ao4TsoCFl6V57YQOB94MWekT0VEXX+NuVpVntuAVc35RcQBSeuBDtKUy6aIqPiYwSKp8n+3CGiWtJ/0K/n8iPix3wbdB5JWkZ54M1zSN6R71mrgzH+eeEVUMzMzM7OC8/QYMzMzM7OCc9BuZmZmZlZwDtrNzMzMzArOQbuZmZmZWcE5aDczMzMzKzgH7WZmZtYvJP0hqb3sb2QPZY+egf6aJR3Ofe2VdMN/aKNJ0pj8/okux7af7hhzO6Xr0inpfUnn9VJ+XF500P7H/MhHMzMz6xeSjkbEsDNdtoc2moG1EbFG0hRgaUSMPY32TntMvbUraQVwKCIW91B+FlAXEQ3dlbGBz5l2MzMzKwRJwyR9lLPg+/MieF3LXCSptSwTPSHvnyJpR677lqTegulW4PJcd25uq1PSo3nfUEkfSNqX98/I+7dIqpP0LDA4j2NlPnY0v75ZnvnOGf56pVW8l0jaI6lD0oNVXJYdwCW5neskbZfUll+vyKuMPgXMyGOZkce+PPfTVuk62sDjFVHNzMysvwyW1J7fHwbuBqZHxC+ShgM7Jb0X/5wWcC/QEhGLJQ0ChuSyC4DJEXFM0nxgLimY7c7twH5J40mrVF5PWo1zl6RPgMuA7yJiGoCk2vLKEfG4pIaIGFeh7dWkla/X5aB6EjAbeIC0jP21ks4GtknaEBGHKw0wn98k4LW86yAwMa8yOhlojIh6SQspy7RLagQ+joj789Sa3ZI2RcSxHq6HFZyDdjMzM+svJ8qDXkk1QKOkicCfpAzzhcD3ZXX2AMtz2Xcjol3STcAYUhAMcBYpQ13JEkkLgCOkIHoS8E4poJX0NjABWA8slfQcaUrN1j6c14fAshyY3wa0RsSJPCVnrKS7crlaYBTpC0u50peZkcBnwMay8iskjQICqOmm/ynAHZLm5e1zgEuBA304BysYB+1mZmZWFPcBFwDjI+KkpK9JAeffIqI1B/XTgNclLQF+AjZGxD1V9PFYRKwpbeSM9b9ExKGchZ8KPJMz4j1l7svr/iZpC3ArKeO+qtQdMCciWnpp4kREjMvZ/bXAw8AyYBGwOSKm55t2t3RTX0B9RHxZzXhtYPCcdjMzMyuKWuCHHLDfAozoWkDSiFzmVdK0kWuAncCNkkpz1IdIGl1ln63AnbnOUGA6sFXSxcDxiHgDWJr76epkzvhXspo07WYCUArSW4DZpTqSRuc+K4qIn4FHgHm5Ti3wbT48q6zor8C5ZdstwBzlnx0kXd1dHzZwOGg3MzOzolgJ1En6lJR1P1ihzM1Au6Q2oB54ISKOkILYVZI6SEH8ldV0GBF7gWZgN7ALaIqINuAq0lzwduBJ4OkK1V8BOko3onaxAZgIbIqI3/O+JuALYK+kTuBlepn1kMeyD5gJPE/K+m8DBpUV2wyMKd2ISsrI1+SxdeZtG+D8yEczMzMzs4Jzpt3MzMzMrOActJuZmZmZFZyDdjMzMzOzgnPQbmZmZmZWcA7azczMzMwKzkG7mZmZmVnBOWg3MzMzMys4B+1mZmZmZgX3F2BL8azJGRW0AAAAAElFTkSuQmCC",

      "text/plain": [
       "<Figure size 864x360 with 3 Axes>"
      ]
     },
     "metadata": {
      "needs_background": "light"
     },
     "output_type": "display_data"
    }
   ],
   "source": [
    "# Random Classifier \n",
    "\n",
    "clf_pipe = imblearn.pipeline.Pipeline([\n",
    "    ('vectorizer', TfidfVectorizer(tokenizer=tokenizer.tokenize, \n",
    "                                   stop_words=stopwords_list)),\n",
    "    ('os', RandomOverSampler(random_state=42)),\n",
    "    ('clf', DummyClassifier())\n",
    "])\n",
    "clf_pipe.fit(X_train, y_train)\n",
    "y_pred = clf_pipe.predict(X_test)\n",
    "multiclass_eval(y_test, y_pred, X_test, X_train, clf_pipe)"
   ]
  },
  {
   "attachments": {},
   "cell_type": "markdown",
   "metadata": {},
   "source": [
    "From the observation above it looks like the model is now able to levelup the sentiments and any sentment has equal chances to be selected. \n"
   ]
  },
  {
   "attachments": {},
   "cell_type": "markdown",
   "metadata": {},
   "source": [
    "### <span style='color:cyan'> **Logistic Regression.**</SPAN>"
   ]
  },
  {
   "cell_type": "code",

   "execution_count": 108,

   "execution_count": 54,

   "metadata": {},
   "outputs": [
    {
     "name": "stdout",
     "output_type": "stream",
     "text": [

      "Training score: 0.9389987379049222        Test Score:0.6713404374649468\n",

      "\n",
      "\n",
      "Classifictaion Report\n",
      "_______________________________________\n",
      "              precision    recall  f1-score   support\n",
      "\n",

      "           0       0.41      0.39      0.40       117\n",

      "           1       0.76      0.73      0.75      1077\n",
      "           2       0.57      0.61      0.59       589\n",
      "\n",
      "    accuracy                           0.67      1783\n",
      "   macro avg       0.58      0.58      0.58      1783\n",

      "weighted avg       0.68      0.67      0.67      1783\n",

      "\n"
     ]
    },
    {
     "data": {

      "image/png": "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",

      "text/plain": [
       "<Figure size 864x360 with 3 Axes>"
      ]
     },
     "metadata": {
      "needs_background": "light"
     },
     "output_type": "display_data"
    }
   ],
   "source": [
    "\n",
    "# Create a pipeline baseline logistic Regression\n",
    "clf_pipe = Pipeline([\n",
    "    ('vectorizer', TfidfVectorizer(tokenizer=tokenizer.tokenize, \n",
    "                                   stop_words=stopwords_list)), \n",
    "    ('clf', LogisticRegressionCV(class_weight='balanced', random_state=42, \n",
    "                                 cv=3))\n",
    "])\n",
    "\n",
    "clf_pipe.fit(X_train, y_train)\n",
    "y_pred = clf_pipe.predict(X_test)\n",
    "multiclass_eval(y_test, y_pred, X_test, X_train, clf_pipe)"
   ]
  },
  {
   "attachments": {},
   "cell_type": "markdown",
   "metadata": {},
   "source": [
    "Without tuning our model was able to classifie about 67% on the on the unseen data. This is a better model compaired to the dummy model, although there is some sort of overfitting the training data. Next we will look for the way to reduce the overfitting by the use of GridSearchCV. "
   ]
  },
  {
   "attachments": {},
   "cell_type": "markdown",
   "metadata": {},
   "source": [
    "#### <span style='color:orange'>**Hyperparameter Tuning with GridSearchCV.**</SPAN>"
   ]
  },
  {
   "cell_type": "code",

   "execution_count": 109,

   "execution_count": 55,

   "metadata": {},
   "outputs": [
    {
     "data": {
      "text/plain": [
       "{'clf__Cs': 1,\n",
       " 'clf__class_weight': 'balanced',\n",
       " 'clf__max_iter': 2,\n",
       " 'clf__solver': 'lbfgs'}"
      ]
     },

     "execution_count": 109,

     "execution_count": 55,

     "metadata": {},
     "output_type": "execute_result"
    }
   ],
   "source": [
    "# Greating a GridSearchCV\n",
    "\n",
    "param_grid = {\n",
    "    'clf__class_weight': ['balanced'], \n",
    "    'clf__max_iter': [2, 5],\n",
    "    'clf__Cs': [0.1, 1],\n",
    "    'clf__solver': ['liblinear', 'lbfgs', 'sag']\n",
    "}\n",
    "\n",
    "gs_lr = GridSearchCV(estimator=clf_pipe, param_grid=param_grid, scoring='recall_macro')\n",
    "gs_lr.fit(X_train, y_train)\n",
    "gs_lr.best_params_"
   ]
  },
  {
   "cell_type": "code",

   "execution_count": 110,

   "execution_count": 56,

   "metadata": {},
   "outputs": [
    {
     "name": "stdout",
     "output_type": "stream",
     "text": [
      "Training score: 0.5352685457860048        Test Score:0.5272013460459899\n",
      "\n",
      "\n",
      "Classifictaion Report\n",
      "_______________________________________\n",
      "              precision    recall  f1-score   support\n",
      "\n",
      "           0       0.15      0.70      0.25       117\n",
      "           1       0.77      0.56      0.65      1077\n",
      "           2       0.57      0.43      0.49       589\n",
      "\n",
      "    accuracy                           0.53      1783\n",
      "   macro avg       0.50      0.56      0.46      1783\n",
      "weighted avg       0.66      0.53      0.57      1783\n",
      "\n"
     ]
    },
    {
     "data": {
      "image/png": "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",
      "text/plain": [
       "<Figure size 864x360 with 3 Axes>"
      ]
     },
     "metadata": {
      "needs_background": "light"
     },
     "output_type": "display_data"
    }
   ],
   "source": [
    "# Creating a pipeline model\n",
    "clf_pipe = Pipeline([\n",
    "    ('vectorizer', TfidfVectorizer(tokenizer=tokenizer.tokenize, \n",
    "                                   stop_words=stopwords_list)), \n",
    "    ('clf', LogisticRegressionCV(class_weight='balanced', Cs = [1], \n",
    "                                 random_state=42, max_iter=2,\n",
    "                                 solver='lbfgs',\n",
    "                                 cv=3))\n",
    "])\n",
    "\n",
    "clf_pipe.fit(X_train, y_train)\n",
    "y_pred = clf_pipe.predict(X_test)\n",
    "multiclass_eval(y_test, y_pred, X_test, X_train, clf_pipe)"
   ]
  },
  {
   "attachments": {},
   "cell_type": "markdown",
   "metadata": {},
   "source": [
    "After tuning the OverSampled Logistic Regression we were able to reducing the overfitting although the model accuracy reduced from 67% (baseline logistic regrssion) to 53% on the test data set. "
   ]
  },
  {
   "attachments": {},
   "cell_type": "markdown",
   "metadata": {},
   "source": [
    "#### <span style='color:cyan'>**Random Forest Classifier.**</SPAN>"
   ]
  },
  {
   "cell_type": "code",

   "execution_count": 111,

   "execution_count": 57,

   "metadata": {},
   "outputs": [
    {
     "name": "stdout",
     "output_type": "stream",
     "text": [

      "Training score: 0.995793016407236        Test Score:0.6803140773976444\n",

      "\n",
      "\n",
      "Classifictaion Report\n",
      "_______________________________________\n",
      "              precision    recall  f1-score   support\n",
      "\n",

      "           0       0.57      0.21      0.30       117\n",

      "           0       0.60      0.21      0.31       117\n",

      "           1       0.72      0.81      0.76      1077\n",
      "           2       0.59      0.54      0.57       589\n",

      "\n",
      "    accuracy                           0.68      1783\n",

      "   macro avg       0.63      0.52      0.54      1783\n",

      "   macro avg       0.64      0.52      0.55      1783\n",

      "weighted avg       0.67      0.68      0.67      1783\n",
      "\n"
     ]
    },
    {
     "data": {

      "image/png": "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",

      "text/plain": [
       "<Figure size 864x360 with 3 Axes>"
      ]
     },
     "metadata": {
      "needs_background": "light"
     },
     "output_type": "display_data"
    }
   ],
   "source": [
    "# Creating RandomOversampler Random Forest Classifier\n",
    "rf_pipe = imblearn.pipeline.Pipeline([\n",
    "    ('vectorizer', TfidfVectorizer(tokenizer=tokenizer.tokenize, \n",
    "                                   stop_words=stopwords_list)),\n",
    "    ('os', RandomOverSampler(random_state=42)),\n",
    "    ('clf', RandomForestClassifier(class_weight='balanced'))\n",
    "])\n",
    "\n",
    "rf_pipe.fit(X_train, y_train)\n",
    "y_pred = rf_pipe.predict(X_test)\n",
    "multiclass_eval(y_test, y_pred, X_test, X_train, rf_pipe)"
   ]
  },
  {
   "attachments": {},
   "cell_type": "markdown",
   "metadata": {},
   "source": [
    "The model performed better than the RandomOversampled Logistic Regrssion and the tuned one with 68% accuracy although slightly overfitting on the training dataset. "
   ]
  },
  {
   "attachments": {},
   "cell_type": "markdown",
   "metadata": {},
   "source": [
    "#### <span style='color:orange'>**Hyperparameter Tuning with GridSearchCV**</SPAN>"
   ]
  },
  {
   "cell_type": "code",

   "execution_count": 112,

   "execution_count": 58,

   "metadata": {},
   "outputs": [
    {
     "data": {
      "text/plain": [

       "{'clf__criterion': 'entropy',\n",

       "{'clf__criterion': 'gini',\n",

       " 'clf__max_depth': 10,\n",
       " 'clf__min_samples_leaf': 1,\n",
       " 'clf__min_samples_split': 10,\n",
       " 'clf__n_estimators': 100}"
      ]
     },

     "execution_count": 112,

     "execution_count": 58,

     "metadata": {},
     "output_type": "execute_result"
    }
   ],
   "source": [
    "\n",
    "# Performing a GridSearch to determine best parametors. \n",
    "param_grid = {\n",
    "    'clf__criterion': ['gini', 'entropy'], \n",
    "    'clf__max_depth': [2, 5, 10],\n",
    "    'clf__min_samples_split': [1, 5, 10, 20],\n",
    "    'clf__min_samples_leaf': [1, 5, 10],\n",
    "    'clf__n_estimators':[50, 100]\n",
    "}\n",
    "\n",
    "gs_rf = GridSearchCV(estimator=rf_pipe, param_grid=param_grid, scoring='recall_macro')\n",
    "gs_rf.fit(X_train, y_train)\n",
    "gs_rf.best_params_"
   ]
  },
  {
   "cell_type": "code",

   "execution_count": 113,

   "execution_count": 59,

   "metadata": {},
   "outputs": [
    {
     "name": "stdout",
     "output_type": "stream",
     "text": [

      "Training score: 0.5058196606366568        Test Score:0.5008412787436904\n",

      "\n",
      "\n",
      "Classifictaion Report\n",
      "_______________________________________\n",
      "              precision    recall  f1-score   support\n",
      "\n",

      "           0       0.13      0.72      0.22       117\n",
      "           1       0.76      0.53      0.63      1077\n",
      "           2       0.61      0.40      0.48       589\n",
      "\n",
      "    accuracy                           0.50      1783\n",
      "   macro avg       0.50      0.55      0.44      1783\n",
      "weighted avg       0.67      0.50      0.55      1783\n",

      "\n"
     ]
    },
    {
     "data": {

      "image/png": "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",

      "text/plain": [
       "<Figure size 864x360 with 3 Axes>"
      ]
     },
     "metadata": {
      "needs_background": "light"
     },
     "output_type": "display_data"
    }
   ],
   "source": [
    "rf_pipe = imblearn.pipeline.Pipeline([\n",
    "    ('vectorizer', TfidfVectorizer(tokenizer=tokenizer.tokenize, \n",
    "                                   stop_words=stopwords_list)),\n",
    "    ('os', RandomOverSampler(random_state=42)),\n",
    "    ('clf', RandomForestClassifier(class_weight='balanced', \n",
    "                                   criterion='entropy',\n",
    "                                   max_depth=10,\n",
    "                                   min_samples_leaf=10,\n",
    "                                   min_samples_split=10,\n",
    "                                   n_estimators=100))\n",
    "])\n",
    "rf_pipe.fit(X_train, y_train)\n",
    "y_pred = rf_pipe.predict(X_test)\n",
    "multiclass_eval(y_test, y_pred, X_test, X_train, rf_pipe)"
   ]
  },
  {
   "attachments": {},
   "cell_type": "markdown",
   "metadata": {},
   "source": [
    "GridSearchCV tuning wa able to reduce overfitting on the training data but also reduced the accuracy on the testing data. "
   ]
  },
  {
   "attachments": {},
   "cell_type": "markdown",
   "metadata": {},
   "source": [
    "# Conclusion"
   ]
  },
  {
   "cell_type": "code",
   "execution_count": null,
   "metadata": {},
   "outputs": [],
   "source": []
  }
 ],
 "metadata": {
  "kernelspec": {
   "display_name": "learn-env",
   "language": "python",
   "name": "python3"
  },
  "language_info": {
   "codemirror_mode": {
    "name": "ipython",
    "version": 3
   },
   "file_extension": ".py",
   "mimetype": "text/x-python",
   "name": "python",
   "nbconvert_exporter": "python",
   "pygments_lexer": "ipython3",
   "version": "3.8.5"
  }
 },
 "nbformat": 4,
 "nbformat_minor": 2
}
