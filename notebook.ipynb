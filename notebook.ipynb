{
 "cells": [
  {
   "attachments": {},
   "cell_type": "markdown",
   "metadata": {},
   "source": [
    "# <b> Twitter Sentiment Analysis </b>"
   ]
  },
  {
   "attachments": {},
   "cell_type": "markdown",
   "metadata": {},
   "source": [
    "## <b> Problem Statement </b>\n",
    "In the era of social media, it is crucial for businesses to understand the sentiments expressed by customers towards their brands or products.\n",
    "This sentiment analysis project aims to analyze Twitter data and extract valuable insights regarding the sentiments associated with Apple and Google products mentioned in tweets. By uncovering the public's opinions and emotions, businesses can make data-driven decisions to improve their market positioning and enhance customer satisfaction\n",
    "\n",
    "## <b> Objectives </b>\n",
    "\n",
    "Our main objective is to create a model that when given a tweet or series of tweets and a product would determine how the user felt about that product.\n",
    "\n",
    "This is trivial for a human to accomplish, our model can do this for thousands or even millions of tweets in a short time.\n",
    "\n",
    "1. To build a text classifier to accurately distinguish between positive, neutral, and negative sentiments.\n",
    "\n",
    "2. Competitive Analysis – Compare the sentiment towards Apple and Google products to identify any significant differences in public perception. \n",
    "\n",
    "\n",
    "3. Give insights as to where the company can increase customer satisfaction."
   ]
  },
  {
   "cell_type": "code",
   "execution_count": null,
   "metadata": {},
   "outputs": [],
   "source": []
  },
  {
   "attachments": {},
   "cell_type": "markdown",
   "metadata": {},
   "source": [
    "# Data Understanding"
   ]
  },
  {
   "cell_type": "code",
   "execution_count": 1,
   "metadata": {},
   "outputs": [],
   "source": [
    "#Import libraries\n",
    "import pandas as pd\n",
    "import numpy as np\n",
    "import seaborn as sns\n",
    "import matplotlib.pyplot as plt\n",
    "import string\n",
    "import re\n",
    "import nltk\n",
    "import itertools\n",
    "import imblearn.pipeline \n",
    "import warnings\n",
    "warnings.filterwarnings('ignore')\n",
    "\n",
    "\n",
    "from nltk.tokenize import RegexpTokenizer\n",
    "from nltk.corpus import stopwords\n",
    "from nltk.stem import PorterStemmer\n",
    "from nltk.tokenize import RegexpTokenizer\n",
    "from nltk.corpus import stopwords\n",
    "from nltk.stem import PorterStemmer\n",
    "from nltk import TweetTokenizer\n",
    "from nltk.collocations import BigramAssocMeasures, BigramCollocationFinder\n",
    "\n",
    "from imblearn.over_sampling import RandomOverSampler\n",
    "\n",
    "from sklearn.metrics import f1_score\n",
    "from sklearn.metrics import classification_report\n",
    "from sklearn.metrics import plot_confusion_matrix\n",
    "from sklearn.metrics import roc_curve\n",
    "from sklearn.metrics import recall_score, precision_score, accuracy_score\n",
    "\n",
    "from sklearn.naive_bayes import MultinomialNB\n",
    "from sklearn.feature_extraction.text import TfidfVectorizer\n",
    "from sklearn.dummy import DummyClassifier\n",
    "from sklearn.pipeline import Pipeline\n",
    "from sklearn.feature_extraction.text import TfidfVectorizer\n",
    "from sklearn.linear_model import LogisticRegressionCV\n",
    "from sklearn.pipeline import Pipeline\n",
    "from sklearn.model_selection import GridSearchCV\n",
    "from sklearn.ensemble import RandomForestClassifier"
   ]
  },
  {
   "cell_type": "code",
   "execution_count": 2,
   "metadata": {},
   "outputs": [
    {
     "data": {
      "text/html": [
       "<div>\n",
       "<style scoped>\n",
       "    .dataframe tbody tr th:only-of-type {\n",
       "        vertical-align: middle;\n",
       "    }\n",
       "\n",
       "    .dataframe tbody tr th {\n",
       "        vertical-align: top;\n",
       "    }\n",
       "\n",
       "    .dataframe thead th {\n",
       "        text-align: right;\n",
       "    }\n",
       "</style>\n",
       "<table border=\"1\" class=\"dataframe\">\n",
       "  <thead>\n",
       "    <tr style=\"text-align: right;\">\n",
       "      <th></th>\n",
       "      <th>tweet_text</th>\n",
       "      <th>emotion_in_tweet_is_directed_at</th>\n",
       "      <th>is_there_an_emotion_directed_at_a_brand_or_product</th>\n",
       "    </tr>\n",
       "  </thead>\n",
       "  <tbody>\n",
       "    <tr>\n",
       "      <th>0</th>\n",
       "      <td>.@wesley83 I have a 3G iPhone. After 3 hrs twe...</td>\n",
       "      <td>iPhone</td>\n",
       "      <td>Negative emotion</td>\n",
       "    </tr>\n",
       "    <tr>\n",
       "      <th>1</th>\n",
       "      <td>@jessedee Know about @fludapp ? Awesome iPad/i...</td>\n",
       "      <td>iPad or iPhone App</td>\n",
       "      <td>Positive emotion</td>\n",
       "    </tr>\n",
       "    <tr>\n",
       "      <th>2</th>\n",
       "      <td>@swonderlin Can not wait for #iPad 2 also. The...</td>\n",
       "      <td>iPad</td>\n",
       "      <td>Positive emotion</td>\n",
       "    </tr>\n",
       "    <tr>\n",
       "      <th>3</th>\n",
       "      <td>@sxsw I hope this year's festival isn't as cra...</td>\n",
       "      <td>iPad or iPhone App</td>\n",
       "      <td>Negative emotion</td>\n",
       "    </tr>\n",
       "    <tr>\n",
       "      <th>4</th>\n",
       "      <td>@sxtxstate great stuff on Fri #SXSW: Marissa M...</td>\n",
       "      <td>Google</td>\n",
       "      <td>Positive emotion</td>\n",
       "    </tr>\n",
       "  </tbody>\n",
       "</table>\n",
       "</div>"
      ],
      "text/plain": [
       "                                          tweet_text  \\\n",
       "0  .@wesley83 I have a 3G iPhone. After 3 hrs twe...   \n",
       "1  @jessedee Know about @fludapp ? Awesome iPad/i...   \n",
       "2  @swonderlin Can not wait for #iPad 2 also. The...   \n",
       "3  @sxsw I hope this year's festival isn't as cra...   \n",
       "4  @sxtxstate great stuff on Fri #SXSW: Marissa M...   \n",
       "\n",
       "  emotion_in_tweet_is_directed_at  \\\n",
       "0                          iPhone   \n",
       "1              iPad or iPhone App   \n",
       "2                            iPad   \n",
       "3              iPad or iPhone App   \n",
       "4                          Google   \n",
       "\n",
       "  is_there_an_emotion_directed_at_a_brand_or_product  \n",
       "0                                   Negative emotion  \n",
       "1                                   Positive emotion  \n",
       "2                                   Positive emotion  \n",
       "3                                   Negative emotion  \n",
       "4                                   Positive emotion  "
      ]
     },
     "execution_count": 2,
     "metadata": {},
     "output_type": "execute_result"
    }
   ],
   "source": [
    "data = pd.read_csv('Data/crowdflower_tweet_data.csv', encoding = 'latin1')\n",
    "data.head()"
   ]
  },
  {
   "cell_type": "code",
   "execution_count": 3,
   "metadata": {},
   "outputs": [
    {
     "data": {
      "text/plain": [
       "(9093, 3)"
      ]
     },
     "execution_count": 3,
     "metadata": {},
     "output_type": "execute_result"
    }
   ],
   "source": [
    "data.shape"
   ]
  },
  {
   "cell_type": "code",
   "execution_count": 4,
   "metadata": {},
   "outputs": [
    {
     "data": {
      "text/plain": [
       "Index(['tweet_text', 'emotion_in_tweet_is_directed_at',\n",
       "       'is_there_an_emotion_directed_at_a_brand_or_product'],\n",
       "      dtype='object')"
      ]
     },
     "execution_count": 4,
     "metadata": {},
     "output_type": "execute_result"
    }
   ],
   "source": [
    "data.columns"
   ]
  },
  {
   "cell_type": "code",
   "execution_count": 5,
   "metadata": {},
   "outputs": [
    {
     "data": {
      "text/plain": [
       "iPad                               0.287451\n",
       "Apple                              0.200851\n",
       "iPad or iPhone App                 0.142814\n",
       "Google                             0.130659\n",
       "iPhone                             0.090246\n",
       "Other Google product or service    0.089031\n",
       "Android App                        0.024613\n",
       "Android                            0.023701\n",
       "Other Apple product or service     0.010635\n",
       "Name: emotion_in_tweet_is_directed_at, dtype: float64"
      ]
     },
     "execution_count": 5,
     "metadata": {},
     "output_type": "execute_result"
    }
   ],
   "source": [
    "data['emotion_in_tweet_is_directed_at'].value_counts(normalize=True)"
   ]
  },
  {
   "cell_type": "code",
   "execution_count": 6,
   "metadata": {},
   "outputs": [
    {
     "data": {
      "text/plain": [
       "No emotion toward brand or product    0.592654\n",
       "Positive emotion                      0.327505\n",
       "Negative emotion                      0.062686\n",
       "I can't tell                          0.017156\n",
       "Name: is_there_an_emotion_directed_at_a_brand_or_product, dtype: float64"
      ]
     },
     "execution_count": 6,
     "metadata": {},
     "output_type": "execute_result"
    }
   ],
   "source": [
    "data['is_there_an_emotion_directed_at_a_brand_or_product'].value_counts(normalize=True)"
   ]
  },
  {
   "cell_type": "code",
   "execution_count": 7,
   "metadata": {},
   "outputs": [
    {
     "name": "stdout",
     "output_type": "stream",
     "text": [
      "<class 'pandas.core.frame.DataFrame'>\n",
      "RangeIndex: 9093 entries, 0 to 9092\n",
      "Data columns (total 3 columns):\n",
      " #   Column                                              Non-Null Count  Dtype \n",
      "---  ------                                              --------------  ----- \n",
      " 0   tweet_text                                          9092 non-null   object\n",
      " 1   emotion_in_tweet_is_directed_at                     3291 non-null   object\n",
      " 2   is_there_an_emotion_directed_at_a_brand_or_product  9093 non-null   object\n",
      "dtypes: object(3)\n",
      "memory usage: 213.2+ KB\n"
     ]
    }
   ],
   "source": [
    "data.info()"
   ]
  },
  {
   "cell_type": "code",
   "execution_count": 8,
   "metadata": {},
   "outputs": [
    {
     "data": {
      "text/plain": [
       "tweet_text                                               1\n",
       "emotion_in_tweet_is_directed_at                       5802\n",
       "is_there_an_emotion_directed_at_a_brand_or_product       0\n",
       "dtype: int64"
      ]
     },
     "execution_count": 8,
     "metadata": {},
     "output_type": "execute_result"
    }
   ],
   "source": [
    "data.isna().sum()"
   ]
  },
  {
   "cell_type": "code",
   "execution_count": 9,
   "metadata": {},
   "outputs": [
    {
     "data": {
      "text/plain": [
       "22"
      ]
     },
     "execution_count": 9,
     "metadata": {},
     "output_type": "execute_result"
    }
   ],
   "source": [
    "data.duplicated().sum()"
   ]
  },
  {
   "cell_type": "code",
   "execution_count": 10,
   "metadata": {},
   "outputs": [
    {
     "data": {
      "text/html": [
       "<div>\n",
       "<style scoped>\n",
       "    .dataframe tbody tr th:only-of-type {\n",
       "        vertical-align: middle;\n",
       "    }\n",
       "\n",
       "    .dataframe tbody tr th {\n",
       "        vertical-align: top;\n",
       "    }\n",
       "\n",
       "    .dataframe thead th {\n",
       "        text-align: right;\n",
       "    }\n",
       "</style>\n",
       "<table border=\"1\" class=\"dataframe\">\n",
       "  <thead>\n",
       "    <tr style=\"text-align: right;\">\n",
       "      <th></th>\n",
       "      <th>tweet_text</th>\n",
       "      <th>emotion_in_tweet_is_directed_at</th>\n",
       "      <th>is_there_an_emotion_directed_at_a_brand_or_product</th>\n",
       "    </tr>\n",
       "  </thead>\n",
       "  <tbody>\n",
       "    <tr>\n",
       "      <th>468</th>\n",
       "      <td>Before It Even Begins, Apple Wins #SXSW {link}</td>\n",
       "      <td>Apple</td>\n",
       "      <td>Positive emotion</td>\n",
       "    </tr>\n",
       "    <tr>\n",
       "      <th>776</th>\n",
       "      <td>Google to Launch Major New Social Network Call...</td>\n",
       "      <td>NaN</td>\n",
       "      <td>No emotion toward brand or product</td>\n",
       "    </tr>\n",
       "    <tr>\n",
       "      <th>2232</th>\n",
       "      <td>Marissa Mayer: Google Will Connect the Digital...</td>\n",
       "      <td>NaN</td>\n",
       "      <td>No emotion toward brand or product</td>\n",
       "    </tr>\n",
       "    <tr>\n",
       "      <th>2559</th>\n",
       "      <td>Counting down the days to #sxsw plus strong Ca...</td>\n",
       "      <td>Apple</td>\n",
       "      <td>Positive emotion</td>\n",
       "    </tr>\n",
       "    <tr>\n",
       "      <th>3950</th>\n",
       "      <td>Really enjoying the changes in Gowalla 3.0 for...</td>\n",
       "      <td>Android App</td>\n",
       "      <td>Positive emotion</td>\n",
       "    </tr>\n",
       "  </tbody>\n",
       "</table>\n",
       "</div>"
      ],
      "text/plain": [
       "                                             tweet_text  \\\n",
       "468      Before It Even Begins, Apple Wins #SXSW {link}   \n",
       "776   Google to Launch Major New Social Network Call...   \n",
       "2232  Marissa Mayer: Google Will Connect the Digital...   \n",
       "2559  Counting down the days to #sxsw plus strong Ca...   \n",
       "3950  Really enjoying the changes in Gowalla 3.0 for...   \n",
       "\n",
       "     emotion_in_tweet_is_directed_at  \\\n",
       "468                            Apple   \n",
       "776                              NaN   \n",
       "2232                             NaN   \n",
       "2559                           Apple   \n",
       "3950                     Android App   \n",
       "\n",
       "     is_there_an_emotion_directed_at_a_brand_or_product  \n",
       "468                                    Positive emotion  \n",
       "776                  No emotion toward brand or product  \n",
       "2232                 No emotion toward brand or product  \n",
       "2559                                   Positive emotion  \n",
       "3950                                   Positive emotion  "
      ]
     },
     "execution_count": 10,
     "metadata": {},
     "output_type": "execute_result"
    }
   ],
   "source": [
    "data[data.duplicated()].head()"
   ]
  },
  {
   "attachments": {},
   "cell_type": "markdown",
   "metadata": {},
   "source": [
    "# Data Cleaning\n"
   ]
  },
  {
   "cell_type": "code",
   "execution_count": 11,
   "metadata": {},
   "outputs": [
    {
     "data": {
      "text/html": [
       "<div>\n",
       "<style scoped>\n",
       "    .dataframe tbody tr th:only-of-type {\n",
       "        vertical-align: middle;\n",
       "    }\n",
       "\n",
       "    .dataframe tbody tr th {\n",
       "        vertical-align: top;\n",
       "    }\n",
       "\n",
       "    .dataframe thead th {\n",
       "        text-align: right;\n",
       "    }\n",
       "</style>\n",
       "<table border=\"1\" class=\"dataframe\">\n",
       "  <thead>\n",
       "    <tr style=\"text-align: right;\">\n",
       "      <th></th>\n",
       "      <th>Tweet</th>\n",
       "      <th>Product/Brand</th>\n",
       "      <th>Emotion</th>\n",
       "    </tr>\n",
       "  </thead>\n",
       "  <tbody>\n",
       "    <tr>\n",
       "      <th>0</th>\n",
       "      <td>.@wesley83 I have a 3G iPhone. After 3 hrs twe...</td>\n",
       "      <td>iPhone</td>\n",
       "      <td>Negative emotion</td>\n",
       "    </tr>\n",
       "    <tr>\n",
       "      <th>1</th>\n",
       "      <td>@jessedee Know about @fludapp ? Awesome iPad/i...</td>\n",
       "      <td>iPad or iPhone App</td>\n",
       "      <td>Positive emotion</td>\n",
       "    </tr>\n",
       "    <tr>\n",
       "      <th>2</th>\n",
       "      <td>@swonderlin Can not wait for #iPad 2 also. The...</td>\n",
       "      <td>iPad</td>\n",
       "      <td>Positive emotion</td>\n",
       "    </tr>\n",
       "    <tr>\n",
       "      <th>3</th>\n",
       "      <td>@sxsw I hope this year's festival isn't as cra...</td>\n",
       "      <td>iPad or iPhone App</td>\n",
       "      <td>Negative emotion</td>\n",
       "    </tr>\n",
       "    <tr>\n",
       "      <th>4</th>\n",
       "      <td>@sxtxstate great stuff on Fri #SXSW: Marissa M...</td>\n",
       "      <td>Google</td>\n",
       "      <td>Positive emotion</td>\n",
       "    </tr>\n",
       "    <tr>\n",
       "      <th>...</th>\n",
       "      <td>...</td>\n",
       "      <td>...</td>\n",
       "      <td>...</td>\n",
       "    </tr>\n",
       "    <tr>\n",
       "      <th>9088</th>\n",
       "      <td>Ipad everywhere. #SXSW {link}</td>\n",
       "      <td>iPad</td>\n",
       "      <td>Positive emotion</td>\n",
       "    </tr>\n",
       "    <tr>\n",
       "      <th>9089</th>\n",
       "      <td>Wave, buzz... RT @mention We interrupt your re...</td>\n",
       "      <td>NaN</td>\n",
       "      <td>No emotion toward brand or product</td>\n",
       "    </tr>\n",
       "    <tr>\n",
       "      <th>9090</th>\n",
       "      <td>Google's Zeiger, a physician never reported po...</td>\n",
       "      <td>NaN</td>\n",
       "      <td>No emotion toward brand or product</td>\n",
       "    </tr>\n",
       "    <tr>\n",
       "      <th>9091</th>\n",
       "      <td>Some Verizon iPhone customers complained their...</td>\n",
       "      <td>NaN</td>\n",
       "      <td>No emotion toward brand or product</td>\n",
       "    </tr>\n",
       "    <tr>\n",
       "      <th>9092</th>\n",
       "      <td>Ï¡Ïàü_ÊÎÒ£Áââ_£â_ÛâRT @...</td>\n",
       "      <td>NaN</td>\n",
       "      <td>No emotion toward brand or product</td>\n",
       "    </tr>\n",
       "  </tbody>\n",
       "</table>\n",
       "<p>9093 rows × 3 columns</p>\n",
       "</div>"
      ],
      "text/plain": [
       "                                                  Tweet       Product/Brand  \\\n",
       "0     .@wesley83 I have a 3G iPhone. After 3 hrs twe...              iPhone   \n",
       "1     @jessedee Know about @fludapp ? Awesome iPad/i...  iPad or iPhone App   \n",
       "2     @swonderlin Can not wait for #iPad 2 also. The...                iPad   \n",
       "3     @sxsw I hope this year's festival isn't as cra...  iPad or iPhone App   \n",
       "4     @sxtxstate great stuff on Fri #SXSW: Marissa M...              Google   \n",
       "...                                                 ...                 ...   \n",
       "9088                      Ipad everywhere. #SXSW {link}                iPad   \n",
       "9089  Wave, buzz... RT @mention We interrupt your re...                 NaN   \n",
       "9090  Google's Zeiger, a physician never reported po...                 NaN   \n",
       "9091  Some Verizon iPhone customers complained their...                 NaN   \n",
       "9092  Ï¡Ïàü_ÊÎÒ£Áââ_£â_ÛâRT @...                 NaN   \n",
       "\n",
       "                                 Emotion  \n",
       "0                       Negative emotion  \n",
       "1                       Positive emotion  \n",
       "2                       Positive emotion  \n",
       "3                       Negative emotion  \n",
       "4                       Positive emotion  \n",
       "...                                  ...  \n",
       "9088                    Positive emotion  \n",
       "9089  No emotion toward brand or product  \n",
       "9090  No emotion toward brand or product  \n",
       "9091  No emotion toward brand or product  \n",
       "9092  No emotion toward brand or product  \n",
       "\n",
       "[9093 rows x 3 columns]"
      ]
     },
     "execution_count": 11,
     "metadata": {},
     "output_type": "execute_result"
    }
   ],
   "source": [
    "# Renaming columns\n",
    "data.columns = ['Tweet', 'Product/Brand', 'Emotion']\n",
    "data"
   ]
  },
  {
   "cell_type": "code",
   "execution_count": 12,
   "metadata": {},
   "outputs": [],
   "source": [
    "data = data.dropna(subset=['Tweet'])"
   ]
  },
  {
   "cell_type": "code",
   "execution_count": 13,
   "metadata": {},
   "outputs": [
    {
     "data": {
      "text/plain": [
       "Tweet            0\n",
       "Product/Brand    0\n",
       "Emotion          0\n",
       "dtype: int64"
      ]
     },
     "execution_count": 13,
     "metadata": {},
     "output_type": "execute_result"
    }
   ],
   "source": [
    "data['Product/Brand'].fillna(\"Unknown Product\", inplace = True)\n",
    "data.isna().sum()"
   ]
  },
  {
   "cell_type": "code",
   "execution_count": 14,
   "metadata": {},
   "outputs": [],
   "source": [
    "data.drop_duplicates(keep='first', inplace=True)"
   ]
  },
  {
   "cell_type": "code",
   "execution_count": 15,
   "metadata": {},
   "outputs": [
    {
     "data": {
      "text/html": [
       "<div>\n",
       "<style scoped>\n",
       "    .dataframe tbody tr th:only-of-type {\n",
       "        vertical-align: middle;\n",
       "    }\n",
       "\n",
       "    .dataframe tbody tr th {\n",
       "        vertical-align: top;\n",
       "    }\n",
       "\n",
       "    .dataframe thead th {\n",
       "        text-align: right;\n",
       "    }\n",
       "</style>\n",
       "<table border=\"1\" class=\"dataframe\">\n",
       "  <thead>\n",
       "    <tr style=\"text-align: right;\">\n",
       "      <th></th>\n",
       "      <th>Tweet</th>\n",
       "      <th>Product/Brand</th>\n",
       "      <th>Emotion</th>\n",
       "    </tr>\n",
       "  </thead>\n",
       "  <tbody>\n",
       "    <tr>\n",
       "      <th>0</th>\n",
       "      <td>.@wesley83 I have a 3G iPhone. After 3 hrs twe...</td>\n",
       "      <td>iPhone</td>\n",
       "      <td>Negative</td>\n",
       "    </tr>\n",
       "    <tr>\n",
       "      <th>1</th>\n",
       "      <td>@jessedee Know about @fludapp ? Awesome iPad/i...</td>\n",
       "      <td>iPad or iPhone App</td>\n",
       "      <td>Positive</td>\n",
       "    </tr>\n",
       "    <tr>\n",
       "      <th>2</th>\n",
       "      <td>@swonderlin Can not wait for #iPad 2 also. The...</td>\n",
       "      <td>iPad</td>\n",
       "      <td>Positive</td>\n",
       "    </tr>\n",
       "    <tr>\n",
       "      <th>3</th>\n",
       "      <td>@sxsw I hope this year's festival isn't as cra...</td>\n",
       "      <td>iPad or iPhone App</td>\n",
       "      <td>Negative</td>\n",
       "    </tr>\n",
       "    <tr>\n",
       "      <th>4</th>\n",
       "      <td>@sxtxstate great stuff on Fri #SXSW: Marissa M...</td>\n",
       "      <td>Google</td>\n",
       "      <td>Positive</td>\n",
       "    </tr>\n",
       "  </tbody>\n",
       "</table>\n",
       "</div>"
      ],
      "text/plain": [
       "                                               Tweet       Product/Brand  \\\n",
       "0  .@wesley83 I have a 3G iPhone. After 3 hrs twe...              iPhone   \n",
       "1  @jessedee Know about @fludapp ? Awesome iPad/i...  iPad or iPhone App   \n",
       "2  @swonderlin Can not wait for #iPad 2 also. The...                iPad   \n",
       "3  @sxsw I hope this year's festival isn't as cra...  iPad or iPhone App   \n",
       "4  @sxtxstate great stuff on Fri #SXSW: Marissa M...              Google   \n",
       "\n",
       "    Emotion  \n",
       "0  Negative  \n",
       "1  Positive  \n",
       "2  Positive  \n",
       "3  Negative  \n",
       "4  Positive  "
      ]
     },
     "execution_count": 15,
     "metadata": {},
     "output_type": "execute_result"
    }
   ],
   "source": [
    "emotion = {'Positive emotion': 'Positive', 'Negative emotion': 'Negative', \n",
    "                'No emotion toward brand or product': 'Neutral', \n",
    "                \"I can't tell\": 'Unknown'}\n",
    "data['Emotion'] = data['Emotion'].map(emotion)\n",
    "data.head()"
   ]
  },
  {
   "cell_type": "code",
   "execution_count": 16,
   "metadata": {},
   "outputs": [
    {
     "data": {
      "text/plain": [
       "Neutral     5375\n",
       "Positive    2970\n",
       "Negative     569\n",
       "Unknown      156\n",
       "Name: Emotion, dtype: int64"
      ]
     },
     "execution_count": 16,
     "metadata": {},
     "output_type": "execute_result"
    }
   ],
   "source": [
    "data['Emotion'].value_counts()"
   ]
  },
  {
   "cell_type": "code",
   "execution_count": 17,
   "metadata": {},
   "outputs": [
    {
     "data": {
      "text/html": [
       "<div>\n",
       "<style scoped>\n",
       "    .dataframe tbody tr th:only-of-type {\n",
       "        vertical-align: middle;\n",
       "    }\n",
       "\n",
       "    .dataframe tbody tr th {\n",
       "        vertical-align: top;\n",
       "    }\n",
       "\n",
       "    .dataframe thead th {\n",
       "        text-align: right;\n",
       "    }\n",
       "</style>\n",
       "<table border=\"1\" class=\"dataframe\">\n",
       "  <thead>\n",
       "    <tr style=\"text-align: right;\">\n",
       "      <th></th>\n",
       "      <th>Tweet</th>\n",
       "      <th>Product/Brand</th>\n",
       "      <th>Emotion</th>\n",
       "    </tr>\n",
       "  </thead>\n",
       "  <tbody>\n",
       "    <tr>\n",
       "      <th>90</th>\n",
       "      <td>Thanks to @mention for publishing the news of @mention new medical Apps at the #sxswi conf. blog {link} #sxsw #sxswh</td>\n",
       "      <td>Unknown Product</td>\n",
       "      <td>Unknown</td>\n",
       "    </tr>\n",
       "    <tr>\n",
       "      <th>102</th>\n",
       "      <td>ÛÏ@mention &amp;quot;Apple has opened a pop-up store in Austin so the nerds in town for #SXSW can get their new iPads. {link} #wow</td>\n",
       "      <td>Unknown Product</td>\n",
       "      <td>Unknown</td>\n",
       "    </tr>\n",
       "    <tr>\n",
       "      <th>237</th>\n",
       "      <td>Just what America needs. RT @mention Google to Launch Major New Social Network Called Circles, Possibly Today {link} #sxsw</td>\n",
       "      <td>Unknown Product</td>\n",
       "      <td>Unknown</td>\n",
       "    </tr>\n",
       "    <tr>\n",
       "      <th>341</th>\n",
       "      <td>The queue at the Apple Store in Austin is FOUR blocks long. Crazy stuff! #sxsw</td>\n",
       "      <td>Unknown Product</td>\n",
       "      <td>Unknown</td>\n",
       "    </tr>\n",
       "    <tr>\n",
       "      <th>368</th>\n",
       "      <td>Hope it's better than wave RT @mention Buzz is: Google's previewing a social networking platform at #SXSW: {link}</td>\n",
       "      <td>Unknown Product</td>\n",
       "      <td>Unknown</td>\n",
       "    </tr>\n",
       "    <tr>\n",
       "      <th>...</th>\n",
       "      <td>...</td>\n",
       "      <td>...</td>\n",
       "      <td>...</td>\n",
       "    </tr>\n",
       "    <tr>\n",
       "      <th>9020</th>\n",
       "      <td>It's funny watching a room full of people hold their iPad in the air to take a photo. Like a room full of tablets staring you down. #SXSW</td>\n",
       "      <td>Unknown Product</td>\n",
       "      <td>Unknown</td>\n",
       "    </tr>\n",
       "    <tr>\n",
       "      <th>9032</th>\n",
       "      <td>@mention yeah, we have @mention , Google has nothing on us :) #SXSW</td>\n",
       "      <td>Unknown Product</td>\n",
       "      <td>Unknown</td>\n",
       "    </tr>\n",
       "    <tr>\n",
       "      <th>9037</th>\n",
       "      <td>@mention Yes, the Google presentation was not exactly what I was expecting. #sxsw</td>\n",
       "      <td>Unknown Product</td>\n",
       "      <td>Unknown</td>\n",
       "    </tr>\n",
       "    <tr>\n",
       "      <th>9058</th>\n",
       "      <td>&amp;quot;Do you know what Apple is really good at? Making you feel bad about your Xmas present!&amp;quot; - Seth Meyers on iPad2 #sxsw #doyoureallyneedthat?</td>\n",
       "      <td>Unknown Product</td>\n",
       "      <td>Unknown</td>\n",
       "    </tr>\n",
       "    <tr>\n",
       "      <th>9066</th>\n",
       "      <td>How much you want to bet Apple is disproportionately stocking the #SXSW pop-up store with iPad 2? The influencer/hipsters thank you</td>\n",
       "      <td>Apple</td>\n",
       "      <td>Unknown</td>\n",
       "    </tr>\n",
       "  </tbody>\n",
       "</table>\n",
       "<p>156 rows × 3 columns</p>\n",
       "</div>"
      ],
      "text/plain": [
       "                                                                                                                                                      Tweet  \\\n",
       "90                                     Thanks to @mention for publishing the news of @mention new medical Apps at the #sxswi conf. blog {link} #sxsw #sxswh   \n",
       "102                         ÛÏ@mention &quot;Apple has opened a pop-up store in Austin so the nerds in town for #SXSW can get their new iPads. {link} #wow   \n",
       "237                              Just what America needs. RT @mention Google to Launch Major New Social Network Called Circles, Possibly Today {link} #sxsw   \n",
       "341                                                                          The queue at the Apple Store in Austin is FOUR blocks long. Crazy stuff! #sxsw   \n",
       "368                                       Hope it's better than wave RT @mention Buzz is: Google's previewing a social networking platform at #SXSW: {link}   \n",
       "...                                                                                                                                                     ...   \n",
       "9020              It's funny watching a room full of people hold their iPad in the air to take a photo. Like a room full of tablets staring you down. #SXSW   \n",
       "9032                                                                                    @mention yeah, we have @mention , Google has nothing on us :) #SXSW   \n",
       "9037                                                                      @mention Yes, the Google presentation was not exactly what I was expecting. #sxsw   \n",
       "9058  &quot;Do you know what Apple is really good at? Making you feel bad about your Xmas present!&quot; - Seth Meyers on iPad2 #sxsw #doyoureallyneedthat?   \n",
       "9066                    How much you want to bet Apple is disproportionately stocking the #SXSW pop-up store with iPad 2? The influencer/hipsters thank you   \n",
       "\n",
       "        Product/Brand  Emotion  \n",
       "90    Unknown Product  Unknown  \n",
       "102   Unknown Product  Unknown  \n",
       "237   Unknown Product  Unknown  \n",
       "341   Unknown Product  Unknown  \n",
       "368   Unknown Product  Unknown  \n",
       "...               ...      ...  \n",
       "9020  Unknown Product  Unknown  \n",
       "9032  Unknown Product  Unknown  \n",
       "9037  Unknown Product  Unknown  \n",
       "9058  Unknown Product  Unknown  \n",
       "9066            Apple  Unknown  \n",
       "\n",
       "[156 rows x 3 columns]"
      ]
     },
     "execution_count": 17,
     "metadata": {},
     "output_type": "execute_result"
    }
   ],
   "source": [
    "pd.set_option(\"display.max_colwidth\", 300)\n",
    "data[data['Emotion']=='Unknown']\n"
   ]
  },
  {
   "cell_type": "code",
   "execution_count": 18,
   "metadata": {},
   "outputs": [
    {
     "data": {
      "text/plain": [
       "Neutral     5375\n",
       "Positive    2970\n",
       "Negative     569\n",
       "Name: Emotion, dtype: int64"
      ]
     },
     "execution_count": 18,
     "metadata": {},
     "output_type": "execute_result"
    }
   ],
   "source": [
    "data = data[data['Emotion']!='Unknown']\n",
    "data['Emotion'].value_counts()"
   ]
  },
  {
   "cell_type": "code",
   "execution_count": 19,
   "metadata": {},
   "outputs": [],
   "source": [
    "# Create an instance of Regexptoenizer\n",
    "tokenizer = TweetTokenizer(\"(?u)\\w{3,}\",\n",
    "                          strip_handles=True)\n",
    "\n",
    "\n",
    "#Create a list of stop words\n",
    "stopwords_list = stopwords.words('english')\n",
    "\n",
    "#Create an instance of the PorterStemmer\n",
    "stemmer =PorterStemmer()\n"
   ]
  },
  {
   "cell_type": "code",
   "execution_count": 20,
   "metadata": {},
   "outputs": [],
   "source": [
    "def preprocess_text(text, tokenizer, stopwords_list, stemmer):\n",
    "    text = text.lower()\n",
    "    token = tokenizer.tokenize(text)\n",
    "    stop_words = [word for word in token if word not in stopwords_list]\n",
    "    punctuation_removed = [word for word in stop_words if word not in string.punctuation]\n",
    "    stemmed_stopwords = [stemmer.stem(word) for word in punctuation_removed]\n",
    "    return stemmed_stopwords"
   ]
  },
  {
   "cell_type": "code",
   "execution_count": 21,
   "metadata": {},
   "outputs": [
    {
     "data": {
      "text/html": [
       "<div>\n",
       "<style scoped>\n",
       "    .dataframe tbody tr th:only-of-type {\n",
       "        vertical-align: middle;\n",
       "    }\n",
       "\n",
       "    .dataframe tbody tr th {\n",
       "        vertical-align: top;\n",
       "    }\n",
       "\n",
       "    .dataframe thead th {\n",
       "        text-align: right;\n",
       "    }\n",
       "</style>\n",
       "<table border=\"1\" class=\"dataframe\">\n",
       "  <thead>\n",
       "    <tr style=\"text-align: right;\">\n",
       "      <th></th>\n",
       "      <th>Tweet</th>\n",
       "      <th>Product/Brand</th>\n",
       "      <th>Emotion</th>\n",
       "      <th>preprocessed_text</th>\n",
       "    </tr>\n",
       "  </thead>\n",
       "  <tbody>\n",
       "    <tr>\n",
       "      <th>0</th>\n",
       "      <td>.@wesley83 I have a 3G iPhone. After 3 hrs tweeting at #RISE_Austin, it was dead!  I need to upgrade. Plugin stations at #SXSW.</td>\n",
       "      <td>iPhone</td>\n",
       "      <td>Negative</td>\n",
       "      <td>[3g, iphon, 3, hr, tweet, #rise_austin, dead, need, upgrad, plugin, station, #sxsw]</td>\n",
       "    </tr>\n",
       "    <tr>\n",
       "      <th>1</th>\n",
       "      <td>@jessedee Know about @fludapp ? Awesome iPad/iPhone app that you'll likely appreciate for its design. Also, they're giving free Ts at #SXSW</td>\n",
       "      <td>iPad or iPhone App</td>\n",
       "      <td>Positive</td>\n",
       "      <td>[know, awesom, ipad, iphon, app, like, appreci, design, also, they'r, give, free, ts, #sxsw]</td>\n",
       "    </tr>\n",
       "    <tr>\n",
       "      <th>2</th>\n",
       "      <td>@swonderlin Can not wait for #iPad 2 also. They should sale them down at #SXSW.</td>\n",
       "      <td>iPad</td>\n",
       "      <td>Positive</td>\n",
       "      <td>[wait, #ipad, 2, also, sale, #sxsw]</td>\n",
       "    </tr>\n",
       "    <tr>\n",
       "      <th>3</th>\n",
       "      <td>@sxsw I hope this year's festival isn't as crashy as this year's iPhone app. #sxsw</td>\n",
       "      <td>iPad or iPhone App</td>\n",
       "      <td>Negative</td>\n",
       "      <td>[hope, year', festiv, crashi, year', iphon, app, #sxsw]</td>\n",
       "    </tr>\n",
       "    <tr>\n",
       "      <th>4</th>\n",
       "      <td>@sxtxstate great stuff on Fri #SXSW: Marissa Mayer (Google), Tim O'Reilly (tech books/conferences) &amp;amp; Matt Mullenweg (Wordpress)</td>\n",
       "      <td>Google</td>\n",
       "      <td>Positive</td>\n",
       "      <td>[great, stuff, fri, #sxsw, marissa, mayer, googl, tim, o'reilli, tech, book, confer, matt, mullenweg, wordpress]</td>\n",
       "    </tr>\n",
       "    <tr>\n",
       "      <th>...</th>\n",
       "      <td>...</td>\n",
       "      <td>...</td>\n",
       "      <td>...</td>\n",
       "      <td>...</td>\n",
       "    </tr>\n",
       "    <tr>\n",
       "      <th>9088</th>\n",
       "      <td>Ipad everywhere. #SXSW {link}</td>\n",
       "      <td>iPad</td>\n",
       "      <td>Positive</td>\n",
       "      <td>[ipad, everywher, #sxsw, link]</td>\n",
       "    </tr>\n",
       "    <tr>\n",
       "      <th>9089</th>\n",
       "      <td>Wave, buzz... RT @mention We interrupt your regularly scheduled #sxsw geek programming with big news {link}  #google #circles</td>\n",
       "      <td>Unknown Product</td>\n",
       "      <td>Neutral</td>\n",
       "      <td>[wave, buzz, ..., rt, interrupt, regularli, schedul, #sxsw, geek, program, big, news, link, #googl, #circl]</td>\n",
       "    </tr>\n",
       "    <tr>\n",
       "      <th>9090</th>\n",
       "      <td>Google's Zeiger, a physician never reported potential AE. Yet FDA relies on physicians. &amp;quot;We're operating w/out data.&amp;quot; #sxsw #health2dev</td>\n",
       "      <td>Unknown Product</td>\n",
       "      <td>Neutral</td>\n",
       "      <td>[google', zeiger, physician, never, report, potenti, ae, yet, fda, reli, physician, we'r, oper, w, data, #sxsw, #health2dev]</td>\n",
       "    </tr>\n",
       "    <tr>\n",
       "      <th>9091</th>\n",
       "      <td>Some Verizon iPhone customers complained their time fell back an hour this weekend.  Of course they were the New Yorkers who attended #SXSW.</td>\n",
       "      <td>Unknown Product</td>\n",
       "      <td>Neutral</td>\n",
       "      <td>[verizon, iphon, custom, complain, time, fell, back, hour, weekend, cours, new, yorker, attend, #sxsw]</td>\n",
       "    </tr>\n",
       "    <tr>\n",
       "      <th>9092</th>\n",
       "      <td>Ï¡Ïàü_ÊÎÒ£Áââ_£â_ÛâRT @mention Google Tests ÛÏCheck-in OffersÛ At #SXSW {link}</td>\n",
       "      <td>Unknown Product</td>\n",
       "      <td>Neutral</td>\n",
       "      <td>[, ï, ¡, , ïà, , ü_, , , ê, , , î, , , ò, , , £, , , á, , ââ, , , , , £, , , , , â_, , ûârt, googl, test, , ûïcheck-in, offer, , û, , #sxsw, link]</td>\n",
       "    </tr>\n",
       "  </tbody>\n",
       "</table>\n",
       "<p>8914 rows × 4 columns</p>\n",
       "</div>"
      ],
      "text/plain": [
       "                                                                                                                                                  Tweet  \\\n",
       "0                       .@wesley83 I have a 3G iPhone. After 3 hrs tweeting at #RISE_Austin, it was dead!  I need to upgrade. Plugin stations at #SXSW.   \n",
       "1           @jessedee Know about @fludapp ? Awesome iPad/iPhone app that you'll likely appreciate for its design. Also, they're giving free Ts at #SXSW   \n",
       "2                                                                       @swonderlin Can not wait for #iPad 2 also. They should sale them down at #SXSW.   \n",
       "3                                                                    @sxsw I hope this year's festival isn't as crashy as this year's iPhone app. #sxsw   \n",
       "4                   @sxtxstate great stuff on Fri #SXSW: Marissa Mayer (Google), Tim O'Reilly (tech books/conferences) &amp; Matt Mullenweg (Wordpress)   \n",
       "...                                                                                                                                                 ...   \n",
       "9088                                                                                                                      Ipad everywhere. #SXSW {link}   \n",
       "9089                      Wave, buzz... RT @mention We interrupt your regularly scheduled #sxsw geek programming with big news {link}  #google #circles   \n",
       "9090  Google's Zeiger, a physician never reported potential AE. Yet FDA relies on physicians. &quot;We're operating w/out data.&quot; #sxsw #health2dev   \n",
       "9091       Some Verizon iPhone customers complained their time fell back an hour this weekend.  Of course they were the New Yorkers who attended #SXSW.   \n",
       "9092                                           Ï¡Ïàü_ÊÎÒ£Áââ_£â_ÛâRT @mention Google Tests ÛÏCheck-in OffersÛ At #SXSW {link}   \n",
       "\n",
       "           Product/Brand   Emotion  \\\n",
       "0                 iPhone  Negative   \n",
       "1     iPad or iPhone App  Positive   \n",
       "2                   iPad  Positive   \n",
       "3     iPad or iPhone App  Negative   \n",
       "4                 Google  Positive   \n",
       "...                  ...       ...   \n",
       "9088                iPad  Positive   \n",
       "9089     Unknown Product   Neutral   \n",
       "9090     Unknown Product   Neutral   \n",
       "9091     Unknown Product   Neutral   \n",
       "9092     Unknown Product   Neutral   \n",
       "\n",
       "                                                                                                                                                                 preprocessed_text  \n",
       "0                                                                                              [3g, iphon, 3, hr, tweet, #rise_austin, dead, need, upgrad, plugin, station, #sxsw]  \n",
       "1                                                                                     [know, awesom, ipad, iphon, app, like, appreci, design, also, they'r, give, free, ts, #sxsw]  \n",
       "2                                                                                                                                              [wait, #ipad, 2, also, sale, #sxsw]  \n",
       "3                                                                                                                          [hope, year', festiv, crashi, year', iphon, app, #sxsw]  \n",
       "4                                                                 [great, stuff, fri, #sxsw, marissa, mayer, googl, tim, o'reilli, tech, book, confer, matt, mullenweg, wordpress]  \n",
       "...                                                                                                                                                                            ...  \n",
       "9088                                                                                                                                                [ipad, everywher, #sxsw, link]  \n",
       "9089                                                                   [wave, buzz, ..., rt, interrupt, regularli, schedul, #sxsw, geek, program, big, news, link, #googl, #circl]  \n",
       "9090                                                  [google', zeiger, physician, never, report, potenti, ae, yet, fda, reli, physician, we'r, oper, w, data, #sxsw, #health2dev]  \n",
       "9091                                                                        [verizon, iphon, custom, complain, time, fell, back, hour, weekend, cours, new, yorker, attend, #sxsw]  \n",
       "9092  [, ï, ¡, , ïà, , ü_, , , ê, , , î, , , ò, , , £, , , á, , ââ, , , , , £, , , , , â_, , ûârt, googl, test, , ûïcheck-in, offer, , û, , #sxsw, link]  \n",
       "\n",
       "[8914 rows x 4 columns]"
      ]
     },
     "execution_count": 21,
     "metadata": {},
     "output_type": "execute_result"
    }
   ],
   "source": [
    "text_data = data.Tweet.apply(lambda x: preprocess_text(x, tokenizer,stopwords_list,stemmer))\n",
    "text_data\n",
    "\n",
    "data[\"preprocessed_text\"] = text_data\n",
    "data"
   ]
  },
  {
   "attachments": {},
   "cell_type": "markdown",
   "metadata": {},
   "source": [
    "# Exploratory Data Analysis\n",
    "---"
   ]
  },
  {
   "cell_type": "code",
   "execution_count": 22,
   "metadata": {},
   "outputs": [
    {
     "data": {
      "text/plain": [
       "Positive    2970\n",
       "Name: Emotion, dtype: int64"
      ]
     },
     "execution_count": 22,
     "metadata": {},
     "output_type": "execute_result"
    }
   ],
   "source": [
    "# Sentiments -plot\n",
    "\n",
    "pos_sentiments = data[data['Emotion']=='Positive']\n",
    "#verifying that neutral and negative tweets have been removed\n",
    "pos_sentiments['Emotion'].value_counts()"
   ]
  },
  {
   "cell_type": "code",
   "execution_count": 23,
   "metadata": {},
   "outputs": [
    {
     "data": {
      "text/plain": [
       "[]"
      ]
     },
     "execution_count": 23,
     "metadata": {},
     "output_type": "execute_result"
    }
   ],
   "source": [
    "from nltk import FreqDist\n",
    "pos_tweets = pos_sentiments['preprocessed_text'].to_list()\n",
    "pos_tweets = FreqDist()\n",
    "pos_tweets.most_common(10)"
   ]
  },
  {
   "cell_type": "code",
   "execution_count": 24,
   "metadata": {},
   "outputs": [
    {
     "data": {
      "text/plain": [
       "<AxesSubplot:xlabel='Emotion', ylabel='count'>"
      ]
     },
     "execution_count": 24,
     "metadata": {},
     "output_type": "execute_result"
    },
    {
     "data": {
      "image/png": "[encoded data removed]",
      "text/plain": [
       "<Figure size 864x432 with 1 Axes>"
      ]
     },
     "metadata": {
      "needs_background": "light"
     },
     "output_type": "display_data"
    }
   ],
   "source": [
    "plt.figure(figsize=(12,6))\n",
    "sns.countplot(x='Emotion',data=data)"
   ]
  },
  {
   "cell_type": "code",
   "execution_count": 25,
   "metadata": {},
   "outputs": [],
   "source": [
    "# Filter the dataframe for positive, negative, and neutral emotions\n",
    "positive_tweets = data[data['Emotion'] == 'Positive']['preprocessed_text']\n",
    "negative_tweets = data[data['Emotion'] == 'Negative']['preprocessed_text']\n",
    "neutral_tweets = data[data['Emotion'] == 'Neutral']['preprocessed_text']\n",
    "\n",
    "# Concatenate all positive, negative, and neutral tweets into separate lists\n",
    "all_positive_tokens = [token for sublist in positive_tweets for token in sublist]\n",
    "all_negative_tokens = [token for sublist in negative_tweets for token in sublist]\n",
    "all_neutral_tokens = [token for sublist in neutral_tweets for token in sublist]\n",
    "\n",
    "# Create frequency distributions for positive, negative, and neutral tokens\n",
    "positive_freq_dist = FreqDist(all_positive_tokens)\n",
    "negative_freq_dist = FreqDist(all_negative_tokens)\n",
    "neutral_freq_dist = FreqDist(all_neutral_tokens)\n",
    "\n",
    "# Get the top 10 most common positive, negative, and neutral tokens and their frequencies\n",
    "top_positive_tokens = positive_freq_dist.most_common(10)\n",
    "top_negative_tokens = negative_freq_dist.most_common(10)\n",
    "top_neutral_tokens = neutral_freq_dist.most_common(10)\n",
    "\n",
    "tokens_positive, frequencies_positive = zip(*top_positive_tokens)\n",
    "tokens_negative, frequencies_negative = zip(*top_negative_tokens)\n",
    "tokens_neutral, frequencies_neutral = zip(*top_neutral_tokens)"
   ]
  },
  {
   "cell_type": "code",
   "execution_count": 26,
   "metadata": {},
   "outputs": [
    {
     "data": {
      "image/png": "[encoded data removed]",
      "text/plain": [
       "<Figure size 720x432 with 1 Axes>"
      ]
     },
     "metadata": {
      "needs_background": "light"
     },
     "output_type": "display_data"
    }
   ],
   "source": [
    "# Plot the frequency distribution of the most common tokens for positive emotion\n",
    "plt.figure(figsize=(10, 6))\n",
    "plt.bar(tokens_positive, frequencies_positive)\n",
    "plt.xlabel('Tokens')\n",
    "plt.ylabel('Frequency')\n",
    "plt.title('Frequency Distribution of Top 10 Tokens for Positive Emotion')\n",
    "plt.xticks(rotation=90)\n",
    "plt.show()"
   ]
  },
  {
   "cell_type": "code",
   "execution_count": 27,
   "metadata": {},
   "outputs": [
    {
     "data": {
      "image/png": "[encoded data removed]",
      "text/plain": [
       "<Figure size 720x432 with 1 Axes>"
      ]
     },
     "metadata": {
      "needs_background": "light"
     },
     "output_type": "display_data"
    }
   ],
   "source": [
    "# Plot the frequency distribution of the most common tokens for negative emotion\n",
    "plt.figure(figsize=(10, 6))\n",
    "plt.bar(tokens_negative, frequencies_negative)\n",
    "plt.xlabel('Tokens')\n",
    "plt.ylabel('Frequency')\n",
    "plt.title('Frequency Distribution of Top 10 Tokens for Negative Emotion')\n",
    "plt.xticks(rotation=90)\n",
    "plt.show()\n"
   ]
  },
  {
   "cell_type": "code",
   "execution_count": 28,
   "metadata": {},
   "outputs": [
    {
     "data": {
      "image/png": "[encoded data removed]",
      "text/plain": [
       "<Figure size 720x432 with 1 Axes>"
      ]
     },
     "metadata": {
      "needs_background": "light"
     },
     "output_type": "display_data"
    }
   ],
   "source": [
    "# Plot the frequency distribution of the most common tokens for neutral emotion\n",
    "plt.figure(figsize=(10, 6))\n",
    "plt.bar(tokens_neutral, frequencies_neutral)\n",
    "plt.xlabel('Tokens')\n",
    "plt.ylabel('Frequency')\n",
    "plt.title('Frequency Distribution of Top 10 Tokens for Neutral Emotion')\n",
    "plt.xticks(rotation=90)\n",
    "plt.show()"
   ]
  },
  {
   "cell_type": "code",
   "execution_count": 29,
   "metadata": {
    "scrolled": true
   },
   "outputs": [
    {
     "data": {
      "image/png": "[encoded data removed]",
      "text/plain": [
       "<Figure size 720x432 with 1 Axes>"
      ]
     },
     "metadata": {
      "needs_background": "light"
     },
     "output_type": "display_data"
    }
   ],
   "source": [
    "# Concatenate all preprocessed_text into a single list\n",
    "all_tokens = [token for sublist in data[\"preprocessed_text\"] for token in sublist]\n",
    "\n",
    "# Create a frequency distribution of tokens\n",
    "freq_dist = FreqDist(all_tokens)\n",
    "\n",
    "# Get the top 10 most common tokens and their frequencies\n",
    "top_tokens = freq_dist.most_common(10)\n",
    "tokens, frequencies = zip(*top_tokens)\n",
    "# Plot the frequency distribution in a bar graph\n",
    "plt.figure(figsize=(10, 6))\n",
    "plt.bar(tokens, frequencies)\n",
    "plt.xlabel('Tokens')\n",
    "plt.ylabel('Frequency')\n",
    "plt.title('Frequency Distribution of Top 10 Tokens in the entire dataset')\n",
    "plt.xticks(rotation=90)\n",
    "plt.show()"
   ]
  },
  {
   "attachments": {},
   "cell_type": "markdown",
   "metadata": {},
   "source": [
    "## <b> Feature Engineering </b>\n",
    "\n",
    "Groups Apple and Google products together. "
   ]
  },
  {
   "cell_type": "code",
   "execution_count": 30,
   "metadata": {},
   "outputs": [
    {
     "data": {
      "text/html": [
       "<div>\n",
       "<style scoped>\n",
       "    .dataframe tbody tr th:only-of-type {\n",
       "        vertical-align: middle;\n",
       "    }\n",
       "\n",
       "    .dataframe tbody tr th {\n",
       "        vertical-align: top;\n",
       "    }\n",
       "\n",
       "    .dataframe thead th {\n",
       "        text-align: right;\n",
       "    }\n",
       "</style>\n",
       "<table border=\"1\" class=\"dataframe\">\n",
       "  <thead>\n",
       "    <tr style=\"text-align: right;\">\n",
       "      <th></th>\n",
       "      <th>Tweet</th>\n",
       "      <th>Product/Brand</th>\n",
       "      <th>Emotion</th>\n",
       "      <th>preprocessed_text</th>\n",
       "      <th>Brand</th>\n",
       "    </tr>\n",
       "  </thead>\n",
       "  <tbody>\n",
       "    <tr>\n",
       "      <th>0</th>\n",
       "      <td>.@wesley83 I have a 3G iPhone. After 3 hrs tweeting at #RISE_Austin, it was dead!  I need to upgrade. Plugin stations at #SXSW.</td>\n",
       "      <td>iPhone</td>\n",
       "      <td>Negative</td>\n",
       "      <td>[3g, iphon, 3, hr, tweet, #rise_austin, dead, need, upgrad, plugin, station, #sxsw]</td>\n",
       "      <td>Apple</td>\n",
       "    </tr>\n",
       "    <tr>\n",
       "      <th>1</th>\n",
       "      <td>@jessedee Know about @fludapp ? Awesome iPad/iPhone app that you'll likely appreciate for its design. Also, they're giving free Ts at #SXSW</td>\n",
       "      <td>iPad or iPhone App</td>\n",
       "      <td>Positive</td>\n",
       "      <td>[know, awesom, ipad, iphon, app, like, appreci, design, also, they'r, give, free, ts, #sxsw]</td>\n",
       "      <td>Apple</td>\n",
       "    </tr>\n",
       "    <tr>\n",
       "      <th>2</th>\n",
       "      <td>@swonderlin Can not wait for #iPad 2 also. They should sale them down at #SXSW.</td>\n",
       "      <td>iPad</td>\n",
       "      <td>Positive</td>\n",
       "      <td>[wait, #ipad, 2, also, sale, #sxsw]</td>\n",
       "      <td>Apple</td>\n",
       "    </tr>\n",
       "    <tr>\n",
       "      <th>3</th>\n",
       "      <td>@sxsw I hope this year's festival isn't as crashy as this year's iPhone app. #sxsw</td>\n",
       "      <td>iPad or iPhone App</td>\n",
       "      <td>Negative</td>\n",
       "      <td>[hope, year', festiv, crashi, year', iphon, app, #sxsw]</td>\n",
       "      <td>Apple</td>\n",
       "    </tr>\n",
       "    <tr>\n",
       "      <th>4</th>\n",
       "      <td>@sxtxstate great stuff on Fri #SXSW: Marissa Mayer (Google), Tim O'Reilly (tech books/conferences) &amp;amp; Matt Mullenweg (Wordpress)</td>\n",
       "      <td>Google</td>\n",
       "      <td>Positive</td>\n",
       "      <td>[great, stuff, fri, #sxsw, marissa, mayer, googl, tim, o'reilli, tech, book, confer, matt, mullenweg, wordpress]</td>\n",
       "      <td>Google</td>\n",
       "    </tr>\n",
       "  </tbody>\n",
       "</table>\n",
       "</div>"
      ],
      "text/plain": [
       "                                                                                                                                         Tweet  \\\n",
       "0              .@wesley83 I have a 3G iPhone. After 3 hrs tweeting at #RISE_Austin, it was dead!  I need to upgrade. Plugin stations at #SXSW.   \n",
       "1  @jessedee Know about @fludapp ? Awesome iPad/iPhone app that you'll likely appreciate for its design. Also, they're giving free Ts at #SXSW   \n",
       "2                                                              @swonderlin Can not wait for #iPad 2 also. They should sale them down at #SXSW.   \n",
       "3                                                           @sxsw I hope this year's festival isn't as crashy as this year's iPhone app. #sxsw   \n",
       "4          @sxtxstate great stuff on Fri #SXSW: Marissa Mayer (Google), Tim O'Reilly (tech books/conferences) &amp; Matt Mullenweg (Wordpress)   \n",
       "\n",
       "        Product/Brand   Emotion  \\\n",
       "0              iPhone  Negative   \n",
       "1  iPad or iPhone App  Positive   \n",
       "2                iPad  Positive   \n",
       "3  iPad or iPhone App  Negative   \n",
       "4              Google  Positive   \n",
       "\n",
       "                                                                                                  preprocessed_text  \\\n",
       "0                               [3g, iphon, 3, hr, tweet, #rise_austin, dead, need, upgrad, plugin, station, #sxsw]   \n",
       "1                      [know, awesom, ipad, iphon, app, like, appreci, design, also, they'r, give, free, ts, #sxsw]   \n",
       "2                                                                               [wait, #ipad, 2, also, sale, #sxsw]   \n",
       "3                                                           [hope, year', festiv, crashi, year', iphon, app, #sxsw]   \n",
       "4  [great, stuff, fri, #sxsw, marissa, mayer, googl, tim, o'reilli, tech, book, confer, matt, mullenweg, wordpress]   \n",
       "\n",
       "    Brand  \n",
       "0   Apple  \n",
       "1   Apple  \n",
       "2   Apple  \n",
       "3   Apple  \n",
       "4  Google  "
      ]
     },
     "execution_count": 30,
     "metadata": {},
     "output_type": "execute_result"
    }
   ],
   "source": [
    "#mapping products to brands\n",
    "brand_dict={'iPhone': 'Apple', 'iPad or iPhone App': 'Apple', 'iPad': 'Apple', \n",
    "            'Google': 'Google', 'Unknown': 'Unknown',\n",
    "            'Android': 'Google', 'Apple': 'Apple', 'Android App': 'Google',\n",
    "            'Other Google product or service': 'Google',\n",
    "            'Other Apple product or service': 'Apple'}\n",
    "data['Brand'] = data['Product/Brand'].map(brand_dict)\n",
    "data['Brand'].unique()\n",
    "data.head()"
   ]
  },
  {
   "cell_type": "code",
   "execution_count": 31,
   "metadata": {},
   "outputs": [
    {
     "data": {
      "image/png": "[encoded data removed]",
      "text/plain": [
       "<Figure size 576x432 with 1 Axes>"
      ]
     },
     "metadata": {
      "needs_background": "light"
     },
     "output_type": "display_data"
    }
   ],
   "source": [
    "# Counts the number of Apple and Google brands\n",
    "apple_count = data[data['Brand'] == 'Apple'].shape[0]\n",
    "google_count = data[data['Brand'] == 'Google'].shape[0]\n",
    "\n",
    "# Creates a bar graph of the brand counts\n",
    "brands = ['Apple', 'Google']\n",
    "counts = [apple_count, google_count]\n",
    "\n",
    "plt.figure(figsize=(8, 6))\n",
    "plt.bar(brands, counts)\n",
    "plt.xlabel('Brand')\n",
    "plt.ylabel('Count')\n",
    "plt.title('Number of Apple and Google Brands')\n",
    "plt.show()"
   ]
  },
  {
   "cell_type": "code",
   "execution_count": 32,
   "metadata": {},
   "outputs": [
    {
     "data": {
      "text/plain": [
       "<AxesSubplot:xlabel='Brand', ylabel='count'>"
      ]
     },
     "execution_count": 32,
     "metadata": {},
     "output_type": "execute_result"
    },
    {
     "data": {
      "image/png": "[encoded data removed]",
      "text/plain": [
       "<Figure size 432x288 with 1 Axes>"
      ]
     },
     "metadata": {
      "needs_background": "light"
     },
     "output_type": "display_data"
    }
   ],
   "source": [
    "sns.countplot(data=data, x=\"Brand\", hue=\"Emotion\")"
   ]
  },
  {
   "cell_type": "code",
   "execution_count": 33,
   "metadata": {},
   "outputs": [
    {
     "data": {
      "text/plain": [
       "[(('ipad', '2'), 0.010138056191625415),\n",
       " (('link', '#sxsw'), 0.008104744078216005),\n",
       " (('#sxsw', 'link'), 0.007629671154522219),\n",
       " (('#sxsw', 'rt'), 0.006175948008019231),\n",
       " (('appl', 'store'), 0.005140289034366775),\n",
       " (('link', 'rt'), 0.0050832802835235205),\n",
       " (('social', 'network'), 0.004266154854770207),\n",
       " (('new', 'social'), 0.003829087764971923),\n",
       " (('googl', 'launch'), 0.003259000256539379),\n",
       " (('network', 'call'), 0.002964455043849231),\n",
       " (('call', 'circl'), 0.0028694404591104736),\n",
       " (('rt', 'googl'), 0.0027649244158978402),\n",
       " (('appl', 'open'), 0.002736420040476213),\n",
       " (('major', 'new'), 0.0027174171235284615),\n",
       " (('#sxsw', 'appl'), 0.002641405455737456),\n",
       " (('launch', 'major'), 0.002641405455737456),\n",
       " (('store', '#sxsw'), 0.00256539378794645),\n",
       " (('pop-up', 'store'), 0.002441874827786065),\n",
       " (('austin', '#sxsw'), 0.0024133704523644378),\n",
       " (('link', 'via'), 0.002375364618468935),\n",
       " (('today', 'link'), 0.002365863159995059),\n",
       " (('#sxsw', 'ipad'), 0.0022233412828869233),\n",
       " (('iphon', 'app'), 0.0022138398244130474),\n",
       " (('possibl', 'today'), 0.002194836907465296),\n",
       " (('#sxsw', 'googl'), 0.0021663325320436687),\n",
       " (('circl', 'possibl'), 0.0020998223227265385),\n",
       " (('rt', 'rt'), 0.0018527844024057692),\n",
       " (('temporari', 'store'), 0.001824280026984142),\n",
       " (('#sxsw', '#sxswi'), 0.001748268359193136),\n",
       " (('store', 'austin'), 0.0017292654422453846),\n",
       " (('downtown', 'austin'), 0.0017007610668237575),\n",
       " (('googl', 'map'), 0.0016912596083498816),\n",
       " (('store', 'downtown'), 0.001643752315980503),\n",
       " (('\\x89', 'ûï'), 0.0016342508575066272),\n",
       " (('\\x89', 'û'), 0.0015772421066633728),\n",
       " (('rt', '#sxsw'), 0.0015487377312417457),\n",
       " (('marissa', 'mayer'), 0.0015202333558201183),\n",
       " (('googl', 'circl'), 0.0014727260634507396),\n",
       " (('open', 'temporari'), 0.001463224604976864),\n",
       " (('2', 'launch'), 0.0014347202295552368),\n",
       " (('ipad', 'app'), 0.0014157173126074852),\n",
       " (('rt', 'appl'), 0.0014062158541336095),\n",
       " (('û', '\\x9d'), 0.0014062158541336095),\n",
       " (('2', '#sxsw'), 0.001282696893973225),\n",
       " (('sxsw', 'link'), 0.0012256881431299705),\n",
       " (('open', 'pop-up'), 0.0012066852261822189),\n",
       " (('new', 'ipad'), 0.0011876823092344675),\n",
       " (('...', 'link'), 0.0011781808507605918),\n",
       " (('#sxsw', '\\x89'), 0.0010736648075479586),\n",
       " (('launch', 'link'), 0.0010736648075479586)]"
      ]
     },
     "execution_count": 33,
     "metadata": {},
     "output_type": "execute_result"
    }
   ],
   "source": [
    "bigram_measures = BigramAssocMeasures()\n",
    "\n",
    "# Flatten the list of lists into a single list\n",
    "word_list = list(itertools.chain.from_iterable(data['preprocessed_text']))\n",
    "\n",
    "tweet_finder = BigramCollocationFinder.from_words(word_list)\n",
    "tweet_scored = tweet_finder.score_ngrams(bigram_measures.raw_freq)\n",
    "tweet_scored[:50]\n"
   ]
  },
  {
   "cell_type": "code",
   "execution_count": 34,
   "metadata": {},
   "outputs": [],
   "source": [
    "# Word Frequency "
   ]
  },
  {
   "cell_type": "code",
   "execution_count": null,
   "metadata": {},
   "outputs": [],
   "source": []
  },
  {
   "attachments": {},
   "cell_type": "markdown",
   "metadata": {},
   "source": [
    "# Modelling"
   ]
  },
  {
   "cell_type": "code",
   "execution_count": 35,
   "metadata": {},
   "outputs": [
    {
     "data": {
      "text/html": [
       "<div>\n",
       "<style scoped>\n",
       "    .dataframe tbody tr th:only-of-type {\n",
       "        vertical-align: middle;\n",
       "    }\n",
       "\n",
       "    .dataframe tbody tr th {\n",
       "        vertical-align: top;\n",
       "    }\n",
       "\n",
       "    .dataframe thead th {\n",
       "        text-align: right;\n",
       "    }\n",
       "</style>\n",
       "<table border=\"1\" class=\"dataframe\">\n",
       "  <thead>\n",
       "    <tr style=\"text-align: right;\">\n",
       "      <th></th>\n",
       "      <th>Tweet</th>\n",
       "      <th>Product/Brand</th>\n",
       "      <th>Emotion</th>\n",
       "      <th>preprocessed_text</th>\n",
       "      <th>Brand</th>\n",
       "    </tr>\n",
       "  </thead>\n",
       "  <tbody>\n",
       "    <tr>\n",
       "      <th>0</th>\n",
       "      <td>.@wesley83 I have a 3G iPhone. After 3 hrs tweeting at #RISE_Austin, it was dead!  I need to upgrade. Plugin stations at #SXSW.</td>\n",
       "      <td>iPhone</td>\n",
       "      <td>Negative</td>\n",
       "      <td>[3g, iphon, 3, hr, tweet, #rise_austin, dead, need, upgrad, plugin, station, #sxsw]</td>\n",
       "      <td>Apple</td>\n",
       "    </tr>\n",
       "    <tr>\n",
       "      <th>1</th>\n",
       "      <td>@jessedee Know about @fludapp ? Awesome iPad/iPhone app that you'll likely appreciate for its design. Also, they're giving free Ts at #SXSW</td>\n",
       "      <td>iPad or iPhone App</td>\n",
       "      <td>Positive</td>\n",
       "      <td>[know, awesom, ipad, iphon, app, like, appreci, design, also, they'r, give, free, ts, #sxsw]</td>\n",
       "      <td>Apple</td>\n",
       "    </tr>\n",
       "    <tr>\n",
       "      <th>2</th>\n",
       "      <td>@swonderlin Can not wait for #iPad 2 also. They should sale them down at #SXSW.</td>\n",
       "      <td>iPad</td>\n",
       "      <td>Positive</td>\n",
       "      <td>[wait, #ipad, 2, also, sale, #sxsw]</td>\n",
       "      <td>Apple</td>\n",
       "    </tr>\n",
       "    <tr>\n",
       "      <th>3</th>\n",
       "      <td>@sxsw I hope this year's festival isn't as crashy as this year's iPhone app. #sxsw</td>\n",
       "      <td>iPad or iPhone App</td>\n",
       "      <td>Negative</td>\n",
       "      <td>[hope, year', festiv, crashi, year', iphon, app, #sxsw]</td>\n",
       "      <td>Apple</td>\n",
       "    </tr>\n",
       "    <tr>\n",
       "      <th>4</th>\n",
       "      <td>@sxtxstate great stuff on Fri #SXSW: Marissa Mayer (Google), Tim O'Reilly (tech books/conferences) &amp;amp; Matt Mullenweg (Wordpress)</td>\n",
       "      <td>Google</td>\n",
       "      <td>Positive</td>\n",
       "      <td>[great, stuff, fri, #sxsw, marissa, mayer, googl, tim, o'reilli, tech, book, confer, matt, mullenweg, wordpress]</td>\n",
       "      <td>Google</td>\n",
       "    </tr>\n",
       "    <tr>\n",
       "      <th>...</th>\n",
       "      <td>...</td>\n",
       "      <td>...</td>\n",
       "      <td>...</td>\n",
       "      <td>...</td>\n",
       "      <td>...</td>\n",
       "    </tr>\n",
       "    <tr>\n",
       "      <th>9077</th>\n",
       "      <td>@mention your PR guy just convinced me to switch back to iPhone. Great #sxsw coverage. #princess</td>\n",
       "      <td>iPhone</td>\n",
       "      <td>Positive</td>\n",
       "      <td>[pr, guy, convinc, switch, back, iphon, great, #sxsw, coverag, #princess]</td>\n",
       "      <td>Apple</td>\n",
       "    </tr>\n",
       "    <tr>\n",
       "      <th>9079</th>\n",
       "      <td>&amp;quot;papyrus...sort of like the ipad&amp;quot; - nice! Lol! #SXSW Lavelle</td>\n",
       "      <td>iPad</td>\n",
       "      <td>Positive</td>\n",
       "      <td>[papyru, ..., sort, like, ipad, nice, lol, #sxsw, lavel]</td>\n",
       "      <td>Apple</td>\n",
       "    </tr>\n",
       "    <tr>\n",
       "      <th>9080</th>\n",
       "      <td>Diller says Google TV &amp;quot;might be run over by the PlayStation and the Xbox, which are essentially ready today.&amp;quot; #sxsw #diller</td>\n",
       "      <td>Other Google product or service</td>\n",
       "      <td>Negative</td>\n",
       "      <td>[diller, say, googl, tv, might, run, playstat, xbox, essenti, readi, today, #sxsw, #diller]</td>\n",
       "      <td>Google</td>\n",
       "    </tr>\n",
       "    <tr>\n",
       "      <th>9085</th>\n",
       "      <td>I've always used Camera+ for my iPhone b/c it has an image stabilizer mode. Suggestions for an iPad cam app w/ same feature? #SXSW #SXSWi</td>\n",
       "      <td>iPad or iPhone App</td>\n",
       "      <td>Positive</td>\n",
       "      <td>[i'v, alway, use, camera, iphon, b, c, imag, stabil, mode, suggest, ipad, cam, app, w, featur, #sxsw, #sxswi]</td>\n",
       "      <td>Apple</td>\n",
       "    </tr>\n",
       "    <tr>\n",
       "      <th>9088</th>\n",
       "      <td>Ipad everywhere. #SXSW {link}</td>\n",
       "      <td>iPad</td>\n",
       "      <td>Positive</td>\n",
       "      <td>[ipad, everywher, #sxsw, link]</td>\n",
       "      <td>Apple</td>\n",
       "    </tr>\n",
       "  </tbody>\n",
       "</table>\n",
       "<p>3539 rows × 5 columns</p>\n",
       "</div>"
      ],
      "text/plain": [
       "                                                                                                                                            Tweet  \\\n",
       "0                 .@wesley83 I have a 3G iPhone. After 3 hrs tweeting at #RISE_Austin, it was dead!  I need to upgrade. Plugin stations at #SXSW.   \n",
       "1     @jessedee Know about @fludapp ? Awesome iPad/iPhone app that you'll likely appreciate for its design. Also, they're giving free Ts at #SXSW   \n",
       "2                                                                 @swonderlin Can not wait for #iPad 2 also. They should sale them down at #SXSW.   \n",
       "3                                                              @sxsw I hope this year's festival isn't as crashy as this year's iPhone app. #sxsw   \n",
       "4             @sxtxstate great stuff on Fri #SXSW: Marissa Mayer (Google), Tim O'Reilly (tech books/conferences) &amp; Matt Mullenweg (Wordpress)   \n",
       "...                                                                                                                                           ...   \n",
       "9077                                             @mention your PR guy just convinced me to switch back to iPhone. Great #sxsw coverage. #princess   \n",
       "9079                                                                       &quot;papyrus...sort of like the ipad&quot; - nice! Lol! #SXSW Lavelle   \n",
       "9080        Diller says Google TV &quot;might be run over by the PlayStation and the Xbox, which are essentially ready today.&quot; #sxsw #diller   \n",
       "9085    I've always used Camera+ for my iPhone b/c it has an image stabilizer mode. Suggestions for an iPad cam app w/ same feature? #SXSW #SXSWi   \n",
       "9088                                                                                                                Ipad everywhere. #SXSW {link}   \n",
       "\n",
       "                        Product/Brand   Emotion  \\\n",
       "0                              iPhone  Negative   \n",
       "1                  iPad or iPhone App  Positive   \n",
       "2                                iPad  Positive   \n",
       "3                  iPad or iPhone App  Negative   \n",
       "4                              Google  Positive   \n",
       "...                               ...       ...   \n",
       "9077                           iPhone  Positive   \n",
       "9079                             iPad  Positive   \n",
       "9080  Other Google product or service  Negative   \n",
       "9085               iPad or iPhone App  Positive   \n",
       "9088                             iPad  Positive   \n",
       "\n",
       "                                                                                                     preprocessed_text  \\\n",
       "0                                  [3g, iphon, 3, hr, tweet, #rise_austin, dead, need, upgrad, plugin, station, #sxsw]   \n",
       "1                         [know, awesom, ipad, iphon, app, like, appreci, design, also, they'r, give, free, ts, #sxsw]   \n",
       "2                                                                                  [wait, #ipad, 2, also, sale, #sxsw]   \n",
       "3                                                              [hope, year', festiv, crashi, year', iphon, app, #sxsw]   \n",
       "4     [great, stuff, fri, #sxsw, marissa, mayer, googl, tim, o'reilli, tech, book, confer, matt, mullenweg, wordpress]   \n",
       "...                                                                                                                ...   \n",
       "9077                                         [pr, guy, convinc, switch, back, iphon, great, #sxsw, coverag, #princess]   \n",
       "9079                                                          [papyru, ..., sort, like, ipad, nice, lol, #sxsw, lavel]   \n",
       "9080                       [diller, say, googl, tv, might, run, playstat, xbox, essenti, readi, today, #sxsw, #diller]   \n",
       "9085     [i'v, alway, use, camera, iphon, b, c, imag, stabil, mode, suggest, ipad, cam, app, w, featur, #sxsw, #sxswi]   \n",
       "9088                                                                                    [ipad, everywher, #sxsw, link]   \n",
       "\n",
       "       Brand  \n",
       "0      Apple  \n",
       "1      Apple  \n",
       "2      Apple  \n",
       "3      Apple  \n",
       "4     Google  \n",
       "...      ...  \n",
       "9077   Apple  \n",
       "9079   Apple  \n",
       "9080  Google  \n",
       "9085   Apple  \n",
       "9088   Apple  \n",
       "\n",
       "[3539 rows x 5 columns]"
      ]
     },
     "execution_count": 35,
     "metadata": {},
     "output_type": "execute_result"
    }
   ],
   "source": [
    "# Binary dataframe\n",
    "data_binary = data.loc[(data['Emotion'] == 'Positive' ) | (data['Emotion'] == 'Negative' )]\n",
    "data_binary"
   ]
  },
  {
   "cell_type": "code",
   "execution_count": 36,
   "metadata": {},
   "outputs": [
    {
     "data": {
      "text/html": [
       "<div>\n",
       "<style scoped>\n",
       "    .dataframe tbody tr th:only-of-type {\n",
       "        vertical-align: middle;\n",
       "    }\n",
       "\n",
       "    .dataframe tbody tr th {\n",
       "        vertical-align: top;\n",
       "    }\n",
       "\n",
       "    .dataframe thead th {\n",
       "        text-align: right;\n",
       "    }\n",
       "</style>\n",
       "<table border=\"1\" class=\"dataframe\">\n",
       "  <thead>\n",
       "    <tr style=\"text-align: right;\">\n",
       "      <th></th>\n",
       "      <th>Tweet</th>\n",
       "      <th>Product/Brand</th>\n",
       "      <th>Emotion</th>\n",
       "      <th>preprocessed_text</th>\n",
       "      <th>Brand</th>\n",
       "      <th>emotion_label</th>\n",
       "    </tr>\n",
       "  </thead>\n",
       "  <tbody>\n",
       "    <tr>\n",
       "      <th>0</th>\n",
       "      <td>.@wesley83 I have a 3G iPhone. After 3 hrs tweeting at #RISE_Austin, it was dead!  I need to upgrade. Plugin stations at #SXSW.</td>\n",
       "      <td>iPhone</td>\n",
       "      <td>Negative</td>\n",
       "      <td>[3g, iphon, 3, hr, tweet, #rise_austin, dead, need, upgrad, plugin, station, #sxsw]</td>\n",
       "      <td>Apple</td>\n",
       "      <td>1.0</td>\n",
       "    </tr>\n",
       "    <tr>\n",
       "      <th>1</th>\n",
       "      <td>@jessedee Know about @fludapp ? Awesome iPad/iPhone app that you'll likely appreciate for its design. Also, they're giving free Ts at #SXSW</td>\n",
       "      <td>iPad or iPhone App</td>\n",
       "      <td>Positive</td>\n",
       "      <td>[know, awesom, ipad, iphon, app, like, appreci, design, also, they'r, give, free, ts, #sxsw]</td>\n",
       "      <td>Apple</td>\n",
       "      <td>0.0</td>\n",
       "    </tr>\n",
       "    <tr>\n",
       "      <th>2</th>\n",
       "      <td>@swonderlin Can not wait for #iPad 2 also. They should sale them down at #SXSW.</td>\n",
       "      <td>iPad</td>\n",
       "      <td>Positive</td>\n",
       "      <td>[wait, #ipad, 2, also, sale, #sxsw]</td>\n",
       "      <td>Apple</td>\n",
       "      <td>0.0</td>\n",
       "    </tr>\n",
       "    <tr>\n",
       "      <th>3</th>\n",
       "      <td>@sxsw I hope this year's festival isn't as crashy as this year's iPhone app. #sxsw</td>\n",
       "      <td>iPad or iPhone App</td>\n",
       "      <td>Negative</td>\n",
       "      <td>[hope, year', festiv, crashi, year', iphon, app, #sxsw]</td>\n",
       "      <td>Apple</td>\n",
       "      <td>1.0</td>\n",
       "    </tr>\n",
       "    <tr>\n",
       "      <th>4</th>\n",
       "      <td>@sxtxstate great stuff on Fri #SXSW: Marissa Mayer (Google), Tim O'Reilly (tech books/conferences) &amp;amp; Matt Mullenweg (Wordpress)</td>\n",
       "      <td>Google</td>\n",
       "      <td>Positive</td>\n",
       "      <td>[great, stuff, fri, #sxsw, marissa, mayer, googl, tim, o'reilli, tech, book, confer, matt, mullenweg, wordpress]</td>\n",
       "      <td>Google</td>\n",
       "      <td>0.0</td>\n",
       "    </tr>\n",
       "    <tr>\n",
       "      <th>...</th>\n",
       "      <td>...</td>\n",
       "      <td>...</td>\n",
       "      <td>...</td>\n",
       "      <td>...</td>\n",
       "      <td>...</td>\n",
       "      <td>...</td>\n",
       "    </tr>\n",
       "    <tr>\n",
       "      <th>9077</th>\n",
       "      <td>@mention your PR guy just convinced me to switch back to iPhone. Great #sxsw coverage. #princess</td>\n",
       "      <td>iPhone</td>\n",
       "      <td>Positive</td>\n",
       "      <td>[pr, guy, convinc, switch, back, iphon, great, #sxsw, coverag, #princess]</td>\n",
       "      <td>Apple</td>\n",
       "      <td>0.0</td>\n",
       "    </tr>\n",
       "    <tr>\n",
       "      <th>9079</th>\n",
       "      <td>&amp;quot;papyrus...sort of like the ipad&amp;quot; - nice! Lol! #SXSW Lavelle</td>\n",
       "      <td>iPad</td>\n",
       "      <td>Positive</td>\n",
       "      <td>[papyru, ..., sort, like, ipad, nice, lol, #sxsw, lavel]</td>\n",
       "      <td>Apple</td>\n",
       "      <td>0.0</td>\n",
       "    </tr>\n",
       "    <tr>\n",
       "      <th>9080</th>\n",
       "      <td>Diller says Google TV &amp;quot;might be run over by the PlayStation and the Xbox, which are essentially ready today.&amp;quot; #sxsw #diller</td>\n",
       "      <td>Other Google product or service</td>\n",
       "      <td>Negative</td>\n",
       "      <td>[diller, say, googl, tv, might, run, playstat, xbox, essenti, readi, today, #sxsw, #diller]</td>\n",
       "      <td>Google</td>\n",
       "      <td>1.0</td>\n",
       "    </tr>\n",
       "    <tr>\n",
       "      <th>9085</th>\n",
       "      <td>I've always used Camera+ for my iPhone b/c it has an image stabilizer mode. Suggestions for an iPad cam app w/ same feature? #SXSW #SXSWi</td>\n",
       "      <td>iPad or iPhone App</td>\n",
       "      <td>Positive</td>\n",
       "      <td>[i'v, alway, use, camera, iphon, b, c, imag, stabil, mode, suggest, ipad, cam, app, w, featur, #sxsw, #sxswi]</td>\n",
       "      <td>Apple</td>\n",
       "      <td>0.0</td>\n",
       "    </tr>\n",
       "    <tr>\n",
       "      <th>9088</th>\n",
       "      <td>Ipad everywhere. #SXSW {link}</td>\n",
       "      <td>iPad</td>\n",
       "      <td>Positive</td>\n",
       "      <td>[ipad, everywher, #sxsw, link]</td>\n",
       "      <td>Apple</td>\n",
       "      <td>0.0</td>\n",
       "    </tr>\n",
       "  </tbody>\n",
       "</table>\n",
       "<p>3539 rows × 6 columns</p>\n",
       "</div>"
      ],
      "text/plain": [
       "                                                                                                                                            Tweet  \\\n",
       "0                 .@wesley83 I have a 3G iPhone. After 3 hrs tweeting at #RISE_Austin, it was dead!  I need to upgrade. Plugin stations at #SXSW.   \n",
       "1     @jessedee Know about @fludapp ? Awesome iPad/iPhone app that you'll likely appreciate for its design. Also, they're giving free Ts at #SXSW   \n",
       "2                                                                 @swonderlin Can not wait for #iPad 2 also. They should sale them down at #SXSW.   \n",
       "3                                                              @sxsw I hope this year's festival isn't as crashy as this year's iPhone app. #sxsw   \n",
       "4             @sxtxstate great stuff on Fri #SXSW: Marissa Mayer (Google), Tim O'Reilly (tech books/conferences) &amp; Matt Mullenweg (Wordpress)   \n",
       "...                                                                                                                                           ...   \n",
       "9077                                             @mention your PR guy just convinced me to switch back to iPhone. Great #sxsw coverage. #princess   \n",
       "9079                                                                       &quot;papyrus...sort of like the ipad&quot; - nice! Lol! #SXSW Lavelle   \n",
       "9080        Diller says Google TV &quot;might be run over by the PlayStation and the Xbox, which are essentially ready today.&quot; #sxsw #diller   \n",
       "9085    I've always used Camera+ for my iPhone b/c it has an image stabilizer mode. Suggestions for an iPad cam app w/ same feature? #SXSW #SXSWi   \n",
       "9088                                                                                                                Ipad everywhere. #SXSW {link}   \n",
       "\n",
       "                        Product/Brand   Emotion  \\\n",
       "0                              iPhone  Negative   \n",
       "1                  iPad or iPhone App  Positive   \n",
       "2                                iPad  Positive   \n",
       "3                  iPad or iPhone App  Negative   \n",
       "4                              Google  Positive   \n",
       "...                               ...       ...   \n",
       "9077                           iPhone  Positive   \n",
       "9079                             iPad  Positive   \n",
       "9080  Other Google product or service  Negative   \n",
       "9085               iPad or iPhone App  Positive   \n",
       "9088                             iPad  Positive   \n",
       "\n",
       "                                                                                                     preprocessed_text  \\\n",
       "0                                  [3g, iphon, 3, hr, tweet, #rise_austin, dead, need, upgrad, plugin, station, #sxsw]   \n",
       "1                         [know, awesom, ipad, iphon, app, like, appreci, design, also, they'r, give, free, ts, #sxsw]   \n",
       "2                                                                                  [wait, #ipad, 2, also, sale, #sxsw]   \n",
       "3                                                              [hope, year', festiv, crashi, year', iphon, app, #sxsw]   \n",
       "4     [great, stuff, fri, #sxsw, marissa, mayer, googl, tim, o'reilli, tech, book, confer, matt, mullenweg, wordpress]   \n",
       "...                                                                                                                ...   \n",
       "9077                                         [pr, guy, convinc, switch, back, iphon, great, #sxsw, coverag, #princess]   \n",
       "9079                                                          [papyru, ..., sort, like, ipad, nice, lol, #sxsw, lavel]   \n",
       "9080                       [diller, say, googl, tv, might, run, playstat, xbox, essenti, readi, today, #sxsw, #diller]   \n",
       "9085     [i'v, alway, use, camera, iphon, b, c, imag, stabil, mode, suggest, ipad, cam, app, w, featur, #sxsw, #sxswi]   \n",
       "9088                                                                                    [ipad, everywher, #sxsw, link]   \n",
       "\n",
       "       Brand  emotion_label  \n",
       "0      Apple            1.0  \n",
       "1      Apple            0.0  \n",
       "2      Apple            0.0  \n",
       "3      Apple            1.0  \n",
       "4     Google            0.0  \n",
       "...      ...            ...  \n",
       "9077   Apple            0.0  \n",
       "9079   Apple            0.0  \n",
       "9080  Google            1.0  \n",
       "9085   Apple            0.0  \n",
       "9088   Apple            0.0  \n",
       "\n",
       "[3539 rows x 6 columns]"
      ]
     },
     "execution_count": 36,
     "metadata": {},
     "output_type": "execute_result"
    }
   ],
   "source": [
    "# Relabeling the content of the emotion column\n",
    "data_binary.loc[data_binary['Emotion'] == 'Positive' , 'emotion_label'] = 0\n",
    "data_binary.loc[data_binary['Emotion'] == 'Negative' , 'emotion_label'] = 1\n",
    "data_binary"
   ]
  },
  {
   "cell_type": "code",
   "execution_count": 37,
   "metadata": {},
   "outputs": [
    {
     "data": {
      "text/plain": [
       "3397                    i10 march pig link code valid 12:00- 3:59 59p 03/12 11 #infektd #sxsw #zomb\n",
       "4321    lol rt i'll bet there' lot nerd #sxsw use #iphon light saber app barroom brawl instead fist\n",
       "4091                                    #appl ipad per capit #sxsw anywher els world except foxconn\n",
       "6378          rt umbrella list via  ÷ ¼ set  ÷ link  ÷ #edchat #musedchat #sxsw #sxswi #newtwitt\n",
       "5207           rt #appl head sxsw set temporari store #austin link #new #sxsw bastard bring temptat\n",
       "                                                   ...                                             \n",
       "6030                 rt hoot new blog post hootsuit mobil #sxsw updat iphon blackberri android link\n",
       "3994                                      hannukah miracl morn uncharg iphon still 55 batteri #sxsw\n",
       "7208           alarm go allow user gener content say google' richard salgado #privacybootcamp #sxsw\n",
       "7540                                         head ipad design headach 2 tablet call morn #sxsw link\n",
       "4454                                   sit floor behind guy who' fondl new ipad 2 disturb way #sxsw\n",
       "Name: joined_preprocessed_text, Length: 6239, dtype: object"
      ]
     },
     "execution_count": 37,
     "metadata": {},
     "output_type": "execute_result"
    }
   ],
   "source": [
    "# Split the data -- Train and Test\n",
    "\n",
    "from sklearn.model_selection import train_test_split\n",
    "data['joined_preprocessed_text'] = data['preprocessed_text'].str.join(\" \")\n",
    "X_train, X_test, y_train, y_test = train_test_split(data['joined_preprocessed_text'], data.\n",
    "                                                   Emotion, test_size = 0.3, \n",
    "                                                    random_state=20)\n",
    "X_train"
   ]
  },
  {
   "cell_type": "code",
   "execution_count": 38,
   "metadata": {},
   "outputs": [
    {
     "data": {
      "text/plain": [
       "5377    rt agre  ûó novelti #ipad news #app fade fast among digit deleg  ûó link #media #sxsw via\n",
       "6874                                                rt includ emot thing ipad #barrydil #sxsw #pnid\n",
       "8683                 pick mophi iphon charg case #sxsw tradeshow doubt i'll use time great long day\n",
       "6147                                                                rt ipad 2 queue epic #sxsw link\n",
       "6759                    rt new whrrl app live iphon app store android marketplac get hot time #sxsw\n",
       "                                                   ...                                             \n",
       "7601                                               dear lanyrd site awesom use #sxsw wish iphon app\n",
       "8436                           saw huge ipad 2 line popup appl store peopl realli realli want #sxsw\n",
       "626          wonder much revenu austin store gross account ipad 2 amid #sxsw ... strateg releas ...\n",
       "6349                               rt new #ubersoci #iphon app store includ uberguid #sxsw link got\n",
       "8800                                               protip avoid austin-area appl store friday #sxsw\n",
       "Name: joined_preprocessed_text, Length: 2477, dtype: object"
      ]
     },
     "execution_count": 38,
     "metadata": {},
     "output_type": "execute_result"
    }
   ],
   "source": [
    "# Split the data -- Train and Test\n",
    "\n",
    "from sklearn.model_selection import train_test_split\n",
    "data_binary['joined_preprocessed_text'] = data_binary['preprocessed_text'].str.join(\" \")\n",
    "X_train, X_test, y_train, y_test = train_test_split(data_binary['joined_preprocessed_text'], data_binary.\n",
    "                                                   Emotion, test_size = 0.3, \n",
    "                                                    random_state=20)\n",
    "X_train"
   ]
  },
  {
   "cell_type": "code",
   "execution_count": 39,
   "metadata": {},
   "outputs": [
    {
     "data": {
      "text/html": [
       "<div>\n",
       "<style scoped>\n",
       "    .dataframe tbody tr th:only-of-type {\n",
       "        vertical-align: middle;\n",
       "    }\n",
       "\n",
       "    .dataframe tbody tr th {\n",
       "        vertical-align: top;\n",
       "    }\n",
       "\n",
       "    .dataframe thead th {\n",
       "        text-align: right;\n",
       "    }\n",
       "</style>\n",
       "<table border=\"1\" class=\"dataframe\">\n",
       "  <thead>\n",
       "    <tr style=\"text-align: right;\">\n",
       "      <th></th>\n",
       "      <th>app</th>\n",
       "      <th>appl</th>\n",
       "      <th>googl</th>\n",
       "      <th>ipad</th>\n",
       "      <th>iphon</th>\n",
       "      <th>link</th>\n",
       "      <th>new</th>\n",
       "      <th>rt</th>\n",
       "      <th>store</th>\n",
       "      <th>sxsw</th>\n",
       "    </tr>\n",
       "  </thead>\n",
       "  <tbody>\n",
       "    <tr>\n",
       "      <th>0</th>\n",
       "      <td>0.609007</td>\n",
       "      <td>0.000000</td>\n",
       "      <td>0.0</td>\n",
       "      <td>0.429649</td>\n",
       "      <td>0.000000</td>\n",
       "      <td>0.421569</td>\n",
       "      <td>0.000000</td>\n",
       "      <td>0.472228</td>\n",
       "      <td>0.000000</td>\n",
       "      <td>0.209265</td>\n",
       "    </tr>\n",
       "    <tr>\n",
       "      <th>1</th>\n",
       "      <td>0.000000</td>\n",
       "      <td>0.000000</td>\n",
       "      <td>0.0</td>\n",
       "      <td>0.639496</td>\n",
       "      <td>0.000000</td>\n",
       "      <td>0.000000</td>\n",
       "      <td>0.000000</td>\n",
       "      <td>0.702872</td>\n",
       "      <td>0.000000</td>\n",
       "      <td>0.311473</td>\n",
       "    </tr>\n",
       "    <tr>\n",
       "      <th>2</th>\n",
       "      <td>0.000000</td>\n",
       "      <td>0.000000</td>\n",
       "      <td>0.0</td>\n",
       "      <td>0.000000</td>\n",
       "      <td>0.934017</td>\n",
       "      <td>0.000000</td>\n",
       "      <td>0.000000</td>\n",
       "      <td>0.000000</td>\n",
       "      <td>0.000000</td>\n",
       "      <td>0.357229</td>\n",
       "    </tr>\n",
       "    <tr>\n",
       "      <th>3</th>\n",
       "      <td>0.000000</td>\n",
       "      <td>0.000000</td>\n",
       "      <td>0.0</td>\n",
       "      <td>0.541689</td>\n",
       "      <td>0.000000</td>\n",
       "      <td>0.531503</td>\n",
       "      <td>0.000000</td>\n",
       "      <td>0.595372</td>\n",
       "      <td>0.000000</td>\n",
       "      <td>0.263835</td>\n",
       "    </tr>\n",
       "    <tr>\n",
       "      <th>4</th>\n",
       "      <td>0.723758</td>\n",
       "      <td>0.000000</td>\n",
       "      <td>0.0</td>\n",
       "      <td>0.000000</td>\n",
       "      <td>0.325121</td>\n",
       "      <td>0.000000</td>\n",
       "      <td>0.398759</td>\n",
       "      <td>0.280603</td>\n",
       "      <td>0.342435</td>\n",
       "      <td>0.124347</td>\n",
       "    </tr>\n",
       "    <tr>\n",
       "      <th>...</th>\n",
       "      <td>...</td>\n",
       "      <td>...</td>\n",
       "      <td>...</td>\n",
       "      <td>...</td>\n",
       "      <td>...</td>\n",
       "      <td>...</td>\n",
       "      <td>...</td>\n",
       "      <td>...</td>\n",
       "      <td>...</td>\n",
       "      <td>...</td>\n",
       "    </tr>\n",
       "    <tr>\n",
       "      <th>2472</th>\n",
       "      <td>0.720705</td>\n",
       "      <td>0.000000</td>\n",
       "      <td>0.0</td>\n",
       "      <td>0.000000</td>\n",
       "      <td>0.647499</td>\n",
       "      <td>0.000000</td>\n",
       "      <td>0.000000</td>\n",
       "      <td>0.000000</td>\n",
       "      <td>0.000000</td>\n",
       "      <td>0.247646</td>\n",
       "    </tr>\n",
       "    <tr>\n",
       "      <th>2473</th>\n",
       "      <td>0.000000</td>\n",
       "      <td>0.544773</td>\n",
       "      <td>0.0</td>\n",
       "      <td>0.481253</td>\n",
       "      <td>0.000000</td>\n",
       "      <td>0.000000</td>\n",
       "      <td>0.000000</td>\n",
       "      <td>0.000000</td>\n",
       "      <td>0.645503</td>\n",
       "      <td>0.234399</td>\n",
       "    </tr>\n",
       "    <tr>\n",
       "      <th>2474</th>\n",
       "      <td>0.000000</td>\n",
       "      <td>0.000000</td>\n",
       "      <td>0.0</td>\n",
       "      <td>0.573889</td>\n",
       "      <td>0.000000</td>\n",
       "      <td>0.000000</td>\n",
       "      <td>0.000000</td>\n",
       "      <td>0.000000</td>\n",
       "      <td>0.769754</td>\n",
       "      <td>0.279518</td>\n",
       "    </tr>\n",
       "    <tr>\n",
       "      <th>2475</th>\n",
       "      <td>0.442144</td>\n",
       "      <td>0.000000</td>\n",
       "      <td>0.0</td>\n",
       "      <td>0.000000</td>\n",
       "      <td>0.397233</td>\n",
       "      <td>0.306063</td>\n",
       "      <td>0.487205</td>\n",
       "      <td>0.342842</td>\n",
       "      <td>0.418388</td>\n",
       "      <td>0.151928</td>\n",
       "    </tr>\n",
       "    <tr>\n",
       "      <th>2476</th>\n",
       "      <td>0.000000</td>\n",
       "      <td>0.621475</td>\n",
       "      <td>0.0</td>\n",
       "      <td>0.000000</td>\n",
       "      <td>0.000000</td>\n",
       "      <td>0.000000</td>\n",
       "      <td>0.000000</td>\n",
       "      <td>0.000000</td>\n",
       "      <td>0.736387</td>\n",
       "      <td>0.267402</td>\n",
       "    </tr>\n",
       "  </tbody>\n",
       "</table>\n",
       "<p>2477 rows × 10 columns</p>\n",
       "</div>"
      ],
      "text/plain": [
       "           app      appl  googl      ipad     iphon      link       new  \\\n",
       "0     0.609007  0.000000    0.0  0.429649  0.000000  0.421569  0.000000   \n",
       "1     0.000000  0.000000    0.0  0.639496  0.000000  0.000000  0.000000   \n",
       "2     0.000000  0.000000    0.0  0.000000  0.934017  0.000000  0.000000   \n",
       "3     0.000000  0.000000    0.0  0.541689  0.000000  0.531503  0.000000   \n",
       "4     0.723758  0.000000    0.0  0.000000  0.325121  0.000000  0.398759   \n",
       "...        ...       ...    ...       ...       ...       ...       ...   \n",
       "2472  0.720705  0.000000    0.0  0.000000  0.647499  0.000000  0.000000   \n",
       "2473  0.000000  0.544773    0.0  0.481253  0.000000  0.000000  0.000000   \n",
       "2474  0.000000  0.000000    0.0  0.573889  0.000000  0.000000  0.000000   \n",
       "2475  0.442144  0.000000    0.0  0.000000  0.397233  0.306063  0.487205   \n",
       "2476  0.000000  0.621475    0.0  0.000000  0.000000  0.000000  0.000000   \n",
       "\n",
       "            rt     store      sxsw  \n",
       "0     0.472228  0.000000  0.209265  \n",
       "1     0.702872  0.000000  0.311473  \n",
       "2     0.000000  0.000000  0.357229  \n",
       "3     0.595372  0.000000  0.263835  \n",
       "4     0.280603  0.342435  0.124347  \n",
       "...        ...       ...       ...  \n",
       "2472  0.000000  0.000000  0.247646  \n",
       "2473  0.000000  0.645503  0.234399  \n",
       "2474  0.000000  0.769754  0.279518  \n",
       "2475  0.342842  0.418388  0.151928  \n",
       "2476  0.000000  0.736387  0.267402  \n",
       "\n",
       "[2477 rows x 10 columns]"
      ]
     },
     "execution_count": 39,
     "metadata": {},
     "output_type": "execute_result"
    }
   ],
   "source": [
    "# Instantiate a vectorizer with max_features=10\n",
    "# (we are using the default token pattern)\n",
    "tfidf = TfidfVectorizer(max_features=10)\n",
    "\n",
    "# Fit the vectorizer on X_train and transform it\n",
    "X_train_vectorized = tfidf.fit_transform(X_train)\n",
    "\n",
    "# Get the feature names from the vectorizer\n",
    "feature_names = tfidf.get_feature_names()\n",
    "\n",
    "# Visually inspect the vectorized data\n",
    "pd.DataFrame.sparse.from_spmatrix(X_train_vectorized, columns=feature_names)"
   ]
  },
  {
   "attachments": {},
   "cell_type": "markdown",
   "metadata": {},
   "source": [
    "### Baseline Model"
   ]
  },
  {
   "cell_type": "code",
   "execution_count": 40,
   "metadata": {},
   "outputs": [
    {
     "name": "stdout",
     "output_type": "stream",
     "text": [
      "0.8364957610012111\n"
     ]
    }
   ],
   "source": [
    "#instantiate\n",
    "baseline_model = MultinomialNB()\n",
    "\n",
    "baseline_model.fit(X_train_vectorized,y_train)\n",
    "baseline_train_score = baseline_model.score(X_train_vectorized,y_train)\n",
    "print(baseline_train_score)"
   ]
  },
  {
   "cell_type": "code",
   "execution_count": 41,
   "metadata": {},
   "outputs": [
    {
     "data": {
      "text/plain": [
       "Positive    0.836496\n",
       "Negative    0.163504\n",
       "Name: Emotion, dtype: float64"
      ]
     },
     "execution_count": 41,
     "metadata": {},
     "output_type": "execute_result"
    }
   ],
   "source": [
    "# imbalanced\n",
    "y_train.value_counts(normalize=True)"
   ]
  },
  {
   "cell_type": "code",
   "execution_count": 42,
   "metadata": {},
   "outputs": [],
   "source": [
    "# Balancing the model\n",
    "ROS = RandomOverSampler(sampling_strategy=1)\n",
    "X_train_ros, y_train_ros = ROS.fit_resample(X_train_vectorized, y_train)"
   ]
  },
  {
   "cell_type": "code",
   "execution_count": 43,
   "metadata": {},
   "outputs": [
    {
     "data": {
      "text/plain": [
       "Positive    0.5\n",
       "Negative    0.5\n",
       "Name: Emotion, dtype: float64"
      ]
     },
     "execution_count": 43,
     "metadata": {},
     "output_type": "execute_result"
    }
   ],
   "source": [
    "y_train_ros.value_counts(normalize=True)"
   ]
  },
  {
   "attachments": {},
   "cell_type": "markdown",
   "metadata": {},
   "source": [
    "### Model 2"
   ]
  },
  {
   "cell_type": "code",
   "execution_count": 44,
   "metadata": {},
   "outputs": [],
   "source": [
    "\n",
    "# Balancing the model\n",
    "ROS = RandomOverSampler(sampling_strategy=1)\n",
    "X_train_ros, y_train_ros = ROS.fit_resample(X_train_vectorized, y_train)"
   ]
  },
  {
   "cell_type": "code",
   "execution_count": 45,
   "metadata": {},
   "outputs": [
    {
     "data": {
      "text/plain": [
       "Positive    0.5\n",
       "Negative    0.5\n",
       "Name: Emotion, dtype: float64"
      ]
     },
     "execution_count": 45,
     "metadata": {},
     "output_type": "execute_result"
    }
   ],
   "source": [
    "y_train_ros.value_counts(normalize=True)"
   ]
  },
  {
   "cell_type": "code",
   "execution_count": 46,
   "metadata": {},
   "outputs": [
    {
     "name": "stdout",
     "output_type": "stream",
     "text": [
      "0.591457528957529\n"
     ]
    }
   ],
   "source": [
    "model2 = MultinomialNB()\n",
    "\n",
    "model2.fit(X_train_ros, y_train_ros)\n",
    "train_score2 = model2.score(X_train_ros, y_train_ros)\n",
    "print(train_score2)"
   ]
  },
  {
   "cell_type": "code",
   "execution_count": 47,
   "metadata": {},
   "outputs": [
    {
     "name": "stdout",
     "output_type": "stream",
     "text": [
      "0.5671183840450014\n"
     ]
    }
   ],
   "source": [
    "\n",
    "model2_train_predictions = model2.predict(X_train_ros)\n",
    "model2_f1 = f1_score(y_train_ros, model2_train_predictions, pos_label='Positive')\n",
    "\n",
    "print(model2_f1)"
   ]
  },
  {
   "cell_type": "code",
   "execution_count": null,
   "metadata": {},
   "outputs": [],
   "source": []
  },
  {
   "attachments": {},
   "cell_type": "markdown",
   "metadata": {},
   "source": [
    "### Multiclass Classification"
   ]
  },
  {
   "cell_type": "code",
   "execution_count": 48,
   "metadata": {},
   "outputs": [
    {
     "data": {
      "text/plain": [
       "array(['Negative', 'Positive', 'Neutral'], dtype=object)"
      ]
     },
     "execution_count": 48,
     "metadata": {},
     "output_type": "execute_result"
    }
   ],
   "source": [
    "# After running a Binary classification we will also look at Multiclass Classification \n",
    "# see how it performs on the data. \n",
    "# We will start with preparing data for multiclass\n",
    "# Che the data column of Emotion\n",
    "data['Emotion'].unique()\n",
    "\n"
   ]
  },
  {
   "cell_type": "code",
   "execution_count": 49,
   "metadata": {},
   "outputs": [
    {
     "data": {
      "text/plain": [
       "1    5375\n",
       "2    2970\n",
       "0     569\n",
       "Name: Emotion, dtype: int64"
      ]
     },
     "execution_count": 49,
     "metadata": {},
     "output_type": "execute_result"
    }
   ],
   "source": [
    "# We will assign numerical values to the sentiments,\n",
    "# Neutral = 1\n",
    "# Positive = 2\n",
    "# Negarive = 0\n",
    "#mapping emotion column to numerical values\n",
    "emotion_dict = {'Negative': 0, 'Neutral':1, 'Positive': 2}\n",
    "data['Emotion'] = data['Emotion'].map(emotion_dict)\n",
    "data['Emotion'].value_counts()\n"
   ]
  },
  {
   "cell_type": "code",
   "execution_count": 50,
   "metadata": {},
   "outputs": [
    {
     "data": {
      "text/plain": [
       "1    0.602721\n",
       "2    0.333894\n",
       "0    0.063385\n",
       "Name: Emotion, dtype: float64"
      ]
     },
     "execution_count": 50,
     "metadata": {},
     "output_type": "execute_result"
    }
   ],
   "source": [
    "# Define the X and y objects \n",
    "X = data['Tweet']\n",
    "y = data['Emotion']\n",
    "\n",
    "# split into train and test objects\n",
    "X_train, X_test, y_train, y_test = train_test_split(X, y, test_size=.2, random_state=42)\n",
    "\n",
    "# check the y_train values \n",
    "y_train.value_counts(normalize=True)"
   ]
  },
  {
   "cell_type": "code",
   "execution_count": 51,
   "metadata": {},
   "outputs": [],
   "source": [
    "# Creating a multiclass classification that take in y_true as the vlues of y_test, y_pred, initial classifier, X_test and X_trai\n",
    "\n",
    "def multiclass_eval(y_true, y_pred, X_test, X_train, clf, n_class=3):\n",
    "    print(f\"Training score: {clf.score(X_train, y_train)}\\\n",
    "        Test Score:{clf.score(X_test, y_test)}\")\n",
    "    \n",
    "    # Print classication report\n",
    "    print('\\n')\n",
    "    print('Classifictaion Report')\n",
    "    print('_______________________________________')\n",
    "    print(classification_report(y_true=y_true, y_pred=y_pred))\n",
    "    \n",
    "    # Create a figure/axes for confusion matrix and ROC curve\n",
    "    fig, ax = plt.subplots(ncols=2, figsize=(12, 5))\n",
    "    \n",
    "    # Plot the normalized confusion matrix\n",
    "    plot_confusion_matrix(estimator=clf, X=X_test, y_true=y_true, cmap='BrBG_r', \n",
    "                          normalize='true', ax=ax[0], \n",
    "                          display_labels=['Negative', 'Neutral', 'Positive'])\n",
    "    \n",
    "    pred_prob = clf.predict_proba(X_test)\n",
    "    \n",
    "    # Plot the ROC curve\n",
    "    fpr={}\n",
    "    tpr={}\n",
    "    thresh={}\n",
    "    \n",
    "    for i in range(n_class):    \n",
    "        fpr[i], tpr[i], thresh[i] = roc_curve(y_true, pred_prob[:,i], pos_label=i)\n",
    "    \n",
    "    ax[1].plot(fpr[0], tpr[0], linestyle='--',color='red', label='Negative')\n",
    "    ax[1].plot(fpr[1], tpr[1], linestyle='--',color='black', label='Neutral')\n",
    "    ax[1].plot(fpr[2], tpr[2], linestyle='--',color='blue', label='Positive')\n",
    "    ax[1].set_title('Multiclass ROC curve')\n",
    "    ax[1].set_xlabel('False Positive Rate')\n",
    "    ax[1].set_ylabel('True Positive rate')\n",
    "    ax[1].legend(loc='best')\n",
    "    \n",
    "    \n",
    "    ax[1].plot([0,1], [0,1], ls='--', color='cyan')"
   ]
  },
  {
   "attachments": {},
   "cell_type": "markdown",
   "metadata": {},
   "source": [
    "#### <span style='color:cyan'>**Dummy Model**</SPAN>"
   ]
  },
  {
   "cell_type": "code",
   "execution_count": 52,
   "metadata": {},
   "outputs": [
    {
     "name": "stdout",
     "output_type": "stream",
     "text": [
      "Training score: 0.48548590660496427        Test Score:0.4699943914750421\n",
      "\n",
      "\n",
      "Classifictaion Report\n",
      "_______________________________________\n",
      "              precision    recall  f1-score   support\n",
      "\n",
      "           0       0.08      0.09      0.08       117\n",
      "           1       0.59      0.60      0.60      1077\n",
      "           2       0.32      0.32      0.32       589\n",
      "\n",
      "    accuracy                           0.47      1783\n",
      "   macro avg       0.33      0.33      0.33      1783\n",
      "weighted avg       0.47      0.47      0.47      1783\n",
      "\n"
     ]
    },
    {
     "data": {
      "image/png": "[encoded data removed]",
      "text/plain": [
       "<Figure size 864x360 with 3 Axes>"
      ]
     },
     "metadata": {
      "needs_background": "light"
     },
     "output_type": "display_data"
    }
   ],
   "source": [
    "# Create a Dummy model for Multiclass\n",
    "\n",
    "tokenizer = TweetTokenizer(preserve_case=False, strip_handles=True)\n",
    "\n",
    "clf_pipe = Pipeline([\n",
    "    ('vectorizer', TfidfVectorizer(tokenizer=tokenizer.tokenize, \n",
    "                                   stop_words=stopwords_list)), \n",
    "    ('clf', DummyClassifier(random_state=42))\n",
    "])\n",
    "\n",
    "clf_pipe.fit(X_train, y_train)\n",
    "y_pred = clf_pipe.predict(X_test)\n",
    "multiclass_eval(y_test, y_pred, X_test, X_train, clf_pipe)"
   ]
  },
  {
   "attachments": {},
   "cell_type": "markdown",
   "metadata": {},
   "source": [
    "The above outcome show class imbalance and that is why we have more neutrals comming out as the majority followed by positives and then negatives.\n",
    "\n",
    "This reflects back to the our classes on the value counts in the `Emotion` column. Class imbalance can affect our model by being biased towords the majority in the values. Meaning any time we run our model it has 60% chances of selecting a neutral sentiment, 33% chances of selecting a positive sentiment and 6% chances of selecting a negative sentiment. \n",
    "\n",
    "Class imbalance can be addressed by `Oversampling` method. In the next cell we will do random oversampling and then split the data and run a model to see how it will perform. "
   ]
  },
  {
   "cell_type": "code",
   "execution_count": 53,
   "metadata": {},
   "outputs": [
    {
     "name": "stdout",
     "output_type": "stream",
     "text": [
      "Training score: 0.33291263497405693        Test Score:0.35053280987100394\n",
      "\n",
      "\n",
      "Classifictaion Report\n",
      "_______________________________________\n",
      "              precision    recall  f1-score   support\n",
      "\n",
      "           0       0.07      0.34      0.12       117\n",
      "           1       0.61      0.34      0.44      1077\n",
      "           2       0.35      0.36      0.35       589\n",
      "\n",
      "    accuracy                           0.35      1783\n",
      "   macro avg       0.34      0.35      0.30      1783\n",
      "weighted avg       0.49      0.35      0.39      1783\n",
      "\n"
     ]
    },
    {
     "data": {
      "image/png": "[encoded data removed]",
      "text/plain": [
       "<Figure size 864x360 with 3 Axes>"
      ]
     },
     "metadata": {
      "needs_background": "light"
     },
     "output_type": "display_data"
    }
   ],
   "source": [
    "# Random Classifier \n",
    "\n",
    "clf_pipe = imblearn.pipeline.Pipeline([\n",
    "    ('vectorizer', TfidfVectorizer(tokenizer=tokenizer.tokenize, \n",
    "                                   stop_words=stopwords_list)),\n",
    "    ('os', RandomOverSampler(random_state=42)),\n",
    "    ('clf', DummyClassifier())\n",
    "])\n",
    "clf_pipe.fit(X_train, y_train)\n",
    "y_pred = clf_pipe.predict(X_test)\n",
    "multiclass_eval(y_test, y_pred, X_test, X_train, clf_pipe)"
   ]
  },
  {
   "attachments": {},
   "cell_type": "markdown",
   "metadata": {},
   "source": [
    "From the observation above it looks like the model is now able to levelup the sentiments and any sentment has equal chances to be selected. \n"
   ]
  },
  {
   "attachments": {},
   "cell_type": "markdown",
   "metadata": {},
   "source": [
    "### <span style='color:cyan'> **Logistic Regression.**</SPAN>"
   ]
  },
  {
   "cell_type": "code",
   "execution_count": 54,
   "metadata": {},
   "outputs": [
    {
     "name": "stdout",
     "output_type": "stream",
     "text": [
      "Training score: 0.9388585051184967        Test Score:0.6702187324733595\n",
      "\n",
      "\n",
      "Classifictaion Report\n",
      "_______________________________________\n",
      "              precision    recall  f1-score   support\n",
      "\n",
      "           0       0.41      0.38      0.39       117\n",
      "           1       0.76      0.73      0.75      1077\n",
      "           2       0.57      0.61      0.59       589\n",
      "\n",
      "    accuracy                           0.67      1783\n",
      "   macro avg       0.58      0.58      0.58      1783\n",
      "weighted avg       0.67      0.67      0.67      1783\n",
      "\n"
     ]
    },
    {
     "data": {
      "image/png": "[encoded data removed]",
      "text/plain": [
       "<Figure size 864x360 with 3 Axes>"
      ]
     },
     "metadata": {
      "needs_background": "light"
     },
     "output_type": "display_data"
    }
   ],
   "source": [
    "\n",
    "# Create a pipeline baseline logistic Regression\n",
    "clf_pipe = Pipeline([\n",
    "    ('vectorizer', TfidfVectorizer(tokenizer=tokenizer.tokenize, \n",
    "                                   stop_words=stopwords_list)), \n",
    "    ('clf', LogisticRegressionCV(class_weight='balanced', random_state=42, \n",
    "                                 cv=3))\n",
    "])\n",
    "\n",
    "clf_pipe.fit(X_train, y_train)\n",
    "y_pred = clf_pipe.predict(X_test)\n",
    "multiclass_eval(y_test, y_pred, X_test, X_train, clf_pipe)"
   ]
  },
  {
   "attachments": {},
   "cell_type": "markdown",
   "metadata": {},
   "source": [
    "Without tuning our model was able to classifie about 67% on the on the unseen data. This is a better model compaired to the dummy model, although there is some sort of overfitting the training data. Next we will look for the way to reduce the overfitting by the use of GridSearchCV. "
   ]
  },
  {
   "attachments": {},
   "cell_type": "markdown",
   "metadata": {},
   "source": [
    "#### <span style='color:orange'>**Hyperparameter Tuning with GridSearchCV.**</SPAN>"
   ]
  },
  {
   "cell_type": "code",
   "execution_count": 55,
   "metadata": {},
   "outputs": [
    {
     "data": {
      "text/plain": [
       "{'clf__Cs': 1,\n",
       " 'clf__class_weight': 'balanced',\n",
       " 'clf__max_iter': 2,\n",
       " 'clf__solver': 'lbfgs'}"
      ]
     },
     "execution_count": 55,
     "metadata": {},
     "output_type": "execute_result"
    }
   ],
   "source": [
    "# Greating a GridSearchCV\n",
    "\n",
    "param_grid = {\n",
    "    'clf__class_weight': ['balanced'], \n",
    "    'clf__max_iter': [2, 5],\n",
    "    'clf__Cs': [0.1, 1],\n",
    "    'clf__solver': ['liblinear', 'lbfgs', 'sag']\n",
    "}\n",
    "\n",
    "gs_lr = GridSearchCV(estimator=clf_pipe, param_grid=param_grid, scoring='recall_macro')\n",
    "gs_lr.fit(X_train, y_train)\n",
    "gs_lr.best_params_"
   ]
  },
  {
   "cell_type": "code",
   "execution_count": 56,
   "metadata": {},
   "outputs": [
    {
     "name": "stdout",
     "output_type": "stream",
     "text": [
      "Training score: 0.5352685457860048        Test Score:0.5272013460459899\n",
      "\n",
      "\n",
      "Classifictaion Report\n",
      "_______________________________________\n",
      "              precision    recall  f1-score   support\n",
      "\n",
      "           0       0.15      0.70      0.25       117\n",
      "           1       0.77      0.56      0.65      1077\n",
      "           2       0.57      0.43      0.49       589\n",
      "\n",
      "    accuracy                           0.53      1783\n",
      "   macro avg       0.50      0.56      0.46      1783\n",
      "weighted avg       0.66      0.53      0.57      1783\n",
      "\n"
     ]
    },
    {
     "data": {
      "image/png": "[encoded data removed]",
      "text/plain": [
       "<Figure size 864x360 with 3 Axes>"
      ]
     },
     "metadata": {
      "needs_background": "light"
     },
     "output_type": "display_data"
    }
   ],
   "source": [
    "# Creating a pipeline model\n",
    "clf_pipe = Pipeline([\n",
    "    ('vectorizer', TfidfVectorizer(tokenizer=tokenizer.tokenize, \n",
    "                                   stop_words=stopwords_list)), \n",
    "    ('clf', LogisticRegressionCV(class_weight='balanced', Cs = [1], \n",
    "                                 random_state=42, max_iter=2,\n",
    "                                 solver='lbfgs',\n",
    "                                 cv=3))\n",
    "])\n",
    "\n",
    "clf_pipe.fit(X_train, y_train)\n",
    "y_pred = clf_pipe.predict(X_test)\n",
    "multiclass_eval(y_test, y_pred, X_test, X_train, clf_pipe)"
   ]
  },
  {
   "attachments": {},
   "cell_type": "markdown",
   "metadata": {},
   "source": [
    "After tuning the OverSampled Logistic Regression we were able to reducing the overfitting although the model accuracy reduced from 67% (baseline logistic regrssion) to 53% on the test data set. "
   ]
  },
  {
   "attachments": {},
   "cell_type": "markdown",
   "metadata": {},
   "source": [
    "#### <span style='color:cyan'>**Random Forest Classifier.**</SPAN>"
   ]
  },
  {
   "cell_type": "code",
   "execution_count": 57,
   "metadata": {},
   "outputs": [
    {
     "name": "stdout",
     "output_type": "stream",
     "text": [
      "Training score: 0.9956527836208106        Test Score:0.6825574873808189\n",
      "\n",
      "\n",
      "Classifictaion Report\n",
      "_______________________________________\n",
      "              precision    recall  f1-score   support\n",
      "\n",
      "           0       0.60      0.21      0.31       117\n",
      "           1       0.72      0.82      0.77      1077\n",
      "           2       0.60      0.53      0.56       589\n",
      "\n",
      "    accuracy                           0.68      1783\n",
      "   macro avg       0.64      0.52      0.55      1783\n",
      "weighted avg       0.67      0.68      0.67      1783\n",
      "\n"
     ]
    },
    {
     "data": {
      "image/png": "[encoded data removed]",
      "text/plain": [
       "<Figure size 864x360 with 3 Axes>"
      ]
     },
     "metadata": {
      "needs_background": "light"
     },
     "output_type": "display_data"
    }
   ],
   "source": [
    "# Creating RandomOversampler Random Forest Classifier\n",
    "rf_pipe = imblearn.pipeline.Pipeline([\n",
    "    ('vectorizer', TfidfVectorizer(tokenizer=tokenizer.tokenize, \n",
    "                                   stop_words=stopwords_list)),\n",
    "    ('os', RandomOverSampler(random_state=42)),\n",
    "    ('clf', RandomForestClassifier(class_weight='balanced'))\n",
    "])\n",
    "\n",
    "rf_pipe.fit(X_train, y_train)\n",
    "y_pred = rf_pipe.predict(X_test)\n",
    "multiclass_eval(y_test, y_pred, X_test, X_train, rf_pipe)"
   ]
  },
  {
   "attachments": {},
   "cell_type": "markdown",
   "metadata": {},
   "source": [
    "The model performed better than the RandomOversampled Logistic Regrssion and the tuned one with 68% accuracy although slightly overfitting on the training dataset. "
   ]
  },
  {
   "attachments": {},
   "cell_type": "markdown",
   "metadata": {},
   "source": [
    "#### <span style='color:orange'>**Hyperparameter Tuning with GridSearchCV**</SPAN>"
   ]
  },
  {
   "cell_type": "code",
   "execution_count": 58,
   "metadata": {},
   "outputs": [
    {
     "data": {
      "text/plain": [
       "{'clf__criterion': 'gini',\n",
       " 'clf__max_depth': 10,\n",
       " 'clf__min_samples_leaf': 1,\n",
       " 'clf__min_samples_split': 5,\n",
       " 'clf__n_estimators': 100}"
      ]
     },
     "execution_count": 58,
     "metadata": {},
     "output_type": "execute_result"
    }
   ],
   "source": [
    "\n",
    "# Performing a GridSearch to determine best parametors. \n",
    "param_grid = {\n",
    "    'clf__criterion': ['gini', 'entropy'], \n",
    "    'clf__max_depth': [2, 5, 10],\n",
    "    'clf__min_samples_split': [1, 5, 10, 20],\n",
    "    'clf__min_samples_leaf': [1, 5, 10],\n",
    "    'clf__n_estimators':[50, 100]\n",
    "}\n",
    "\n",
    "gs_rf = GridSearchCV(estimator=rf_pipe, param_grid=param_grid, scoring='recall_macro')\n",
    "gs_rf.fit(X_train, y_train)\n",
    "gs_rf.best_params_"
   ]
  },
  {
   "cell_type": "code",
   "execution_count": 59,
   "metadata": {},
   "outputs": [
    {
     "name": "stdout",
     "output_type": "stream",
     "text": [
      "Training score: 0.5147945589678867        Test Score:0.50701065619742\n",
      "\n",
      "\n",
      "Classifictaion Report\n",
      "_______________________________________\n",
      "              precision    recall  f1-score   support\n",
      "\n",
      "           0       0.14      0.71      0.23       117\n",
      "           1       0.77      0.54      0.63      1077\n",
      "           2       0.57      0.41      0.47       589\n",
      "\n",
      "    accuracy                           0.51      1783\n",
      "   macro avg       0.49      0.55      0.45      1783\n",
      "weighted avg       0.66      0.51      0.55      1783\n",
      "\n"
     ]
    },
    {
     "data": {
      "image/png": "[encoded data removed]",
      "text/plain": [
       "<Figure size 864x360 with 3 Axes>"
      ]
     },
     "metadata": {
      "needs_background": "light"
     },
     "output_type": "display_data"
    }
   ],
   "source": [
    "rf_pipe = imblearn.pipeline.Pipeline([\n",
    "    ('vectorizer', TfidfVectorizer(tokenizer=tokenizer.tokenize, \n",
    "                                   stop_words=stopwords_list)),\n",
    "    ('os', RandomOverSampler(random_state=42)),\n",
    "    ('clf', RandomForestClassifier(class_weight='balanced', \n",
    "                                   criterion='entropy',\n",
    "                                   max_depth=10,\n",
    "                                   min_samples_leaf=10,\n",
    "                                   min_samples_split=10,\n",
    "                                   n_estimators=100))\n",
    "])\n",
    "rf_pipe.fit(X_train, y_train)\n",
    "y_pred = rf_pipe.predict(X_test)\n",
    "multiclass_eval(y_test, y_pred, X_test, X_train, rf_pipe)"
   ]
  },
  {
   "attachments": {},
   "cell_type": "markdown",
   "metadata": {},
   "source": [
    "GridSearchCV tuning wa able to reduce overfitting on the training data but also reduced the accuracy on the testing data. "
   ]
  },
  {
   "attachments": {},
   "cell_type": "markdown",
   "metadata": {},
   "source": [
    "# Conclusion"
   ]
  },
  {
   "cell_type": "code",
   "execution_count": null,
   "metadata": {},
   "outputs": [],
   "source": []
  }
 ],
 "metadata": {
  "kernelspec": {
   "display_name": "learn-env",
   "language": "python",
   "name": "python3"
  },
  "language_info": {
   "codemirror_mode": {
    "name": "ipython",
    "version": 3
   },
   "file_extension": ".py",
   "mimetype": "text/x-python",
   "name": "python",
   "nbconvert_exporter": "python",
   "pygments_lexer": "ipython3",
   "version": "3.8.5"
  }
 },
 "nbformat": 4,
 "nbformat_minor": 2
}
