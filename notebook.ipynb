{
 "cells": [
  {
   "attachments": {},
   "cell_type": "markdown",
   "metadata": {},
   "source": [
    "# <b> Twitter Sentiment Analysis </b>"
   ]
  },
  {
   "attachments": {},
   "cell_type": "markdown",
   "metadata": {},
   "source": [
    "## <b> Problem Statement </b>\n",
    "In the era of social media, it is crucial for businesses to understand the sentiments expressed by customers towards their brands or products.\n",
    "This sentiment analysis project aims to analyze Twitter data and extract valuable insights regarding the sentiments associated with Apple and Google products mentioned in tweets. By uncovering the public's opinions and emotions, businesses can make data-driven decisions to improve their market positioning and enhance customer satisfaction\n",
    "\n",
    "## <b> Objectives </b>\n",
    "\n",
    "Our main objective is to create a model that when given a tweet or series of tweets and a product would determine how the user felt about that product.\n",
    "\n",
    "This is trivial for a human to accomplish, our model can do this for thousands or even millions of tweets in a short time.\n",
    "\n",
    "1. To build a text classifier to accurately distinguish between positive, neutral, and negative sentiments.\n",
    "\n",
    "2. Competitive Analysis – Compare the sentiment towards Apple and Google products to identify any significant differences in public perception. \n",
    "\n",
    "\n",
    "3. Give insights as to where the company can increase customer satisfaction."
   ]
  },
  {
   "cell_type": "code",
   "execution_count": null,
   "metadata": {},
   "outputs": [],
   "source": []
  },
  {
   "attachments": {},
   "cell_type": "markdown",
   "metadata": {},
   "source": [
    "# Data Understanding"
   ]
  },
  {
   "cell_type": "code",

   "execution_count": 114,

   "execution_count": 1,

   "metadata": {},
   "outputs": [],
   "source": [
    "#Import libraries\n",
    "import pandas as pd\n",
    "import numpy as np\n",
    "import seaborn as sns\n",
    "import matplotlib.pyplot as plt\n",
    "import string\n",
    "import re\n",
    "import nltk\n",
    "import itertools\n",
    "import imblearn.pipeline \n",
    "import warnings\n",
    "warnings.filterwarnings('ignore')\n",
    "\n",
    "\n",
    "from nltk.tokenize import RegexpTokenizer\n",
    "from nltk.corpus import stopwords\n",
    "from nltk.stem import PorterStemmer\n",
    "from nltk.tokenize import RegexpTokenizer\n",
    "from nltk.corpus import stopwords\n",
    "from nltk.stem import PorterStemmer\n",
    "from nltk import TweetTokenizer\n",
    "from nltk.collocations import BigramAssocMeasures, BigramCollocationFinder\n",
    "\n",
    "from imblearn.over_sampling import RandomOverSampler\n",
    "\n",
    "from sklearn.metrics import f1_score\n",
    "from sklearn.metrics import classification_report\n",
    "from sklearn.metrics import plot_confusion_matrix\n",
    "from sklearn.metrics import roc_curve\n",
    "from sklearn.metrics import recall_score, precision_score, accuracy_score\n",
    "\n",
    "from sklearn.naive_bayes import MultinomialNB\n",
    "from sklearn.feature_extraction.text import TfidfVectorizer\n",
    "from sklearn.dummy import DummyClassifier\n",
    "from sklearn.pipeline import Pipeline\n",
    "from sklearn.feature_extraction.text import TfidfVectorizer\n",
    "from sklearn.linear_model import LogisticRegressionCV\n",
    "from sklearn.pipeline import Pipeline\n",
    "from sklearn.model_selection import GridSearchCV\n",
    "from sklearn.ensemble import RandomForestClassifier"
   ]
  },
  {
   "cell_type": "code",
   "execution_count": 115,
   "metadata": {},
   "outputs": [
    {
     "data": {
      "text/html": [
       "<div>\n",
       "<style scoped>\n",
       "    .dataframe tbody tr th:only-of-type {\n",
       "        vertical-align: middle;\n",
       "    }\n",
       "\n",
       "    .dataframe tbody tr th {\n",
       "        vertical-align: top;\n",
       "    }\n",
       "\n",
       "    .dataframe thead th {\n",
       "        text-align: right;\n",
       "    }\n",
       "</style>\n",
       "<table border=\"1\" class=\"dataframe\">\n",
       "  <thead>\n",
       "    <tr style=\"text-align: right;\">\n",
       "      <th></th>\n",
       "      <th>tweet_text</th>\n",
       "      <th>emotion_in_tweet_is_directed_at</th>\n",
       "      <th>is_there_an_emotion_directed_at_a_brand_or_product</th>\n",
       "    </tr>\n",
       "  </thead>\n",
       "  <tbody>\n",
       "    <tr>\n",
       "      <th>0</th>\n",
       "      <td>.@wesley83 I have a 3G iPhone. After 3 hrs tweeting at #RISE_Austin, it was dead!  I need to upgrade. Plugin stations at #SXSW.</td>\n",
       "      <td>iPhone</td>\n",
       "      <td>Negative emotion</td>\n",
       "    </tr>\n",
       "    <tr>\n",
       "      <th>1</th>\n",
       "      <td>@jessedee Know about @fludapp ? Awesome iPad/iPhone app that you'll likely appreciate for its design. Also, they're giving free Ts at #SXSW</td>\n",
       "      <td>iPad or iPhone App</td>\n",
       "      <td>Positive emotion</td>\n",
       "    </tr>\n",
       "    <tr>\n",
       "      <th>2</th>\n",
       "      <td>@swonderlin Can not wait for #iPad 2 also. They should sale them down at #SXSW.</td>\n",
       "      <td>iPad</td>\n",
       "      <td>Positive emotion</td>\n",
       "    </tr>\n",
       "    <tr>\n",
       "      <th>3</th>\n",
       "      <td>@sxsw I hope this year's festival isn't as crashy as this year's iPhone app. #sxsw</td>\n",
       "      <td>iPad or iPhone App</td>\n",
       "      <td>Negative emotion</td>\n",
       "    </tr>\n",
       "    <tr>\n",
       "      <th>4</th>\n",
       "      <td>@sxtxstate great stuff on Fri #SXSW: Marissa Mayer (Google), Tim O'Reilly (tech books/conferences) &amp;amp; Matt Mullenweg (Wordpress)</td>\n",
       "      <td>Google</td>\n",
       "      <td>Positive emotion</td>\n",
       "    </tr>\n",
       "  </tbody>\n",
       "</table>\n",
       "</div>"
      ],
      "text/plain": [
       "                                                                                                                                    tweet_text  \\\n",
       "0              .@wesley83 I have a 3G iPhone. After 3 hrs tweeting at #RISE_Austin, it was dead!  I need to upgrade. Plugin stations at #SXSW.   \n",
       "1  @jessedee Know about @fludapp ? Awesome iPad/iPhone app that you'll likely appreciate for its design. Also, they're giving free Ts at #SXSW   \n",
       "2                                                              @swonderlin Can not wait for #iPad 2 also. They should sale them down at #SXSW.   \n",
       "3                                                           @sxsw I hope this year's festival isn't as crashy as this year's iPhone app. #sxsw   \n",
       "4          @sxtxstate great stuff on Fri #SXSW: Marissa Mayer (Google), Tim O'Reilly (tech books/conferences) &amp; Matt Mullenweg (Wordpress)   \n",
       "\n",
       "  emotion_in_tweet_is_directed_at  \\\n",
       "0                          iPhone   \n",
       "1              iPad or iPhone App   \n",
       "2                            iPad   \n",
       "3              iPad or iPhone App   \n",
       "4                          Google   \n",
       "\n",
       "  is_there_an_emotion_directed_at_a_brand_or_product  \n",
       "0                                   Negative emotion  \n",
       "1                                   Positive emotion  \n",
       "2                                   Positive emotion  \n",
       "3                                   Negative emotion  \n",
       "4                                   Positive emotion  "
      ]
     },
     "execution_count": 115,
     "metadata": {},
     "output_type": "execute_result"
    }
   ],
   "source": [
    "data = pd.read_csv('Data/crowdflower_tweet_data.csv', encoding = 'latin1')\n",
    "data.head()"
   ]
  },
  {
   "cell_type": "code",
   "execution_count": 116,
   "metadata": {},
   "outputs": [
    {
     "data": {
      "text/plain": [
       "(9093, 3)"
      ]
     },
     "execution_count": 116,
     "metadata": {},
     "output_type": "execute_result"
    }
   ],
   "source": [
    "data.shape"
   ]
  },
  {
   "cell_type": "code",
   "execution_count": 117,
   "metadata": {},
   "outputs": [
    {
     "data": {
      "text/plain": [
       "Index(['tweet_text', 'emotion_in_tweet_is_directed_at',\n",
       "       'is_there_an_emotion_directed_at_a_brand_or_product'],\n",
       "      dtype='object')"
      ]
     },
     "execution_count": 117,
     "metadata": {},
     "output_type": "execute_result"
    }
   ],
   "source": [
    "data.columns"
   ]
  },
  {
   "cell_type": "code",
   "execution_count": 118,
   "metadata": {},
   "outputs": [
    {
     "data": {
      "text/plain": [
       "iPad                               0.287451\n",
       "Apple                              0.200851\n",
       "iPad or iPhone App                 0.142814\n",
       "Google                             0.130659\n",
       "iPhone                             0.090246\n",
       "Other Google product or service    0.089031\n",
       "Android App                        0.024613\n",
       "Android                            0.023701\n",
       "Other Apple product or service     0.010635\n",
       "Name: emotion_in_tweet_is_directed_at, dtype: float64"
      ]
     },
     "execution_count": 118,
     "metadata": {},
     "output_type": "execute_result"
    }
   ],
   "source": [
    "data['emotion_in_tweet_is_directed_at'].value_counts(normalize=True)"
   ]
  },
  {
   "cell_type": "code",
   "execution_count": 119,
   "metadata": {},
   "outputs": [
    {
     "data": {
      "text/plain": [
       "No emotion toward brand or product    0.592654\n",
       "Positive emotion                      0.327505\n",
       "Negative emotion                      0.062686\n",
       "I can't tell                          0.017156\n",
       "Name: is_there_an_emotion_directed_at_a_brand_or_product, dtype: float64"
      ]
     },
     "execution_count": 119,
     "metadata": {},
     "output_type": "execute_result"
    }
   ],
   "source": [
    "data['is_there_an_emotion_directed_at_a_brand_or_product'].value_counts(normalize=True)"
   ]
  },
  {
   "cell_type": "code",
   "execution_count": 120,
   "metadata": {},
   "outputs": [
    {
     "name": "stdout",
     "output_type": "stream",
     "text": [
      "<class 'pandas.core.frame.DataFrame'>\n",
      "RangeIndex: 9093 entries, 0 to 9092\n",
      "Data columns (total 3 columns):\n",
      " #   Column                                              Non-Null Count  Dtype \n",
      "---  ------                                              --------------  ----- \n",
      " 0   tweet_text                                          9092 non-null   object\n",
      " 1   emotion_in_tweet_is_directed_at                     3291 non-null   object\n",
      " 2   is_there_an_emotion_directed_at_a_brand_or_product  9093 non-null   object\n",
      "dtypes: object(3)\n",
      "memory usage: 213.2+ KB\n"
     ]
    }
   ],
   "source": [
    "data.info()"
   ]
  },
  {
   "cell_type": "code",
   "execution_count": 121,
   "metadata": {},
   "outputs": [
    {
     "data": {
      "text/plain": [
       "tweet_text                                               1\n",
       "emotion_in_tweet_is_directed_at                       5802\n",
       "is_there_an_emotion_directed_at_a_brand_or_product       0\n",
       "dtype: int64"
      ]
     },
     "execution_count": 121,
     "metadata": {},
     "output_type": "execute_result"
    }
   ],
   "source": [
    "data.isna().sum()"
   ]
  },
  {
   "cell_type": "code",
   "execution_count": 122,
   "metadata": {},
   "outputs": [
    {
     "data": {
      "text/plain": [
       "22"
      ]
     },
     "execution_count": 122,
     "metadata": {},
     "output_type": "execute_result"
    }
   ],
   "source": [
    "data.duplicated().sum()"
   ]
  },
  {
   "cell_type": "code",
   "execution_count": 123,
   "metadata": {},
   "outputs": [
    {
     "data": {
      "text/html": [
       "<div>\n",
       "<style scoped>\n",
       "    .dataframe tbody tr th:only-of-type {\n",
       "        vertical-align: middle;\n",
       "    }\n",
       "\n",
       "    .dataframe tbody tr th {\n",
       "        vertical-align: top;\n",
       "    }\n",
       "\n",
       "    .dataframe thead th {\n",
       "        text-align: right;\n",
       "    }\n",
       "</style>\n",
       "<table border=\"1\" class=\"dataframe\">\n",
       "  <thead>\n",
       "    <tr style=\"text-align: right;\">\n",
       "      <th></th>\n",
       "      <th>tweet_text</th>\n",
       "      <th>emotion_in_tweet_is_directed_at</th>\n",
       "      <th>is_there_an_emotion_directed_at_a_brand_or_product</th>\n",
       "    </tr>\n",
       "  </thead>\n",
       "  <tbody>\n",
       "    <tr>\n",
       "      <th>468</th>\n",
       "      <td>Before It Even Begins, Apple Wins #SXSW {link}</td>\n",
       "      <td>Apple</td>\n",
       "      <td>Positive emotion</td>\n",
       "    </tr>\n",
       "    <tr>\n",
       "      <th>776</th>\n",
       "      <td>Google to Launch Major New Social Network Called Circles, Possibly Today {link} #sxsw</td>\n",
       "      <td>NaN</td>\n",
       "      <td>No emotion toward brand or product</td>\n",
       "    </tr>\n",
       "    <tr>\n",
       "      <th>2232</th>\n",
       "      <td>Marissa Mayer: Google Will Connect the Digital &amp;amp; Physical Worlds Through Mobile - {link} #sxsw</td>\n",
       "      <td>NaN</td>\n",
       "      <td>No emotion toward brand or product</td>\n",
       "    </tr>\n",
       "    <tr>\n",
       "      <th>2559</th>\n",
       "      <td>Counting down the days to #sxsw plus strong Canadian dollar means stock up on Apple gear</td>\n",
       "      <td>Apple</td>\n",
       "      <td>Positive emotion</td>\n",
       "    </tr>\n",
       "    <tr>\n",
       "      <th>3950</th>\n",
       "      <td>Really enjoying the changes in Gowalla 3.0 for Android! Looking forward to seeing what else they &amp;amp; Foursquare have up their sleeves at #SXSW</td>\n",
       "      <td>Android App</td>\n",
       "      <td>Positive emotion</td>\n",
       "    </tr>\n",
       "  </tbody>\n",
       "</table>\n",
       "</div>"
      ],
      "text/plain": [
       "                                                                                                                                            tweet_text  \\\n",
       "468                                                                                                     Before It Even Begins, Apple Wins #SXSW {link}   \n",
       "776                                                              Google to Launch Major New Social Network Called Circles, Possibly Today {link} #sxsw   \n",
       "2232                                                Marissa Mayer: Google Will Connect the Digital &amp; Physical Worlds Through Mobile - {link} #sxsw   \n",
       "2559                                                          Counting down the days to #sxsw plus strong Canadian dollar means stock up on Apple gear   \n",
       "3950  Really enjoying the changes in Gowalla 3.0 for Android! Looking forward to seeing what else they &amp; Foursquare have up their sleeves at #SXSW   \n",
       "\n",
       "     emotion_in_tweet_is_directed_at  \\\n",
       "468                            Apple   \n",
       "776                              NaN   \n",
       "2232                             NaN   \n",
       "2559                           Apple   \n",
       "3950                     Android App   \n",
       "\n",
       "     is_there_an_emotion_directed_at_a_brand_or_product  \n",
       "468                                    Positive emotion  \n",
       "776                  No emotion toward brand or product  \n",
       "2232                 No emotion toward brand or product  \n",
       "2559                                   Positive emotion  \n",
       "3950                                   Positive emotion  "
      ]
     },
     "execution_count": 123,
     "metadata": {},
     "output_type": "execute_result"
    }
   ],
   "source": [
    "data[data.duplicated()].head()"
   ]
  },
  {
   "attachments": {},
   "cell_type": "markdown",
   "metadata": {},
   "source": [
    "# Data Cleaning\n"
   ]
  },
  {
   "cell_type": "code",
   "execution_count": 124,
   "metadata": {},
   "outputs": [
    {
     "data": {
      "text/html": [
       "<div>\n",
       "<style scoped>\n",
       "    .dataframe tbody tr th:only-of-type {\n",
       "        vertical-align: middle;\n",
       "    }\n",
       "\n",
       "    .dataframe tbody tr th {\n",
       "        vertical-align: top;\n",
       "    }\n",
       "\n",
       "    .dataframe thead th {\n",
       "        text-align: right;\n",
       "    }\n",
       "</style>\n",
       "<table border=\"1\" class=\"dataframe\">\n",
       "  <thead>\n",
       "    <tr style=\"text-align: right;\">\n",
       "      <th></th>\n",
       "      <th>Tweet</th>\n",
       "      <th>Product/Brand</th>\n",
       "      <th>Emotion</th>\n",
       "    </tr>\n",
       "  </thead>\n",
       "  <tbody>\n",
       "    <tr>\n",
       "      <th>0</th>\n",
       "      <td>.@wesley83 I have a 3G iPhone. After 3 hrs tweeting at #RISE_Austin, it was dead!  I need to upgrade. Plugin stations at #SXSW.</td>\n",
       "      <td>iPhone</td>\n",
       "      <td>Negative emotion</td>\n",
       "    </tr>\n",
       "    <tr>\n",
       "      <th>1</th>\n",
       "      <td>@jessedee Know about @fludapp ? Awesome iPad/iPhone app that you'll likely appreciate for its design. Also, they're giving free Ts at #SXSW</td>\n",
       "      <td>iPad or iPhone App</td>\n",
       "      <td>Positive emotion</td>\n",
       "    </tr>\n",
       "    <tr>\n",
       "      <th>2</th>\n",
       "      <td>@swonderlin Can not wait for #iPad 2 also. They should sale them down at #SXSW.</td>\n",
       "      <td>iPad</td>\n",
       "      <td>Positive emotion</td>\n",
       "    </tr>\n",
       "    <tr>\n",
       "      <th>3</th>\n",
       "      <td>@sxsw I hope this year's festival isn't as crashy as this year's iPhone app. #sxsw</td>\n",
       "      <td>iPad or iPhone App</td>\n",
       "      <td>Negative emotion</td>\n",
       "    </tr>\n",
       "    <tr>\n",
       "      <th>4</th>\n",
       "      <td>@sxtxstate great stuff on Fri #SXSW: Marissa Mayer (Google), Tim O'Reilly (tech books/conferences) &amp;amp; Matt Mullenweg (Wordpress)</td>\n",
       "      <td>Google</td>\n",
       "      <td>Positive emotion</td>\n",
       "    </tr>\n",
       "    <tr>\n",
       "      <th>...</th>\n",
       "      <td>...</td>\n",
       "      <td>...</td>\n",
       "      <td>...</td>\n",
       "    </tr>\n",
       "    <tr>\n",
       "      <th>9088</th>\n",
       "      <td>Ipad everywhere. #SXSW {link}</td>\n",
       "      <td>iPad</td>\n",
       "      <td>Positive emotion</td>\n",
       "    </tr>\n",
       "    <tr>\n",
       "      <th>9089</th>\n",
       "      <td>Wave, buzz... RT @mention We interrupt your regularly scheduled #sxsw geek programming with big news {link}  #google #circles</td>\n",
       "      <td>NaN</td>\n",
       "      <td>No emotion toward brand or product</td>\n",
       "    </tr>\n",
       "    <tr>\n",
       "      <th>9090</th>\n",
       "      <td>Google's Zeiger, a physician never reported potential AE. Yet FDA relies on physicians. &amp;quot;We're operating w/out data.&amp;quot; #sxsw #health2dev</td>\n",
       "      <td>NaN</td>\n",
       "      <td>No emotion toward brand or product</td>\n",
       "    </tr>\n",
       "    <tr>\n",
       "      <th>9091</th>\n",
       "      <td>Some Verizon iPhone customers complained their time fell back an hour this weekend.  Of course they were the New Yorkers who attended #SXSW.</td>\n",
       "      <td>NaN</td>\n",
       "      <td>No emotion toward brand or product</td>\n",
       "    </tr>\n",
       "    <tr>\n",
       "      <th>9092</th>\n",
       "      <td>Ï¡Ïàü_ÊÎÒ£Áââ_£â_ÛâRT @mention Google Tests ÛÏCheck-in OffersÛ At #SXSW {link}</td>\n",
       "      <td>NaN</td>\n",
       "      <td>No emotion toward brand or product</td>\n",
       "    </tr>\n",
       "  </tbody>\n",
       "</table>\n",
       "<p>9093 rows × 3 columns</p>\n",
       "</div>"
      ],
      "text/plain": [
       "                                                                                                                                                  Tweet  \\\n",
       "0                       .@wesley83 I have a 3G iPhone. After 3 hrs tweeting at #RISE_Austin, it was dead!  I need to upgrade. Plugin stations at #SXSW.   \n",
       "1           @jessedee Know about @fludapp ? Awesome iPad/iPhone app that you'll likely appreciate for its design. Also, they're giving free Ts at #SXSW   \n",
       "2                                                                       @swonderlin Can not wait for #iPad 2 also. They should sale them down at #SXSW.   \n",
       "3                                                                    @sxsw I hope this year's festival isn't as crashy as this year's iPhone app. #sxsw   \n",
       "4                   @sxtxstate great stuff on Fri #SXSW: Marissa Mayer (Google), Tim O'Reilly (tech books/conferences) &amp; Matt Mullenweg (Wordpress)   \n",
       "...                                                                                                                                                 ...   \n",
       "9088                                                                                                                      Ipad everywhere. #SXSW {link}   \n",
       "9089                      Wave, buzz... RT @mention We interrupt your regularly scheduled #sxsw geek programming with big news {link}  #google #circles   \n",
       "9090  Google's Zeiger, a physician never reported potential AE. Yet FDA relies on physicians. &quot;We're operating w/out data.&quot; #sxsw #health2dev   \n",
       "9091       Some Verizon iPhone customers complained their time fell back an hour this weekend.  Of course they were the New Yorkers who attended #SXSW.   \n",
       "9092                                           Ï¡Ïàü_ÊÎÒ£Áââ_£â_ÛâRT @mention Google Tests ÛÏCheck-in OffersÛ At #SXSW {link}   \n",
       "\n",
       "           Product/Brand                             Emotion  \n",
       "0                 iPhone                    Negative emotion  \n",
       "1     iPad or iPhone App                    Positive emotion  \n",
       "2                   iPad                    Positive emotion  \n",
       "3     iPad or iPhone App                    Negative emotion  \n",
       "4                 Google                    Positive emotion  \n",
       "...                  ...                                 ...  \n",
       "9088                iPad                    Positive emotion  \n",
       "9089                 NaN  No emotion toward brand or product  \n",
       "9090                 NaN  No emotion toward brand or product  \n",
       "9091                 NaN  No emotion toward brand or product  \n",
       "9092                 NaN  No emotion toward brand or product  \n",
       "\n",
       "[9093 rows x 3 columns]"
      ]
     },
     "execution_count": 124,
     "metadata": {},
     "output_type": "execute_result"
    }
   ],
   "source": [
    "# Renaming columns\n",
    "data.columns = ['Tweet', 'Product/Brand', 'Emotion']\n",
    "data"
   ]
  },
  {
   "cell_type": "code",
   "execution_count": 125,
   "metadata": {},
   "outputs": [],
   "source": [
    "data = data.dropna(subset=['Tweet'])"
   ]
  },
  {
   "cell_type": "code",
   "execution_count": 126,
   "metadata": {},
   "outputs": [
    {
     "data": {
      "text/plain": [
       "Tweet            0\n",
       "Product/Brand    0\n",
       "Emotion          0\n",
       "dtype: int64"
      ]
     },
     "execution_count": 126,
     "metadata": {},
     "output_type": "execute_result"
    }
   ],
   "source": [
    "data['Product/Brand'].fillna(\"Unknown Product\", inplace = True)\n",
    "data.isna().sum()"
   ]
  },
  {
   "cell_type": "code",
   "execution_count": 127,
   "metadata": {},
   "outputs": [],
   "source": [
    "data.drop_duplicates(keep='first', inplace=True)"
   ]
  },
  {
   "cell_type": "code",
   "execution_count": 128,
   "metadata": {},
   "outputs": [
    {
     "data": {
      "text/html": [
       "<div>\n",
       "<style scoped>\n",
       "    .dataframe tbody tr th:only-of-type {\n",
       "        vertical-align: middle;\n",
       "    }\n",
       "\n",
       "    .dataframe tbody tr th {\n",
       "        vertical-align: top;\n",
       "    }\n",
       "\n",
       "    .dataframe thead th {\n",
       "        text-align: right;\n",
       "    }\n",
       "</style>\n",
       "<table border=\"1\" class=\"dataframe\">\n",
       "  <thead>\n",
       "    <tr style=\"text-align: right;\">\n",
       "      <th></th>\n",
       "      <th>Tweet</th>\n",
       "      <th>Product/Brand</th>\n",
       "      <th>Emotion</th>\n",
       "    </tr>\n",
       "  </thead>\n",
       "  <tbody>\n",
       "    <tr>\n",
       "      <th>0</th>\n",
       "      <td>.@wesley83 I have a 3G iPhone. After 3 hrs tweeting at #RISE_Austin, it was dead!  I need to upgrade. Plugin stations at #SXSW.</td>\n",
       "      <td>iPhone</td>\n",
       "      <td>Negative</td>\n",
       "    </tr>\n",
       "    <tr>\n",
       "      <th>1</th>\n",
       "      <td>@jessedee Know about @fludapp ? Awesome iPad/iPhone app that you'll likely appreciate for its design. Also, they're giving free Ts at #SXSW</td>\n",
       "      <td>iPad or iPhone App</td>\n",
       "      <td>Positive</td>\n",
       "    </tr>\n",
       "    <tr>\n",
       "      <th>2</th>\n",
       "      <td>@swonderlin Can not wait for #iPad 2 also. They should sale them down at #SXSW.</td>\n",
       "      <td>iPad</td>\n",
       "      <td>Positive</td>\n",
       "    </tr>\n",
       "    <tr>\n",
       "      <th>3</th>\n",
       "      <td>@sxsw I hope this year's festival isn't as crashy as this year's iPhone app. #sxsw</td>\n",
       "      <td>iPad or iPhone App</td>\n",
       "      <td>Negative</td>\n",
       "    </tr>\n",
       "    <tr>\n",
       "      <th>4</th>\n",
       "      <td>@sxtxstate great stuff on Fri #SXSW: Marissa Mayer (Google), Tim O'Reilly (tech books/conferences) &amp;amp; Matt Mullenweg (Wordpress)</td>\n",
       "      <td>Google</td>\n",
       "      <td>Positive</td>\n",
       "    </tr>\n",
       "  </tbody>\n",
       "</table>\n",
       "</div>"
      ],
      "text/plain": [
       "                                                                                                                                         Tweet  \\\n",
       "0              .@wesley83 I have a 3G iPhone. After 3 hrs tweeting at #RISE_Austin, it was dead!  I need to upgrade. Plugin stations at #SXSW.   \n",
       "1  @jessedee Know about @fludapp ? Awesome iPad/iPhone app that you'll likely appreciate for its design. Also, they're giving free Ts at #SXSW   \n",
       "2                                                              @swonderlin Can not wait for #iPad 2 also. They should sale them down at #SXSW.   \n",
       "3                                                           @sxsw I hope this year's festival isn't as crashy as this year's iPhone app. #sxsw   \n",
       "4          @sxtxstate great stuff on Fri #SXSW: Marissa Mayer (Google), Tim O'Reilly (tech books/conferences) &amp; Matt Mullenweg (Wordpress)   \n",
       "\n",
       "        Product/Brand   Emotion  \n",
       "0              iPhone  Negative  \n",
       "1  iPad or iPhone App  Positive  \n",
       "2                iPad  Positive  \n",
       "3  iPad or iPhone App  Negative  \n",
       "4              Google  Positive  "
      ]
     },
     "execution_count": 128,
     "metadata": {},
     "output_type": "execute_result"
    }
   ],
   "source": [
    "emotion = {'Positive emotion': 'Positive', 'Negative emotion': 'Negative', \n",
    "                'No emotion toward brand or product': 'Neutral', \n",
    "                \"I can't tell\": 'Unknown'}\n",
    "data['Emotion'] = data['Emotion'].map(emotion)\n",
    "data.head()"
   ]
  },
  {
   "cell_type": "code",
   "execution_count": 129,
   "metadata": {},
   "outputs": [
    {
     "data": {
      "text/plain": [
       "Neutral     5375\n",
       "Positive    2970\n",
       "Negative     569\n",
       "Unknown      156\n",
       "Name: Emotion, dtype: int64"
      ]
     },
     "execution_count": 129,
     "metadata": {},
     "output_type": "execute_result"
    }
   ],
   "source": [
    "data['Emotion'].value_counts()"
   ]
  },
  {
   "cell_type": "code",
   "execution_count": 130,
   "metadata": {},
   "outputs": [
    {
     "data": {
      "text/html": [
       "<div>\n",
       "<style scoped>\n",
       "    .dataframe tbody tr th:only-of-type {\n",
       "        vertical-align: middle;\n",
       "    }\n",
       "\n",
       "    .dataframe tbody tr th {\n",
       "        vertical-align: top;\n",
       "    }\n",
       "\n",
       "    .dataframe thead th {\n",
       "        text-align: right;\n",
       "    }\n",
       "</style>\n",
       "<table border=\"1\" class=\"dataframe\">\n",
       "  <thead>\n",
       "    <tr style=\"text-align: right;\">\n",
       "      <th></th>\n",
       "      <th>Tweet</th>\n",
       "      <th>Product/Brand</th>\n",
       "      <th>Emotion</th>\n",
       "    </tr>\n",
       "  </thead>\n",
       "  <tbody>\n",
       "    <tr>\n",
       "      <th>90</th>\n",
       "      <td>Thanks to @mention for publishing the news of @mention new medical Apps at the #sxswi conf. blog {link} #sxsw #sxswh</td>\n",
       "      <td>Unknown Product</td>\n",
       "      <td>Unknown</td>\n",
       "    </tr>\n",
       "    <tr>\n",
       "      <th>102</th>\n",
       "      <td>ÛÏ@mention &amp;quot;Apple has opened a pop-up store in Austin so the nerds in town for #SXSW can get their new iPads. {link} #wow</td>\n",
       "      <td>Unknown Product</td>\n",
       "      <td>Unknown</td>\n",
       "    </tr>\n",
       "    <tr>\n",
       "      <th>237</th>\n",
       "      <td>Just what America needs. RT @mention Google to Launch Major New Social Network Called Circles, Possibly Today {link} #sxsw</td>\n",
       "      <td>Unknown Product</td>\n",
       "      <td>Unknown</td>\n",
       "    </tr>\n",
       "    <tr>\n",
       "      <th>341</th>\n",
       "      <td>The queue at the Apple Store in Austin is FOUR blocks long. Crazy stuff! #sxsw</td>\n",
       "      <td>Unknown Product</td>\n",
       "      <td>Unknown</td>\n",
       "    </tr>\n",
       "    <tr>\n",
       "      <th>368</th>\n",
       "      <td>Hope it's better than wave RT @mention Buzz is: Google's previewing a social networking platform at #SXSW: {link}</td>\n",
       "      <td>Unknown Product</td>\n",
       "      <td>Unknown</td>\n",
       "    </tr>\n",
       "    <tr>\n",
       "      <th>...</th>\n",
       "      <td>...</td>\n",
       "      <td>...</td>\n",
       "      <td>...</td>\n",
       "    </tr>\n",
       "    <tr>\n",
       "      <th>9020</th>\n",
       "      <td>It's funny watching a room full of people hold their iPad in the air to take a photo. Like a room full of tablets staring you down. #SXSW</td>\n",
       "      <td>Unknown Product</td>\n",
       "      <td>Unknown</td>\n",
       "    </tr>\n",
       "    <tr>\n",
       "      <th>9032</th>\n",
       "      <td>@mention yeah, we have @mention , Google has nothing on us :) #SXSW</td>\n",
       "      <td>Unknown Product</td>\n",
       "      <td>Unknown</td>\n",
       "    </tr>\n",
       "    <tr>\n",
       "      <th>9037</th>\n",
       "      <td>@mention Yes, the Google presentation was not exactly what I was expecting. #sxsw</td>\n",
       "      <td>Unknown Product</td>\n",
       "      <td>Unknown</td>\n",
       "    </tr>\n",
       "    <tr>\n",
       "      <th>9058</th>\n",
       "      <td>&amp;quot;Do you know what Apple is really good at? Making you feel bad about your Xmas present!&amp;quot; - Seth Meyers on iPad2 #sxsw #doyoureallyneedthat?</td>\n",
       "      <td>Unknown Product</td>\n",
       "      <td>Unknown</td>\n",
       "    </tr>\n",
       "    <tr>\n",
       "      <th>9066</th>\n",
       "      <td>How much you want to bet Apple is disproportionately stocking the #SXSW pop-up store with iPad 2? The influencer/hipsters thank you</td>\n",
       "      <td>Apple</td>\n",
       "      <td>Unknown</td>\n",
       "    </tr>\n",
       "  </tbody>\n",
       "</table>\n",
       "<p>156 rows × 3 columns</p>\n",
       "</div>"
      ],
      "text/plain": [
       "                                                                                                                                                      Tweet  \\\n",
       "90                                     Thanks to @mention for publishing the news of @mention new medical Apps at the #sxswi conf. blog {link} #sxsw #sxswh   \n",
       "102                         ÛÏ@mention &quot;Apple has opened a pop-up store in Austin so the nerds in town for #SXSW can get their new iPads. {link} #wow   \n",
       "237                              Just what America needs. RT @mention Google to Launch Major New Social Network Called Circles, Possibly Today {link} #sxsw   \n",
       "341                                                                          The queue at the Apple Store in Austin is FOUR blocks long. Crazy stuff! #sxsw   \n",
       "368                                       Hope it's better than wave RT @mention Buzz is: Google's previewing a social networking platform at #SXSW: {link}   \n",
       "...                                                                                                                                                     ...   \n",
       "9020              It's funny watching a room full of people hold their iPad in the air to take a photo. Like a room full of tablets staring you down. #SXSW   \n",
       "9032                                                                                    @mention yeah, we have @mention , Google has nothing on us :) #SXSW   \n",
       "9037                                                                      @mention Yes, the Google presentation was not exactly what I was expecting. #sxsw   \n",
       "9058  &quot;Do you know what Apple is really good at? Making you feel bad about your Xmas present!&quot; - Seth Meyers on iPad2 #sxsw #doyoureallyneedthat?   \n",
       "9066                    How much you want to bet Apple is disproportionately stocking the #SXSW pop-up store with iPad 2? The influencer/hipsters thank you   \n",
       "\n",
       "        Product/Brand  Emotion  \n",
       "90    Unknown Product  Unknown  \n",
       "102   Unknown Product  Unknown  \n",
       "237   Unknown Product  Unknown  \n",
       "341   Unknown Product  Unknown  \n",
       "368   Unknown Product  Unknown  \n",
       "...               ...      ...  \n",
       "9020  Unknown Product  Unknown  \n",
       "9032  Unknown Product  Unknown  \n",
       "9037  Unknown Product  Unknown  \n",
       "9058  Unknown Product  Unknown  \n",
       "9066            Apple  Unknown  \n",
       "\n",
       "[156 rows x 3 columns]"
      ]
     },
     "execution_count": 130,
     "metadata": {},
     "output_type": "execute_result"
    }
   ],
   "source": [
    "pd.set_option(\"display.max_colwidth\", 300)\n",
    "data[data['Emotion']=='Unknown']\n"
   ]
  },
  {
   "cell_type": "code",
   "execution_count": 131,
   "metadata": {},
   "outputs": [
    {
     "data": {
      "text/plain": [
       "Neutral     5375\n",
       "Positive    2970\n",
       "Negative     569\n",
       "Name: Emotion, dtype: int64"
      ]
     },
     "execution_count": 131,
     "metadata": {},
     "output_type": "execute_result"
    }
   ],
   "source": [
    "data = data[data['Emotion']!='Unknown']\n",
    "data['Emotion'].value_counts()"
   ]
  },
  {
   "cell_type": "code",
   "execution_count": 132,
   "metadata": {},
   "outputs": [],
   "source": [
    "# Create an instance of Regexptoenizer\n",
    "tokenizer = TweetTokenizer(\"(?u)\\w{3,}\",\n",
    "                          strip_handles=True)\n",
    "\n",
    "\n",
    "#Create a list of stop words\n",
    "stopwords_list = stopwords.words('english')\n",
    "\n",
    "#Create an instance of the PorterStemmer\n",
    "stemmer =PorterStemmer()\n"
   ]
  },
  {
   "cell_type": "code",
   "execution_count": 133,
   "metadata": {},
   "outputs": [],
   "source": [
    "def preprocess_text(text, tokenizer, stopwords_list, stemmer):\n",
    "    text = text.lower()\n",
    "    token = tokenizer.tokenize(text)\n",
    "    stop_words = [word for word in token if word not in stopwords_list]\n",
    "    punctuation_removed = [word for word in stop_words if word not in string.punctuation]\n",
    "    stemmed_stopwords = [stemmer.stem(word) for word in punctuation_removed]\n",
    "    return stemmed_stopwords"
   ]
  },
  {
   "cell_type": "code",
   "execution_count": 134,
   "metadata": {},
   "outputs": [
    {
     "data": {
      "text/html": [
       "<div>\n",
       "<style scoped>\n",
       "    .dataframe tbody tr th:only-of-type {\n",
       "        vertical-align: middle;\n",
       "    }\n",
       "\n",
       "    .dataframe tbody tr th {\n",
       "        vertical-align: top;\n",
       "    }\n",
       "\n",
       "    .dataframe thead th {\n",
       "        text-align: right;\n",
       "    }\n",
       "</style>\n",
       "<table border=\"1\" class=\"dataframe\">\n",
       "  <thead>\n",
       "    <tr style=\"text-align: right;\">\n",
       "      <th></th>\n",
       "      <th>Tweet</th>\n",
       "      <th>Product/Brand</th>\n",
       "      <th>Emotion</th>\n",
       "      <th>preprocessed_text</th>\n",
       "    </tr>\n",
       "  </thead>\n",
       "  <tbody>\n",
       "    <tr>\n",
       "      <th>0</th>\n",
       "      <td>.@wesley83 I have a 3G iPhone. After 3 hrs tweeting at #RISE_Austin, it was dead!  I need to upgrade. Plugin stations at #SXSW.</td>\n",
       "      <td>iPhone</td>\n",
       "      <td>Negative</td>\n",
       "      <td>[3g, iphon, 3, hr, tweet, #rise_austin, dead, need, upgrad, plugin, station, #sxsw]</td>\n",
       "    </tr>\n",
       "    <tr>\n",
       "      <th>1</th>\n",
       "      <td>@jessedee Know about @fludapp ? Awesome iPad/iPhone app that you'll likely appreciate for its design. Also, they're giving free Ts at #SXSW</td>\n",
       "      <td>iPad or iPhone App</td>\n",
       "      <td>Positive</td>\n",
       "      <td>[know, awesom, ipad, iphon, app, like, appreci, design, also, they'r, give, free, ts, #sxsw]</td>\n",
       "    </tr>\n",
       "    <tr>\n",
       "      <th>2</th>\n",
       "      <td>@swonderlin Can not wait for #iPad 2 also. They should sale them down at #SXSW.</td>\n",
       "      <td>iPad</td>\n",
       "      <td>Positive</td>\n",
       "      <td>[wait, #ipad, 2, also, sale, #sxsw]</td>\n",
       "    </tr>\n",
       "    <tr>\n",
       "      <th>3</th>\n",
       "      <td>@sxsw I hope this year's festival isn't as crashy as this year's iPhone app. #sxsw</td>\n",
       "      <td>iPad or iPhone App</td>\n",
       "      <td>Negative</td>\n",
       "      <td>[hope, year', festiv, crashi, year', iphon, app, #sxsw]</td>\n",
       "    </tr>\n",
       "    <tr>\n",
       "      <th>4</th>\n",
       "      <td>@sxtxstate great stuff on Fri #SXSW: Marissa Mayer (Google), Tim O'Reilly (tech books/conferences) &amp;amp; Matt Mullenweg (Wordpress)</td>\n",
       "      <td>Google</td>\n",
       "      <td>Positive</td>\n",
       "      <td>[great, stuff, fri, #sxsw, marissa, mayer, googl, tim, o'reilli, tech, book, confer, matt, mullenweg, wordpress]</td>\n",
       "    </tr>\n",
       "    <tr>\n",
       "      <th>...</th>\n",
       "      <td>...</td>\n",
       "      <td>...</td>\n",
       "      <td>...</td>\n",
       "      <td>...</td>\n",
       "    </tr>\n",
       "    <tr>\n",
       "      <th>9088</th>\n",
       "      <td>Ipad everywhere. #SXSW {link}</td>\n",
       "      <td>iPad</td>\n",
       "      <td>Positive</td>\n",
       "      <td>[ipad, everywher, #sxsw, link]</td>\n",
       "    </tr>\n",
       "    <tr>\n",
       "      <th>9089</th>\n",
       "      <td>Wave, buzz... RT @mention We interrupt your regularly scheduled #sxsw geek programming with big news {link}  #google #circles</td>\n",
       "      <td>Unknown Product</td>\n",
       "      <td>Neutral</td>\n",
       "      <td>[wave, buzz, ..., rt, interrupt, regularli, schedul, #sxsw, geek, program, big, news, link, #googl, #circl]</td>\n",
       "    </tr>\n",
       "    <tr>\n",
       "      <th>9090</th>\n",
       "      <td>Google's Zeiger, a physician never reported potential AE. Yet FDA relies on physicians. &amp;quot;We're operating w/out data.&amp;quot; #sxsw #health2dev</td>\n",
       "      <td>Unknown Product</td>\n",
       "      <td>Neutral</td>\n",
       "      <td>[google', zeiger, physician, never, report, potenti, ae, yet, fda, reli, physician, we'r, oper, w, data, #sxsw, #health2dev]</td>\n",
       "    </tr>\n",
       "    <tr>\n",
       "      <th>9091</th>\n",
       "      <td>Some Verizon iPhone customers complained their time fell back an hour this weekend.  Of course they were the New Yorkers who attended #SXSW.</td>\n",
       "      <td>Unknown Product</td>\n",
       "      <td>Neutral</td>\n",
       "      <td>[verizon, iphon, custom, complain, time, fell, back, hour, weekend, cours, new, yorker, attend, #sxsw]</td>\n",
       "    </tr>\n",
       "    <tr>\n",
       "      <th>9092</th>\n",
       "      <td>Ï¡Ïàü_ÊÎÒ£Áââ_£â_ÛâRT @mention Google Tests ÛÏCheck-in OffersÛ At #SXSW {link}</td>\n",
       "      <td>Unknown Product</td>\n",
       "      <td>Neutral</td>\n",
       "      <td>[, ï, ¡, , ïà, , ü_, , , ê, , , î, , , ò, , , £, , , á, , ââ, , , , , £, , , , , â_, , ûârt, googl, test, , ûïcheck-in, offer, , û, , #sxsw, link]</td>\n",
       "    </tr>\n",
       "  </tbody>\n",
       "</table>\n",
       "<p>8914 rows × 4 columns</p>\n",
       "</div>"
      ],
      "text/plain": [
       "                                                                                                                                                  Tweet  \\\n",
       "0                       .@wesley83 I have a 3G iPhone. After 3 hrs tweeting at #RISE_Austin, it was dead!  I need to upgrade. Plugin stations at #SXSW.   \n",
       "1           @jessedee Know about @fludapp ? Awesome iPad/iPhone app that you'll likely appreciate for its design. Also, they're giving free Ts at #SXSW   \n",
       "2                                                                       @swonderlin Can not wait for #iPad 2 also. They should sale them down at #SXSW.   \n",
       "3                                                                    @sxsw I hope this year's festival isn't as crashy as this year's iPhone app. #sxsw   \n",
       "4                   @sxtxstate great stuff on Fri #SXSW: Marissa Mayer (Google), Tim O'Reilly (tech books/conferences) &amp; Matt Mullenweg (Wordpress)   \n",
       "...                                                                                                                                                 ...   \n",
       "9088                                                                                                                      Ipad everywhere. #SXSW {link}   \n",
       "9089                      Wave, buzz... RT @mention We interrupt your regularly scheduled #sxsw geek programming with big news {link}  #google #circles   \n",
       "9090  Google's Zeiger, a physician never reported potential AE. Yet FDA relies on physicians. &quot;We're operating w/out data.&quot; #sxsw #health2dev   \n",
       "9091       Some Verizon iPhone customers complained their time fell back an hour this weekend.  Of course they were the New Yorkers who attended #SXSW.   \n",
       "9092                                           Ï¡Ïàü_ÊÎÒ£Áââ_£â_ÛâRT @mention Google Tests ÛÏCheck-in OffersÛ At #SXSW {link}   \n",
       "\n",
       "           Product/Brand   Emotion  \\\n",
       "0                 iPhone  Negative   \n",
       "1     iPad or iPhone App  Positive   \n",
       "2                   iPad  Positive   \n",
       "3     iPad or iPhone App  Negative   \n",
       "4                 Google  Positive   \n",
       "...                  ...       ...   \n",
       "9088                iPad  Positive   \n",
       "9089     Unknown Product   Neutral   \n",
       "9090     Unknown Product   Neutral   \n",
       "9091     Unknown Product   Neutral   \n",
       "9092     Unknown Product   Neutral   \n",
       "\n",
       "                                                                                                                                                                 preprocessed_text  \n",
       "0                                                                                              [3g, iphon, 3, hr, tweet, #rise_austin, dead, need, upgrad, plugin, station, #sxsw]  \n",
       "1                                                                                     [know, awesom, ipad, iphon, app, like, appreci, design, also, they'r, give, free, ts, #sxsw]  \n",
       "2                                                                                                                                              [wait, #ipad, 2, also, sale, #sxsw]  \n",
       "3                                                                                                                          [hope, year', festiv, crashi, year', iphon, app, #sxsw]  \n",
       "4                                                                 [great, stuff, fri, #sxsw, marissa, mayer, googl, tim, o'reilli, tech, book, confer, matt, mullenweg, wordpress]  \n",
       "...                                                                                                                                                                            ...  \n",
       "9088                                                                                                                                                [ipad, everywher, #sxsw, link]  \n",
       "9089                                                                   [wave, buzz, ..., rt, interrupt, regularli, schedul, #sxsw, geek, program, big, news, link, #googl, #circl]  \n",
       "9090                                                  [google', zeiger, physician, never, report, potenti, ae, yet, fda, reli, physician, we'r, oper, w, data, #sxsw, #health2dev]  \n",
       "9091                                                                        [verizon, iphon, custom, complain, time, fell, back, hour, weekend, cours, new, yorker, attend, #sxsw]  \n",
       "9092  [, ï, ¡, , ïà, , ü_, , , ê, , , î, , , ò, , , £, , , á, , ââ, , , , , £, , , , , â_, , ûârt, googl, test, , ûïcheck-in, offer, , û, , #sxsw, link]  \n",
       "\n",
       "[8914 rows x 4 columns]"
      ]
     },
     "execution_count": 134,
     "metadata": {},
     "output_type": "execute_result"
    }
   ],
   "source": [
    "text_data = data.Tweet.apply(lambda x: preprocess_text(x, tokenizer,stopwords_list,stemmer))\n",
    "text_data\n",
    "\n",
    "data[\"preprocessed_text\"] = text_data\n",
    "data"
   ]
  },
  {
   "attachments": {},
   "cell_type": "markdown",
   "metadata": {},
   "source": [
    "# Exploratory Data Analysis\n",
    "---"
   ]
  },
  {
   "cell_type": "code",

   "execution_count": 135,

   "execution_count": 22,

   "metadata": {},
   "outputs": [
    {
     "data": {
      "text/plain": [
       "Positive    2970\n",
       "Name: Emotion, dtype: int64"
      ]
     },

     "execution_count": 135,

     "execution_count": 22,

     "metadata": {},
     "output_type": "execute_result"
    }
   ],
   "source": [
    "# Sentiments -plot\n",
    "\n",
    "pos_sentiments = data[data['Emotion']=='Positive']\n",
    "#verifying that neutral and negative tweets have been removed\n",
    "pos_sentiments['Emotion'].value_counts()"
   ]
  },
  {
   "cell_type": "code",

   "execution_count": 136,

   "execution_count": 23,

   "metadata": {},
   "outputs": [
    {
     "data": {
      "text/plain": [
       "[]"
      ]
     },

     "execution_count": 136,

     "execution_count": 23,

     "metadata": {},
     "output_type": "execute_result"
    }
   ],
   "source": [
    "from nltk import FreqDist\n",
    "pos_tweets = pos_sentiments['preprocessed_text'].to_list()\n",
    "pos_tweets = FreqDist()\n",
    "pos_tweets.most_common(10)"
   ]
  },
  {
   "cell_type": "code",

   "execution_count": 137,

   "execution_count": 24,

   "metadata": {},
   "outputs": [
    {
     "data": {
      "text/plain": [
       "<AxesSubplot:xlabel='Emotion', ylabel='count'>"
      ]
     },

     "execution_count": 137,

     "execution_count": 24,

     "metadata": {},
     "output_type": "execute_result"
    },
    {
     "data": {
      "image/png": "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",
      "text/plain": [
       "<Figure size 864x432 with 1 Axes>"
      ]
     },
     "metadata": {
      "needs_background": "light"
     },
     "output_type": "display_data"
    }
   ],
   "source": [
    "plt.figure(figsize=(12,6))\n",
    "sns.countplot(x='Emotion',data=data)"
   ]
  },
  {
   "cell_type": "code",

   "execution_count": 138,

   "execution_count": 25,

   "metadata": {},
   "outputs": [],
   "source": [
    "# Filter the dataframe for positive, negative, and neutral emotions\n",
    "positive_tweets = data[data['Emotion'] == 'Positive']['preprocessed_text']\n",
    "negative_tweets = data[data['Emotion'] == 'Negative']['preprocessed_text']\n",
    "neutral_tweets = data[data['Emotion'] == 'Neutral']['preprocessed_text']\n",
    "\n",
    "# Concatenate all positive, negative, and neutral tweets into separate lists\n",
    "all_positive_tokens = [token for sublist in positive_tweets for token in sublist]\n",
    "all_negative_tokens = [token for sublist in negative_tweets for token in sublist]\n",
    "all_neutral_tokens = [token for sublist in neutral_tweets for token in sublist]\n",
    "\n",
    "# Create frequency distributions for positive, negative, and neutral tokens\n",
    "positive_freq_dist = FreqDist(all_positive_tokens)\n",
    "negative_freq_dist = FreqDist(all_negative_tokens)\n",
    "neutral_freq_dist = FreqDist(all_neutral_tokens)\n",
    "\n",
    "# Get the top 10 most common positive, negative, and neutral tokens and their frequencies\n",
    "top_positive_tokens = positive_freq_dist.most_common(10)\n",
    "top_negative_tokens = negative_freq_dist.most_common(10)\n",
    "top_neutral_tokens = neutral_freq_dist.most_common(10)\n",
    "\n",
    "tokens_positive, frequencies_positive = zip(*top_positive_tokens)\n",
    "tokens_negative, frequencies_negative = zip(*top_negative_tokens)\n",
    "tokens_neutral, frequencies_neutral = zip(*top_neutral_tokens)"
   ]
  },
  {
   "cell_type": "code",

   "execution_count": 139,

   "execution_count": 26,

   "metadata": {},
   "outputs": [
    {
     "data": {
      "image/png": "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",
      "text/plain": [
       "<Figure size 720x432 with 1 Axes>"
      ]
     },
     "metadata": {
      "needs_background": "light"
     },
     "output_type": "display_data"
    }
   ],
   "source": [
    "# Plot the frequency distribution of the most common tokens for positive emotion\n",
    "plt.figure(figsize=(10, 6))\n",
    "plt.bar(tokens_positive, frequencies_positive)\n",
    "plt.xlabel('Tokens')\n",
    "plt.ylabel('Frequency')\n",
    "plt.title('Frequency Distribution of Top 10 Tokens for Positive Emotion')\n",
    "plt.xticks(rotation=90)\n",
    "plt.show()"
   ]
  },
  {
   "cell_type": "code",

   "execution_count": 140,

   "execution_count": 27,

   "metadata": {},
   "outputs": [
    {
     "data": {
      "image/png": "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",
      "text/plain": [
       "<Figure size 720x432 with 1 Axes>"
      ]
     },
     "metadata": {
      "needs_background": "light"
     },
     "output_type": "display_data"
    }
   ],
   "source": [
    "# Plot the frequency distribution of the most common tokens for negative emotion\n",
    "plt.figure(figsize=(10, 6))\n",
    "plt.bar(tokens_negative, frequencies_negative)\n",
    "plt.xlabel('Tokens')\n",
    "plt.ylabel('Frequency')\n",
    "plt.title('Frequency Distribution of Top 10 Tokens for Negative Emotion')\n",
    "plt.xticks(rotation=90)\n",
    "plt.show()\n"
   ]
  },
  {
   "cell_type": "code",

   "execution_count": 141,

   "execution_count": 28,

   "metadata": {},
   "outputs": [
    {
     "data": {
      "image/png": "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",
      "text/plain": [
       "<Figure size 720x432 with 1 Axes>"
      ]
     },
     "metadata": {
      "needs_background": "light"
     },
     "output_type": "display_data"
    }
   ],
   "source": [
    "# Plot the frequency distribution of the most common tokens for neutral emotion\n",
    "plt.figure(figsize=(10, 6))\n",
    "plt.bar(tokens_neutral, frequencies_neutral)\n",
    "plt.xlabel('Tokens')\n",
    "plt.ylabel('Frequency')\n",
    "plt.title('Frequency Distribution of Top 10 Tokens for Neutral Emotion')\n",
    "plt.xticks(rotation=90)\n",
    "plt.show()"
   ]
  },
  {
   "cell_type": "code",

   "execution_count": 142,

   "execution_count": 29,

   "metadata": {
    "scrolled": true
   },
   "outputs": [
    {
     "data": {
      "image/png": "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",
      "text/plain": [
       "<Figure size 720x432 with 1 Axes>"
      ]
     },
     "metadata": {
      "needs_background": "light"
     },
     "output_type": "display_data"
    }
   ],
   "source": [
    "# Concatenate all preprocessed_text into a single list\n",
    "all_tokens = [token for sublist in data[\"preprocessed_text\"] for token in sublist]\n",
    "\n",
    "# Create a frequency distribution of tokens\n",
    "freq_dist = FreqDist(all_tokens)\n",
    "\n",
    "# Get the top 10 most common tokens and their frequencies\n",
    "top_tokens = freq_dist.most_common(10)\n",
    "tokens, frequencies = zip(*top_tokens)\n",
    "# Plot the frequency distribution in a bar graph\n",
    "plt.figure(figsize=(10, 6))\n",
    "plt.bar(tokens, frequencies)\n",
    "plt.xlabel('Tokens')\n",
    "plt.ylabel('Frequency')\n",
    "plt.title('Frequency Distribution of Top 10 Tokens in the entire dataset')\n",
    "plt.xticks(rotation=90)\n",
    "plt.show()"
   ]
  },
  {
   "attachments": {},
   "cell_type": "markdown",
   "metadata": {},
   "source": [
    "## <b> Feature Engineering </b>\n",
    "\n",
    "Groups Apple and Google products together. "
   ]
  },
  {
   "cell_type": "code",

   "execution_count": 143,

   "execution_count": 30,

   "metadata": {},
   "outputs": [
    {
     "data": {
      "text/html": [
       "<div>\n",
       "<style scoped>\n",
       "    .dataframe tbody tr th:only-of-type {\n",
       "        vertical-align: middle;\n",
       "    }\n",
       "\n",
       "    .dataframe tbody tr th {\n",
       "        vertical-align: top;\n",
       "    }\n",
       "\n",
       "    .dataframe thead th {\n",
       "        text-align: right;\n",
       "    }\n",
       "</style>\n",
       "<table border=\"1\" class=\"dataframe\">\n",
       "  <thead>\n",
       "    <tr style=\"text-align: right;\">\n",
       "      <th></th>\n",
       "      <th>Tweet</th>\n",
       "      <th>Product/Brand</th>\n",
       "      <th>Emotion</th>\n",
       "      <th>preprocessed_text</th>\n",
       "      <th>Brand</th>\n",
       "    </tr>\n",
       "  </thead>\n",
       "  <tbody>\n",
       "    <tr>\n",
       "      <th>0</th>\n",
       "      <td>.@wesley83 I have a 3G iPhone. After 3 hrs tweeting at #RISE_Austin, it was dead!  I need to upgrade. Plugin stations at #SXSW.</td>\n",
       "      <td>iPhone</td>\n",
       "      <td>Negative</td>\n",
       "      <td>[3g, iphon, 3, hr, tweet, #rise_austin, dead, need, upgrad, plugin, station, #sxsw]</td>\n",
       "      <td>Apple</td>\n",
       "    </tr>\n",
       "    <tr>\n",
       "      <th>1</th>\n",
       "      <td>@jessedee Know about @fludapp ? Awesome iPad/iPhone app that you'll likely appreciate for its design. Also, they're giving free Ts at #SXSW</td>\n",
       "      <td>iPad or iPhone App</td>\n",
       "      <td>Positive</td>\n",
       "      <td>[know, awesom, ipad, iphon, app, like, appreci, design, also, they'r, give, free, ts, #sxsw]</td>\n",
       "      <td>Apple</td>\n",
       "    </tr>\n",
       "    <tr>\n",
       "      <th>2</th>\n",
       "      <td>@swonderlin Can not wait for #iPad 2 also. They should sale them down at #SXSW.</td>\n",
       "      <td>iPad</td>\n",
       "      <td>Positive</td>\n",
       "      <td>[wait, #ipad, 2, also, sale, #sxsw]</td>\n",
       "      <td>Apple</td>\n",
       "    </tr>\n",
       "    <tr>\n",
       "      <th>3</th>\n",
       "      <td>@sxsw I hope this year's festival isn't as crashy as this year's iPhone app. #sxsw</td>\n",
       "      <td>iPad or iPhone App</td>\n",
       "      <td>Negative</td>\n",
       "      <td>[hope, year', festiv, crashi, year', iphon, app, #sxsw]</td>\n",
       "      <td>Apple</td>\n",
       "    </tr>\n",
       "    <tr>\n",
       "      <th>4</th>\n",
       "      <td>@sxtxstate great stuff on Fri #SXSW: Marissa Mayer (Google), Tim O'Reilly (tech books/conferences) &amp;amp; Matt Mullenweg (Wordpress)</td>\n",
       "      <td>Google</td>\n",
       "      <td>Positive</td>\n",
       "      <td>[great, stuff, fri, #sxsw, marissa, mayer, googl, tim, o'reilli, tech, book, confer, matt, mullenweg, wordpress]</td>\n",
       "      <td>Google</td>\n",
       "    </tr>\n",
       "  </tbody>\n",
       "</table>\n",
       "</div>"
      ],
      "text/plain": [
       "                                                                                                                                         Tweet  \\\n",
       "0              .@wesley83 I have a 3G iPhone. After 3 hrs tweeting at #RISE_Austin, it was dead!  I need to upgrade. Plugin stations at #SXSW.   \n",
       "1  @jessedee Know about @fludapp ? Awesome iPad/iPhone app that you'll likely appreciate for its design. Also, they're giving free Ts at #SXSW   \n",
       "2                                                              @swonderlin Can not wait for #iPad 2 also. They should sale them down at #SXSW.   \n",
       "3                                                           @sxsw I hope this year's festival isn't as crashy as this year's iPhone app. #sxsw   \n",
       "4          @sxtxstate great stuff on Fri #SXSW: Marissa Mayer (Google), Tim O'Reilly (tech books/conferences) &amp; Matt Mullenweg (Wordpress)   \n",
       "\n",
       "        Product/Brand   Emotion  \\\n",
       "0              iPhone  Negative   \n",
       "1  iPad or iPhone App  Positive   \n",
       "2                iPad  Positive   \n",
       "3  iPad or iPhone App  Negative   \n",
       "4              Google  Positive   \n",
       "\n",
       "                                                                                                  preprocessed_text  \\\n",
       "0                               [3g, iphon, 3, hr, tweet, #rise_austin, dead, need, upgrad, plugin, station, #sxsw]   \n",
       "1                      [know, awesom, ipad, iphon, app, like, appreci, design, also, they'r, give, free, ts, #sxsw]   \n",
       "2                                                                               [wait, #ipad, 2, also, sale, #sxsw]   \n",
       "3                                                           [hope, year', festiv, crashi, year', iphon, app, #sxsw]   \n",
       "4  [great, stuff, fri, #sxsw, marissa, mayer, googl, tim, o'reilli, tech, book, confer, matt, mullenweg, wordpress]   \n",
       "\n",
       "    Brand  \n",
       "0   Apple  \n",
       "1   Apple  \n",
       "2   Apple  \n",
       "3   Apple  \n",
       "4  Google  "
      ]
     },

     "execution_count": 143,

     "execution_count": 30,

     "metadata": {},
     "output_type": "execute_result"
    }
   ],
   "source": [
    "#mapping products to brands\n",
    "brand_dict={'iPhone': 'Apple', 'iPad or iPhone App': 'Apple', 'iPad': 'Apple', \n",
    "            'Google': 'Google', 'Unknown': 'Unknown',\n",
    "            'Android': 'Google', 'Apple': 'Apple', 'Android App': 'Google',\n",
    "            'Other Google product or service': 'Google',\n",
    "            'Other Apple product or service': 'Apple'}\n",
    "data['Brand'] = data['Product/Brand'].map(brand_dict)\n",
    "data['Brand'].unique()\n",
    "data.head()"
   ]
  },
  {
   "cell_type": "code",

   "execution_count": 144,

   "execution_count": 31,

   "metadata": {},
   "outputs": [
    {
     "data": {
      "image/png": "iVBORw0KGgoAAAANSUhEUgAAAfsAAAGDCAYAAAAs+rl+AAAAOXRFWHRTb2Z0d2FyZQBNYXRwbG90bGliIHZlcnNpb24zLjMuMSwgaHR0cHM6Ly9tYXRwbG90bGliLm9yZy/d3fzzAAAACXBIWXMAAAsTAAALEwEAmpwYAAAfAklEQVR4nO3de7xtZV3v8c8XUC4CCrEhZKObFEIgI9kiiOeIUUlaBzQ0SAVPKKWUWl7C6hwoI+1umqKUCpSApKKoiBKKHgrFDRFXSRKQLQhbwQQykO3v/DGeJZPFXGsvZM219nr4vF+v+ZpjPuMyf3OsNed3jmeMOUaqCkmS1K8NFrsASZI0WYa9JEmdM+wlSeqcYS9JUucMe0mSOmfYS5LUOcNeGpHkpCR/tEjPnSTvS3J7kosW4fmvT/IzC/2862sd0yXZP8nqxa7jh5WkkjxxsevQ4jDstV5rH/y3JHnUSNvLkpy/iGVNyjOAnwWWV9XeM03UQqeSvGHhSlt/JFmZ5OPtS9G3k1yV5PgkWy12bTNpXyLvSXJnkjuSXJzkmYtdlx4+DHstBRsBr17sIh6sJBs+yFkeD1xfVXetY7ojgNva/cNKkqcD5wP/DOxaVY8BDgTuBX5y8Sqbkz+tqs2BRwMnAB+e6X8kyUYLWpm6Z9hrKfgz4HVJHjN9RJIVbSt3o5G285O8rA2/NMk/J/mrthX41SRPb+03Jrk1yfTQ3CbJuW0L7HNJHj+y7F3buNuSXJPkhSPjTkpyQpKzk9wFPGtMvY9Nclab/9okL2/tRwJ/B+zbtv7+YNyKSLIZcAhwNLBzkpVj1sVRSW5KcnOS146MPy7JB5N8oL22S5KMDcgkGyQ5Jsl/JPlWkjOSbD3DtFu1Le01bWv740mWT/t7vKn9He5I8ukk24yMf0mSG9rz/N645xjxp8D7qurNVXULQFV9raqOrarzR2r//bbMW5OckuTRI8/3v5Jc2f4fzk/ypJFxT0nyr63Of2zrauxunfa3/FB73dcledU6aqfV+33gVGBrYLu2rNH/09uA45I8Icln2nr5ZpL3j74HMvR6vS7JZUn+s9W6ycj417f/gZuS/Oq02p+ToUfkjiRfT/K6udSupcuw11KwimFr7of9QHoacBnwIwwfsqcDTwWeCLwY+Jskm49M/yLgTcA2wKXA+wEy7Eo4ty1jW+Aw4J1Jdh+Z91eA44EtgAvG1HIasBp4LENo/3GSA6rqPcCvAxdW1eZVdewMr+WXgDuBfwQ+BRw+ZppnATsDPwcck/vv/z6ozbt1ex0fSfKIMct4FXAw8MxW6+3AO2aoaQPgfQw9E48Dvgv8zbRpfgX43wzr7ZG0v2WS3Ri2cl/SnudHgOWM0db/vsCHZqhjykvb7VnAjwGbT9WTZBeGv8FrgGXA2cDHkjwyySOBM4GTGNbPacDzZqhlA+BjwL8BOwAHAK9J8ux11DbV43M4cB1wy8iopwFfZVhHxwMB3sywXp4E7AgcN21xL2To2dgJeHJ73SQ5kGEd/yzD/8L0YyDeA/xaVW0B7AF8Zl11a4mrKm/e1tsbcD3DB9UewH8yfEC/DDi/jV8BFLDRyDznAy9rwy8FvjIy7ifa9NuNtH0L2LMNnwScPjJuc2AtwwftLwP/b1p97waOHZn3lFley45tWVuMtL0ZOGmk1gvWsT7+CXhrGz4MWAM8Ytq62HVk+j8F3tOGjwO+MDJuA+Bm4H+Mrus2fDVwwMi02wPfG13Ps9S4J3D7tL/H7488fiVwThv+v9PW96OAe6bqmLbc5TO8vm8Dd009B3Ae8MqRaX58qnbg/wBnTFsHXwf2B/5nG87I+AuAP2rD+wOr2/DTgK9Nq++NDL0O49bJScB/t1r/u91eNDL+pdOXN2YZBwP/Ou298eJp6+Jdbfi9wFtGxu3S1t0T2+OvAb8GbLmQ72dvi3dzy15LQlVdAXwcOOaHmH106+m7bXnT20a37G8ced47GfaPP5Zhy/Vprfv320m+zdAL8KPj5h3jscBtVXXHSNsNDFuG65RkR4at1fe3po8CmwDPnTbpaA03tOd9wLgaupNXTxs/5fHAmSOv82qGLyrbjalrsyTvbt3m3wE+Dzwm998f/Y2R4f/ivvX92Gk13cXw5Wuc24HvM3zxmJr+DTXstz+TIcynlnnDyHw3tHHbTR/X1sGNDH+DxwJfr6rRq4PN9Pd8PPDYaf8Lv8uY9TPiz1utmwIrgT9L8vMzPVeSbZOc3rrZvwP8A0Nv06g5rVfuvz5g6CF6DnBDhl1V+85Stzpg2GspORZ4OfcPx6mD2TYbaRsN3x/GjlMDrXt/a+Amhg/Pz1XVY0Zum1fVK0bmne0ykjcBWyfZYqTtcQxbk3PxEob37MeSfIOhy3cTHtiVv+PI8OPa8z5gXOuKXj5t/JQbgZ+f9lo3qapxtb6WYev5aVW1JcMWMgzd0Oty87SaNmPoyn+A9kXgi8Dz17HMmxjCeMrjGA7gu2X6uCRpz//1VssOrW3K6LocdSNw3bT1s0VVPWcdtVGDKxgOMhz9ojb9f+fNre3Jbb2+mLmtU5i2XhnWwWgNX6qqgxh2GXwEOGOOy9USZdhryaiqa4EPMOxPnmpbw/BB/eIkG7YDkZ7wEJ/qOUme0fbhvgn4YlXdyNCzsEs7oOwR7fbU0QO81lH/jcC/AG9OskmSJwNHct+W+rocDvwBQzf51O2XgOcmGQ3I/9O2tndn2E/+gZFxeyV5foYDGl8D3A18YcxzvQs4Pu3gxCTLkhw0Q11bMPSOfDvDQXwzHW8wzgeBXxhZ33/I7J9LbwB+NcPBg9u22pYz7LOechrwW0l2al/W/hj4QFXdyxBqz01yQDtW4bUM6+BfgAsZei9+I8lG7fXO9BPIi4DvJPmdJJu2/709kjx1Li86ya4MP7W8cpbJtmA4PuPbSXYAXj+XZTdnAC9Nslv7AvWDv0k7PuFFSR5dVd8DvsPwutUxw15LzR8y7Ncd9XKGD8JvAbszfHA/FKcyfDjeBuzF0FVP637/OeBQhi3EbwB/Amz8IJZ9GMO+9ZsYup6Prapz1zVTkn3afO+oqm+M3M4Crm3LnfK51nYeQ9fxp0fGfZTh2IPbGXoKnt8+8Kf7a+As4NNJ7mD4QvC0Gcp7K0PX9DfbdOes6/VMqaorGX5ZcCrD1ujtDLsWZpr+AuCnGXoP/r11n5/DcFzA29tk7wX+nmF3wnUM+8d/s81/DcMW8ttbvb8I/GJV3VNV9zD0GhzJsG/9xQxf8O4eU8faNu+e7Tm+yfBrikdPn3bEGzL80uIu4NMMBzW+e5bp/wB4CsOxKp8APjzLtNPr+yTD3+UzDP8L0w/Aewlwfds98OsMr1Udy/13T0laqpKsYAieR7St2Onjj2M4QMsP9jlK8kWGg97et9i1SA+FW/aS1CR5ZpIfbd34RzD8nG3OPRXS+sqzNEnSfX6cYX/35sB/AIdU1c2LW5L00NmNL0lS5ybWjZ9kxySfTXJ1hlNTvrq1H9d+N3ppuz1nZJ43ZjiF6DWjZ6JKsleSy9u4t037aYwkSZrFxLbsk2wPbF9Vl7TfFV/McAaoFwJ3VtWfT5t+N4afzOzNcEKIfwJ2qaq1GS73+WqGI33PBt7WjjaVJEnrMLF99m0/181t+I4kVzP7mcIOYjht5t3AdUmuBfZOcj3DKR0vBEhyCsOXhlnDfptttqkVK1Y81JchSdKScPHFF3+zqpaNG7cgB+i1nwT9FMPZr/ZjOGnF4QwXOHltVd3O8EVg9OQeq1vb97j/726n2me1YsUKVq1aNS/1S5K0vksy/bTIPzDxn961M1h9CHhNVX2H4QpXT2A4GcXNwF9MTTpm9pqlfdxzHZVkVZJVa9aseailS5LUhYmGfTsd5YeA91fVh2G4AElVrW0XoPhb7jsd5Wrufy7nqXN2r+b+l7yc6VzeVNWJVbWyqlYuWza2J0OSpIedSR6NH4ZrJl9dVX850r79yGTPA65ow2cBhybZOMlODNdgvqjt+78jyT5tmYcznPJTkiTNwST32e/HcP7ly5Nc2tp+FzgsyZ4MXfHXM1xTmaq6MskZwFUMV6g6up1/GuAVDNeD3pThwDyPxJckaY66PanOypUrywP0JEkPF0kurqqV48Z5bnxJkjpn2EuS1DnDXpKkzhn2kiR1zrCXJKlzhr0kSZ0z7CVJ6pxhL0lS5xbkqnc9WHHMJxa7BGneXP+W5y52CZIWkFv2kiR1zrCXJKlzhr0kSZ0z7CVJ6pxhL0lS5wx7SZI6Z9hLktQ5w16SpM4Z9pIkdc6wlySpc4a9JEmdM+wlSeqcYS9JUucMe0mSOmfYS5LUOcNekqTOGfaSJHXOsJckqXOGvSRJnTPsJUnqnGEvSVLnDHtJkjpn2EuS1DnDXpKkzhn2kiR1zrCXJKlzhr0kSZ0z7CVJ6pxhL0lS5wx7SZI6Z9hLktQ5w16SpM4Z9pIkdc6wlySpc4a9JEmdM+wlSeqcYS9JUucMe0mSOmfYS5LUOcNekqTOGfaSJHXOsJckqXOGvSRJnTPsJUnqnGEvSVLnDHtJkjpn2EuS1LmJhX2SHZN8NsnVSa5M8urWvnWSc5N8pd1vNTLPG5Ncm+SaJM8ead8ryeVt3NuSZFJ1S5LUm0lu2d8LvLaqngTsAxydZDfgGOC8qtoZOK89po07FNgdOBB4Z5IN27JOAI4Cdm63AydYtyRJXZlY2FfVzVV1SRu+A7ga2AE4CDi5TXYycHAbPgg4varurqrrgGuBvZNsD2xZVRdWVQGnjMwjSZLWYUH22SdZAfwU8EVgu6q6GYYvBMC2bbIdgBtHZlvd2nZow9PbJUnSHEw87JNsDnwIeE1VfWe2Sce01Szt457rqCSrkqxas2bNgy9WkqQOTTTskzyCIejfX1Ufbs23tK552v2trX01sOPI7MuBm1r78jHtD1BVJ1bVyqpauWzZsvl7IZIkLWGTPBo/wHuAq6vqL0dGnQUc0YaPAD460n5oko2T7MRwIN5Frav/jiT7tGUePjKPJElah40muOz9gJcAlye5tLX9LvAW4IwkRwJfA14AUFVXJjkDuIrhSP6jq2ptm+8VwEnApsAn202SJM3BxMK+qi5g/P52gANmmOd44Pgx7auAPeavOkmSHj48g54kSZ0z7CVJ6pxhL0lS5wx7SZI6Z9hLktQ5w16SpM4Z9pIkdc6wlySpc4a9JEmdM+wlSeqcYS9JUucMe0mSOmfYS5LUOcNekqTOGfaSJHXOsJckqXOGvSRJnTPsJUnqnGEvSVLnDHtJkjpn2EuS1DnDXpKkzhn2kiR1zrCXJKlzhr0kSZ0z7CVJ6pxhL0lS5wx7SZI6Z9hLktQ5w16SpM4Z9pIkdc6wlySpc4a9JEmdM+wlSeqcYS9JUucMe0mSOmfYS5LUOcNekqTOGfaSJHXOsJckqXOGvSRJnTPsJUnqnGEvSVLnDHtJkjpn2EuS1DnDXpKkzhn2kiR1zrCXJKlzhr0kSZ0z7CVJ6pxhL0lS5wx7SZI6Z9hLktQ5w16SpM4Z9pIkdc6wlySpcxML+yTvTXJrkitG2o5L8vUkl7bbc0bGvTHJtUmuSfLskfa9klzexr0tSSZVsyRJPZrklv1JwIFj2v+qqvZst7MBkuwGHArs3uZ5Z5IN2/QnAEcBO7fbuGVKkqQZTCzsq+rzwG1znPwg4PSquruqrgOuBfZOsj2wZVVdWFUFnAIcPJGCJUnq1GLss/+NJJe1bv6tWtsOwI0j06xubTu04entYyU5KsmqJKvWrFkz33VLkrQkLXTYnwA8AdgTuBn4i9Y+bj98zdI+VlWdWFUrq2rlsmXLHmKpkiT1YUHDvqpuqaq1VfV94G+Bvduo1cCOI5MuB25q7cvHtEuSpDla0LBv++CnPA+YOlL/LODQJBsn2YnhQLyLqupm4I4k+7Sj8A8HPrqQNUuStNRtNKkFJzkN2B/YJslq4Fhg/yR7MnTFXw/8GkBVXZnkDOAq4F7g6Kpa2xb1CoYj+zcFPtlukiRpjiYW9lV12Jjm98wy/fHA8WPaVwF7zGNpkiQ9rHgGPUmSOmfYS5LUOcNekqTOGfaSJHXOsJckqXOGvSRJnTPsJUnqnGEvSVLnDHtJkjpn2EuS1DnDXpKkzhn2kiR1zrCXJKlzcwr7JPvNpU2SJK1/5rpl//Y5tkmSpPXMrNezT7Iv8HRgWZLfHhm1JbDhJAuTJEnzY9awBx4JbN6m22Kk/TvAIZMqSpIkzZ9Zw76qPgd8LslJVXXDAtUkSZLm0bq27KdsnOREYMXoPFX105MoSpIkzZ+5hv0/Au8C/g5YO7lyJEnSfJtr2N9bVSdMtBJJkjQRc/3p3ceSvDLJ9km2nrpNtDJJkjQv5rplf0S7f/1IWwE/Nr/lSJKk+TansK+qnSZdiCRJmow5hX2Sw8e1V9Up81uOJEmab3Ptxn/qyPAmwAHAJYBhL0nSem6u3fi/Ofo4yaOBv59IRZIkaV79sJe4/S9g5/ksRJIkTcZc99l/jOHoexgugPMk4IxJFSVJkubPXPfZ//nI8L3ADVW1egL1SJKkeTanbvx2QZwvM1z5bivgnkkWJUmS5s+cwj7JC4GLgBcALwS+mMRL3EqStATMtRv/94CnVtWtAEmWAf8EfHBShUmSpPkx16PxN5gK+uZbD2JeSZK0iOa6ZX9Okk8Bp7XHvwycPZmSJEnSfJo17JM8Ediuql6f5PnAM4AAFwLvX4D6JEnSQ7Survi3AncAVNWHq+q3q+q3GLbq3zrZ0iRJ0nxYV9ivqKrLpjdW1SpgxUQqkiRJ82pdYb/JLOM2nc9CJEnSZKwr7L+U5OXTG5McCVw8mZIkSdJ8WtfR+K8BzkzyIu4L95XAI4HnTbAuSZI0T2YN+6q6BXh6kmcBe7TmT1TVZyZemSRJmhdzvZ79Z4HPTrgWSZI0AZ4FT5Kkzhn2kiR1zrCXJKlzhr0kSZ0z7CVJ6pxhL0lS5wx7SZI6Z9hLktQ5w16SpM4Z9pIkdc6wlySpc4a9JEmdM+wlSercxMI+yXuT3JrkipG2rZOcm+Qr7X6rkXFvTHJtkmuSPHukfa8kl7dxb0uSSdUsSVKPJrllfxJw4LS2Y4Dzqmpn4Lz2mCS7AYcCu7d53plkwzbPCcBRwM7tNn2ZkiRpFhML+6r6PHDbtOaDgJPb8MnAwSPtp1fV3VV1HXAtsHeS7YEtq+rCqirglJF5JEnSHCz0PvvtqupmgHa/bWvfAbhxZLrVrW2HNjy9fawkRyVZlWTVmjVr5rVwSZKWqvXlAL1x++FrlvaxqurEqlpZVSuXLVs2b8VJkrSULXTY39K65mn3t7b21cCOI9MtB25q7cvHtEuSpDla6LA/CziiDR8BfHSk/dAkGyfZieFAvItaV/8dSfZpR+EfPjKPJEmag40mteAkpwH7A9skWQ0cC7wFOCPJkcDXgBcAVNWVSc4ArgLuBY6uqrVtUa9gOLJ/U+CT7SZJkuZoYmFfVYfNMOqAGaY/Hjh+TPsqYI95LE2SpIeV9eUAPUmSNCGGvSRJnTPsJUnqnGEvSVLnDHtJkjpn2EuS1DnDXpKkzhn2kiR1zrCXJKlzhr0kSZ2b2OlyJWk+rTjmE4tdgjSvrn/LcxfsudyylySpc4a9JEmdM+wlSeqcYS9JUucMe0mSOmfYS5LUOcNekqTOGfaSJHXOsJckqXOGvSRJnTPsJUnqnGEvSVLnDHtJkjpn2EuS1DnDXpKkzhn2kiR1zrCXJKlzhr0kSZ0z7CVJ6pxhL0lS5wx7SZI6Z9hLktQ5w16SpM4Z9pIkdc6wlySpc4a9JEmdM+wlSeqcYS9JUucMe0mSOmfYS5LUOcNekqTOGfaSJHXOsJckqXOGvSRJnTPsJUnqnGEvSVLnDHtJkjpn2EuS1DnDXpKkzhn2kiR1zrCXJKlzhr0kSZ0z7CVJ6pxhL0lS5wx7SZI6tyhhn+T6JJcnuTTJqta2dZJzk3yl3W81Mv0bk1yb5Jokz16MmiVJWqoWc8v+WVW1Z1WtbI+PAc6rqp2B89pjkuwGHArsDhwIvDPJhotRsCRJS9H61I1/EHByGz4ZOHik/fSquruqrgOuBfZe+PIkSVqaFivsC/h0kouTHNXatquqmwHa/batfQfgxpF5V7e2B0hyVJJVSVatWbNmQqVLkrS0bLRIz7tfVd2UZFvg3CRfnmXajGmrcRNW1YnAiQArV64cO40kSQ83i7JlX1U3tftbgTMZuuVvSbI9QLu/tU2+GthxZPblwE0LV60kSUvbgod9kkcl2WJqGPg54ArgLOCINtkRwEfb8FnAoUk2TrITsDNw0cJWLUnS0rUY3fjbAWcmmXr+U6vqnCRfAs5IciTwNeAFAFV1ZZIzgKuAe4Gjq2rtItQtSdKStOBhX1VfBX5yTPu3gANmmOd44PgJlyZJUpfWp5/eSZKkCTDsJUnqnGEvSVLnDHtJkjpn2EuS1DnDXpKkzhn2kiR1zrCXJKlzhr0kSZ0z7CVJ6pxhL0lS5wx7SZI6Z9hLktQ5w16SpM4Z9pIkdc6wlySpc4a9JEmdM+wlSeqcYS9JUucMe0mSOmfYS5LUOcNekqTOGfaSJHXOsJckqXOGvSRJnTPsJUnqnGEvSVLnDHtJkjpn2EuS1DnDXpKkzhn2kiR1zrCXJKlzhr0kSZ0z7CVJ6pxhL0lS5wx7SZI6Z9hLktQ5w16SpM4Z9pIkdc6wlySpc4a9JEmdM+wlSeqcYS9JUucMe0mSOmfYS5LUOcNekqTOGfaSJHXOsJckqXOGvSRJnTPsJUnqnGEvSVLnDHtJkjpn2EuS1DnDXpKkzhn2kiR1bsmEfZIDk1yT5Nokxyx2PZIkLRVLIuyTbAi8A/h5YDfgsCS7LW5VkiQtDUsi7IG9gWur6qtVdQ9wOnDQItckSdKSsFTCfgfgxpHHq1ubJElah40Wu4A5ypi2esBEyVHAUe3hnUmumWhVmoRtgG8udhG9y58sdgVaz/k+XAATeB8+fqYRSyXsVwM7jjxeDtw0faKqOhE4caGK0vxLsqqqVi52HdLDme/D/iyVbvwvATsn2SnJI4FDgbMWuSZJkpaEJbFlX1X3JvkN4FPAhsB7q+rKRS5LkqQlYUmEPUBVnQ2cvdh1aOLcDSMtPt+HnUnVA45zkyRJHVkq++wlSdIPybDXRCV5XpJKsutDWMZJSQ6Zz7qkniXZLsmpSb6a5OIkFyZ53jw/x/VJtpnPZWpyDHtN2mHABQy/oJA0YUkCfAT4fFX9WFXtxfD+W76ohWlRGfaamCSbA/sBR9LCPsn+ST6f5MwkVyV5V5IN2rg7k/xFkkuSnJdk2Zhl7pXkc21r5VNJtl/QFyWt/34auKeq3jXVUFU3VNXbk2yS5H1JLk/yr0meBTBL+2ZJzkhyWZIPJPlikgf8/j7Ji5NclOTSJO9u1zPResSw1yQdDJxTVf8O3JbkKa19b+C1wE8ATwCe39ofBVxSVU8BPgccO7qwJI8A3g4c0rZW3gscP+kXIS0xuwOXzDDuaICq+gmGXreTk2wyS/srgdur6snAm4C9pi8wyZOAXwb2q6o9gbXAi+bzBemhWzI/vdOSdBjw1jZ8env8CeCiqvoqQJLTgGcAHwS+D3ygTf8PwIenLe/HgT2Ac4eeSjYEbp5c+dLSl+QdDO+xexjORvp2gKr6cpIbgF3a+Jna/7q1X5HksjFPcQDDl4AvtfflpsCtk3xNevAMe01Ekh9h6E7cI0kxBHMxnCth+u89Z/r95/T2AFdW1b7zWavUmSuBX5p6UFVHtwPpVgFfn2Gecdcfma19+jQnV9UbH1SVWlB242tSDgFOqarHV9WKqtoRuI5hS2HvdurjDRi6/y5o82zQ5gP4lZH2KdcAy5LsC0O3fpLdJ/1CpCXmM8AmSV4x0rZZu/88rYs9yS7A4xjeVzO1XwC8sLXvxrDrbbrzgEOSbNum2zrJjBdk0eIw7DUphwFnTmv7EEOIXwi8BbiC4QvA1HR3AbsnuZihV+APR2euqnsYvgz8SZJ/Ay4Fnj6h+qUlqYYzpR0MPDPJdUkuAk4Gfgd4J7BhkssZdpm9tKruXkf7stZ9/zvAZcB/Tnu+q4DfBz7dpjsX8MDZ9Yxn0NOCSrI/8Lqq+oUx4+6sqs0XvChJY7Wj6h9RVf+d5AkMW/G7tC/eWkLcZy9JmslmwGfbL2ECvMKgX5rcspckqXPus5ckqXOGvSRJnTPsJUnqnGEvaawka9u5zv+tXa9gYj9zTHLnpJYtyaPxJc3su+1c5yR5NvBm4JmjEyTZsKrWLkJtkh4Et+wlzcWWwO3wgysXfjbJqcDlre0j7UqEVyY5amqmdiXD41vvwBeSbNfad2rXWP9SkjctxguSHk4Me0kz2bR1438Z+DuGq55N2Rv4vararT3+1XYlwpXAq9q1EWC4kuEXquonGU7J+vLW/tfACVX1VOAbk34h0sOdYS9pJt+tqj2ralfgQOCUtMuaMVy58LqRaV/VTmH8BWBHYOfWfg/w8TZ8MbCiDe8HnNaG/35C9Utq3GcvaZ2q6sJ25bRlremuqXHtFMg/A+xbVf+V5Hxgkzb6e3XfmbvWcv/PHM/oJS0Qt+wlrVOSXRkuU/ytMaMfDdzegn5XYJ85LPKfgUPb8Ivmp0pJM3HLXtJMNk1yaRsOcERVrb2vJ/8HzgF+vV3x7BqGrvx1eTVwapJXM1wNUdIEeW58SZI6Zze+JEmdM+wlSeqcYS9JUucMe0mSOmfYS5LUOcNekqTOGfaSJHXOsJckqXP/H4xd/GhQauqMAAAAAElFTkSuQmCC",
      "text/plain": [
       "<Figure size 576x432 with 1 Axes>"
      ]
     },
     "metadata": {
      "needs_background": "light"
     },
     "output_type": "display_data"
    }
   ],
   "source": [
    "# Counts the number of Apple and Google brands\n",
    "apple_count = data[data['Brand'] == 'Apple'].shape[0]\n",
    "google_count = data[data['Brand'] == 'Google'].shape[0]\n",
    "\n",
    "# Creates a bar graph of the brand counts\n",
    "brands = ['Apple', 'Google']\n",
    "counts = [apple_count, google_count]\n",
    "\n",
    "plt.figure(figsize=(8, 6))\n",
    "plt.bar(brands, counts)\n",
    "plt.xlabel('Brand')\n",
    "plt.ylabel('Count')\n",
    "plt.title('Number of Apple and Google Brands')\n",
    "plt.show()"
   ]
  },
  {
   "cell_type": "code",

   "execution_count": 145,

   "execution_count": 32,

   "metadata": {},
   "outputs": [
    {
     "data": {
      "text/plain": [
       "<AxesSubplot:xlabel='Brand', ylabel='count'>"
      ]
     },

     "execution_count": 145,

     "execution_count": 32,

     "metadata": {},
     "output_type": "execute_result"
    },
    {
     "data": {
      "image/png": "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",
      "text/plain": [
       "<Figure size 432x288 with 1 Axes>"
      ]
     },
     "metadata": {
      "needs_background": "light"
     },
     "output_type": "display_data"
    }
   ],
   "source": [
    "sns.countplot(data=data, x=\"Brand\", hue=\"Emotion\")"
   ]
  },
  {
   "cell_type": "code",

   "execution_count": 146,

   "execution_count": 33,

   "metadata": {},
   "outputs": [
    {
     "data": {
      "text/plain": [
       "[(('ipad', '2'), 0.010138056191625415),\n",
       " (('link', '#sxsw'), 0.008104744078216005),\n",
       " (('#sxsw', 'link'), 0.007629671154522219),\n",
       " (('#sxsw', 'rt'), 0.006175948008019231),\n",
       " (('appl', 'store'), 0.005140289034366775),\n",
       " (('link', 'rt'), 0.0050832802835235205),\n",
       " (('social', 'network'), 0.004266154854770207),\n",
       " (('new', 'social'), 0.003829087764971923),\n",
       " (('googl', 'launch'), 0.003259000256539379),\n",
       " (('network', 'call'), 0.002964455043849231),\n",
       " (('call', 'circl'), 0.0028694404591104736),\n",
       " (('rt', 'googl'), 0.0027649244158978402),\n",
       " (('appl', 'open'), 0.002736420040476213),\n",
       " (('major', 'new'), 0.0027174171235284615),\n",
       " (('#sxsw', 'appl'), 0.002641405455737456),\n",
       " (('launch', 'major'), 0.002641405455737456),\n",
       " (('store', '#sxsw'), 0.00256539378794645),\n",
       " (('pop-up', 'store'), 0.002441874827786065),\n",
       " (('austin', '#sxsw'), 0.0024133704523644378),\n",
       " (('link', 'via'), 0.002375364618468935),\n",
       " (('today', 'link'), 0.002365863159995059),\n",
       " (('#sxsw', 'ipad'), 0.0022233412828869233),\n",
       " (('iphon', 'app'), 0.0022138398244130474),\n",
       " (('possibl', 'today'), 0.002194836907465296),\n",
       " (('#sxsw', 'googl'), 0.0021663325320436687),\n",
       " (('circl', 'possibl'), 0.0020998223227265385),\n",
       " (('rt', 'rt'), 0.0018527844024057692),\n",
       " (('temporari', 'store'), 0.001824280026984142),\n",
       " (('#sxsw', '#sxswi'), 0.001748268359193136),\n",
       " (('store', 'austin'), 0.0017292654422453846),\n",
       " (('downtown', 'austin'), 0.0017007610668237575),\n",
       " (('googl', 'map'), 0.0016912596083498816),\n",
       " (('store', 'downtown'), 0.001643752315980503),\n",
       " (('\\x89', 'ûï'), 0.0016342508575066272),\n",
       " (('\\x89', 'û'), 0.0015772421066633728),\n",
       " (('rt', '#sxsw'), 0.0015487377312417457),\n",
       " (('marissa', 'mayer'), 0.0015202333558201183),\n",
       " (('googl', 'circl'), 0.0014727260634507396),\n",
       " (('open', 'temporari'), 0.001463224604976864),\n",
       " (('2', 'launch'), 0.0014347202295552368),\n",
       " (('ipad', 'app'), 0.0014157173126074852),\n",
       " (('rt', 'appl'), 0.0014062158541336095),\n",
       " (('û', '\\x9d'), 0.0014062158541336095),\n",
       " (('2', '#sxsw'), 0.001282696893973225),\n",
       " (('sxsw', 'link'), 0.0012256881431299705),\n",
       " (('open', 'pop-up'), 0.0012066852261822189),\n",
       " (('new', 'ipad'), 0.0011876823092344675),\n",
       " (('...', 'link'), 0.0011781808507605918),\n",
       " (('#sxsw', '\\x89'), 0.0010736648075479586),\n",
       " (('launch', 'link'), 0.0010736648075479586)]"
      ]
     },

     "execution_count": 146,

     "execution_count": 33,

     "metadata": {},
     "output_type": "execute_result"
    }
   ],
   "source": [
    "bigram_measures = BigramAssocMeasures()\n",
    "\n",
    "# Flatten the list of lists into a single list\n",
    "word_list = list(itertools.chain.from_iterable(data['preprocessed_text']))\n",
    "\n",
    "tweet_finder = BigramCollocationFinder.from_words(word_list)\n",
    "tweet_scored = tweet_finder.score_ngrams(bigram_measures.raw_freq)\n",
    "tweet_scored[:50]\n"
   ]
  },
  {
   "attachments": {},
   "cell_type": "markdown",
   "metadata": {},
   "source": [
    "### Reviewing user sentiments on specific products and brands"
   ]
  },
  {
   "attachments": {},
   "cell_type": "markdown",
   "metadata": {},
   "source": [
    "A function that takes in a specific Product and analyzes sentiments"
   ]
  },
  {
   "cell_type": "code",

   "execution_count": 147,

   "execution_count": 34,

   "metadata": {},
   "outputs": [],
   "source": [
    "\n",
    "def analyze_sentiments_product(data, brand, emotion, top_n):\n",
    "    # Filter the dataset for the specified brand and emotion\n",
    "    brand_data = data[(data['Product/Brand'] == brand) & (data['Emotion'] == emotion)]\n",
    "\n",
    "    # Concatenate all preprocessed text into a single list\n",
    "    brand_tokens = [token for sublist in brand_data['preprocessed_text'] for token in sublist]\n",
    "\n",
    "    # Create a frequency distribution of tokens\n",
    "    brand_freq_dist = FreqDist(brand_tokens)\n",
    "\n",
    "    # Get the most common tokens\n",
    "    top_tokens = brand_freq_dist.most_common(top_n)\n",
    "\n",
    "    # Extract the tokens and frequencies\n",
    "    tokens, frequencies = zip(*top_tokens)\n",
    "\n",
    "    # Plot the frequency distribution\n",
    "    plt.figure(figsize=(10, 6))\n",
    "    plt.bar(tokens, frequencies)\n",
    "    plt.xlabel('Tokens')\n",
    "    plt.ylabel('Frequency')\n",
    "    plt.title(f'Top {top_n} {emotion.capitalize()} {brand} {\"\" if top_n == 1 else \"s\"}')\n",
    "    plt.xticks(rotation=90)\n",
    "    plt.show()\n"
   ]
  },
  {
   "attachments": {},
   "cell_type": "markdown",
   "metadata": {},
   "source": [
    "A function that takes the Brand as an argument and analyzes the sentiments"
   ]
  },
  {
   "cell_type": "code",
   "execution_count": 148,
   "metadata": {},
   "outputs": [],
   "source": [
    "\n",
    "def analyze_sentiments(data, brand, emotion, top_n):\n",
    "    # Filter the dataset for the specified brand and emotion\n",
    "    brand_data = data[(data['Brand'] == brand) & (data['Emotion'] == emotion)]\n",
    "\n",
    "    # Concatenate all preprocessed text into a single list\n",
    "    brand_tokens = [token for sublist in brand_data['preprocessed_text'] for token in sublist]\n",
    "\n",
    "    # Create a frequency distribution of tokens\n",
    "    brand_freq_dist = FreqDist(brand_tokens)\n",
    "\n",
    "    # Get the most common tokens\n",
    "    top_tokens = brand_freq_dist.most_common(top_n)\n",
    "\n",
    "    # Extract the tokens and frequencies\n",
    "    tokens, frequencies = zip(*top_tokens)\n",
    "\n",
    "    # Plot the frequency distribution\n",
    "    plt.figure(figsize=(10, 6))\n",
    "    plt.bar(tokens, frequencies)\n",
    "    plt.xlabel('Tokens')\n",
    "    plt.ylabel('Frequency')\n",
    "    plt.title(f'Top {top_n} {emotion.capitalize()} {brand} {\"\" if top_n == 1 else \"s\"}')\n",
    "    plt.xticks(rotation=90)\n",
    "    plt.show()"
   ]
  },
  {
   "attachments": {},
   "cell_type": "markdown",
   "metadata": {},
   "source": [
    "Sentiments on the Apple Brand"
   ]
  },
  {
   "attachments": {},
   "cell_type": "markdown",
   "metadata": {},
   "source": [
    "Complaints"
   ]
  },
  {
   "cell_type": "code",

   "execution_count": 149,

   "execution_count": 35,

   "metadata": {},
   "outputs": [
    {
     "data": {

      "image/png": "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",
      "text/plain": [
       "<Figure size 720x432 with 1 Axes>"
      ]
     },
     "metadata": {
      "needs_background": "light"
     },
     "output_type": "display_data"
    }
   ],
   "source": [
    "analyze_sentiments(data, \"Apple\", \"Negative\", 20)"
   ]
  },
  {
   "attachments": {},
   "cell_type": "markdown",
   "metadata": {},
   "source": [
    "Noteworthy words used in apple product complaints are:\n",
    "* iPhone\n",
    "* design\n"
   ]
  },
  {
   "attachments": {},
   "cell_type": "markdown",
   "metadata": {},
   "source": [
    "Praises"
   ]
  },
  {
   "cell_type": "code",
   "execution_count": 150,
   "metadata": {},
   "outputs": [
    {
     "data": {
      "image/png": "iVBORw0KGgoAAAANSUhEUgAAAmoAAAGdCAYAAACirV9DAAAAOXRFWHRTb2Z0d2FyZQBNYXRwbG90bGliIHZlcnNpb24zLjMuMSwgaHR0cHM6Ly9tYXRwbG90bGliLm9yZy/d3fzzAAAACXBIWXMAAAsTAAALEwEAmpwYAAA3yElEQVR4nO3de9yt9Zz/8ddbJZKc2kinHRLVKNol48wgcj7WkMYpTH7DMDPKMMVMNI6DGYcMEkKEMjEklEOpnaKTRiVspXKacphSfX5/fK9bq7t7733vdbjXtff9ej4e63Gv9V3X9V2fdR/W/bm+x1QVkiRJ6p+bTTsASZIkzc1ETZIkqadM1CRJknrKRE2SJKmnTNQkSZJ6ykRNkiSpp0zUJGklkjwoyfmreH6rJL9Nst5CxjWqJBcn+YtpxyFp9UzUJK1Ul4TM3K5P8oeBx88a02u8JckPk1yV5AdJnjPr+Uryu4HX/c9V1HV4kmu6436V5Pgk9xw2tqr6RlVtN1D/jRKcqvpJVW1cVdcN+xqrkuSh3fv/h0nUL6n/TNQkrVSXhGxcVRsDPwEeP1D2sTG9zO+AxwO3AfYF3pHkz2cds9PA675gNfW9qYt3C+By4PAxxTkN+wK/6r5KWoRM1CStsSQbJvm3JJd0t39LsmH33EOTrEjy6iS/6FqhVtr6VlUHVdUPqur6qvoO8A3g/qPGWFW/B44EduziuleSryf5TZJzkjxh4P08Nsm5Xavez5L83eB76e5/BNgK+HzXYvcPSZZ2LV7rJ9kryfJZ36e/TXLswPfsLUl+kuSyJO9NcsuVxZ9kI+BpwP7AtkmWDTw387r7dd//S5O8cuD5g5N8Osknu/f03SQ7reR1bpbkgCQXJvllkqOS3H4lx26a5L+67+Gvknwjif9HpAnyD0zSMP4R2B3YGdgJ2A14zcDzdwY2BTantQYdlmQ7VqNLXHYFzpn11ElJfp7kM0mWzifAJBsDzwLOSLIB8Hngy8Adgf8HfGwgpg8AL6qqW9MSu6/Orq+q9uHGrYpvmnXIscB2SbYdKPtLWrII8K/APWjfs7vTvjf/tIq38FTgt8CngC8Bz5njmIcB2wKPAg6YNe7sid25t+9i+Fz3fZjtb4AnAQ8B7gL8GviPlcT0SmAFsAS4E/BqwH0IpQkyUZM0jGcBr6+qy6vqCuB1wD6zjnltVV1dVScCxwHPmEe97wW+R0tMZjwEWArcE7gE+K8k66+ijr9L8hvgAmBj4K9oSeXGwKFVdU1VfRX4L2Dv7pw/Atsn2aSqfl1V351HrDfSteAdM1Nnl7DdEzg2SYAXAn9bVb+qqquANwB7raLKfYFPduPfjgT2niPRel1V/a6qzgI+NPB+AE6vqk9X1R+BtwG36L4Ps70I+MeqWlFVVwMHA09byff4j8BmwNZV9cduDJ+JmjRBJmqShnEX4McDj3/clc34dVX9bhXP30SSN9Nas54x+M+/qk7qkqvfAC8DtgHutYqq3lJVt62qO1fVE6rqwu61f1pV18+KafPu/lOBxwI/TnJikmG7Xo/khmTpL4HPdQncEmAj4PSu2/A3wH935TeRZEtaa9nMOMBjaInWnrMO/ems93OXuZ7r3vcK5v4ZbA18diCu84DraC1ms72ZlgB/OclFSQ6YK35J42OiJmkYl9D+wc/Yqiubcbskt1rF8zeS5HXAY4BHVdWVq3ntArJm4XIJsOWs8VRbAT8DqKrTquqJtG7RzwFHreK1V+XLwKZJdqYlbDPdnr8A/gDs0CWRt62q23STHuayD+3z+fNJfg5cREvUZnd/bjnr/Vwy13Pd+96CuX8GPwUeMxDXbavqFlX1s9kHVtVVVfXKqrorbQLIK5I8YiXvQdIYmKhJGsbHgdckWZJkU9pYq4/OOuZ1SW6e5EHA42jjpW4iyYG01qdHVtUvZz23Q5Kdk6zXjTl7Ky25Om8N4/0ObXbpPyTZIMlDaYnGJ7oYn5XkNl034ZW0FqW5XAbcdWUvUlXXAp+mtTzdHji+K78eeD/w9iR37N7b5kkevZKqnkPrTt554PZUYM8kdxg47rVJNkqyA/Bc4JMDz+2S5CldF+bLgauBU+Z4rfcChyTZuotrSZInzhVUkscluXvXlTvzfZrI0iSSGhM1ScP4F2A58H3gLOC7XdmMn9MGpV9C6757cVX9YCV1vYHWGvTD3LBW2qu75+5ESz6upLUqLQUe1yVU81ZV1wBPoLXa/QJ4N/CcgZj2AS5OciXwYuDZK6nqjbQE9TczM0PncCTwF8CnusRtxqto3YandK/zFeAmEyyS7E57n/9RVT8fuB3bnT84Du3EruwEWpfvlweeOwZ4Ju3nsA/wlJV8395Bmwjx5SRX0ZK5+63kvW3bxf1b4GTg3VX19ZUcK2kM4jhQSePUtVZ9tKq2mHIo66xu5uuPgA1mJYMzzx8M3L2qVpZwSlpL2KImSZLUUyZqkiRJPWXXpyRJUk/ZoiZJktRTq1rde6226aab1tKlS6cdhiRJ0mqdfvrpv6iqmyyCvc4makuXLmX58uWrP1CSJGnKkvx4rnK7PiVJknrKRE2SJKmnTNQkSZJ6ykRNkiSppyaWqCXZMsnXkpyX5JwkL+vKb5/k+CQ/7L7ebuCcA5NckOT8wc2Kk+yS5KzuuXd2GwJLkiSt0ybZonYt8MqquhewO7B/ku2BA4ATqmpb2kbCBwB0z+0F7ADsAbw7yXpdXe8B9qNtCLxt97wkSdI6bWKJWlVdWlXf7e5fBZwHbA48Efhwd9iHgSd1958IfKKqrq6qHwEXALsl2QzYpKpOrraNwhED50iSJK2zFmSMWpKlwH2A7wB3qqpLoSVzwB27wzYHfjpw2oqubPPu/uzyuV5nvyTLkyy/4oorxvoeJEmSFtrEE7UkGwNHAy+vqitXdegcZbWK8psWVh1WVcuqatmSJTdZ3FeSJGmtMtFELckGtCTtY1X1ma74sq47k+7r5V35CmDLgdO3AC7pyreYo1ySJGmdNslZnwE+AJxXVW8beOpYYN/u/r7AMQPleyXZMMk2tEkDp3bdo1cl2b2r8zkD50iSJK2zJrnX5wOAfYCzkpzZlb0aOBQ4KsnzgZ8ATweoqnOSHAWcS5sxun9VXded9xLgcOCWwBe7myRJ0jotbSLlumfZsmXlpuySJGltkOT0qlo2u9ydCSRJknpqkl2f67ylBxw30vkXH7rnmCKRJEnrIlvUJEmSespETZIkqadM1CRJknrKRE2SJKmnTNQkSZJ6ykRNkiSpp0zUJEmSespETZIkqadM1CRJknrKRE2SJKmnTNQkSZJ6ykRNkiSpp0zUJEmSespETZIkqadM1CRJknrKRE2SJKmnTNQkSZJ6ykRNkiSpp0zUJEmSespETZIkqadM1CRJknrKRE2SJKmnTNQkSZJ6ykRNkiSpp0zUJEmSespETZIkqadM1CRJknrKRE2SJKmnTNQkSZJ6amKJWpIPJrk8ydkDZZ9McmZ3uzjJmV350iR/GHjuvQPn7JLkrCQXJHlnkkwqZkmSpD5Zf4J1Hw78O3DETEFVPXPmfpK3Av87cPyFVbXzHPW8B9gPOAX4ArAH8MXxhytJktQvE2tRq6qTgF/N9VzXKvYM4OOrqiPJZsAmVXVyVRUt6XvSmEOVJEnqpWmNUXsQcFlV/XCgbJskZyQ5McmDurLNgRUDx6zoyuaUZL8ky5Msv+KKK8YftSRJ0gKaVqK2NzduTbsU2Kqq7gO8AjgyySbAXOPRamWVVtVhVbWsqpYtWbJkrAFLkiQttEmOUZtTkvWBpwC7zJRV1dXA1d3905NcCNyD1oK2xcDpWwCXLFy0kiRJ0zONFrW/AH5QVX/q0kyyJMl63f27AtsCF1XVpcBVSXbvxrU9BzhmCjFLkiQtuEkuz/Fx4GRguyQrkjy/e2ovbjqJ4MHA95N8D/g08OKqmpmI8BLgP4ELgAtxxqckSVokJtb1WVV7r6T8r+YoOxo4eiXHLwd2HGtwkiRJawF3JpAkSeopEzVJkqSeMlGTJEnqKRM1SZKknjJRkyRJ6ikTNUmSpJ4yUZMkSeopEzVJkqSeMlGTJEnqKRM1SZKknjJRkyRJ6ikTNUmSpJ4yUZMkSeopEzVJkqSeMlGTJEnqKRM1SZKknjJRkyRJ6ikTNUmSpJ4yUZMkSeopEzVJkqSeMlGTJEnqKRM1SZKknjJRkyRJ6ikTNUmSpJ4yUZMkSeopEzVJkqSeMlGTJEnqKRM1SZKknjJRkyRJ6ikTNUmSpJ6aWKKW5INJLk9y9kDZwUl+luTM7vbYgecOTHJBkvOTPHqgfJckZ3XPvTNJJhWzJElSn0yyRe1wYI85yt9eVTt3ty8AJNke2AvYoTvn3UnW645/D7AfsG13m6tOSZKkdc7EErWqOgn41TwPfyLwiaq6uqp+BFwA7JZkM2CTqjq5qgo4AnjSRAKWJEnqmWmMUXtpku93XaO368o2B346cMyKrmzz7v7s8jkl2S/J8iTLr7jiinHHLUmStKAWOlF7D3A3YGfgUuCtXflc485qFeVzqqrDqmpZVS1bsmTJiKFKkiRN14ImalV1WVVdV1XXA+8HduueWgFsOXDoFsAlXfkWc5RLkiSt8xY0UevGnM14MjAzI/RYYK8kGybZhjZp4NSquhS4Ksnu3WzP5wDHLGTMkiRJ07L+pCpO8nHgocCmSVYABwEPTbIzrfvyYuBFAFV1TpKjgHOBa4H9q+q6rqqX0GaQ3hL4YneTJEla500sUauqveco/sAqjj8EOGSO8uXAjmMMTZIkaa3gzgSSJEk9ZaImSZLUUyZqkiRJPWWiJkmS1FMmapIkST1loiZJktRTJmqSJEk9ZaImSZLUUyZqkiRJPWWiJkmS1FMmapIkST1loiZJktRTJmqSJEk9ZaImSZLUUyZqkiRJPWWiJkmS1FMmapIkST1loiZJktRTJmqSJEk9ZaImSZLUUyZqkiRJPWWiJkmS1FMmapIkST1loiZJktRTJmqSJEk9ZaImSZLUUyZqkiRJPWWiJkmS1FMmapIkST1loiZJktRTJmqSJEk9NbFELckHk1ye5OyBsjcn+UGS7yf5bJLbduVLk/whyZnd7b0D5+yS5KwkFyR5Z5JMKmZJkqQ+mWSL2uHAHrPKjgd2rKp7A/8DHDjw3IVVtXN3e/FA+XuA/YBtu9vsOiVJktZJE0vUquok4Fezyr5cVdd2D08BtlhVHUk2AzapqpOrqoAjgCdNIFxJkqTemeYYtecBXxx4vE2SM5KcmORBXdnmwIqBY1Z0ZXNKsl+S5UmWX3HFFeOPWJIkaQFNJVFL8o/AtcDHuqJLga2q6j7AK4Ajk2wCzDUerVZWb1UdVlXLqmrZkiVLxh22JEnSglp/oV8wyb7A44BHdN2ZVNXVwNXd/dOTXAjcg9aCNtg9ugVwycJGLEmSNB0L2qKWZA/gVcATqur3A+VLkqzX3b8rbdLARVV1KXBVkt272Z7PAY5ZyJglSZKmZWItakk+DjwU2DTJCuAg2izPDYHju1U2TulmeD4YeH2Sa4HrgBdX1cxEhJfQZpDekjambXBcmyRJ0jprYolaVe09R/EHVnLs0cDRK3luObDjGEOTJElaK7gzgSRJUk+ZqEmSJPWUiZokSVJPmahJkiT1lImaJElST5moSZIk9dS8ErUkLo8hSZK0wObbovbeJKcm+eskt51kQJIkSWrmlahV1QOBZwFbAsuTHJnkkRONTJIkaZGb9xi1qvoh8BraXp0PAd6Z5AdJnjKp4CRJkhaz+Y5Ru3eStwPnAQ8HHl9V9+ruv32C8UmSJC1a893r89+B9wOvrqo/zBRW1SVJXjORyCRJkha5+SZqjwX+UFXXASS5GXCLqvp9VX1kYtFJkiQtYvMdo/YV4JYDjzfqyiRJkjQh803UblFVv5150N3faDIhSZIkCeafqP0uyX1nHiTZBfjDKo6XJEnSiOY7Ru3lwKeSXNI93gx45kQikiRJEjDPRK2qTktyT2A7IMAPquqPE41MkiRpkZtvixrArsDS7pz7JKGqjphIVJIkSZpfopbkI8DdgDOB67riAkzUJEmSJmS+LWrLgO2rqiYZjCRJkm4w31mfZwN3nmQgkiRJurH5tqhtCpyb5FTg6pnCqnrCRKKSJEnSvBO1gycZhCRJkm5qvstznJhka2DbqvpKko2A9SYbmiRJ0uI2rzFqSV4IfBp4X1e0OfC5CcUkSZIk5j+ZYH/gAcCVAFX1Q+COkwpKkiRJ80/Urq6qa2YeJFmfto6aJEmSJmS+idqJSV4N3DLJI4FPAZ+fXFiSJEmab6J2AHAFcBbwIuALwGsmFZQkSZLmP+vzeuD93U2SJEkLYL6zPn+U5KLZt9Wc88Eklyc5e6Ds9kmOT/LD7uvtBp47MMkFSc5P8uiB8l2SnNU9984kGeaNSpIkrW3m2/W5DNi1uz0IeCfw0dWccziwx6yyA4ATqmpb4ITuMUm2B/YCdujOeXeSmXXa3gPsB2zb3WbXKUmStE6aV6JWVb8cuP2sqv4NePhqzjkJ+NWs4icCH+7ufxh40kD5J6rq6qr6EXABsFuSzYBNqurkbkP4IwbOkSRJWqfNa4xakvsOPLwZrYXt1kO83p2q6lKAqro0ycxabJsDpwwct6Ir+2N3f3b5yuLcj9b6xlZbbTVEeJIkSf0x370+3zpw/1rgYuAZY4xjrnFntYryOVXVYcBhAMuWLXOdN0mStFab76zPh43p9S5LslnXmrYZcHlXvgLYcuC4LYBLuvIt5iiXJEla58236/MVq3q+qt42z9c7FtgXOLT7esxA+ZFJ3gbchTZp4NSqui7JVUl2B74DPAd41zxfS5Ikaa02367PmVmfx3aPHw+cBPx0ZSck+TjwUGDTJCuAg2gJ2lFJng/8BHg6QFWdk+Qo4Fxa1+r+VXVdV9VLaDNIbwl8sbtJkiSt8+abqG0K3LeqrgJIcjDwqap6wcpOqKq9V/LUI1Zy/CHAIXOULwd2nGeckiRJ64z5rqO2FXDNwONrgKVjj0aSJEl/Mt8WtY8Apyb5LG3W5ZNpa5ppzJYecNxI51986J5jikSSJE3bfGd9HpLki7RdCQCeW1VnTC4sSZIkzbfrE2Aj4MqqegewIsk2E4pJkiRJzH9T9oOAVwEHdkUbsPq9PiVJkjSC+baoPRl4AvA7gKq6hOG2kJIkSdI8zTdRu6bbFL0AktxqciFJkiQJ5p+oHZXkfcBtk7wQ+Arw/smFJUmSpNXO+kwS4JPAPYErge2Af6qq4yccmyRJ0qK22kStqirJ56pqF8DkTJIkaYHMt+vzlCS7TjQSSZIk3ch8dyZ4GPDiJBfTZn6G1th270kFJkmStNitMlFLslVV/QR4zALFI0mSpM7qWtQ+B9y3qn6c5OiqeuoCxCRJkiRWP0YtA/fvOslAJEmSdGOrS9RqJfclSZI0Yavr+twpyZW0lrVbdvfhhskEm0w0OkmSpEVslYlaVa23UIFIkiTpxua7jpokSZIW2HzXUdNaaukBx410/sWH7jmmSCRJ0pqyRU2SJKmnTNQkSZJ6ykRNkiSpp0zUJEmSespETZIkqadM1CRJknrKRE2SJKmnTNQkSZJ6ykRNkiSpp0zUJEmSemrBE7Uk2yU5c+B2ZZKXJzk4yc8Gyh87cM6BSS5Icn6SRy90zJIkSdOw4Ht9VtX5wM4ASdYDfgZ8Fngu8Paqesvg8Um2B/YCdgDuAnwlyT2q6rqFjFuSJGmhTbvr8xHAhVX141Uc80TgE1V1dVX9CLgA2G1BopMkSZqiaSdqewEfH3j80iTfT/LBJLfryjYHfjpwzIqu7CaS7JdkeZLlV1xxxWQiliRJWiBTS9SS3Bx4AvCprug9wN1o3aKXAm+dOXSO02uuOqvqsKpaVlXLlixZMt6AJUmSFtg0W9QeA3y3qi4DqKrLquq6qroeeD83dG+uALYcOG8L4JIFjVSSJGkKppmo7c1At2eSzQaeezJwdnf/WGCvJBsm2QbYFjh1waKUJEmakgWf9QmQZCPgkcCLBorflGRnWrfmxTPPVdU5SY4CzgWuBfZ3xqckSVoMppKoVdXvgTvMKttnFccfAhwy6bgkSZL6ZNqzPiVJkrQSJmqSJEk9ZaImSZLUUyZqkiRJPWWiJkmS1FMmapIkST1loiZJktRTJmqSJEk9ZaImSZLUU1PZmUBrr6UHHDdyHRcfuucYIpEkad1ni5okSVJPmahJkiT1lImaJElST5moSZIk9ZSJmiRJUk+ZqEmSJPWUiZokSVJPmahJkiT1lAveaupGXUTXBXQlSesqW9QkSZJ6ykRNkiSpp0zUJEmSespETZIkqadM1CRJknrKRE2SJKmnTNQkSZJ6ykRNkiSpp0zUJEmSespETZIkqadM1CRJknrKRE2SJKmnppKoJbk4yVlJzkyyvCu7fZLjk/yw+3q7geMPTHJBkvOTPHoaMUuSJC20abaoPayqdq6qZd3jA4ATqmpb4ITuMUm2B/YCdgD2AN6dZL1pBCxJkrSQ+tT1+UTgw939DwNPGij/RFVdXVU/Ai4Adlv48CRJkhbW+lN63QK+nKSA91XVYcCdqupSgKq6NMkdu2M3B04ZOHdFV3YTSfYD9gPYaqutJhW7em7pAceNXMfFh+451jpn1ydJ0nxMK1F7QFVd0iVjxyf5wSqOzRxlNdeBXcJ3GMCyZcvmPEaSJGltMZWuz6q6pPt6OfBZWlfmZUk2A+i+Xt4dvgLYcuD0LYBLFi5aSZKk6VjwRC3JrZLceuY+8CjgbOBYYN/usH2BY7r7xwJ7JdkwyTbAtsCpCxu1JEnSwptG1+edgM8mmXn9I6vqv5OcBhyV5PnAT4CnA1TVOUmOAs4FrgX2r6rrphC3JEnSglrwRK2qLgJ2mqP8l8AjVnLOIcAhEw5NkiSpV/q0PIckSZIGmKhJkiT1lImaJElST5moSZIk9ZSJmiRJUk+ZqEmSJPWUiZokSVJPmahJkiT11LQ2ZZcWtaUHHDdyHRcfuucYIpEk9ZktapIkST1loiZJktRTJmqSJEk9ZaImSZLUUyZqkiRJPWWiJkmS1FMmapIkST1loiZJktRTJmqSJEk9ZaImSZLUU24hJa0jRt2Wyi2pJKl/bFGTJEnqKRM1SZKknjJRkyRJ6ikTNUmSpJ4yUZMkSeopEzVJkqSeMlGTJEnqKRM1SZKknjJRkyRJ6ikTNUmSpJ4yUZMkSeqpBU/UkmyZ5GtJzktyTpKXdeUHJ/lZkjO722MHzjkwyQVJzk/y6IWOWZIkaRqmsSn7tcArq+q7SW4NnJ7k+O65t1fVWwYPTrI9sBewA3AX4CtJ7lFV1y1o1JIkSQtswVvUqurSqvpud/8q4Dxg81Wc8kTgE1V1dVX9CLgA2G3ykUqSJE3XVMeoJVkK3Af4Tlf00iTfT/LBJLfryjYHfjpw2gpWktgl2S/J8iTLr7jiikmFLUmStCCmlqgl2Rg4Gnh5VV0JvAe4G7AzcCnw1plD5zi95qqzqg6rqmVVtWzJkiXjD1qSJGkBTSVRS7IBLUn7WFV9BqCqLquq66rqeuD93NC9uQLYcuD0LYBLFjJeSZKkaZjGrM8AHwDOq6q3DZRvNnDYk4Gzu/vHAnsl2TDJNsC2wKkLFa8kSdK0TGPW5wOAfYCzkpzZlb0a2DvJzrRuzYuBFwFU1TlJjgLOpc0Y3d8Zn5IkaTFY8EStqr7J3OPOvrCKcw4BDplYUJIkST3kzgSSJEk9NY2uT0lrgaUHHDdyHRcfuucYIpGkxctETdKCGTX5M/GTtNjY9SlJktRTJmqSJEk9ZaImSZLUUyZqkiRJPeVkAklrLScnSFrX2aImSZLUU7aoSdKAcbfS9a2+ueqU1F+2qEmSJPWULWqStMg51k/qL1vUJEmSesoWNUnSWDmOThofEzVJUu85KUOLlYmaJEljYDKpSXCMmiRJUk/ZoiZJ0iLRt1Y/W/xWzxY1SZKknrJFTZIk9Yatfjdmi5okSVJPmahJkiT1lImaJElST5moSZIk9ZSJmiRJUk+ZqEmSJPWUiZokSVJPmahJkiT1lImaJElST5moSZIk9dRak6gl2SPJ+UkuSHLAtOORJEmatLUiUUuyHvAfwGOA7YG9k2w/3agkSZIma61I1IDdgAuq6qKqugb4BPDEKcckSZI0UamqacewWkmeBuxRVS/oHu8D3K+qXjrruP2A/bqH2wHnL2igN7Up8Iue12mMi6O+SdRpjP2sbxJ1LsYYF+N7nkSdizXGYWxdVUtmF64/jUiGkDnKbpJhVtVhwGGTD2d+kiyvqmV9rtMYF0d9k6jTGPtZ3yTqXIwxLsb3PIk6F2uM47S2dH2uALYceLwFcMmUYpEkSVoQa0uidhqwbZJtktwc2As4dsoxSZIkTdRa0fVZVdcmeSnwJWA94INVdc6Uw5qPSXTDjrtOY1wc9U2iTmPsZ32TqHMxxrgY3/Mk6lysMY7NWjGZQJIkaTFaW7o+JUmSFh0TNUmSpJ4yUZMkSeqptWIygSRJk5bkn1ZzyOVV9d4FCUbq2KI2Zkmel2TbacexKkkeM0fZi6cRy8ok+ch8yuZZ1z2TPCLJxrPK9xg2vu78JHn2zId7kq2S7DZKnZOSZJMkt552HHNJctdpx7C2S7LNfMqGqPfmSe6d5M+6pZHWdbsD/wa8YyW3NfrMSHKLMcenRcgWtfFbCjw7ydbA6cA3gG9U1ZlrWlGSzzPHDgwzquoJQ8b42iRXV9VXu9d5FfBQYI2uFJO8azXx/c2Q8QHsMOu11gN2WdNKkvwNsD9wHvCBJC+rqmO6p98A/PcIMb4buB54OPB64CrgaGDXYSpL8hTgX4E70nbjCFBVtcmwASZZBnwIuHV7mN8Az6uq0/sSI3B4ks1p6yWeRPt7OWvYypI8ADgY2Jr2GTcT4xolhEmu4sa/3+kej+M9j9vRwH1nlX2aIf5mZiTZk/aZcCHtPW+T5EVV9cUR6twIeCWwVVW9sLuo3a6q/muIum5D+zk/qCs6EXh9Vf3vsPEB11XVlat4zTVdJuHsJJfR/g+cBHxrlPiS3BPYHPhOVf12oHyPqhrqsyzJhsBTaf+7/pQTVNXrR4hzbD/nrr7dgXcB9wJuTlum63cjfjbeA3gPcKeq2jHJvYEnVNW/DFvnpJiojVlVzbSu3BJ4IfD3tCu09Yao7i3d16cAdwY+2j3eG7h4hDCfAPxXkr+nXSHesytbU8tHiGFOSQ4EXgPcIsnMB2aAaxhurZsXArtU1W+TLAU+nWRpVb2DubcmWxP3q6r7JjkDoKp+PWKrw5uAx1fVeSPGNeiDwF9X1TcAkjyQlrjde8j6xh5jVT24+77tSrtgOC7JxlV1+yGr/ADwt7QLpetGiGtBWyCTHFxVB6/hOfekXdTcpkuiZ2wCjNqa81bgYVV1QfdadwOOA4ZO1Gi/e6cD9+8erwA+BQzzD/yDwNnAM7rH+3T1P2WlZ6ze6hKxNUrUquruSbaiJZOPA96d5DdVtfOaBjbBi85jgP+l/VyuHrKO2cb5cwb4d9pC958ClgHPAe4+Yozvp/1/fh9AVX0/yZGAidq6LslrgAcAGwNnAH9Hu5paY1V1YlfnP1fVgwee+nySk4aNsap+keQJwFdof0xPqyEW1KuqDw8+TrJJK66rRojtjUkOBU6vqtktBMNYb+bKs6ouTvJQWrK2NaMnan/sWvoKIMkSWgvbsC4bc5IGcNVMkgZQVd/sWoqGNfYYu+TxQd3ttrQP86H+Zjr/O0qrz1yS3Bd4IO1n/c2qOmOc9XeGaeXcjpYA3BZ4/ED5VbSLlFFcPpOkdS4CLh+xzrtV1TOT7A1QVX9IMuzf4d2q6qkDj1+X5MwR49ug+xybS1jDC+4kW9D+HzwI2Ak4B/jmkLFN6qJzi6oaaRjIHMb5c6ar44Ik61XVdcCHknx7xBg3qqpTZ4V17Yh1ToSJ2vg9hfbDPo7WFH9KVf3fiHUuSXLXqroI/jT2ZMmaVjJHV87NgbsCT0sydFfOuLvXqqqSnJxk16o6bZg6Bvw8yc4zXc/dh9zjaFfjfzZi3e8EPgvcMckhwNNorYHDWp7kk8DnGLiyrarPjFDnqUneB3yc9rN/JvD1LvGgqr7bgxhPpLXOvhH4QlVdM0JdAF9L8mbgM9w4xjV9r8CfBpg/vasPWlftp8bdRVJVnx/inGOAY5Lcv6pOHmc8wDlJvgAcRfvdeTpw2kzL3ZA/82u63oaZi5u7MXwrzh+SPLCqvtnV9QDgD0PWNeMU4OWsPPFZ01arn9C69N9QVaOOA57URee3k/zZKMMN5jDOnzPA77tW9zOTvAm4FLjViDH+ootrJsandfX2jjsTTEA3aPuB3e0ZtFaIB45Q3x60br+LuqKlwIuq6ksjhjoWSb4P7D+re+3dVTVs9xpJzqW1FlwM/I4bxgWtUZ3dFe21VfXzOZ57QFV9a8j4bkYbePwr4BFdfCeM0tqU5ENzFFdVPW+EOr+2iqerqh6+hvVNIsbb0lodHkzr/rweOLmqXjtkfXO95zV+rwP1nQfcZ+aCq/sH9N2qutcw9a3idR43whiesY+3WcnPesZQP/Mkj6RdzGwPfJn2c/+rqvr6EHXtBBwB3KYr+jWwb1V9f03rmpQuxgfSfre3An4InFhVHxiirq8Cr6iB8c5J1qdddD6rqoYZXjPzWXt34Ee0ZGqoz9pZdY7t59zVtzWtNXcD2rCG29D+x1ywyhNXXeddaf9X/5z2u/Mj4NlVdfGwdU6KidqYJdmR1sz9EFpf+k9pg6NXN+17dfVuSBtLBvCDqhppLEHa4O2ZwdYAVNVQ3alJvlVVD1hd2RrWufVc5VX142HrHLckJ1fV/Vd/pFYnyb1ofzMPon1w/qSqHjLdqJokXwT2rqrfdI9vC3y0qh435td5XVUdNOS5J9KNt6mq+3RlZ1fVjuOMcRyS3IF2kRNaj8MvhqznFd3dmdncv6Uba1VDTN6alLTZ5jPd+8+mJUFLh6hnUhedE/msHdfPedKS3Aq42ShDdibNRG3Mksx0eX4TOK2q/jimenekXZ38aYBwVR0xZF3/SusCO5cbBltXDTmLNMnbgY24cffar2kz0Ybucuq7JK8Dvg98ZpgxfnPUtwVtZtMD6MZCAS+rqhUj1HkH4CAGxlfRZsb9cg3r+YeqelNWMtO3Rpjhm+RC4Pwutm/QZrQN3f2Z5E60wdV3qarHJNkeuP8wrRhdfZ+jtfQdT3vvj+xivRxGnt08+Dp3nuuf8DzPPa2qdk1yxkCidmYNMWh9oM4PMffPeujW067esVwkpg38XgYcS0sG9qR1M94T+FRVvWmUOMchyXJgQ+DbtN+Zk4ZNgJKscnJNVf1qDevbpKquXFm9a1rfHPXfm5vOJF2j7vIkR1XVM5Kcxdy/i6O0+o19tuukOEZtzKpqz5n7SW6XZMtRm+KTHESbDbc98AXgMbQ/+qESNeBJtKnS45rhs3P3dXZrwJ/T/riG6nJaC7yCNk7iuiQz4xCHHutHG+d3JG0sELSr7w/REoNhfYK2LMDMoOtnAZ8E/mIN65np0h37TF9g26oaZRLGbIfTvm//2D3+H9p7HipRo41D/OzA468PG9hq/CdtYsAwJjHeZrAb9hbAk4FLRqlw4CLxHG6YeFO039E1dQfgvjPjtrrPyU/TuhlPp81QnrbHVNUVY6rrdG5YHmYr2sVwaBNJfgKs6bp5R9J+3wbrnVG08ctDSfJB2szy2T/nNR3X+LLu64eAU2k9VOMyidmuk1FV3sZ4o32IbwLcnvbHczrwthHrPIu2OPH3usd3Aj4/Qn1fBDae9vfK201+LmfOp2wN6zx9jrLlI9T39PmUrWGd9wBOAM7uHt8beM0I9Z3WfT1jjN/Hm3dx/Rlw82n/rswR311ps7h/D/yMdiG39Zhf42bAV0es43xgwzHFc97gz4LWcnXe7J/9lH8uL+v+H4R2ofBd4FEj1vle4LEDjx8DvHWE+j5Cm1F6zzG+73PH/H08iJb0fYO2RMmdxlDn2dP+/ZjvzZ0Jxu821RZMfArwoarahTVvvZjtD9VaHK5Nmzp+OSNc7dA+zM9M8r4k75y5DVtZkjt0dXw3yelJ3tF1ua3zkjwhyVu626hjln6RttPBet3t2cAadVHO4WtJ9kpys+72DNqM5GEdOM+yNfH+ro4/QlvPiLZm0rB+1/3+zbQu7U67ch5KksfSFn19J209pwsyx+4eU/YkWmv7IbR/5J8B/iLJzmN8jW1pLTmjuIg2IHwcjgROSXJQ15r2LeDj3Zijc8f0GqN6Xvf/4FG0mfrPBQ4dsc5dq+oLMw+qLUUzynjODwGbAe9KcmGSTyd52epOWo2TuyEHY1FVr6uqHWhJ2l2AE5N8ZcRqv51k1Jn/C8Kuz/FbP8lmtNme/7i6g+dpeTeA+f20Frrf0pqBh3VsdxuXcXWvrVXS1nvbFfhYV/SytOUCDhiyyufREoG305KMb3dlo3gRrYt2Zvut9WiJzCtYg27aLjF5LLD5rKR+E0Zfe2jc6xm9gvb7fbck36L9g3zaCPW9jfEv/Dpuy7jxeK1n0cZrvThtKZE17gbMTZfz+TnwqhHjnLlIPIEbL52yxuP8quqf05YPeSDtPb+4qma65p81YpzjMvNL/Vjahfv3ktHWE6Nd0L2GtgB60YZIDH1BV1Vf7Saj7Ao8DHgxsCNty6xhfZiWrP2cMc0k7VxO+z38JW13lFE8EHhukosYb4xj52SCMUvydOC1tEUx/7qbAvzmuvHCjKPUvxTYpPo1Bf30ruVwsGx5VS2bVkwLIW1Zkp271k7SFr89o29/6N1g4W258USUE9ewjp1oYxFfDwzOYL4K+FpV/XqE+L4IvJQ2APy+3fiq51fV0K1WacsWbEf78D2/RpjUk+SkGlhwuvtHe2LdeBHqqUryJeCpdcN4rY1p47WeTOv+HlvrxiiS7DtXec1aPHtd0U3I2Jw2fmwn2oXS12d/Xq5hnbendQXO/P6dBLyuhhz83yXNtwJOpnUtfrOqRlrYOMkFtAumsxhYBLyGn0jxEtrYxiW03+tPVtVIrabdbNfbccMWZCcBvxk2xkkyUVsASW5eIy7imbbI5ODK6J9dzSlz1TGRGTRJ3kIbZH5UV/Q0YIcacqmBtUWXqD105gOy+wD9+gjfxyW0sSJLufEspFHWKHsBbZzMFsCZtOny366qRwxZ3wYzSU+S2wHjmCwz13pGzxrhQ/0WwF9zw9/LN4D31pALTyd5D22W4uDCr+fTutqo0Rb7HYu0td52mvmc6Wa0nVlV9xqcCTpC/QfXGm5vJWbWW9wZuKiqftN1yW/eswvtt9P2hL2a9jt9Em0dw6EXD07y1Rpy3cKV1Hco8Ika47IrXffuC2jDBEIbPvD+qnrXuF5jXEzUxizJ12kL+13cPd6N9sPfaYQ6301bkPDjXdEzgQurav81rGezqro0Y143p+siuRU3LPWxHm2R2q7aXm1ePTZp26McCnyN9of+YODVVfXxVZ648vq+TUsqbrRHZVUdPUKMZ9G6NE6pqp3T9oZ8XVU9c8j6vk7bF3Z9WuJ3Ba116RWrOG11dW5IS+6X0ibhXEn7vRlqmnySo2gtfYN7496uqp6+8rNWWd/YF34dtySvpbWezez9+HhaN+hbgcOqaqSuwCTfrRG2dJvURWLfJXl+DSwL07W6v6aqXjdCnUuAf6Dt8TrYSj5SYtS1wj6Xtu3hnatqwxHqejdtNurnGd8OJmPVXWjfv6p+1z2+FS1B7d3vomPUxu+NwH9343g2p83Iee6IdT4E2LG6rDrJh2lNymukqi7tvo61abeqbj2O7rW1TVV9vEtcdqUlaq+qIdfB6mxUVaOOAZrt/6rq/5KQZMOq+kGS7Uao7zbV1l56AW3MzUHdB94ojgF+Q5sRN9LyD53tZl0YfS3J94atrKpG/fuduAUYrzXquKqZweljXSR4LfCIJE8Fnk9bTuRDtHU2R/Ex2hjgx9HGk+1Lu2AaSpKX0rr/dgF+TNvpYJS9dgFuSUvQHjVQNszyHJMUBi6Iu/uj/p5PhInamFXVl5K8mLY45i9oW8+M8s8bWjfLVrQ/IoAtaQutrpE5Bgf/6SlGaPlaWfcabWuldVaSE7ouxGPnKBvGfyV57OCMrjFY0U1E+RxwfJJfM1oyNInJMuPeFPqMJLtX1SkASe5H1005jK4r9fnctAVj6i1pg6rtrTvU/rrzMHRrGkzuIrHvquovkzyTdmH9e9oOF0P/LnbuUFUfSPKy7mL4xG4ywLBuSZswc3pVjWVT8rXh4oaWNH8nycwwoicx/FqLE2WiNmZdF8QzaN1g96ZtgP3KqhplSYQ7AOclmZnpuSttRs2xADXPHQWq6tYjxLAqL+OG7rWHzXSvTei1pq77x70RsGk3TmvmKmwT2tTxNa1vJoEO8Ook19AtVcGIXcdV9eTu7sFpe2DehjXfWHrQ64Ev0cZJntaNL/vhCPXB+DeFvh/wnCQ/oX1ft6b9/ZzFcLO6PgL8AHg07f0/ixsWAF5ndT/bdwD3B65PcjLwt1V10arPnLOuiVwk9l2SbWmfj0cD9wL26cYM/n6Eamc+Gy5NsiftwmuLYSurqjePEMucMoFdVsatqt7W9YjMtEI/t6rOmG5Uc3OM2pgleQdwwMxAzG482H9W1dCryydZ5Ro50+5izA3b15wJ3K+qrs6I29f0WTcI9eW0pOxndP9saOOiDquq/5hedGufjHlT6JXN5pp5fk1bdWYG4yf5flXdO8kGwJfGOVi6j5KcAvwHN4yN3Qv4f1V1v+lFtXZJ8gNg/6o6oZst/Le0Gc07jFDn42hdk1vSkqFNaONOx7nk0kiSHE9b525mWaBn0yYIjbLLyqJlojZB3YyfjasteLjO6pqOn0tLXh5Om7m3QVU9dppxTVqSfwL+rRuz9Vpa99A/1wh7m86a3fuNqvrcWIIdk0xg/8cJTG4Z62yuJKdW1W5JTqLNJv05cGpVjbLodO8l+c7spCzJKVW1+7RiWtskeQ7w2aq6Km3ts/sCbxgYP7hOmutCfV2+eJ80E7UxS9so+MW0gYmn07qa3jZM83KSb1bVA+foNuhtd0HX+ncb4L9rxCVJ+m6gheWBtE3A30qb9TlUi8O4ZvdOUjcwesaf9n+sMW1MPg7jns3VjcE8mrZ91OHAxsBrq+p944m4n7olEX5DW9C6aL+PG9Ja2agRN+1eDGZ9RrwReAsjfEZ0dd6oS5q2/tlQXdKTkrZrwOHc8Fm2N61rcZ0etzwpJmpjNnPVkORZtFk0r6IN0uzdlF+NZqBL7I3AWVV1ZEZYsyrJOdx4du/NunqH7iaZtC7Gr/SpG7Abi7ZrdeumdWMKT6uqobaLSfKaqvqXmbpqyPXY1jZJfrSKp2tdb1Ech3F/RnR19r5LOslWtF1W7s8Nu6z8TVX9ZKqBraWcTDB+G3RjWJ4E/HtV/TGJ2fC66WdJ3kfbKutf09YDG2X/3LHM7l1g49j/cdzGMpsryT/QxgI9DfiXrvjbjDgDcm1RVdtMO4Z1wLg/I6A1sHxk4PFHuyU2+uSfgX2r27EkbfmmtzD6lniLkona+L0XuBj4HnBSN/5mnR6jtog9A9gDeEu1Vcc3A/5+hPrGMrt3kmZ1wxdwGW3xzd4Y42yu82m7ENw1yTdoMz3vkGS7qjp/bAH3VHfB+RJu2Kro68D7aoTtuBahcX9GQFsX8ABu3CV9XJcM9aVL+t41sK1cVf0qyUi7Yyxmdn2O2axukg2Ba4D1xrU+jdZdfZ/dOyM3Xdy4quqkKYY0EUkeDJxKa0Xblba8wnHAV2mL6v75FMObuCT/CWxA22AbYB/guqp6wfSi0trQJZ22wPRDZ7WonTjs8IPFzkRtTAa6Sd4zM7MlI267IvVN5l7c+OQ+jVEblyRvoK3Jtow2MPp7wN9VTzY4n7Qk36tZW9/NVSbN1s12PZC2gXrRWhYPmdVlq3my63N8FnU3iYa3ls3uXTSLG1fVq+FPrQMfBe4DLEnyTeDXVfX4aca3AK5LcrequhD+NNvwutWcowlJ8vCq+mq3hM9NVI/20ayqI5Ispy3XFOApVXXulMNaa5mojc+vgVcDD+1u96KtZH5Al6yt090kGl5VPbD7OqmdI8Zp3HuHrg2+VFWnAacleUmXVG867aAWwN/TxkPNLPuwlNH3LdbwHkLrdp/rAqFv+2jSJWYmZ2NgojY+ewAHAXej7Zv2PeB3tXbseSbN17j3Du29qhqcLPFXXdkvphPNgvoW8D5u2LP3fbQ1uzQFVXVQd/fCwXHQVXX1FMPSAnCM2ph13SQvoHWTHELrEl0M3SRaZBbT4saLUZKjaDPWP9YV7Q3crqqePr2oFi/HQS9etqiN32LtJtEi05dZqJqY7WZNHPhadyGq6XAc9CI16sJ7mmURd5NIWreckeRP+3omuR+tO1TTMTMO+gLaOOh3duUHJPn2tILS5Nn1KUm6iSTnAdsBM9v+bEVrxbmeNhvZbfEW0GJfLmYxM1GTJN1Et6vKSlXVj1f1vCbDcdCLj4maJElriSRvmhliM7Dp+6YOsVl3mahJkrQWSrJTVTnBYx1noiZJktRTzvqUJEnqKRM1SZKknnLBW0mLRpI7ACd0D+9M22T8iu7xboM7LCS5GFjmIG1J02SiJmnRqKpfAjsDJDkY+G1VvWWaMUnSqtj1KWlRS/KIJGckOSvJB5NsOOv5Wyb57yQvTHKr7pjTunOe2B3zV0k+0x33wyRv6srXS3J4krO7+v92Gu9R0trLFjVJi9ktaKu8P6Kq/ifJEcBLgH/rnt8Y+ARwRFUd0a0O/9Wqel6S2wKnJvlKd+zOtEVIrwbOT/Iu4I7A5lW1I0B3jiTNmy1qkhaz9YAfVdX/dI8/DDx44PljgA9V1RHd40fR9lY8E/g6LdHbqnvuhKr636r6P+BcYGvgItom2u9Ksgdw5STfjKR1j4mapMXsd6t5/lvAY5KkexzgqVW1c3fbqqrO6567euC864D1q+rXwE60pG5/4D/HF7qkxcBETdJidgtgaZK7d4/3AU4ceP6fgF8C7+4efwn4fzOJW5L7rKryJJsCN6uqo4HXAvcdY+ySFgETNUmL2f8BzwU+leQs4HrgvbOOeTlwi26CwD8DGwDfT3J293hVNge+3nWVHg4cOLbIJS0KbiElSZLUU7aoSZIk9ZSJmiRJUk+ZqEmSJPWUiZokSVJPmahJkiT1lImaJElST5moSZIk9dT/B3xx4/89M6KgAAAAAElFTkSuQmCC",
      "text/plain": [
       "<Figure size 720x432 with 1 Axes>"
      ]
     },
     "metadata": {
      "needs_background": "light"
     },
     "output_type": "display_data"
    }
   ],
   "source": [
    "analyze_sentiments(data, \"Apple\", \"Positive\", 25)"
   ]
  },
  {
   "attachments": {},
   "cell_type": "markdown",
   "metadata": {},
   "source": [
    "Noteworthy words used in apple product praises are:\n",
    "\n",
    "* ipad\n",
    "* ipad 2"
   ]
  },
  {
   "attachments": {},
   "cell_type": "markdown",
   "metadata": {},
   "source": [
    "Because from this analysis, the iphone and ipad are the most popular products, the sentiments on apple products were analyzed, focussing on these products. The following charts show iphone praises and complaints respectively:"
   ]
  },
  {
   "cell_type": "code",
   "execution_count": 151,
   "metadata": {},
   "outputs": [
    {
     "data": {
      "image/png": "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",
      "text/plain": [
       "<Figure size 720x432 with 1 Axes>"
      ]
     },
     "metadata": {
      "needs_background": "light"
     },
     "output_type": "display_data"
    }
   ],
   "source": [
    "analyze_sentiments_product(data, 'iPhone', 'Negative', 20)"
   ]
  },
  {
   "attachments": {},
   "cell_type": "markdown",
   "metadata": {},
   "source": [
    "Noteworthy words used in iphone complaints are:\n",
    "* Battery\n",
    "* app\n",
    "* charge"
   ]
  },
  {
   "cell_type": "code",
   "execution_count": 152,
   "metadata": {},
   "outputs": [
    {
     "data": {
      "image/png": "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",
      "text/plain": [
       "<Figure size 720x432 with 1 Axes>"
      ]
     },
     "metadata": {
      "needs_background": "light"
     },
     "output_type": "display_data"
    }
   ],
   "source": [
    "analyze_sentiments_product(data, 'iPhone', 'Positive', 30)"
   ]
  },
  {
   "attachments": {},
   "cell_type": "markdown",
   "metadata": {},
   "source": [
    "Noteworthy words used to praise the iphone are:\n",
    "* pop-up\n",
    "* Case \n",
    "* Charger"
   ]
  },
  {
   "attachments": {},
   "cell_type": "markdown",
   "metadata": {},
   "source": [
    "Sentiments on the Google Brand"
   ]
  },
  {
   "attachments": {},
   "cell_type": "markdown",
   "metadata": {},
   "source": [
    "Complaints"
   ]
  },
  {
   "cell_type": "code",
   "execution_count": 153,
   "metadata": {},
   "outputs": [
    {
     "data": {
      "image/png": "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",
      "text/plain": [
       "<Figure size 720x432 with 1 Axes>"
      ]
     },
     "metadata": {
      "needs_background": "light"
     },
     "output_type": "display_data"
    }
   ],
   "source": [
    "analyze_sentiments(data, \"Google\", \"Negative\", 30)"
   ]
  },
  {
   "attachments": {},
   "cell_type": "markdown",
   "metadata": {},
   "source": [
    "Noteworthy words used in google product complaints are:\n",
    "\n",
    "* 'android'\n",
    "* 'service'"
   ]
  },
  {
   "attachments": {},
   "cell_type": "markdown",
   "metadata": {},
   "source": [
    "Praises"
   ]
  },
  {
   "cell_type": "code",
   "execution_count": 154,
   "metadata": {},
   "outputs": [
    {
     "data": {
      "image/png": "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",
      "text/plain": [
       "<Figure size 720x432 with 1 Axes>"
      ]
     },
     "metadata": {
      "needs_background": "light"
     },
     "output_type": "display_data"
    }
   ],
   "source": [
    "analyze_sentiments(data, \"Google\", \"Positive\", 20)"
   ]
  },
  {
   "attachments": {},
   "cell_type": "markdown",
   "metadata": {},
   "source": [
    "Noteworthy words used in Google product praises are:\n",
    "\n",
    "* Circle\n",
    "* map"
   ]
  },
  {
   "attachments": {},
   "cell_type": "markdown",
   "metadata": {},
   "source": [
    "A function that takes in noteworthy words and produces a sample of tweets that contain that word for review"
   ]
  },
  {
   "cell_type": "code",
   "execution_count": 155,
   "metadata": {},
   "outputs": [],
   "source": [
    "def get_tweets_with_word(data, word, sample_size=10):\n",
    "    # Filter the dataset to include only tweets containing the specified word\n",
    "    filtered_tweets = data[data['preprocessed_text'].apply(lambda x: word in x)]\n",
    "    \n",
    "    # Randomly sample tweets from the filtered dataset\n",
    "    sampled_tweets = filtered_tweets.sample(n=sample_size)\n",
    "    \n",
    "    # Return the sampled tweets\n",
    "    return sampled_tweets['Tweet']"
   ]
  },
  {
   "cell_type": "code",
   "execution_count": 156,
   "metadata": {},
   "outputs": [
    {
     "name": "stdout",
     "output_type": "stream",
     "text": [
      "RT @mention Google quash Circles rumours RT @mention We're not launching any products at #SXSW but we're doing plenty else ht\n",
      "---\n",
      "New circle game? RT @mention  @mention Google (tries again) to launch new social network called Circles: {link} #sxsw\n",
      "---\n",
      "Anonymity: Zuckerberg &quot;wrong&quot; says 4chan's Moot #SXSW {link} VIA @mention Google circles opportunity with profiles?\n",
      "---\n",
      "#Google to Launch Major New Social Network Called Circles, Possibly Today {link} #socailmedia #facebook #networks #sxsw #tech\n",
      "---\n",
      "Google Circles will not launch at #SXSW - {link}\n",
      "---\n",
      "RT @mention RT @mention Google 2 Launch Major New Social Network Called Circles, Possibly Today {link} #sxsw\n",
      "---\n",
      "Google and ACLU are buddies?ÛÏ@mention Google to Launch Major New Social Network Called Circles, Possibly Today {link} #sxswÛ\n",
      "---\n",
      "Sounds intriguing... RT @mention Lots of chatter around Google's new social network, Circles #SXSW -KEK\n",
      "---\n",
      "Google to Launch Major New Social Network Called Circles, Possibly Today by @mention {link} via @mention #SXSW\n",
      "---\n",
      "RT @mention Google (tries again) to launch a new social network called Circles: {link} #sxsw\n",
      "---\n",
      "RT @mention OOOOrkut? RT @mention RT @mention Google to Launch Major New Social Network Called Circles, Possibly Today {link} #sxsw\n",
      "---\n",
      "B_social! RT @mention Google to Launch Major New Social Network Called Circles, Possibly Today {link} #sxsw #in\n",
      "---\n",
      "ÛÏ@mention Google to Launch Major New Social Network Called Circles, Possibly Today {link} #sxswÛ te dije wey @mention\n",
      "---\n",
      "If u read d article,google say it's a rumor ÛÏ@mention to Launch Major New Social Network Called Circles,{link} #sxswÛ\n",
      "---\n",
      "Trend Google Circles: Google Circles, a new social site in the works. Will not debut @mention #sxsw #sxswi, but @mention does not deny the ex...\n",
      "---\n"
     ]
    }
   ],
   "source": [
    "word = 'circl'  # The word you want to search for\n",
    "sample_size = 15  # Number of tweets to retrieve\n",
    "\n",
    "sampled_tweets = get_tweets_with_word(data, word, sample_size)\n",
    "\n",
    "# Print the sampled tweets\n",
    "for tweet in sampled_tweets:\n",
    "    print(tweet)\n",
    "    print('---')"
   ]
  },
  {
   "cell_type": "code",
   "execution_count": 157,
   "metadata": {},
   "outputs": [
    {
     "name": "stdout",
     "output_type": "stream",
     "text": [
      "I believe it - I almost always use Google Maps on my iPhone RT @mention 40% of Google Maps use is Mobile says @mention #sxsw\n",
      "---\n",
      "RT @mention 'Route around traffic' google maps feature is saving their users 2 years in time. Every day. #SXSW #holytrafficjams\n",
      "---\n",
      "RT @mention Interesting Google Mobile Stats at #SXSW - 40% of all Google Maps users (150 million) come from #mobile {link}\n",
      "---\n",
      "150 mm usar of Google maps ate mobile. #sxsw\n",
      "---\n",
      "Users drive 12B+ miles a year with Google Maps Navigation ^JR #sxsw\n",
      "---\n",
      "Google's Marissa Mayer extolling coolness of Google Mobile Maps v 5.2 &quot;Mobile surpassed desktop usage 4 1st time this year.&quot; #sxsw #sxswi\n",
      "---\n",
      "There is a great festival #app for #sxsw featured on the app store works with google maps and plan schedule, and it's #free\n",
      "---\n",
      "Now there are 150 million mobile google maps users @mention #sxsw\n",
      "---\n",
      "RT @mention #SXSW - Google Maps on Mobile devices from the VP - {link}\n",
      "---\n",
      "RT @mention A free heat map app of 4sq check-ins at #SXSW see @mention Hot Spots @mention SXSW. Now on WP7 &amp; iPhone #wedig\n",
      "---\n",
      "RT @mention I'm live-tweeting #SXSW now at @mention RT @mention Users drive 12B+ miles a year with Google Maps Navigation ^JR\n",
      "---\n",
      "Google Hotpot activity map for this week in Austin, TX before #SxSW #SUxSW {link}\n",
      "---\n",
      "Marissa Mayer: &quot;Our focus is on location based services.&quot; Demoed Hotpot, Google Maps, vector maps, augmented reality. #sxsw #webvisions\n",
      "---\n",
      "Who's gonna leave #SXSW tomorrow at 5pm to go purchase #iPad2? Map to Store: {link}\n",
      "---\n",
      "Getting ready to hear about the @mention road map from VP Product Marissa Mayer.  Pls tell me you're going to focus on search.... #SXSW\n",
      "---\n"
     ]
    }
   ],
   "source": [
    "word = 'map'  # The word you want to search for\n",
    "sample_size = 15  # Number of tweets to retrieve\n",
    "\n",
    "sampled_tweets = get_tweets_with_word(data, word, sample_size)\n",
    "\n",
    "# Print the sampled tweets\n",
    "for tweet in sampled_tweets:\n",
    "    print(tweet)\n",
    "    print('---')"
   ]
  },
  {
   "attachments": {},
   "cell_type": "markdown",
   "metadata": {},
   "source": [
    "### Summary of customer sentiments for Google and apple products:"
   ]
  },
  {
   "attachments": {},
   "cell_type": "markdown",
   "metadata": {},
   "source": [
    "**Praises** of Apple Products:\n",
    "\n",
    "* The ipad 2 was launched and customers seemed to enjoy the improvement in     design made over the ipad.\n",
    "* The new iphone cases released during the SXSW Conference recieved a lot of attention on the tweets and the comments were generally very positive.\n",
    "* There was a tweet thread of 'iphone vs android' and iphone was the more popular choice among users.\n",
    "* The pop-up store in Austin created a lot of attention on the tweets and users in that area generally enjoyed the experience there.\n",
    "\n",
    "**Complaints** of Apple Products:\n",
    "\n",
    "* The battery life of the iphone was a major source of complaint. Users complained that it does not last a whole day.\n",
    "* The apple music app was described by some users as \"one of the worst apps I have had to use in a long time\"\n",
    "* The increase in size of the new ipad 2 was disapproved by some users as 'too big'\n",
    "\n",
    "**Praises** of Google Products:\n",
    "\n",
    "* The PacMan app on Android Opertaing system was praised.\n",
    "* Users were very interested in Google maps and it proved to be the most popular Maps application with Marrissa Mayer stating that, \"Usage of google maps surpused online use in the past couple of months\" and that there were 150 million google map users.\n",
    "* Google chrome browser had positive reviews when compared to Windows explorer with one user explaining that, \"The switch is done immediately they buy a new laptop\"\n",
    "* A new Circle social media app the was roumoured to be launched created a lot of excitement among twitter users ahead of the launch event\n",
    "\n",
    "**Complaints** of Google Products:\n",
    "\n",
    "* The Android operating system was the biggest pain point for most users who tweeted with bugs being the major source of concern, one user describing the experience as 'Painful'\n",
    "* Samsung products have been mentioned with the Android discussion and users stated that its implementation of android was better than that in google devices. \n",
    "* Customer service at google was an issue with users complaining of a lack of refunds when returning faulty devices e.g the Nexus smartphone"
   ]
  },
  {
   "attachments": {},
   "cell_type": "markdown",
   "metadata": {},
   "source": [
    "# Modelling"
   ]
  },
  {
   "cell_type": "code",
   "execution_count": 89,
   "metadata": {},
   "outputs": [
    {
     "data": {
      "text/html": [
       "<div>\n",
       "<style scoped>\n",
       "    .dataframe tbody tr th:only-of-type {\n",
       "        vertical-align: middle;\n",
       "    }\n",
       "\n",
       "    .dataframe tbody tr th {\n",
       "        vertical-align: top;\n",
       "    }\n",
       "\n",
       "    .dataframe thead th {\n",
       "        text-align: right;\n",
       "    }\n",
       "</style>\n",
       "<table border=\"1\" class=\"dataframe\">\n",
       "  <thead>\n",
       "    <tr style=\"text-align: right;\">\n",
       "      <th></th>\n",
       "      <th>Tweet</th>\n",
       "      <th>Product/Brand</th>\n",
       "      <th>Emotion</th>\n",
       "      <th>preprocessed_text</th>\n",
       "      <th>Brand</th>\n",
       "    </tr>\n",
       "  </thead>\n",
       "  <tbody>\n",
       "    <tr>\n",
       "      <th>0</th>\n",
       "      <td>.@wesley83 I have a 3G iPhone. After 3 hrs tweeting at #RISE_Austin, it was dead!  I need to upgrade. Plugin stations at #SXSW.</td>\n",
       "      <td>iPhone</td>\n",
       "      <td>Negative</td>\n",
       "      <td>[3g, iphon, 3, hr, tweet, #rise_austin, dead, need, upgrad, plugin, station, #sxsw]</td>\n",
       "      <td>Apple</td>\n",
       "    </tr>\n",
       "    <tr>\n",
       "      <th>1</th>\n",
       "      <td>@jessedee Know about @fludapp ? Awesome iPad/iPhone app that you'll likely appreciate for its design. Also, they're giving free Ts at #SXSW</td>\n",
       "      <td>iPad or iPhone App</td>\n",
       "      <td>Positive</td>\n",
       "      <td>[know, awesom, ipad, iphon, app, like, appreci, design, also, they'r, give, free, ts, #sxsw]</td>\n",
       "      <td>Apple</td>\n",
       "    </tr>\n",
       "    <tr>\n",
       "      <th>2</th>\n",
       "      <td>@swonderlin Can not wait for #iPad 2 also. They should sale them down at #SXSW.</td>\n",
       "      <td>iPad</td>\n",
       "      <td>Positive</td>\n",
       "      <td>[wait, #ipad, 2, also, sale, #sxsw]</td>\n",
       "      <td>Apple</td>\n",
       "    </tr>\n",
       "    <tr>\n",
       "      <th>3</th>\n",
       "      <td>@sxsw I hope this year's festival isn't as crashy as this year's iPhone app. #sxsw</td>\n",
       "      <td>iPad or iPhone App</td>\n",
       "      <td>Negative</td>\n",
       "      <td>[hope, year', festiv, crashi, year', iphon, app, #sxsw]</td>\n",
       "      <td>Apple</td>\n",
       "    </tr>\n",
       "    <tr>\n",
       "      <th>4</th>\n",
       "      <td>@sxtxstate great stuff on Fri #SXSW: Marissa Mayer (Google), Tim O'Reilly (tech books/conferences) &amp;amp; Matt Mullenweg (Wordpress)</td>\n",
       "      <td>Google</td>\n",
       "      <td>Positive</td>\n",
       "      <td>[great, stuff, fri, #sxsw, marissa, mayer, googl, tim, o'reilli, tech, book, confer, matt, mullenweg, wordpress]</td>\n",
       "      <td>Google</td>\n",
       "    </tr>\n",
       "    <tr>\n",
       "      <th>...</th>\n",
       "      <td>...</td>\n",
       "      <td>...</td>\n",
       "      <td>...</td>\n",
       "      <td>...</td>\n",
       "      <td>...</td>\n",
       "    </tr>\n",
       "    <tr>\n",
       "      <th>9077</th>\n",
       "      <td>@mention your PR guy just convinced me to switch back to iPhone. Great #sxsw coverage. #princess</td>\n",
       "      <td>iPhone</td>\n",
       "      <td>Positive</td>\n",
       "      <td>[pr, guy, convinc, switch, back, iphon, great, #sxsw, coverag, #princess]</td>\n",
       "      <td>Apple</td>\n",
       "    </tr>\n",
       "    <tr>\n",
       "      <th>9079</th>\n",
       "      <td>&amp;quot;papyrus...sort of like the ipad&amp;quot; - nice! Lol! #SXSW Lavelle</td>\n",
       "      <td>iPad</td>\n",
       "      <td>Positive</td>\n",
       "      <td>[papyru, ..., sort, like, ipad, nice, lol, #sxsw, lavel]</td>\n",
       "      <td>Apple</td>\n",
       "    </tr>\n",
       "    <tr>\n",
       "      <th>9080</th>\n",
       "      <td>Diller says Google TV &amp;quot;might be run over by the PlayStation and the Xbox, which are essentially ready today.&amp;quot; #sxsw #diller</td>\n",
       "      <td>Other Google product or service</td>\n",
       "      <td>Negative</td>\n",
       "      <td>[diller, say, googl, tv, might, run, playstat, xbox, essenti, readi, today, #sxsw, #diller]</td>\n",
       "      <td>Google</td>\n",
       "    </tr>\n",
       "    <tr>\n",
       "      <th>9085</th>\n",
       "      <td>I've always used Camera+ for my iPhone b/c it has an image stabilizer mode. Suggestions for an iPad cam app w/ same feature? #SXSW #SXSWi</td>\n",
       "      <td>iPad or iPhone App</td>\n",
       "      <td>Positive</td>\n",
       "      <td>[i'v, alway, use, camera, iphon, b, c, imag, stabil, mode, suggest, ipad, cam, app, w, featur, #sxsw, #sxswi]</td>\n",
       "      <td>Apple</td>\n",
       "    </tr>\n",
       "    <tr>\n",
       "      <th>9088</th>\n",
       "      <td>Ipad everywhere. #SXSW {link}</td>\n",
       "      <td>iPad</td>\n",
       "      <td>Positive</td>\n",
       "      <td>[ipad, everywher, #sxsw, link]</td>\n",
       "      <td>Apple</td>\n",
       "    </tr>\n",
       "  </tbody>\n",
       "</table>\n",
       "<p>3539 rows × 5 columns</p>\n",
       "</div>"
      ],
      "text/plain": [
       "                                                                                                                                            Tweet  \\\n",
       "0                 .@wesley83 I have a 3G iPhone. After 3 hrs tweeting at #RISE_Austin, it was dead!  I need to upgrade. Plugin stations at #SXSW.   \n",
       "1     @jessedee Know about @fludapp ? Awesome iPad/iPhone app that you'll likely appreciate for its design. Also, they're giving free Ts at #SXSW   \n",
       "2                                                                 @swonderlin Can not wait for #iPad 2 also. They should sale them down at #SXSW.   \n",
       "3                                                              @sxsw I hope this year's festival isn't as crashy as this year's iPhone app. #sxsw   \n",
       "4             @sxtxstate great stuff on Fri #SXSW: Marissa Mayer (Google), Tim O'Reilly (tech books/conferences) &amp; Matt Mullenweg (Wordpress)   \n",
       "...                                                                                                                                           ...   \n",
       "9077                                             @mention your PR guy just convinced me to switch back to iPhone. Great #sxsw coverage. #princess   \n",
       "9079                                                                       &quot;papyrus...sort of like the ipad&quot; - nice! Lol! #SXSW Lavelle   \n",
       "9080        Diller says Google TV &quot;might be run over by the PlayStation and the Xbox, which are essentially ready today.&quot; #sxsw #diller   \n",
       "9085    I've always used Camera+ for my iPhone b/c it has an image stabilizer mode. Suggestions for an iPad cam app w/ same feature? #SXSW #SXSWi   \n",
       "9088                                                                                                                Ipad everywhere. #SXSW {link}   \n",
       "\n",
       "                        Product/Brand   Emotion  \\\n",
       "0                              iPhone  Negative   \n",
       "1                  iPad or iPhone App  Positive   \n",
       "2                                iPad  Positive   \n",
       "3                  iPad or iPhone App  Negative   \n",
       "4                              Google  Positive   \n",
       "...                               ...       ...   \n",
       "9077                           iPhone  Positive   \n",
       "9079                             iPad  Positive   \n",
       "9080  Other Google product or service  Negative   \n",
       "9085               iPad or iPhone App  Positive   \n",
       "9088                             iPad  Positive   \n",
       "\n",
       "                                                                                                     preprocessed_text  \\\n",
       "0                                  [3g, iphon, 3, hr, tweet, #rise_austin, dead, need, upgrad, plugin, station, #sxsw]   \n",
       "1                         [know, awesom, ipad, iphon, app, like, appreci, design, also, they'r, give, free, ts, #sxsw]   \n",
       "2                                                                                  [wait, #ipad, 2, also, sale, #sxsw]   \n",
       "3                                                              [hope, year', festiv, crashi, year', iphon, app, #sxsw]   \n",
       "4     [great, stuff, fri, #sxsw, marissa, mayer, googl, tim, o'reilli, tech, book, confer, matt, mullenweg, wordpress]   \n",
       "...                                                                                                                ...   \n",
       "9077                                         [pr, guy, convinc, switch, back, iphon, great, #sxsw, coverag, #princess]   \n",
       "9079                                                          [papyru, ..., sort, like, ipad, nice, lol, #sxsw, lavel]   \n",
       "9080                       [diller, say, googl, tv, might, run, playstat, xbox, essenti, readi, today, #sxsw, #diller]   \n",
       "9085     [i'v, alway, use, camera, iphon, b, c, imag, stabil, mode, suggest, ipad, cam, app, w, featur, #sxsw, #sxswi]   \n",
       "9088                                                                                    [ipad, everywher, #sxsw, link]   \n",
       "\n",
       "       Brand  \n",
       "0      Apple  \n",
       "1      Apple  \n",
       "2      Apple  \n",
       "3      Apple  \n",
       "4     Google  \n",
       "...      ...  \n",
       "9077   Apple  \n",
       "9079   Apple  \n",
       "9080  Google  \n",
       "9085   Apple  \n",
       "9088   Apple  \n",
       "\n",
       "[3539 rows x 5 columns]"
      ]
     },
     "execution_count": 89,
     "metadata": {},
     "output_type": "execute_result"
    }
   ],
   "source": [

      "text/html": [
       "<div>\n",
       "<style scoped>\n",
       "    .dataframe tbody tr th:only-of-type {\n",
       "        vertical-align: middle;\n",
       "    }\n",
       "\n",
       "    .dataframe tbody tr th {\n",
       "        vertical-align: top;\n",
       "    }\n",
       "\n",
       "    .dataframe thead th {\n",
       "        text-align: right;\n",
       "    }\n",
       "</style>\n",
       "<table border=\"1\" class=\"dataframe\">\n",
       "  <thead>\n",
       "    <tr style=\"text-align: right;\">\n",
       "      <th></th>\n",
       "      <th>Tweet</th>\n",
       "      <th>Product/Brand</th>\n",
       "      <th>Emotion</th>\n",
       "      <th>preprocessed_text</th>\n",
       "      <th>Brand</th>\n",
       "    </tr>\n",
       "  </thead>\n",
       "  <tbody>\n",
       "    <tr>\n",
       "      <th>0</th>\n",
       "      <td>.@wesley83 I have a 3G iPhone. After 3 hrs tweeting at #RISE_Austin, it was dead!  I need to upgrade. Plugin stations at #SXSW.</td>\n",
       "      <td>iPhone</td>\n",
       "      <td>Negative</td>\n",
       "      <td>[3g, iphon, 3, hr, tweet, #rise_austin, dead, need, upgrad, plugin, station, #sxsw]</td>\n",
       "      <td>Apple</td>\n",
       "    </tr>\n",
       "    <tr>\n",
       "      <th>1</th>\n",
       "      <td>@jessedee Know about @fludapp ? Awesome iPad/iPhone app that you'll likely appreciate for its design. Also, they're giving free Ts at #SXSW</td>\n",
       "      <td>iPad or iPhone App</td>\n",
       "      <td>Positive</td>\n",
       "      <td>[know, awesom, ipad, iphon, app, like, appreci, design, also, they'r, give, free, ts, #sxsw]</td>\n",
       "      <td>Apple</td>\n",
       "    </tr>\n",
       "    <tr>\n",
       "      <th>2</th>\n",
       "      <td>@swonderlin Can not wait for #iPad 2 also. They should sale them down at #SXSW.</td>\n",
       "      <td>iPad</td>\n",
       "      <td>Positive</td>\n",
       "      <td>[wait, #ipad, 2, also, sale, #sxsw]</td>\n",
       "      <td>Apple</td>\n",
       "    </tr>\n",
       "    <tr>\n",
       "      <th>3</th>\n",
       "      <td>@sxsw I hope this year's festival isn't as crashy as this year's iPhone app. #sxsw</td>\n",
       "      <td>iPad or iPhone App</td>\n",
       "      <td>Negative</td>\n",
       "      <td>[hope, year', festiv, crashi, year', iphon, app, #sxsw]</td>\n",
       "      <td>Apple</td>\n",
       "    </tr>\n",
       "    <tr>\n",
       "      <th>4</th>\n",
       "      <td>@sxtxstate great stuff on Fri #SXSW: Marissa Mayer (Google), Tim O'Reilly (tech books/conferences) &amp;amp; Matt Mullenweg (Wordpress)</td>\n",
       "      <td>Google</td>\n",
       "      <td>Positive</td>\n",
       "      <td>[great, stuff, fri, #sxsw, marissa, mayer, googl, tim, o'reilli, tech, book, confer, matt, mullenweg, wordpress]</td>\n",
       "      <td>Google</td>\n",
       "    </tr>\n",
       "    <tr>\n",
       "      <th>...</th>\n",
       "      <td>...</td>\n",
       "      <td>...</td>\n",
       "      <td>...</td>\n",
       "      <td>...</td>\n",
       "      <td>...</td>\n",
       "    </tr>\n",
       "    <tr>\n",
       "      <th>9077</th>\n",
       "      <td>@mention your PR guy just convinced me to switch back to iPhone. Great #sxsw coverage. #princess</td>\n",
       "      <td>iPhone</td>\n",
       "      <td>Positive</td>\n",
       "      <td>[pr, guy, convinc, switch, back, iphon, great, #sxsw, coverag, #princess]</td>\n",
       "      <td>Apple</td>\n",
       "    </tr>\n",
       "    <tr>\n",
       "      <th>9079</th>\n",
       "      <td>&amp;quot;papyrus...sort of like the ipad&amp;quot; - nice! Lol! #SXSW Lavelle</td>\n",
       "      <td>iPad</td>\n",
       "      <td>Positive</td>\n",
       "      <td>[papyru, ..., sort, like, ipad, nice, lol, #sxsw, lavel]</td>\n",
       "      <td>Apple</td>\n",
       "    </tr>\n",
       "    <tr>\n",
       "      <th>9080</th>\n",
       "      <td>Diller says Google TV &amp;quot;might be run over by the PlayStation and the Xbox, which are essentially ready today.&amp;quot; #sxsw #diller</td>\n",
       "      <td>Other Google product or service</td>\n",
       "      <td>Negative</td>\n",
       "      <td>[diller, say, googl, tv, might, run, playstat, xbox, essenti, readi, today, #sxsw, #diller]</td>\n",
       "      <td>Google</td>\n",
       "    </tr>\n",
       "    <tr>\n",
       "      <th>9085</th>\n",
       "      <td>I've always used Camera+ for my iPhone b/c it has an image stabilizer mode. Suggestions for an iPad cam app w/ same feature? #SXSW #SXSWi</td>\n",
       "      <td>iPad or iPhone App</td>\n",
       "      <td>Positive</td>\n",
       "      <td>[i'v, alway, use, camera, iphon, b, c, imag, stabil, mode, suggest, ipad, cam, app, w, featur, #sxsw, #sxswi]</td>\n",
       "      <td>Apple</td>\n",
       "    </tr>\n",
       "    <tr>\n",
       "      <th>9088</th>\n",
       "      <td>Ipad everywhere. #SXSW {link}</td>\n",
       "      <td>iPad</td>\n",
       "      <td>Positive</td>\n",
       "      <td>[ipad, everywher, #sxsw, link]</td>\n",
       "      <td>Apple</td>\n",
       "    </tr>\n",
       "  </tbody>\n",
       "</table>\n",
       "<p>3539 rows × 5 columns</p>\n",
       "</div>"
      ],
      "text/plain": [
       "                                                                                                                                            Tweet  \\\n",
       "0                 .@wesley83 I have a 3G iPhone. After 3 hrs tweeting at #RISE_Austin, it was dead!  I need to upgrade. Plugin stations at #SXSW.   \n",
       "1     @jessedee Know about @fludapp ? Awesome iPad/iPhone app that you'll likely appreciate for its design. Also, they're giving free Ts at #SXSW   \n",
       "2                                                                 @swonderlin Can not wait for #iPad 2 also. They should sale them down at #SXSW.   \n",
       "3                                                              @sxsw I hope this year's festival isn't as crashy as this year's iPhone app. #sxsw   \n",
       "4             @sxtxstate great stuff on Fri #SXSW: Marissa Mayer (Google), Tim O'Reilly (tech books/conferences) &amp; Matt Mullenweg (Wordpress)   \n",
       "...                                                                                                                                           ...   \n",
       "9077                                             @mention your PR guy just convinced me to switch back to iPhone. Great #sxsw coverage. #princess   \n",
       "9079                                                                       &quot;papyrus...sort of like the ipad&quot; - nice! Lol! #SXSW Lavelle   \n",
       "9080        Diller says Google TV &quot;might be run over by the PlayStation and the Xbox, which are essentially ready today.&quot; #sxsw #diller   \n",
       "9085    I've always used Camera+ for my iPhone b/c it has an image stabilizer mode. Suggestions for an iPad cam app w/ same feature? #SXSW #SXSWi   \n",
       "9088                                                                                                                Ipad everywhere. #SXSW {link}   \n",
       "\n",
       "                        Product/Brand   Emotion  \\\n",
       "0                              iPhone  Negative   \n",
       "1                  iPad or iPhone App  Positive   \n",
       "2                                iPad  Positive   \n",
       "3                  iPad or iPhone App  Negative   \n",
       "4                              Google  Positive   \n",
       "...                               ...       ...   \n",
       "9077                           iPhone  Positive   \n",
       "9079                             iPad  Positive   \n",
       "9080  Other Google product or service  Negative   \n",
       "9085               iPad or iPhone App  Positive   \n",
       "9088                             iPad  Positive   \n",
       "\n",
       "                                                                                                     preprocessed_text  \\\n",
       "0                                  [3g, iphon, 3, hr, tweet, #rise_austin, dead, need, upgrad, plugin, station, #sxsw]   \n",
       "1                         [know, awesom, ipad, iphon, app, like, appreci, design, also, they'r, give, free, ts, #sxsw]   \n",
       "2                                                                                  [wait, #ipad, 2, also, sale, #sxsw]   \n",
       "3                                                              [hope, year', festiv, crashi, year', iphon, app, #sxsw]   \n",
       "4     [great, stuff, fri, #sxsw, marissa, mayer, googl, tim, o'reilli, tech, book, confer, matt, mullenweg, wordpress]   \n",
       "...                                                                                                                ...   \n",
       "9077                                         [pr, guy, convinc, switch, back, iphon, great, #sxsw, coverag, #princess]   \n",
       "9079                                                          [papyru, ..., sort, like, ipad, nice, lol, #sxsw, lavel]   \n",
       "9080                       [diller, say, googl, tv, might, run, playstat, xbox, essenti, readi, today, #sxsw, #diller]   \n",
       "9085     [i'v, alway, use, camera, iphon, b, c, imag, stabil, mode, suggest, ipad, cam, app, w, featur, #sxsw, #sxswi]   \n",
       "9088                                                                                    [ipad, everywher, #sxsw, link]   \n",
       "\n",
       "       Brand  \n",
       "0      Apple  \n",
       "1      Apple  \n",
       "2      Apple  \n",
       "3      Apple  \n",
       "4     Google  \n",
       "...      ...  \n",
       "9077   Apple  \n",
       "9079   Apple  \n",
       "9080  Google  \n",
       "9085   Apple  \n",
       "9088   Apple  \n",
       "\n",
       "[3539 rows x 5 columns]"
      ]
     },
     "execution_count": 35,
     "metadata": {},
     "output_type": "execute_result"
    }
   ],
   "source": [

    "# Binary dataframe\n",
    "data_binary = data.loc[(data['Emotion'] == 'Positive' ) | (data['Emotion'] == 'Negative' )]\n",
    "data_binary"
   ]
  },
  {
   "cell_type": "code",

   "execution_count": 90,

   "execution_count": 36,

   "metadata": {},
   "outputs": [
    {
     "data": {
      "text/html": [
       "<div>\n",
       "<style scoped>\n",
       "    .dataframe tbody tr th:only-of-type {\n",
       "        vertical-align: middle;\n",
       "    }\n",
       "\n",
       "    .dataframe tbody tr th {\n",
       "        vertical-align: top;\n",
       "    }\n",
       "\n",
       "    .dataframe thead th {\n",
       "        text-align: right;\n",
       "    }\n",
       "</style>\n",
       "<table border=\"1\" class=\"dataframe\">\n",
       "  <thead>\n",
       "    <tr style=\"text-align: right;\">\n",
       "      <th></th>\n",
       "      <th>Tweet</th>\n",
       "      <th>Product/Brand</th>\n",
       "      <th>Emotion</th>\n",
       "      <th>preprocessed_text</th>\n",
       "      <th>Brand</th>\n",
       "      <th>emotion_label</th>\n",
       "    </tr>\n",
       "  </thead>\n",
       "  <tbody>\n",
       "    <tr>\n",
       "      <th>0</th>\n",
       "      <td>.@wesley83 I have a 3G iPhone. After 3 hrs tweeting at #RISE_Austin, it was dead!  I need to upgrade. Plugin stations at #SXSW.</td>\n",
       "      <td>iPhone</td>\n",
       "      <td>Negative</td>\n",
       "      <td>[3g, iphon, 3, hr, tweet, #rise_austin, dead, need, upgrad, plugin, station, #sxsw]</td>\n",
       "      <td>Apple</td>\n",
       "      <td>1.0</td>\n",
       "    </tr>\n",
       "    <tr>\n",
       "      <th>1</th>\n",
       "      <td>@jessedee Know about @fludapp ? Awesome iPad/iPhone app that you'll likely appreciate for its design. Also, they're giving free Ts at #SXSW</td>\n",
       "      <td>iPad or iPhone App</td>\n",
       "      <td>Positive</td>\n",
       "      <td>[know, awesom, ipad, iphon, app, like, appreci, design, also, they'r, give, free, ts, #sxsw]</td>\n",
       "      <td>Apple</td>\n",
       "      <td>0.0</td>\n",
       "    </tr>\n",
       "    <tr>\n",
       "      <th>2</th>\n",
       "      <td>@swonderlin Can not wait for #iPad 2 also. They should sale them down at #SXSW.</td>\n",
       "      <td>iPad</td>\n",
       "      <td>Positive</td>\n",
       "      <td>[wait, #ipad, 2, also, sale, #sxsw]</td>\n",
       "      <td>Apple</td>\n",
       "      <td>0.0</td>\n",
       "    </tr>\n",
       "    <tr>\n",
       "      <th>3</th>\n",
       "      <td>@sxsw I hope this year's festival isn't as crashy as this year's iPhone app. #sxsw</td>\n",
       "      <td>iPad or iPhone App</td>\n",
       "      <td>Negative</td>\n",
       "      <td>[hope, year', festiv, crashi, year', iphon, app, #sxsw]</td>\n",
       "      <td>Apple</td>\n",
       "      <td>1.0</td>\n",
       "    </tr>\n",
       "    <tr>\n",
       "      <th>4</th>\n",
       "      <td>@sxtxstate great stuff on Fri #SXSW: Marissa Mayer (Google), Tim O'Reilly (tech books/conferences) &amp;amp; Matt Mullenweg (Wordpress)</td>\n",
       "      <td>Google</td>\n",
       "      <td>Positive</td>\n",
       "      <td>[great, stuff, fri, #sxsw, marissa, mayer, googl, tim, o'reilli, tech, book, confer, matt, mullenweg, wordpress]</td>\n",
       "      <td>Google</td>\n",
       "      <td>0.0</td>\n",
       "    </tr>\n",
       "    <tr>\n",
       "      <th>...</th>\n",
       "      <td>...</td>\n",
       "      <td>...</td>\n",
       "      <td>...</td>\n",
       "      <td>...</td>\n",
       "      <td>...</td>\n",
       "      <td>...</td>\n",
       "    </tr>\n",
       "    <tr>\n",
       "      <th>9077</th>\n",
       "      <td>@mention your PR guy just convinced me to switch back to iPhone. Great #sxsw coverage. #princess</td>\n",
       "      <td>iPhone</td>\n",
       "      <td>Positive</td>\n",
       "      <td>[pr, guy, convinc, switch, back, iphon, great, #sxsw, coverag, #princess]</td>\n",
       "      <td>Apple</td>\n",
       "      <td>0.0</td>\n",
       "    </tr>\n",
       "    <tr>\n",
       "      <th>9079</th>\n",
       "      <td>&amp;quot;papyrus...sort of like the ipad&amp;quot; - nice! Lol! #SXSW Lavelle</td>\n",
       "      <td>iPad</td>\n",
       "      <td>Positive</td>\n",
       "      <td>[papyru, ..., sort, like, ipad, nice, lol, #sxsw, lavel]</td>\n",
       "      <td>Apple</td>\n",
       "      <td>0.0</td>\n",
       "    </tr>\n",
       "    <tr>\n",
       "      <th>9080</th>\n",
       "      <td>Diller says Google TV &amp;quot;might be run over by the PlayStation and the Xbox, which are essentially ready today.&amp;quot; #sxsw #diller</td>\n",
       "      <td>Other Google product or service</td>\n",
       "      <td>Negative</td>\n",
       "      <td>[diller, say, googl, tv, might, run, playstat, xbox, essenti, readi, today, #sxsw, #diller]</td>\n",
       "      <td>Google</td>\n",
       "      <td>1.0</td>\n",
       "    </tr>\n",
       "    <tr>\n",
       "      <th>9085</th>\n",
       "      <td>I've always used Camera+ for my iPhone b/c it has an image stabilizer mode. Suggestions for an iPad cam app w/ same feature? #SXSW #SXSWi</td>\n",
       "      <td>iPad or iPhone App</td>\n",
       "      <td>Positive</td>\n",
       "      <td>[i'v, alway, use, camera, iphon, b, c, imag, stabil, mode, suggest, ipad, cam, app, w, featur, #sxsw, #sxswi]</td>\n",
       "      <td>Apple</td>\n",
       "      <td>0.0</td>\n",
       "    </tr>\n",
       "    <tr>\n",
       "      <th>9088</th>\n",
       "      <td>Ipad everywhere. #SXSW {link}</td>\n",
       "      <td>iPad</td>\n",
       "      <td>Positive</td>\n",
       "      <td>[ipad, everywher, #sxsw, link]</td>\n",
       "      <td>Apple</td>\n",
       "      <td>0.0</td>\n",
       "    </tr>\n",
       "  </tbody>\n",
       "</table>\n",
       "<p>3539 rows × 6 columns</p>\n",
       "</div>"
      ],
      "text/plain": [
       "                                                                                                                                            Tweet  \\\n",
       "0                 .@wesley83 I have a 3G iPhone. After 3 hrs tweeting at #RISE_Austin, it was dead!  I need to upgrade. Plugin stations at #SXSW.   \n",
       "1     @jessedee Know about @fludapp ? Awesome iPad/iPhone app that you'll likely appreciate for its design. Also, they're giving free Ts at #SXSW   \n",
       "2                                                                 @swonderlin Can not wait for #iPad 2 also. They should sale them down at #SXSW.   \n",
       "3                                                              @sxsw I hope this year's festival isn't as crashy as this year's iPhone app. #sxsw   \n",
       "4             @sxtxstate great stuff on Fri #SXSW: Marissa Mayer (Google), Tim O'Reilly (tech books/conferences) &amp; Matt Mullenweg (Wordpress)   \n",
       "...                                                                                                                                           ...   \n",
       "9077                                             @mention your PR guy just convinced me to switch back to iPhone. Great #sxsw coverage. #princess   \n",
       "9079                                                                       &quot;papyrus...sort of like the ipad&quot; - nice! Lol! #SXSW Lavelle   \n",
       "9080        Diller says Google TV &quot;might be run over by the PlayStation and the Xbox, which are essentially ready today.&quot; #sxsw #diller   \n",
       "9085    I've always used Camera+ for my iPhone b/c it has an image stabilizer mode. Suggestions for an iPad cam app w/ same feature? #SXSW #SXSWi   \n",
       "9088                                                                                                                Ipad everywhere. #SXSW {link}   \n",
       "\n",
       "                        Product/Brand   Emotion  \\\n",
       "0                              iPhone  Negative   \n",
       "1                  iPad or iPhone App  Positive   \n",
       "2                                iPad  Positive   \n",
       "3                  iPad or iPhone App  Negative   \n",
       "4                              Google  Positive   \n",
       "...                               ...       ...   \n",
       "9077                           iPhone  Positive   \n",
       "9079                             iPad  Positive   \n",
       "9080  Other Google product or service  Negative   \n",
       "9085               iPad or iPhone App  Positive   \n",
       "9088                             iPad  Positive   \n",
       "\n",
       "                                                                                                     preprocessed_text  \\\n",
       "0                                  [3g, iphon, 3, hr, tweet, #rise_austin, dead, need, upgrad, plugin, station, #sxsw]   \n",
       "1                         [know, awesom, ipad, iphon, app, like, appreci, design, also, they'r, give, free, ts, #sxsw]   \n",
       "2                                                                                  [wait, #ipad, 2, also, sale, #sxsw]   \n",
       "3                                                              [hope, year', festiv, crashi, year', iphon, app, #sxsw]   \n",
       "4     [great, stuff, fri, #sxsw, marissa, mayer, googl, tim, o'reilli, tech, book, confer, matt, mullenweg, wordpress]   \n",
       "...                                                                                                                ...   \n",
       "9077                                         [pr, guy, convinc, switch, back, iphon, great, #sxsw, coverag, #princess]   \n",
       "9079                                                          [papyru, ..., sort, like, ipad, nice, lol, #sxsw, lavel]   \n",
       "9080                       [diller, say, googl, tv, might, run, playstat, xbox, essenti, readi, today, #sxsw, #diller]   \n",
       "9085     [i'v, alway, use, camera, iphon, b, c, imag, stabil, mode, suggest, ipad, cam, app, w, featur, #sxsw, #sxswi]   \n",
       "9088                                                                                    [ipad, everywher, #sxsw, link]   \n",
       "\n",
       "       Brand  emotion_label  \n",
       "0      Apple            1.0  \n",
       "1      Apple            0.0  \n",
       "2      Apple            0.0  \n",
       "3      Apple            1.0  \n",
       "4     Google            0.0  \n",
       "...      ...            ...  \n",
       "9077   Apple            0.0  \n",
       "9079   Apple            0.0  \n",
       "9080  Google            1.0  \n",
       "9085   Apple            0.0  \n",
       "9088   Apple            0.0  \n",
       "\n",
       "[3539 rows x 6 columns]"
      ]
     },

     "execution_count": 90,

     "execution_count": 36,

     "metadata": {},
     "output_type": "execute_result"
    }
   ],
   "source": [
    "# Relabeling the content of the emotion column\n",
    "data_binary.loc[data_binary['Emotion'] == 'Positive' , 'emotion_label'] = 0\n",
    "data_binary.loc[data_binary['Emotion'] == 'Negative' , 'emotion_label'] = 1\n",
    "data_binary"
   ]
  },
  {
   "cell_type": "code",

   "execution_count": 91,

   "execution_count": 37,

   "metadata": {},
   "outputs": [
    {
     "data": {
      "text/plain": [
       "3397                    i10 march pig link code valid 12:00- 3:59 59p 03/12 11 #infektd #sxsw #zomb\n",
       "4321    lol rt i'll bet there' lot nerd #sxsw use #iphon light saber app barroom brawl instead fist\n",
       "4091                                    #appl ipad per capit #sxsw anywher els world except foxconn\n",
       "6378          rt umbrella list via  ÷ ¼ set  ÷ link  ÷ #edchat #musedchat #sxsw #sxswi #newtwitt\n",
       "5207           rt #appl head sxsw set temporari store #austin link #new #sxsw bastard bring temptat\n",
       "                                                   ...                                             \n",
       "6030                 rt hoot new blog post hootsuit mobil #sxsw updat iphon blackberri android link\n",
       "3994                                      hannukah miracl morn uncharg iphon still 55 batteri #sxsw\n",
       "7208           alarm go allow user gener content say google' richard salgado #privacybootcamp #sxsw\n",
       "7540                                         head ipad design headach 2 tablet call morn #sxsw link\n",
       "4454                                   sit floor behind guy who' fondl new ipad 2 disturb way #sxsw\n",
       "Name: joined_preprocessed_text, Length: 6239, dtype: object"
      ]
     },

     "execution_count": 91,

     "execution_count": 37,

     "metadata": {},
     "output_type": "execute_result"
    }
   ],
   "source": [
    "# Split the data -- Train and Test\n",
    "\n",
    "from sklearn.model_selection import train_test_split\n",
    "data['joined_preprocessed_text'] = data['preprocessed_text'].str.join(\" \")\n",
    "X_train, X_test, y_train, y_test = train_test_split(data['joined_preprocessed_text'], data.\n",
    "                                                   Emotion, test_size = 0.3, \n",
    "                                                    random_state=20)\n",
    "X_train"
   ]
  },
  {
   "cell_type": "code",

   "execution_count": 92,

   "execution_count": 38,

   "metadata": {},
   "outputs": [
    {
     "data": {
      "text/plain": [
       "5377    rt agre  ûó novelti #ipad news #app fade fast among digit deleg  ûó link #media #sxsw via\n",
       "6874                                                rt includ emot thing ipad #barrydil #sxsw #pnid\n",
       "8683                 pick mophi iphon charg case #sxsw tradeshow doubt i'll use time great long day\n",
       "6147                                                                rt ipad 2 queue epic #sxsw link\n",
       "6759                    rt new whrrl app live iphon app store android marketplac get hot time #sxsw\n",
       "                                                   ...                                             \n",
       "7601                                               dear lanyrd site awesom use #sxsw wish iphon app\n",
       "8436                           saw huge ipad 2 line popup appl store peopl realli realli want #sxsw\n",
       "626          wonder much revenu austin store gross account ipad 2 amid #sxsw ... strateg releas ...\n",
       "6349                               rt new #ubersoci #iphon app store includ uberguid #sxsw link got\n",
       "8800                                               protip avoid austin-area appl store friday #sxsw\n",
       "Name: joined_preprocessed_text, Length: 2477, dtype: object"
      ]
     },

     "execution_count": 92,

     "execution_count": 38,

     "metadata": {},
     "output_type": "execute_result"
    }
   ],
   "source": [
    "# Split the data -- Train and Test\n",
    "\n",
    "from sklearn.model_selection import train_test_split\n",
    "data_binary['joined_preprocessed_text'] = data_binary['preprocessed_text'].str.join(\" \")\n",
    "X_train, X_test, y_train, y_test = train_test_split(data_binary['joined_preprocessed_text'], data_binary.\n",
    "                                                   Emotion, test_size = 0.3, \n",
    "                                                    random_state=20)\n",
    "X_train"
   ]
  },
  {
   "cell_type": "code",

   "execution_count": 93,

   "execution_count": 39,

   "metadata": {},
   "outputs": [
    {
     "data": {
      "text/html": [
       "<div>\n",
       "<style scoped>\n",
       "    .dataframe tbody tr th:only-of-type {\n",
       "        vertical-align: middle;\n",
       "    }\n",
       "\n",
       "    .dataframe tbody tr th {\n",
       "        vertical-align: top;\n",
       "    }\n",
       "\n",
       "    .dataframe thead th {\n",
       "        text-align: right;\n",
       "    }\n",
       "</style>\n",
       "<table border=\"1\" class=\"dataframe\">\n",
       "  <thead>\n",
       "    <tr style=\"text-align: right;\">\n",
       "      <th></th>\n",
       "      <th>app</th>\n",
       "      <th>appl</th>\n",
       "      <th>googl</th>\n",
       "      <th>ipad</th>\n",
       "      <th>iphon</th>\n",
       "      <th>link</th>\n",
       "      <th>new</th>\n",
       "      <th>rt</th>\n",
       "      <th>store</th>\n",
       "      <th>sxsw</th>\n",
       "    </tr>\n",
       "  </thead>\n",
       "  <tbody>\n",
       "    <tr>\n",
       "      <th>0</th>\n",
       "      <td>0.609007</td>\n",
       "      <td>0.000000</td>\n",
       "      <td>0.0</td>\n",
       "      <td>0.429649</td>\n",
       "      <td>0.000000</td>\n",
       "      <td>0.421569</td>\n",
       "      <td>0.000000</td>\n",
       "      <td>0.472228</td>\n",
       "      <td>0.000000</td>\n",
       "      <td>0.209265</td>\n",
       "    </tr>\n",
       "    <tr>\n",
       "      <th>1</th>\n",
       "      <td>0.000000</td>\n",
       "      <td>0.000000</td>\n",
       "      <td>0.0</td>\n",
       "      <td>0.639496</td>\n",
       "      <td>0.000000</td>\n",
       "      <td>0.000000</td>\n",
       "      <td>0.000000</td>\n",
       "      <td>0.702872</td>\n",
       "      <td>0.000000</td>\n",
       "      <td>0.311473</td>\n",
       "    </tr>\n",
       "    <tr>\n",
       "      <th>2</th>\n",
       "      <td>0.000000</td>\n",
       "      <td>0.000000</td>\n",
       "      <td>0.0</td>\n",
       "      <td>0.000000</td>\n",
       "      <td>0.934017</td>\n",
       "      <td>0.000000</td>\n",
       "      <td>0.000000</td>\n",
       "      <td>0.000000</td>\n",
       "      <td>0.000000</td>\n",
       "      <td>0.357229</td>\n",
       "    </tr>\n",
       "    <tr>\n",
       "      <th>3</th>\n",
       "      <td>0.000000</td>\n",
       "      <td>0.000000</td>\n",
       "      <td>0.0</td>\n",
       "      <td>0.541689</td>\n",
       "      <td>0.000000</td>\n",
       "      <td>0.531503</td>\n",
       "      <td>0.000000</td>\n",
       "      <td>0.595372</td>\n",
       "      <td>0.000000</td>\n",
       "      <td>0.263835</td>\n",
       "    </tr>\n",
       "    <tr>\n",
       "      <th>4</th>\n",
       "      <td>0.723758</td>\n",
       "      <td>0.000000</td>\n",
       "      <td>0.0</td>\n",
       "      <td>0.000000</td>\n",
       "      <td>0.325121</td>\n",
       "      <td>0.000000</td>\n",
       "      <td>0.398759</td>\n",
       "      <td>0.280603</td>\n",
       "      <td>0.342435</td>\n",
       "      <td>0.124347</td>\n",
       "    </tr>\n",
       "    <tr>\n",
       "      <th>...</th>\n",
       "      <td>...</td>\n",
       "      <td>...</td>\n",
       "      <td>...</td>\n",
       "      <td>...</td>\n",
       "      <td>...</td>\n",
       "      <td>...</td>\n",
       "      <td>...</td>\n",
       "      <td>...</td>\n",
       "      <td>...</td>\n",
       "      <td>...</td>\n",
       "    </tr>\n",
       "    <tr>\n",
       "      <th>2472</th>\n",
       "      <td>0.720705</td>\n",
       "      <td>0.000000</td>\n",
       "      <td>0.0</td>\n",
       "      <td>0.000000</td>\n",
       "      <td>0.647499</td>\n",
       "      <td>0.000000</td>\n",
       "      <td>0.000000</td>\n",
       "      <td>0.000000</td>\n",
       "      <td>0.000000</td>\n",
       "      <td>0.247646</td>\n",
       "    </tr>\n",
       "    <tr>\n",
       "      <th>2473</th>\n",
       "      <td>0.000000</td>\n",
       "      <td>0.544773</td>\n",
       "      <td>0.0</td>\n",
       "      <td>0.481253</td>\n",
       "      <td>0.000000</td>\n",
       "      <td>0.000000</td>\n",
       "      <td>0.000000</td>\n",
       "      <td>0.000000</td>\n",
       "      <td>0.645503</td>\n",
       "      <td>0.234399</td>\n",
       "    </tr>\n",
       "    <tr>\n",
       "      <th>2474</th>\n",
       "      <td>0.000000</td>\n",
       "      <td>0.000000</td>\n",
       "      <td>0.0</td>\n",
       "      <td>0.573889</td>\n",
       "      <td>0.000000</td>\n",
       "      <td>0.000000</td>\n",
       "      <td>0.000000</td>\n",
       "      <td>0.000000</td>\n",
       "      <td>0.769754</td>\n",
       "      <td>0.279518</td>\n",
       "    </tr>\n",
       "    <tr>\n",
       "      <th>2475</th>\n",
       "      <td>0.442144</td>\n",
       "      <td>0.000000</td>\n",
       "      <td>0.0</td>\n",
       "      <td>0.000000</td>\n",
       "      <td>0.397233</td>\n",
       "      <td>0.306063</td>\n",
       "      <td>0.487205</td>\n",
       "      <td>0.342842</td>\n",
       "      <td>0.418388</td>\n",
       "      <td>0.151928</td>\n",
       "    </tr>\n",
       "    <tr>\n",
       "      <th>2476</th>\n",
       "      <td>0.000000</td>\n",
       "      <td>0.621475</td>\n",
       "      <td>0.0</td>\n",
       "      <td>0.000000</td>\n",
       "      <td>0.000000</td>\n",
       "      <td>0.000000</td>\n",
       "      <td>0.000000</td>\n",
       "      <td>0.000000</td>\n",
       "      <td>0.736387</td>\n",
       "      <td>0.267402</td>\n",
       "    </tr>\n",
       "  </tbody>\n",
       "</table>\n",
       "<p>2477 rows × 10 columns</p>\n",
       "</div>"
      ],
      "text/plain": [
       "           app      appl  googl      ipad     iphon      link       new  \\\n",
       "0     0.609007  0.000000    0.0  0.429649  0.000000  0.421569  0.000000   \n",
       "1     0.000000  0.000000    0.0  0.639496  0.000000  0.000000  0.000000   \n",
       "2     0.000000  0.000000    0.0  0.000000  0.934017  0.000000  0.000000   \n",
       "3     0.000000  0.000000    0.0  0.541689  0.000000  0.531503  0.000000   \n",
       "4     0.723758  0.000000    0.0  0.000000  0.325121  0.000000  0.398759   \n",
       "...        ...       ...    ...       ...       ...       ...       ...   \n",
       "2472  0.720705  0.000000    0.0  0.000000  0.647499  0.000000  0.000000   \n",
       "2473  0.000000  0.544773    0.0  0.481253  0.000000  0.000000  0.000000   \n",
       "2474  0.000000  0.000000    0.0  0.573889  0.000000  0.000000  0.000000   \n",
       "2475  0.442144  0.000000    0.0  0.000000  0.397233  0.306063  0.487205   \n",
       "2476  0.000000  0.621475    0.0  0.000000  0.000000  0.000000  0.000000   \n",
       "\n",
       "            rt     store      sxsw  \n",
       "0     0.472228  0.000000  0.209265  \n",
       "1     0.702872  0.000000  0.311473  \n",
       "2     0.000000  0.000000  0.357229  \n",
       "3     0.595372  0.000000  0.263835  \n",
       "4     0.280603  0.342435  0.124347  \n",
       "...        ...       ...       ...  \n",
       "2472  0.000000  0.000000  0.247646  \n",
       "2473  0.000000  0.645503  0.234399  \n",
       "2474  0.000000  0.769754  0.279518  \n",
       "2475  0.342842  0.418388  0.151928  \n",
       "2476  0.000000  0.736387  0.267402  \n",
       "\n",
       "[2477 rows x 10 columns]"
      ]
     },

     "execution_count": 93,

     "execution_count": 39,

     "metadata": {},
     "output_type": "execute_result"
    }
   ],
   "source": [
    "# Instantiate a vectorizer with max_features=10\n",
    "# (we are using the default token pattern)\n",
    "tfidf = TfidfVectorizer(max_features=10)\n",
    "\n",
    "# Fit the vectorizer on X_train and transform it\n",
    "X_train_vectorized = tfidf.fit_transform(X_train)\n",
    "\n",
    "# Get the feature names from the vectorizer\n",
    "feature_names = tfidf.get_feature_names()\n",
    "\n",
    "# Visually inspect the vectorized data\n",
    "pd.DataFrame.sparse.from_spmatrix(X_train_vectorized, columns=feature_names)"
   ]
  },
  {
   "attachments": {},
   "cell_type": "markdown",
   "metadata": {},
   "source": [
    "### Baseline Model"
   ]
  },
  {
   "cell_type": "code",

   "execution_count": 94,

   "execution_count": 40,

   "metadata": {},
   "outputs": [
    {
     "name": "stdout",
     "output_type": "stream",
     "text": [
      "0.8364957610012111\n"
     ]
    }
   ],
   "source": [
    "#instantiate\n",
    "baseline_model = MultinomialNB()\n",
    "\n",
    "baseline_model.fit(X_train_vectorized,y_train)\n",
    "baseline_train_score = baseline_model.score(X_train_vectorized,y_train)\n",
    "print(baseline_train_score)"
   ]
  },
  {
   "cell_type": "code",

   "execution_count": 95,

   "execution_count": 41,

   "metadata": {},
   "outputs": [
    {
     "data": {
      "text/plain": [
       "Positive    0.836496\n",
       "Negative    0.163504\n",
       "Name: Emotion, dtype: float64"
      ]
     },

     "execution_count": 95,

     "execution_count": 41,

     "metadata": {},
     "output_type": "execute_result"
    }
   ],
   "source": [
    "# imbalanced\n",
    "y_train.value_counts(normalize=True)"
   ]
  },
  {
   "cell_type": "code",

   "execution_count": 96,

   "execution_count": 42,

   "metadata": {},
   "outputs": [],
   "source": [
    "# Balancing the model\n",
    "ROS = RandomOverSampler(sampling_strategy=1)\n",
    "X_train_ros, y_train_ros = ROS.fit_resample(X_train_vectorized, y_train)"
   ]
  },
  {
   "cell_type": "code",

   "execution_count": 97,

   "execution_count": 43,

   "metadata": {},
   "outputs": [
    {
     "data": {
      "text/plain": [

       "Negative    0.5\n",
       "Positive    0.5\n",
       "Name: Emotion, dtype: float64"
      ]
     },
     "execution_count": 97,

       "Positive    0.5\n",
       "Negative    0.5\n",
       "Name: Emotion, dtype: float64"
      ]
     },
     "execution_count": 43,

     "metadata": {},
     "output_type": "execute_result"
    }
   ],
   "source": [
    "y_train_ros.value_counts(normalize=True)"
   ]
  },
  {
   "attachments": {},
   "cell_type": "markdown",
   "metadata": {},
   "source": [
    "### Model 2"
   ]
  },
  {
   "cell_type": "code",

   "execution_count": 98,

   "execution_count": 44,

   "metadata": {},
   "outputs": [],
   "source": [
    "\n",
    "# Balancing the model\n",
    "ROS = RandomOverSampler(sampling_strategy=1)\n",
    "X_train_ros, y_train_ros = ROS.fit_resample(X_train_vectorized, y_train)"
   ]
  },
  {
   "cell_type": "code",

   "execution_count": 99,

   "execution_count": 45,

   "metadata": {},
   "outputs": [
    {
     "data": {
      "text/plain": [

       "Negative    0.5\n",
       "Positive    0.5\n",
       "Name: Emotion, dtype: float64"
      ]
     },
     "execution_count": 99,

       "Positive    0.5\n",
       "Negative    0.5\n",
       "Name: Emotion, dtype: float64"
      ]
     },
     "execution_count": 45,

     "metadata": {},
     "output_type": "execute_result"
    }
   ],
   "source": [
    "y_train_ros.value_counts(normalize=True)"
   ]
  },
  {
   "cell_type": "code",

   "execution_count": 100,

   "execution_count": 46,

   "metadata": {},
   "outputs": [
    {
     "name": "stdout",
     "output_type": "stream",
     "text": [

      "0.6228281853281853\n"

      "0.591457528957529\n"

     ]
    }
   ],
   "source": [
    "model2 = MultinomialNB()\n",
    "\n",
    "model2.fit(X_train_ros, y_train_ros)\n",
    "train_score2 = model2.score(X_train_ros, y_train_ros)\n",
    "print(train_score2)"
   ]
  },
  {
   "cell_type": "code",

   "execution_count": 101,

   "execution_count": 47,

   "metadata": {},
   "outputs": [
    {
     "name": "stdout",
     "output_type": "stream",
     "text": [

      "0.5763079425318515\n"

      "0.5671183840450014\n"

     ]
    }
   ],
   "source": [
    "\n",
    "model2_train_predictions = model2.predict(X_train_ros)\n",
    "model2_f1 = f1_score(y_train_ros, model2_train_predictions, pos_label='Positive')\n",
    "\n",
    "print(model2_f1)"
   ]
  },
  {
   "cell_type": "code",
   "execution_count": null,
   "metadata": {},
   "outputs": [],
   "source": []
  },
  {
   "attachments": {},
   "cell_type": "markdown",
   "metadata": {},
   "source": [
    "### Multiclass Classification"
   ]
  },
  {
   "cell_type": "code",

   "execution_count": 102,

   "execution_count": 48,

   "metadata": {},
   "outputs": [
    {
     "data": {
      "text/plain": [
       "array(['Negative', 'Positive', 'Neutral'], dtype=object)"
      ]
     },

     "execution_count": 102,

     "execution_count": 48,

     "metadata": {},
     "output_type": "execute_result"
    }
   ],
   "source": [
    "# After running a Binary classification we will also look at Multiclass Classification \n",
    "# see how it performs on the data. \n",
    "# We will start with preparing data for multiclass\n",
    "# Che the data column of Emotion\n",
    "data['Emotion'].unique()\n",
    "\n"
   ]
  },
  {
   "cell_type": "code",

   "execution_count": 103,

   "execution_count": 49,

   "metadata": {},
   "outputs": [
    {
     "data": {
      "text/plain": [
       "1    5375\n",
       "2    2970\n",
       "0     569\n",
       "Name: Emotion, dtype: int64"
      ]
     },

     "execution_count": 103,

     "execution_count": 49,

     "metadata": {},
     "output_type": "execute_result"
    }
   ],
   "source": [
    "# We will assign numerical values to the sentiments,\n",
    "# Neutral = 1\n",
    "# Positive = 2\n",
    "# Negarive = 0\n",
    "#mapping emotion column to numerical values\n",
    "emotion_dict = {'Negative': 0, 'Neutral':1, 'Positive': 2}\n",
    "data['Emotion'] = data['Emotion'].map(emotion_dict)\n",
    "data['Emotion'].value_counts()\n"
   ]
  },
  {
   "cell_type": "code",

   "execution_count": 104,

   "execution_count": 50,

   "metadata": {},
   "outputs": [
    {
     "data": {
      "text/plain": [
       "1    0.602721\n",
       "2    0.333894\n",
       "0    0.063385\n",
       "Name: Emotion, dtype: float64"
      ]
     },

     "execution_count": 104,

     "execution_count": 50,

     "metadata": {},
     "output_type": "execute_result"
    }
   ],
   "source": [
    "# Define the X and y objects \n",
    "X = data['Tweet']\n",
    "y = data['Emotion']\n",
    "\n",
    "# split into train and test objects\n",
    "X_train, X_test, y_train, y_test = train_test_split(X, y, test_size=.2, random_state=42)\n",
    "\n",
    "# check the y_train values \n",
    "y_train.value_counts(normalize=True)"
   ]
  },
  {
   "cell_type": "code",

   "execution_count": 105,

   "execution_count": 51,

   "metadata": {},
   "outputs": [],
   "source": [
    "# Creating a multiclass classification that take in y_true as the vlues of y_test, y_pred, initial classifier, X_test and X_trai\n",
    "\n",
    "def multiclass_eval(y_true, y_pred, X_test, X_train, clf, n_class=3):\n",
    "    print(f\"Training score: {clf.score(X_train, y_train)}\\\n",
    "        Test Score:{clf.score(X_test, y_test)}\")\n",
    "    \n",
    "    # Print classication report\n",
    "    print('\\n')\n",
    "    print('Classifictaion Report')\n",
    "    print('_______________________________________')\n",
    "    print(classification_report(y_true=y_true, y_pred=y_pred))\n",
    "    \n",
    "    # Create a figure/axes for confusion matrix and ROC curve\n",
    "    fig, ax = plt.subplots(ncols=2, figsize=(12, 5))\n",
    "    \n",
    "    # Plot the normalized confusion matrix\n",
    "    plot_confusion_matrix(estimator=clf, X=X_test, y_true=y_true, cmap='BrBG_r', \n",
    "                          normalize='true', ax=ax[0], \n",
    "                          display_labels=['Negative', 'Neutral', 'Positive'])\n",
    "    \n",
    "    pred_prob = clf.predict_proba(X_test)\n",
    "    \n",
    "    # Plot the ROC curve\n",
    "    fpr={}\n",
    "    tpr={}\n",
    "    thresh={}\n",
    "    \n",
    "    for i in range(n_class):    \n",
    "        fpr[i], tpr[i], thresh[i] = roc_curve(y_true, pred_prob[:,i], pos_label=i)\n",
    "    \n",
    "    ax[1].plot(fpr[0], tpr[0], linestyle='--',color='red', label='Negative')\n",
    "    ax[1].plot(fpr[1], tpr[1], linestyle='--',color='black', label='Neutral')\n",
    "    ax[1].plot(fpr[2], tpr[2], linestyle='--',color='blue', label='Positive')\n",
    "    ax[1].set_title('Multiclass ROC curve')\n",
    "    ax[1].set_xlabel('False Positive Rate')\n",
    "    ax[1].set_ylabel('True Positive rate')\n",
    "    ax[1].legend(loc='best')\n",
    "    \n",
    "    \n",
    "    ax[1].plot([0,1], [0,1], ls='--', color='cyan')"
   ]
  },
  {
   "attachments": {},
   "cell_type": "markdown",
   "metadata": {},
   "source": [
    "#### <span style='color:cyan'>**Dummy Model**</SPAN>"
   ]
  },
  {
   "cell_type": "code",

   "execution_count": 106,

   "execution_count": 52,

   "metadata": {},
   "outputs": [
    {
     "name": "stdout",
     "output_type": "stream",
     "text": [
      "Training score: 0.48548590660496427        Test Score:0.4699943914750421\n",
      "\n",
      "\n",
      "Classifictaion Report\n",
      "_______________________________________\n",
      "              precision    recall  f1-score   support\n",
      "\n",
      "           0       0.08      0.09      0.08       117\n",
      "           1       0.59      0.60      0.60      1077\n",
      "           2       0.32      0.32      0.32       589\n",
      "\n",
      "    accuracy                           0.47      1783\n",
      "   macro avg       0.33      0.33      0.33      1783\n",
      "weighted avg       0.47      0.47      0.47      1783\n",
      "\n"
     ]
    },
    {
     "data": {
      "image/png": "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",
      "text/plain": [
       "<Figure size 864x360 with 3 Axes>"
      ]
     },
     "metadata": {
      "needs_background": "light"
     },
     "output_type": "display_data"
    }
   ],
   "source": [
    "# Create a Dummy model for Multiclass\n",
    "\n",
    "tokenizer = TweetTokenizer(preserve_case=False, strip_handles=True)\n",
    "\n",
    "clf_pipe = Pipeline([\n",
    "    ('vectorizer', TfidfVectorizer(tokenizer=tokenizer.tokenize, \n",
    "                                   stop_words=stopwords_list)), \n",
    "    ('clf', DummyClassifier(random_state=42))\n",
    "])\n",
    "\n",
    "clf_pipe.fit(X_train, y_train)\n",
    "y_pred = clf_pipe.predict(X_test)\n",
    "multiclass_eval(y_test, y_pred, X_test, X_train, clf_pipe)"
   ]
  },
  {
   "attachments": {},
   "cell_type": "markdown",
   "metadata": {},
   "source": [
    "The above outcome show class imbalance and that is why we have more neutrals comming out as the majority followed by positives and then negatives.\n",
    "\n",
    "This reflects back to the our classes on the value counts in the `Emotion` column. Class imbalance can affect our model by being biased towords the majority in the values. Meaning any time we run our model it has 60% chances of selecting a neutral sentiment, 33% chances of selecting a positive sentiment and 6% chances of selecting a negative sentiment. \n",
    "\n",
    "Class imbalance can be addressed by `Oversampling` method. In the next cell we will do random oversampling and then split the data and run a model to see how it will perform. "
   ]
  },
  {
   "cell_type": "code",

   "execution_count": 107,

   "execution_count": 53,

   "metadata": {},
   "outputs": [
    {
     "name": "stdout",
     "output_type": "stream",
     "text": [

      "Training score: 0.33613798906184267        Test Score:0.3331463825014021\n",

      "Training score: 0.33291263497405693        Test Score:0.35053280987100394\n",

      "\n",
      "\n",
      "Classifictaion Report\n",
      "_______________________________________\n",
      "              precision    recall  f1-score   support\n",
      "\n",

      "           0       0.06      0.32      0.10       117\n",
      "           1       0.58      0.31      0.41      1077\n",
      "           2       0.32      0.32      0.32       589\n",
      "\n",
      "    accuracy                           0.31      1783\n",
      "   macro avg       0.32      0.32      0.27      1783\n",
      "weighted avg       0.46      0.31      0.36      1783\n",

      "           0       0.07      0.34      0.12       117\n",
      "           1       0.61      0.34      0.44      1077\n",
      "           2       0.35      0.36      0.35       589\n",
      "\n",
      "    accuracy                           0.35      1783\n",
      "   macro avg       0.34      0.35      0.30      1783\n",
      "weighted avg       0.49      0.35      0.39      1783\n",

      "\n"
     ]
    },
    {
     "data": {

      "image/png": "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",

      "image/png": "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",

      "text/plain": [
       "<Figure size 864x360 with 3 Axes>"
      ]
     },
     "metadata": {
      "needs_background": "light"
     },
     "output_type": "display_data"
    }
   ],
   "source": [
    "# Random Classifier \n",
    "\n",
    "clf_pipe = imblearn.pipeline.Pipeline([\n",
    "    ('vectorizer', TfidfVectorizer(tokenizer=tokenizer.tokenize, \n",
    "                                   stop_words=stopwords_list)),\n",
    "    ('os', RandomOverSampler(random_state=42)),\n",
    "    ('clf', DummyClassifier())\n",
    "])\n",
    "clf_pipe.fit(X_train, y_train)\n",
    "y_pred = clf_pipe.predict(X_test)\n",
    "multiclass_eval(y_test, y_pred, X_test, X_train, clf_pipe)"
   ]
  },
  {
   "attachments": {},
   "cell_type": "markdown",
   "metadata": {},
   "source": [
    "From the observation above it looks like the model is now able to levelup the sentiments and any sentment has equal chances to be selected. \n"
   ]
  },
  {
   "attachments": {},
   "cell_type": "markdown",
   "metadata": {},
   "source": [
    "### <span style='color:cyan'> **Logistic Regression.**</SPAN>"
   ]
  },
  {
   "cell_type": "code",

   "execution_count": 108,

   "execution_count": 54,

   "metadata": {},
   "outputs": [
    {
     "name": "stdout",
     "output_type": "stream",
     "text": [

      "Training score: 0.9387182723320713        Test Score:0.6713404374649468\n",

      "Training score: 0.9388585051184967        Test Score:0.6702187324733595\n",

      "\n",
      "\n",
      "Classifictaion Report\n",
      "_______________________________________\n",
      "              precision    recall  f1-score   support\n",
      "\n",

      "           0       0.41      0.39      0.40       117\n",

      "           0       0.41      0.38      0.39       117\n",

      "           1       0.76      0.73      0.75      1077\n",
      "           2       0.57      0.61      0.59       589\n",
      "\n",
      "    accuracy                           0.67      1783\n",
      "   macro avg       0.58      0.58      0.58      1783\n",

      "weighted avg       0.68      0.67      0.67      1783\n",

      "weighted avg       0.67      0.67      0.67      1783\n",

      "\n"
     ]
    },
    {
     "data": {

      "image/png": "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",

      "image/png": "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",

      "text/plain": [
       "<Figure size 864x360 with 3 Axes>"
      ]
     },
     "metadata": {
      "needs_background": "light"
     },
     "output_type": "display_data"
    }
   ],
   "source": [
    "\n",
    "# Create a pipeline baseline logistic Regression\n",
    "clf_pipe = Pipeline([\n",
    "    ('vectorizer', TfidfVectorizer(tokenizer=tokenizer.tokenize, \n",
    "                                   stop_words=stopwords_list)), \n",
    "    ('clf', LogisticRegressionCV(class_weight='balanced', random_state=42, \n",
    "                                 cv=3))\n",
    "])\n",
    "\n",
    "clf_pipe.fit(X_train, y_train)\n",
    "y_pred = clf_pipe.predict(X_test)\n",
    "multiclass_eval(y_test, y_pred, X_test, X_train, clf_pipe)"
   ]
  },
  {
   "attachments": {},
   "cell_type": "markdown",
   "metadata": {},
   "source": [
    "Without tuning our model was able to classifie about 67% on the on the unseen data. This is a better model compaired to the dummy model, although there is some sort of overfitting the training data. Next we will look for the way to reduce the overfitting by the use of GridSearchCV. "
   ]
  },
  {
   "attachments": {},
   "cell_type": "markdown",
   "metadata": {},
   "source": [
    "#### <span style='color:orange'>**Hyperparameter Tuning with GridSearchCV.**</SPAN>"
   ]
  },
  {
   "cell_type": "code",

   "execution_count": 109,

   "execution_count": 55,

   "metadata": {},
   "outputs": [
    {
     "data": {
      "text/plain": [
       "{'clf__Cs': 1,\n",
       " 'clf__class_weight': 'balanced',\n",
       " 'clf__max_iter': 2,\n",
       " 'clf__solver': 'lbfgs'}"
      ]
     },

     "execution_count": 109,

     "execution_count": 55,

     "metadata": {},
     "output_type": "execute_result"
    }
   ],
   "source": [
    "# Greating a GridSearchCV\n",
    "\n",
    "param_grid = {\n",
    "    'clf__class_weight': ['balanced'], \n",
    "    'clf__max_iter': [2, 5],\n",
    "    'clf__Cs': [0.1, 1],\n",
    "    'clf__solver': ['liblinear', 'lbfgs', 'sag']\n",
    "}\n",
    "\n",
    "gs_lr = GridSearchCV(estimator=clf_pipe, param_grid=param_grid, scoring='recall_macro')\n",
    "gs_lr.fit(X_train, y_train)\n",
    "gs_lr.best_params_"
   ]
  },
  {
   "cell_type": "code",

   "execution_count": 110,

   "execution_count": 56,

   "metadata": {},
   "outputs": [
    {
     "name": "stdout",
     "output_type": "stream",
     "text": [
      "Training score: 0.5352685457860048        Test Score:0.5272013460459899\n",
      "\n",
      "\n",
      "Classifictaion Report\n",
      "_______________________________________\n",
      "              precision    recall  f1-score   support\n",
      "\n",
      "           0       0.15      0.70      0.25       117\n",
      "           1       0.77      0.56      0.65      1077\n",
      "           2       0.57      0.43      0.49       589\n",
      "\n",
      "    accuracy                           0.53      1783\n",
      "   macro avg       0.50      0.56      0.46      1783\n",
      "weighted avg       0.66      0.53      0.57      1783\n",
      "\n"
     ]
    },
    {
     "data": {
      "image/png": "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",
      "text/plain": [
       "<Figure size 864x360 with 3 Axes>"
      ]
     },
     "metadata": {
      "needs_background": "light"
     },
     "output_type": "display_data"
    }
   ],
   "source": [
    "# Creating a pipeline model\n",
    "clf_pipe = Pipeline([\n",
    "    ('vectorizer', TfidfVectorizer(tokenizer=tokenizer.tokenize, \n",
    "                                   stop_words=stopwords_list)), \n",
    "    ('clf', LogisticRegressionCV(class_weight='balanced', Cs = [1], \n",
    "                                 random_state=42, max_iter=2,\n",
    "                                 solver='lbfgs',\n",
    "                                 cv=3))\n",
    "])\n",
    "\n",
    "clf_pipe.fit(X_train, y_train)\n",
    "y_pred = clf_pipe.predict(X_test)\n",
    "multiclass_eval(y_test, y_pred, X_test, X_train, clf_pipe)"
   ]
  },
  {
   "attachments": {},
   "cell_type": "markdown",
   "metadata": {},
   "source": [
    "After tuning the OverSampled Logistic Regression we were able to reducing the overfitting although the model accuracy reduced from 67% (baseline logistic regrssion) to 53% on the test data set. "
   ]
  },
  {
   "attachments": {},
   "cell_type": "markdown",
   "metadata": {},
   "source": [
    "#### <span style='color:cyan'>**Random Forest Classifier.**</SPAN>"
   ]
  },
  {
   "cell_type": "code",

   "execution_count": 111,

   "execution_count": 57,

   "metadata": {},
   "outputs": [
    {
     "name": "stdout",
     "output_type": "stream",
     "text": [

      "Training score: 0.9956527836208106        Test Score:0.6819966348850253\n",

      "Training score: 0.9956527836208106        Test Score:0.6825574873808189\n",

      "\n",
      "\n",
      "Classifictaion Report\n",
      "_______________________________________\n",
      "              precision    recall  f1-score   support\n",
      "\n",

      "           0       0.57      0.21      0.30       117\n",

      "           0       0.60      0.21      0.31       117\n",

      "           1       0.72      0.82      0.77      1077\n",
      "           2       0.60      0.53      0.56       589\n",
      "\n",
      "    accuracy                           0.68      1783\n",

      "   macro avg       0.63      0.52      0.54      1783\n",

      "   macro avg       0.64      0.52      0.55      1783\n",

      "weighted avg       0.67      0.68      0.67      1783\n",
      "\n"
     ]
    },
    {
     "data": {

      "image/png": "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",

      "image/png": "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",

      "text/plain": [
       "<Figure size 864x360 with 3 Axes>"
      ]
     },
     "metadata": {
      "needs_background": "light"
     },
     "output_type": "display_data"
    }
   ],
   "source": [
    "# Creating RandomOversampler Random Forest Classifier\n",
    "rf_pipe = imblearn.pipeline.Pipeline([\n",
    "    ('vectorizer', TfidfVectorizer(tokenizer=tokenizer.tokenize, \n",
    "                                   stop_words=stopwords_list)),\n",
    "    ('os', RandomOverSampler(random_state=42)),\n",
    "    ('clf', RandomForestClassifier(class_weight='balanced'))\n",
    "])\n",
    "\n",
    "rf_pipe.fit(X_train, y_train)\n",
    "y_pred = rf_pipe.predict(X_test)\n",
    "multiclass_eval(y_test, y_pred, X_test, X_train, rf_pipe)"
   ]
  },
  {
   "attachments": {},
   "cell_type": "markdown",
   "metadata": {},
   "source": [
    "The model performed better than the RandomOversampled Logistic Regrssion and the tuned one with 68% accuracy although slightly overfitting on the training dataset. "
   ]
  },
  {
   "attachments": {},
   "cell_type": "markdown",
   "metadata": {},
   "source": [
    "#### <span style='color:orange'>**Hyperparameter Tuning with GridSearchCV**</SPAN>"
   ]
  },
  {
   "cell_type": "code",

   "execution_count": 112,

   "execution_count": 58,

   "metadata": {},
   "outputs": [
    {
     "data": {
      "text/plain": [

       "{'clf__criterion': 'entropy',\n",

       "{'clf__criterion': 'gini',\n",

       " 'clf__max_depth': 10,\n",
       " 'clf__min_samples_leaf': 1,\n",
       " 'clf__min_samples_split': 5,\n",
       " 'clf__n_estimators': 100}"
      ]
     },

     "execution_count": 112,

     "execution_count": 58,

     "metadata": {},
     "output_type": "execute_result"
    }
   ],
   "source": [
    "\n",
    "# Performing a GridSearch to determine best parametors. \n",
    "param_grid = {\n",
    "    'clf__criterion': ['gini', 'entropy'], \n",
    "    'clf__max_depth': [2, 5, 10],\n",
    "    'clf__min_samples_split': [1, 5, 10, 20],\n",
    "    'clf__min_samples_leaf': [1, 5, 10],\n",
    "    'clf__n_estimators':[50, 100]\n",
    "}\n",
    "\n",
    "gs_rf = GridSearchCV(estimator=rf_pipe, param_grid=param_grid, scoring='recall_macro')\n",
    "gs_rf.fit(X_train, y_train)\n",
    "gs_rf.best_params_"
   ]
  },
  {
   "cell_type": "code",

   "execution_count": 113,

   "execution_count": 59,

   "metadata": {},
   "outputs": [
    {
     "name": "stdout",
     "output_type": "stream",
     "text": [

      "Training score: 0.49838732295610716        Test Score:0.48850252383623105\n",

      "Training score: 0.5147945589678867        Test Score:0.50701065619742\n",

      "\n",
      "\n",
      "Classifictaion Report\n",
      "_______________________________________\n",
      "              precision    recall  f1-score   support\n",
      "\n",

      "           0       0.13      0.74      0.22       117\n",
      "           1       0.74      0.53      0.62      1077\n",
      "           2       0.60      0.35      0.44       589\n",
      "\n",
      "    accuracy                           0.49      1783\n",
      "   macro avg       0.49      0.54      0.43      1783\n",
      "weighted avg       0.66      0.49      0.54      1783\n",

      "           0       0.14      0.71      0.23       117\n",
      "           1       0.77      0.54      0.63      1077\n",
      "           2       0.57      0.41      0.47       589\n",
      "\n",
      "    accuracy                           0.51      1783\n",
      "   macro avg       0.49      0.55      0.45      1783\n",
      "weighted avg       0.66      0.51      0.55      1783\n",

      "\n"
     ]
    },
    {
     "data": {

      "image/png": "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",

      "image/png": "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",

      "text/plain": [
       "<Figure size 864x360 with 3 Axes>"
      ]
     },
     "metadata": {
      "needs_background": "light"
     },
     "output_type": "display_data"
    }
   ],
   "source": [
    "rf_pipe = imblearn.pipeline.Pipeline([\n",
    "    ('vectorizer', TfidfVectorizer(tokenizer=tokenizer.tokenize, \n",
    "                                   stop_words=stopwords_list)),\n",
    "    ('os', RandomOverSampler(random_state=42)),\n",
    "    ('clf', RandomForestClassifier(class_weight='balanced', \n",
    "                                   criterion='entropy',\n",
    "                                   max_depth=10,\n",
    "                                   min_samples_leaf=10,\n",
    "                                   min_samples_split=10,\n",
    "                                   n_estimators=100))\n",
    "])\n",
    "rf_pipe.fit(X_train, y_train)\n",
    "y_pred = rf_pipe.predict(X_test)\n",
    "multiclass_eval(y_test, y_pred, X_test, X_train, rf_pipe)"
   ]
  },
  {
   "attachments": {},
   "cell_type": "markdown",
   "metadata": {},
   "source": [
    "GridSearchCV tuning wa able to reduce overfitting on the training data but also reduced the accuracy on the testing data. "
   ]
  },
  {
   "attachments": {},
   "cell_type": "markdown",
   "metadata": {},
   "source": [
    "# Conclusion"
   ]
  },
  {
   "cell_type": "code",
   "execution_count": null,
   "metadata": {},
   "outputs": [],
   "source": []
  }
 ],
 "metadata": {
  "kernelspec": {
   "display_name": "learn-env",
   "language": "python",
   "name": "python3"
  },
  "language_info": {
   "codemirror_mode": {
    "name": "ipython",
    "version": 3
   },
   "file_extension": ".py",
   "mimetype": "text/x-python",
   "name": "python",
   "nbconvert_exporter": "python",
   "pygments_lexer": "ipython3",
   "version": "3.8.5"
  }
 },
 "nbformat": 4,
 "nbformat_minor": 2
}
